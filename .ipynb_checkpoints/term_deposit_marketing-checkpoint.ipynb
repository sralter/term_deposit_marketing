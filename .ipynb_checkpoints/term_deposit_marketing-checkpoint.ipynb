{
 "cells": [
  {
   "cell_type": "markdown",
   "id": "5227e004-7c3d-4d64-824d-36df80facdbf",
   "metadata": {},
   "source": [
    "# Term Deposit Marketing - An Apziva Project"
   ]
  },
  {
   "cell_type": "markdown",
   "id": "13caaf73-d640-4bae-8ee1-f8b07ff73ed1",
   "metadata": {},
   "source": [
    "By Samuel Alter"
   ]
  },
  {
   "cell_type": "markdown",
   "id": "dcc1066f-6628-43fc-abdb-fee10e55e68a",
   "metadata": {},
   "source": [
    "Apziva: G3SuQYZYrFt9dwF3"
   ]
  },
  {
   "cell_type": "markdown",
   "id": "9623536a-e44e-4fda-8dc5-0e5ed6282c62",
   "metadata": {},
   "source": [
    "## Project Overview"
   ]
  },
  {
   "cell_type": "markdown",
   "id": "f561d828-da7d-49a6-a990-be0ab899e90f",
   "metadata": {},
   "source": [
    "Using phone call data from a European bank, this project will be building models that predict if a customer will subscribe to a term deposit, a type of financial product. This project is a partnership with a startup focused on providing ML solutions for European banks.\n",
    "\n",
    "The dataset consists of the following columns:\n",
    "* `age`\n",
    "  * Numeric\n",
    "  * The age of the customer\n",
    "* `job`\n",
    "  * Categorical\n",
    "  * The job category of the customer\n",
    "* `marital`\n",
    "  * Categorical\n",
    "  * Whether the customer is married\n",
    "* `education`\n",
    "  * Categorical\n",
    "  * The customer's level of education\n",
    "* `default`\n",
    "  * Binary\n",
    "  * If the customer has credit in default or not\n",
    "* `balance`\n",
    "  * Numeric\n",
    "  * Average yearly balance in Euros\n",
    "* `housing`\n",
    "  * Binary\n",
    "  * If the customer has a housing loan or not\n",
    "* `loan`\n",
    "  * Binary\n",
    "  * If the customer has a personal loan\n",
    "* `contact`\n",
    "  * Categorical\n",
    "  * The type of contact communication\n",
    "* `day`\n",
    "  * Numeric\n",
    "  * Last contact day of the month\n",
    "* `month`\n",
    "  * Categorical\n",
    "  * Last contact month of the year\n",
    "* `duration`\n",
    "  * Numeric\n",
    "  * Duration of the last phone call with the customer\n",
    "* `campaign`\n",
    "  * Numeric\n",
    "  * The number of contacts performed during this campaign and for this client, which includes the last contact"
   ]
  },
  {
   "cell_type": "markdown",
   "id": "866a70ee-45dd-402c-b132-593a220dabec",
   "metadata": {},
   "source": [
    "The final column, `y`, is the target of the dataset and shows whether the client subscribed to a term deposit."
   ]
  },
  {
   "cell_type": "markdown",
   "id": "b3b5941d-ac98-4f65-ad63-dd956b02c752",
   "metadata": {},
   "source": [
    "The startup is hoping that I can achieve at least an 81% accuracy using a 5-fold cross validation strategy, taking the average performance score.\n",
    "\n",
    "Bonus goals include:\n",
    "* Determining which customers are most likely to buy the term deposit loan\n",
    "  * Which segments of customers should the client prioritize?\n",
    "* Determine what makes the customer buy the loan\n",
    "  * Which feature should the startup focus on?"
   ]
  },
  {
   "cell_type": "markdown",
   "id": "4f15887c-7c0d-4e8a-a6ac-8b1245917fe1",
   "metadata": {},
   "source": [
    "## Table of Contents"
   ]
  },
  {
   "cell_type": "markdown",
   "id": "d98d80d5-bba0-4c15-872b-a71026f545a4",
   "metadata": {},
   "source": [
    "1. [EDA](#eda)\n",
    " * [Non-visual data analysis](#neda) of the data: check `dtype`, look at broad trends in data\n",
    " * [Visualization](#viz) of the data\n",
    "   * [Fig. 1: Boxplot of numerical values](#fig1)\n",
    "   * [Fig. 2: Histogram of numerical values](#fig2)\n",
    "   * [Fig. 3: Correlation matrix of numerical values](#fig3)"
   ]
  },
  {
   "cell_type": "markdown",
   "id": "76590fed-93ce-44de-bc02-ad395a92a8ad",
   "metadata": {},
   "source": [
    "## EDA <a name='eda'></a>"
   ]
  },
  {
   "cell_type": "code",
   "execution_count": 1,
   "id": "97ae026f-cfe2-4eac-8a7b-95bacfafeff6",
   "metadata": {},
   "outputs": [],
   "source": [
    "# necessary imports\n",
    "import numpy as np\n",
    "import pandas as pd\n",
    "import matplotlib.pyplot as plt\n",
    "import seaborn as sns"
   ]
  },
  {
   "cell_type": "markdown",
   "id": "f41ed000-fd7a-4eea-beb2-47dfd641e158",
   "metadata": {},
   "source": [
    "### Non-visual data analysis <a name='neda'></a>"
   ]
  },
  {
   "cell_type": "code",
   "execution_count": 2,
   "id": "a44e2a9a-5663-41f3-a4a6-3a5da75e8a70",
   "metadata": {},
   "outputs": [
    {
     "data": {
      "text/html": [
       "<div>\n",
       "<style scoped>\n",
       "    .dataframe tbody tr th:only-of-type {\n",
       "        vertical-align: middle;\n",
       "    }\n",
       "\n",
       "    .dataframe tbody tr th {\n",
       "        vertical-align: top;\n",
       "    }\n",
       "\n",
       "    .dataframe thead th {\n",
       "        text-align: right;\n",
       "    }\n",
       "</style>\n",
       "<table border=\"1\" class=\"dataframe\">\n",
       "  <thead>\n",
       "    <tr style=\"text-align: right;\">\n",
       "      <th></th>\n",
       "      <th>age</th>\n",
       "      <th>job</th>\n",
       "      <th>marital</th>\n",
       "      <th>education</th>\n",
       "      <th>default</th>\n",
       "      <th>balance</th>\n",
       "      <th>housing</th>\n",
       "      <th>loan</th>\n",
       "      <th>contact</th>\n",
       "      <th>day</th>\n",
       "      <th>month</th>\n",
       "      <th>duration</th>\n",
       "      <th>campaign</th>\n",
       "      <th>y</th>\n",
       "    </tr>\n",
       "  </thead>\n",
       "  <tbody>\n",
       "    <tr>\n",
       "      <th>0</th>\n",
       "      <td>58</td>\n",
       "      <td>management</td>\n",
       "      <td>married</td>\n",
       "      <td>tertiary</td>\n",
       "      <td>no</td>\n",
       "      <td>2143</td>\n",
       "      <td>yes</td>\n",
       "      <td>no</td>\n",
       "      <td>unknown</td>\n",
       "      <td>5</td>\n",
       "      <td>may</td>\n",
       "      <td>261</td>\n",
       "      <td>1</td>\n",
       "      <td>no</td>\n",
       "    </tr>\n",
       "    <tr>\n",
       "      <th>1</th>\n",
       "      <td>44</td>\n",
       "      <td>technician</td>\n",
       "      <td>single</td>\n",
       "      <td>secondary</td>\n",
       "      <td>no</td>\n",
       "      <td>29</td>\n",
       "      <td>yes</td>\n",
       "      <td>no</td>\n",
       "      <td>unknown</td>\n",
       "      <td>5</td>\n",
       "      <td>may</td>\n",
       "      <td>151</td>\n",
       "      <td>1</td>\n",
       "      <td>no</td>\n",
       "    </tr>\n",
       "    <tr>\n",
       "      <th>2</th>\n",
       "      <td>33</td>\n",
       "      <td>entrepreneur</td>\n",
       "      <td>married</td>\n",
       "      <td>secondary</td>\n",
       "      <td>no</td>\n",
       "      <td>2</td>\n",
       "      <td>yes</td>\n",
       "      <td>yes</td>\n",
       "      <td>unknown</td>\n",
       "      <td>5</td>\n",
       "      <td>may</td>\n",
       "      <td>76</td>\n",
       "      <td>1</td>\n",
       "      <td>no</td>\n",
       "    </tr>\n",
       "  </tbody>\n",
       "</table>\n",
       "</div>"
      ],
      "text/plain": [
       "   age           job  marital  education default  balance housing loan  \\\n",
       "0   58    management  married   tertiary      no     2143     yes   no   \n",
       "1   44    technician   single  secondary      no       29     yes   no   \n",
       "2   33  entrepreneur  married  secondary      no        2     yes  yes   \n",
       "\n",
       "   contact  day month  duration  campaign   y  \n",
       "0  unknown    5   may       261         1  no  \n",
       "1  unknown    5   may       151         1  no  \n",
       "2  unknown    5   may        76         1  no  "
      ]
     },
     "execution_count": 2,
     "metadata": {},
     "output_type": "execute_result"
    }
   ],
   "source": [
    "# read in data\n",
    "df=pd.read_csv('../data/2_data.csv')\n",
    "df.head(3)"
   ]
  },
  {
   "cell_type": "code",
   "execution_count": 3,
   "id": "19d504d8-387b-48ad-b38c-cd9643008132",
   "metadata": {},
   "outputs": [
    {
     "name": "stdout",
     "output_type": "stream",
     "text": [
      "There are 40000 rows and 14 columns in the dataset\n"
     ]
    }
   ],
   "source": [
    "print(f\"There are {df.shape[0]} rows and {df.shape[1]} columns in the dataset\")"
   ]
  },
  {
   "cell_type": "code",
   "execution_count": 4,
   "id": "a83dedcb-3dc4-42f4-82b7-6d2daccc6e16",
   "metadata": {},
   "outputs": [
    {
     "name": "stdout",
     "output_type": "stream",
     "text": [
      "<class 'pandas.core.frame.DataFrame'>\n",
      "RangeIndex: 40000 entries, 0 to 39999\n",
      "Data columns (total 14 columns):\n",
      " #   Column     Non-Null Count  Dtype \n",
      "---  ------     --------------  ----- \n",
      " 0   age        40000 non-null  int64 \n",
      " 1   job        40000 non-null  object\n",
      " 2   marital    40000 non-null  object\n",
      " 3   education  40000 non-null  object\n",
      " 4   default    40000 non-null  object\n",
      " 5   balance    40000 non-null  int64 \n",
      " 6   housing    40000 non-null  object\n",
      " 7   loan       40000 non-null  object\n",
      " 8   contact    40000 non-null  object\n",
      " 9   day        40000 non-null  int64 \n",
      " 10  month      40000 non-null  object\n",
      " 11  duration   40000 non-null  int64 \n",
      " 12  campaign   40000 non-null  int64 \n",
      " 13  y          40000 non-null  object\n",
      "dtypes: int64(5), object(9)\n",
      "memory usage: 4.3+ MB\n"
     ]
    }
   ],
   "source": [
    "df.info()"
   ]
  },
  {
   "cell_type": "markdown",
   "id": "1564bfb5-45dd-4033-b764-8f501f328b08",
   "metadata": {},
   "source": [
    "There are no nulls in the dataset, which makes our lives easier."
   ]
  },
  {
   "cell_type": "code",
   "execution_count": 5,
   "id": "a9356447-d016-4849-9e8c-3de5ad279bec",
   "metadata": {},
   "outputs": [
    {
     "data": {
      "text/html": [
       "<div>\n",
       "<style scoped>\n",
       "    .dataframe tbody tr th:only-of-type {\n",
       "        vertical-align: middle;\n",
       "    }\n",
       "\n",
       "    .dataframe tbody tr th {\n",
       "        vertical-align: top;\n",
       "    }\n",
       "\n",
       "    .dataframe thead th {\n",
       "        text-align: right;\n",
       "    }\n",
       "</style>\n",
       "<table border=\"1\" class=\"dataframe\">\n",
       "  <thead>\n",
       "    <tr style=\"text-align: right;\">\n",
       "      <th></th>\n",
       "      <th>age</th>\n",
       "      <th>balance</th>\n",
       "      <th>day</th>\n",
       "      <th>duration</th>\n",
       "      <th>campaign</th>\n",
       "    </tr>\n",
       "  </thead>\n",
       "  <tbody>\n",
       "    <tr>\n",
       "      <th>count</th>\n",
       "      <td>40000.000000</td>\n",
       "      <td>40000.000000</td>\n",
       "      <td>40000.000000</td>\n",
       "      <td>40000.000000</td>\n",
       "      <td>40000.000000</td>\n",
       "    </tr>\n",
       "    <tr>\n",
       "      <th>mean</th>\n",
       "      <td>40.544600</td>\n",
       "      <td>1274.277550</td>\n",
       "      <td>16.017225</td>\n",
       "      <td>254.824300</td>\n",
       "      <td>2.882175</td>\n",
       "    </tr>\n",
       "    <tr>\n",
       "      <th>std</th>\n",
       "      <td>9.641776</td>\n",
       "      <td>2903.769716</td>\n",
       "      <td>8.278127</td>\n",
       "      <td>259.366498</td>\n",
       "      <td>3.239051</td>\n",
       "    </tr>\n",
       "    <tr>\n",
       "      <th>min</th>\n",
       "      <td>19.000000</td>\n",
       "      <td>-8019.000000</td>\n",
       "      <td>1.000000</td>\n",
       "      <td>0.000000</td>\n",
       "      <td>1.000000</td>\n",
       "    </tr>\n",
       "    <tr>\n",
       "      <th>25%</th>\n",
       "      <td>33.000000</td>\n",
       "      <td>54.000000</td>\n",
       "      <td>8.000000</td>\n",
       "      <td>100.000000</td>\n",
       "      <td>1.000000</td>\n",
       "    </tr>\n",
       "    <tr>\n",
       "      <th>50%</th>\n",
       "      <td>39.000000</td>\n",
       "      <td>407.000000</td>\n",
       "      <td>17.000000</td>\n",
       "      <td>175.000000</td>\n",
       "      <td>2.000000</td>\n",
       "    </tr>\n",
       "    <tr>\n",
       "      <th>75%</th>\n",
       "      <td>48.000000</td>\n",
       "      <td>1319.000000</td>\n",
       "      <td>21.000000</td>\n",
       "      <td>313.000000</td>\n",
       "      <td>3.000000</td>\n",
       "    </tr>\n",
       "    <tr>\n",
       "      <th>max</th>\n",
       "      <td>95.000000</td>\n",
       "      <td>102127.000000</td>\n",
       "      <td>31.000000</td>\n",
       "      <td>4918.000000</td>\n",
       "      <td>63.000000</td>\n",
       "    </tr>\n",
       "  </tbody>\n",
       "</table>\n",
       "</div>"
      ],
      "text/plain": [
       "                age        balance           day      duration      campaign\n",
       "count  40000.000000   40000.000000  40000.000000  40000.000000  40000.000000\n",
       "mean      40.544600    1274.277550     16.017225    254.824300      2.882175\n",
       "std        9.641776    2903.769716      8.278127    259.366498      3.239051\n",
       "min       19.000000   -8019.000000      1.000000      0.000000      1.000000\n",
       "25%       33.000000      54.000000      8.000000    100.000000      1.000000\n",
       "50%       39.000000     407.000000     17.000000    175.000000      2.000000\n",
       "75%       48.000000    1319.000000     21.000000    313.000000      3.000000\n",
       "max       95.000000  102127.000000     31.000000   4918.000000     63.000000"
      ]
     },
     "execution_count": 5,
     "metadata": {},
     "output_type": "execute_result"
    }
   ],
   "source": [
    "df.describe()"
   ]
  },
  {
   "cell_type": "markdown",
   "id": "597a3834-46d1-4b26-8066-ab68d3117545",
   "metadata": {},
   "source": [
    "We can glean the following insights from this table:\n",
    "* The mean values for the `age`, `day`, and `campaign` columns are about equal to the 50th percentile\n",
    "  * The distribution of the data may be symmetric\n",
    "* The max value in each column besides `age` and `day` is much larger than the column's 75th percentile\n",
    "  * This suggests there could be outliers\n",
    "  * `age` and `day` are more or less categorical, so it makes sense that the max age is 95 and max day is 31"
   ]
  },
  {
   "cell_type": "markdown",
   "id": "e3b3d672-3180-4ce0-9cf9-c07e30bfd2b3",
   "metadata": {},
   "source": [
    "What if we compare the subset of the data that had a positive `y` outcome to those that had a negative outcome?"
   ]
  },
  {
   "cell_type": "code",
   "execution_count": 6,
   "id": "b0fadeaa-2aa6-4033-a3dc-9d0269561a6b",
   "metadata": {},
   "outputs": [
    {
     "data": {
      "text/html": [
       "<div>\n",
       "<style scoped>\n",
       "    .dataframe tbody tr th:only-of-type {\n",
       "        vertical-align: middle;\n",
       "    }\n",
       "\n",
       "    .dataframe tbody tr th {\n",
       "        vertical-align: top;\n",
       "    }\n",
       "\n",
       "    .dataframe thead th {\n",
       "        text-align: right;\n",
       "    }\n",
       "</style>\n",
       "<table border=\"1\" class=\"dataframe\">\n",
       "  <thead>\n",
       "    <tr style=\"text-align: right;\">\n",
       "      <th></th>\n",
       "      <th>age</th>\n",
       "      <th>balance</th>\n",
       "      <th>day</th>\n",
       "      <th>duration</th>\n",
       "      <th>campaign</th>\n",
       "    </tr>\n",
       "  </thead>\n",
       "  <tbody>\n",
       "    <tr>\n",
       "      <th>count</th>\n",
       "      <td>2896.000000</td>\n",
       "      <td>2896.000000</td>\n",
       "      <td>2896.000000</td>\n",
       "      <td>2896.000000</td>\n",
       "      <td>2896.000000</td>\n",
       "    </tr>\n",
       "    <tr>\n",
       "      <th>mean</th>\n",
       "      <td>39.844959</td>\n",
       "      <td>1588.495856</td>\n",
       "      <td>15.827003</td>\n",
       "      <td>682.958564</td>\n",
       "      <td>2.414365</td>\n",
       "    </tr>\n",
       "    <tr>\n",
       "      <th>std</th>\n",
       "      <td>11.001984</td>\n",
       "      <td>2924.894429</td>\n",
       "      <td>8.557604</td>\n",
       "      <td>431.287174</td>\n",
       "      <td>2.306015</td>\n",
       "    </tr>\n",
       "    <tr>\n",
       "      <th>min</th>\n",
       "      <td>19.000000</td>\n",
       "      <td>-3058.000000</td>\n",
       "      <td>1.000000</td>\n",
       "      <td>8.000000</td>\n",
       "      <td>1.000000</td>\n",
       "    </tr>\n",
       "    <tr>\n",
       "      <th>25%</th>\n",
       "      <td>31.000000</td>\n",
       "      <td>141.000000</td>\n",
       "      <td>8.000000</td>\n",
       "      <td>364.000000</td>\n",
       "      <td>1.000000</td>\n",
       "    </tr>\n",
       "    <tr>\n",
       "      <th>50%</th>\n",
       "      <td>37.000000</td>\n",
       "      <td>620.000000</td>\n",
       "      <td>16.000000</td>\n",
       "      <td>629.000000</td>\n",
       "      <td>2.000000</td>\n",
       "    </tr>\n",
       "    <tr>\n",
       "      <th>75%</th>\n",
       "      <td>47.000000</td>\n",
       "      <td>1820.500000</td>\n",
       "      <td>22.000000</td>\n",
       "      <td>913.000000</td>\n",
       "      <td>3.000000</td>\n",
       "    </tr>\n",
       "    <tr>\n",
       "      <th>max</th>\n",
       "      <td>95.000000</td>\n",
       "      <td>45248.000000</td>\n",
       "      <td>31.000000</td>\n",
       "      <td>3881.000000</td>\n",
       "      <td>32.000000</td>\n",
       "    </tr>\n",
       "  </tbody>\n",
       "</table>\n",
       "</div>"
      ],
      "text/plain": [
       "               age       balance          day     duration     campaign\n",
       "count  2896.000000   2896.000000  2896.000000  2896.000000  2896.000000\n",
       "mean     39.844959   1588.495856    15.827003   682.958564     2.414365\n",
       "std      11.001984   2924.894429     8.557604   431.287174     2.306015\n",
       "min      19.000000  -3058.000000     1.000000     8.000000     1.000000\n",
       "25%      31.000000    141.000000     8.000000   364.000000     1.000000\n",
       "50%      37.000000    620.000000    16.000000   629.000000     2.000000\n",
       "75%      47.000000   1820.500000    22.000000   913.000000     3.000000\n",
       "max      95.000000  45248.000000    31.000000  3881.000000    32.000000"
      ]
     },
     "execution_count": 6,
     "metadata": {},
     "output_type": "execute_result"
    }
   ],
   "source": [
    "loan_yes = df[df['y'] == 'yes']\n",
    "loan_yes.describe()"
   ]
  },
  {
   "cell_type": "code",
   "execution_count": 7,
   "id": "c7f73fe0-ffaa-4e07-beb1-c3080457c670",
   "metadata": {},
   "outputs": [
    {
     "data": {
      "text/html": [
       "<div>\n",
       "<style scoped>\n",
       "    .dataframe tbody tr th:only-of-type {\n",
       "        vertical-align: middle;\n",
       "    }\n",
       "\n",
       "    .dataframe tbody tr th {\n",
       "        vertical-align: top;\n",
       "    }\n",
       "\n",
       "    .dataframe thead th {\n",
       "        text-align: right;\n",
       "    }\n",
       "</style>\n",
       "<table border=\"1\" class=\"dataframe\">\n",
       "  <thead>\n",
       "    <tr style=\"text-align: right;\">\n",
       "      <th></th>\n",
       "      <th>age</th>\n",
       "      <th>balance</th>\n",
       "      <th>day</th>\n",
       "      <th>duration</th>\n",
       "      <th>campaign</th>\n",
       "    </tr>\n",
       "  </thead>\n",
       "  <tbody>\n",
       "    <tr>\n",
       "      <th>count</th>\n",
       "      <td>37104.000000</td>\n",
       "      <td>37104.000000</td>\n",
       "      <td>37104.000000</td>\n",
       "      <td>37104.000000</td>\n",
       "      <td>37104.000000</td>\n",
       "    </tr>\n",
       "    <tr>\n",
       "      <th>mean</th>\n",
       "      <td>40.599208</td>\n",
       "      <td>1249.752533</td>\n",
       "      <td>16.032072</td>\n",
       "      <td>221.408042</td>\n",
       "      <td>2.918688</td>\n",
       "    </tr>\n",
       "    <tr>\n",
       "      <th>std</th>\n",
       "      <td>9.525450</td>\n",
       "      <td>2900.722436</td>\n",
       "      <td>8.255850</td>\n",
       "      <td>206.360022</td>\n",
       "      <td>3.298031</td>\n",
       "    </tr>\n",
       "    <tr>\n",
       "      <th>min</th>\n",
       "      <td>19.000000</td>\n",
       "      <td>-8019.000000</td>\n",
       "      <td>1.000000</td>\n",
       "      <td>0.000000</td>\n",
       "      <td>1.000000</td>\n",
       "    </tr>\n",
       "    <tr>\n",
       "      <th>25%</th>\n",
       "      <td>33.000000</td>\n",
       "      <td>50.000000</td>\n",
       "      <td>8.000000</td>\n",
       "      <td>95.000000</td>\n",
       "      <td>1.000000</td>\n",
       "    </tr>\n",
       "    <tr>\n",
       "      <th>50%</th>\n",
       "      <td>39.000000</td>\n",
       "      <td>395.000000</td>\n",
       "      <td>17.000000</td>\n",
       "      <td>164.000000</td>\n",
       "      <td>2.000000</td>\n",
       "    </tr>\n",
       "    <tr>\n",
       "      <th>75%</th>\n",
       "      <td>48.000000</td>\n",
       "      <td>1286.000000</td>\n",
       "      <td>21.000000</td>\n",
       "      <td>280.000000</td>\n",
       "      <td>3.000000</td>\n",
       "    </tr>\n",
       "    <tr>\n",
       "      <th>max</th>\n",
       "      <td>94.000000</td>\n",
       "      <td>102127.000000</td>\n",
       "      <td>31.000000</td>\n",
       "      <td>4918.000000</td>\n",
       "      <td>63.000000</td>\n",
       "    </tr>\n",
       "  </tbody>\n",
       "</table>\n",
       "</div>"
      ],
      "text/plain": [
       "                age        balance           day      duration      campaign\n",
       "count  37104.000000   37104.000000  37104.000000  37104.000000  37104.000000\n",
       "mean      40.599208    1249.752533     16.032072    221.408042      2.918688\n",
       "std        9.525450    2900.722436      8.255850    206.360022      3.298031\n",
       "min       19.000000   -8019.000000      1.000000      0.000000      1.000000\n",
       "25%       33.000000      50.000000      8.000000     95.000000      1.000000\n",
       "50%       39.000000     395.000000     17.000000    164.000000      2.000000\n",
       "75%       48.000000    1286.000000     21.000000    280.000000      3.000000\n",
       "max       94.000000  102127.000000     31.000000   4918.000000     63.000000"
      ]
     },
     "execution_count": 7,
     "metadata": {},
     "output_type": "execute_result"
    }
   ],
   "source": [
    "loan_no = df[df['y'] == 'no']\n",
    "loan_no.describe()"
   ]
  },
  {
   "cell_type": "code",
   "execution_count": 8,
   "id": "7587127e-3db7-4a67-a65c-63237f4af0df",
   "metadata": {
    "tags": []
   },
   "outputs": [
    {
     "name": "stdout",
     "output_type": "stream",
     "text": [
      "7.24% of the dataset has positive outcomes, while 92.76% of the dataset has negative outcomes\n"
     ]
    }
   ],
   "source": [
    "print(f\"{loan_yes.shape[0]/df.shape[0]*100}% of the dataset has positive outcomes, while {round(loan_no.shape[0]/df.shape[0]*100,2)}% of the dataset has negative outcomes\")"
   ]
  },
  {
   "cell_type": "markdown",
   "id": "f974863f-76db-4773-9839-d9c484e5e894",
   "metadata": {},
   "source": [
    "We can see:\n",
    "* There is a large class imbalance in the dataset\n",
    "* The mean values are roughly the same across the numerical columns and loan outcomes\n",
    "  * Except for duration, which is about 3x as less for calls that don't end with a sale (`y`=no)\n",
    "* The max values for `balance` and `campaign` are about 2.25x and 2x as large for `y`=no"
   ]
  },
  {
   "cell_type": "markdown",
   "id": "b3a7a575-229e-41b7-970a-56ba745dbc97",
   "metadata": {},
   "source": [
    "Let's do some more aggregations to tease apart the differences between the different classes within each column."
   ]
  },
  {
   "cell_type": "code",
   "execution_count": 9,
   "id": "236a7fcd-0329-415b-9450-123a23bfa83b",
   "metadata": {},
   "outputs": [],
   "source": [
    "# functions to compute the quantiles\n",
    "\n",
    "def q25(x):\n",
    "    return x.quantile(0.25)\n",
    "\n",
    "def q50(x):\n",
    "    return x.quantile(0.50)\n",
    "\n",
    "def q75(x):\n",
    "    return x.quantile(0.75)\n",
    "\n",
    "def iqr(x):\n",
    "    return q75(x)-q25(x)"
   ]
  },
  {
   "cell_type": "code",
   "execution_count": 10,
   "id": "b00aa490-c632-431a-96ae-ecf4b02aa847",
   "metadata": {},
   "outputs": [
    {
     "data": {
      "text/html": [
       "<div>\n",
       "<style scoped>\n",
       "    .dataframe tbody tr th:only-of-type {\n",
       "        vertical-align: middle;\n",
       "    }\n",
       "\n",
       "    .dataframe tbody tr th {\n",
       "        vertical-align: top;\n",
       "    }\n",
       "\n",
       "    .dataframe thead tr th {\n",
       "        text-align: left;\n",
       "    }\n",
       "\n",
       "    .dataframe thead tr:last-of-type th {\n",
       "        text-align: right;\n",
       "    }\n",
       "</style>\n",
       "<table border=\"1\" class=\"dataframe\">\n",
       "  <thead>\n",
       "    <tr>\n",
       "      <th></th>\n",
       "      <th colspan=\"8\" halign=\"left\">balance</th>\n",
       "    </tr>\n",
       "    <tr>\n",
       "      <th></th>\n",
       "      <th>count</th>\n",
       "      <th>mean</th>\n",
       "      <th>std</th>\n",
       "      <th>min</th>\n",
       "      <th>q25</th>\n",
       "      <th>q50</th>\n",
       "      <th>q75</th>\n",
       "      <th>iqr</th>\n",
       "    </tr>\n",
       "    <tr>\n",
       "      <th>job</th>\n",
       "      <th></th>\n",
       "      <th></th>\n",
       "      <th></th>\n",
       "      <th></th>\n",
       "      <th></th>\n",
       "      <th></th>\n",
       "      <th></th>\n",
       "      <th></th>\n",
       "    </tr>\n",
       "  </thead>\n",
       "  <tbody>\n",
       "    <tr>\n",
       "      <th>admin</th>\n",
       "      <td>4483</td>\n",
       "      <td>1071.794111</td>\n",
       "      <td>2633.643058</td>\n",
       "      <td>-1601</td>\n",
       "      <td>44.50</td>\n",
       "      <td>375.0</td>\n",
       "      <td>1114.0</td>\n",
       "      <td>1069.50</td>\n",
       "    </tr>\n",
       "    <tr>\n",
       "      <th>blue-collar</th>\n",
       "      <td>9383</td>\n",
       "      <td>1056.803155</td>\n",
       "      <td>2206.054343</td>\n",
       "      <td>-8019</td>\n",
       "      <td>51.00</td>\n",
       "      <td>377.0</td>\n",
       "      <td>1158.5</td>\n",
       "      <td>1107.50</td>\n",
       "    </tr>\n",
       "    <tr>\n",
       "      <th>entrepreneur</th>\n",
       "      <td>1405</td>\n",
       "      <td>1452.220641</td>\n",
       "      <td>3922.060541</td>\n",
       "      <td>-2082</td>\n",
       "      <td>37.00</td>\n",
       "      <td>341.0</td>\n",
       "      <td>1249.0</td>\n",
       "      <td>1212.00</td>\n",
       "    </tr>\n",
       "    <tr>\n",
       "      <th>housemaid</th>\n",
       "      <td>1087</td>\n",
       "      <td>1327.157314</td>\n",
       "      <td>2939.895734</td>\n",
       "      <td>-1941</td>\n",
       "      <td>50.00</td>\n",
       "      <td>390.0</td>\n",
       "      <td>1334.5</td>\n",
       "      <td>1284.50</td>\n",
       "    </tr>\n",
       "    <tr>\n",
       "      <th>management</th>\n",
       "      <td>8166</td>\n",
       "      <td>1688.052902</td>\n",
       "      <td>3849.616616</td>\n",
       "      <td>-6847</td>\n",
       "      <td>72.00</td>\n",
       "      <td>518.0</td>\n",
       "      <td>1691.0</td>\n",
       "      <td>1619.00</td>\n",
       "    </tr>\n",
       "    <tr>\n",
       "      <th>retired</th>\n",
       "      <td>1437</td>\n",
       "      <td>1513.709116</td>\n",
       "      <td>3133.081518</td>\n",
       "      <td>-1598</td>\n",
       "      <td>79.00</td>\n",
       "      <td>514.0</td>\n",
       "      <td>1640.0</td>\n",
       "      <td>1561.00</td>\n",
       "    </tr>\n",
       "    <tr>\n",
       "      <th>self-employed</th>\n",
       "      <td>1414</td>\n",
       "      <td>1513.509194</td>\n",
       "      <td>3235.335044</td>\n",
       "      <td>-3313</td>\n",
       "      <td>96.25</td>\n",
       "      <td>472.0</td>\n",
       "      <td>1498.0</td>\n",
       "      <td>1401.75</td>\n",
       "    </tr>\n",
       "    <tr>\n",
       "      <th>services</th>\n",
       "      <td>3910</td>\n",
       "      <td>977.701279</td>\n",
       "      <td>2163.973389</td>\n",
       "      <td>-2122</td>\n",
       "      <td>28.00</td>\n",
       "      <td>324.0</td>\n",
       "      <td>1045.0</td>\n",
       "      <td>1017.00</td>\n",
       "    </tr>\n",
       "    <tr>\n",
       "      <th>student</th>\n",
       "      <td>524</td>\n",
       "      <td>1288.769084</td>\n",
       "      <td>2412.317764</td>\n",
       "      <td>-679</td>\n",
       "      <td>140.75</td>\n",
       "      <td>478.0</td>\n",
       "      <td>1444.0</td>\n",
       "      <td>1303.25</td>\n",
       "    </tr>\n",
       "    <tr>\n",
       "      <th>technician</th>\n",
       "      <td>6852</td>\n",
       "      <td>1193.454320</td>\n",
       "      <td>2526.033389</td>\n",
       "      <td>-2827</td>\n",
       "      <td>49.00</td>\n",
       "      <td>387.5</td>\n",
       "      <td>1228.5</td>\n",
       "      <td>1179.50</td>\n",
       "    </tr>\n",
       "    <tr>\n",
       "      <th>unemployed</th>\n",
       "      <td>1104</td>\n",
       "      <td>1446.983696</td>\n",
       "      <td>3001.613418</td>\n",
       "      <td>-1270</td>\n",
       "      <td>75.00</td>\n",
       "      <td>487.5</td>\n",
       "      <td>1592.5</td>\n",
       "      <td>1517.50</td>\n",
       "    </tr>\n",
       "    <tr>\n",
       "      <th>unknown</th>\n",
       "      <td>235</td>\n",
       "      <td>1677.391489</td>\n",
       "      <td>2887.377673</td>\n",
       "      <td>-295</td>\n",
       "      <td>130.50</td>\n",
       "      <td>666.0</td>\n",
       "      <td>2093.5</td>\n",
       "      <td>1963.00</td>\n",
       "    </tr>\n",
       "  </tbody>\n",
       "</table>\n",
       "</div>"
      ],
      "text/plain": [
       "              balance                                                         \\\n",
       "                count         mean          std   min     q25    q50     q75   \n",
       "job                                                                            \n",
       "admin            4483  1071.794111  2633.643058 -1601   44.50  375.0  1114.0   \n",
       "blue-collar      9383  1056.803155  2206.054343 -8019   51.00  377.0  1158.5   \n",
       "entrepreneur     1405  1452.220641  3922.060541 -2082   37.00  341.0  1249.0   \n",
       "housemaid        1087  1327.157314  2939.895734 -1941   50.00  390.0  1334.5   \n",
       "management       8166  1688.052902  3849.616616 -6847   72.00  518.0  1691.0   \n",
       "retired          1437  1513.709116  3133.081518 -1598   79.00  514.0  1640.0   \n",
       "self-employed    1414  1513.509194  3235.335044 -3313   96.25  472.0  1498.0   \n",
       "services         3910   977.701279  2163.973389 -2122   28.00  324.0  1045.0   \n",
       "student           524  1288.769084  2412.317764  -679  140.75  478.0  1444.0   \n",
       "technician       6852  1193.454320  2526.033389 -2827   49.00  387.5  1228.5   \n",
       "unemployed       1104  1446.983696  3001.613418 -1270   75.00  487.5  1592.5   \n",
       "unknown           235  1677.391489  2887.377673  -295  130.50  666.0  2093.5   \n",
       "\n",
       "                        \n",
       "                   iqr  \n",
       "job                     \n",
       "admin          1069.50  \n",
       "blue-collar    1107.50  \n",
       "entrepreneur   1212.00  \n",
       "housemaid      1284.50  \n",
       "management     1619.00  \n",
       "retired        1561.00  \n",
       "self-employed  1401.75  \n",
       "services       1017.00  \n",
       "student        1303.25  \n",
       "technician     1179.50  \n",
       "unemployed     1517.50  \n",
       "unknown        1963.00  "
      ]
     },
     "execution_count": 10,
     "metadata": {},
     "output_type": "execute_result"
    }
   ],
   "source": [
    "groupby_list=['count','mean','std','min',q25,q50,q75,iqr]\n",
    "df.groupby(\n",
    "    'job'\n",
    "    # 'marital',\n",
    "    # 'education',\n",
    "    # 'default',\n",
    "    # 'housing',\n",
    "    # 'loan',\n",
    "    # 'contact',\n",
    "    # 'day',\n",
    "    # 'month'\n",
    "    ).agg(\n",
    "    {\n",
    "        'balance':groupby_list,\n",
    "        # 'duration':groupby_list\n",
    "        # 'campaign':groupby_list\n",
    "    })"
   ]
  },
  {
   "cell_type": "code",
   "execution_count": 11,
   "id": "09649515-8f84-499a-9c8d-ce7c42242810",
   "metadata": {},
   "outputs": [
    {
     "data": {
      "text/plain": [
       "Index(['age', 'job', 'marital', 'education', 'default', 'balance', 'housing',\n",
       "       'loan', 'contact', 'day', 'month', 'duration', 'campaign', 'y'],\n",
       "      dtype='object')"
      ]
     },
     "execution_count": 11,
     "metadata": {},
     "output_type": "execute_result"
    }
   ],
   "source": [
    "df.columns"
   ]
  },
  {
   "cell_type": "code",
   "execution_count": 12,
   "id": "2ad59952-9dcc-47c9-9f1f-d6ec727b0eea",
   "metadata": {},
   "outputs": [
    {
     "data": {
      "text/plain": [
       "{'age': 70,\n",
       " 'job': 12,\n",
       " 'marital': 3,\n",
       " 'education': 4,\n",
       " 'default': 2,\n",
       " 'balance': 6849,\n",
       " 'housing': 2,\n",
       " 'loan': 2,\n",
       " 'contact': 3,\n",
       " 'day': 31,\n",
       " 'month': 11,\n",
       " 'duration': 1535,\n",
       " 'campaign': 48,\n",
       " 'y': 2}"
      ]
     },
     "execution_count": 12,
     "metadata": {},
     "output_type": "execute_result"
    }
   ],
   "source": [
    "# create dictionary of unique values\n",
    "dict_unique={col:df[col].nunique() for col in df.columns}\n",
    "\n",
    "# this is a little unwieldy \n",
    "# but it will give us a sense of \n",
    "# HOW MANY unique values there are\n",
    "dict_unique"
   ]
  },
  {
   "cell_type": "markdown",
   "id": "4acad808-277a-467f-a454-270c8b24b3ae",
   "metadata": {},
   "source": [
    "We can tell which columns are categorical.\n",
    "* 12 kinds of jobs\n",
    "* 4 education levels"
   ]
  },
  {
   "cell_type": "code",
   "execution_count": 13,
   "id": "d086f5f9-4c66-47cc-b330-dde788394461",
   "metadata": {},
   "outputs": [
    {
     "data": {
      "text/plain": [
       "{'age': array([58, 44, 33, 47, 35, 28, 42, 43, 41, 29, 53, 57, 51, 45, 60, 56, 32,\n",
       "        25, 40, 39, 52, 46, 36, 49, 59, 37, 50, 54, 55, 48, 24, 38, 31, 30,\n",
       "        27, 34, 23, 26, 61, 22, 21, 20, 66, 62, 83, 75, 67, 70, 65, 68, 64,\n",
       "        69, 72, 71, 19, 76, 85, 63, 90, 82, 73, 74, 78, 80, 94, 79, 77, 86,\n",
       "        95, 81]),\n",
       " 'job': array(['management', 'technician', 'entrepreneur', 'blue-collar',\n",
       "        'unknown', 'retired', 'admin', 'services', 'self-employed',\n",
       "        'unemployed', 'housemaid', 'student'], dtype=object),\n",
       " 'marital': array(['married', 'single', 'divorced'], dtype=object),\n",
       " 'education': array(['tertiary', 'secondary', 'unknown', 'primary'], dtype=object),\n",
       " 'default': array(['no', 'yes'], dtype=object),\n",
       " 'balance': array([  2143,     29,      2, ...,   7222,   3402, 102127]),\n",
       " 'housing': array(['yes', 'no'], dtype=object),\n",
       " 'loan': array(['no', 'yes'], dtype=object),\n",
       " 'contact': array(['unknown', 'cellular', 'telephone'], dtype=object),\n",
       " 'day': array([ 5,  6,  7,  8,  9, 12, 13, 14, 15, 16, 19, 20, 21, 23, 26, 27, 28,\n",
       "        29, 30,  2,  3,  4, 11, 17, 18, 24, 25,  1, 10, 22, 31]),\n",
       " 'month': array(['may', 'jun', 'jul', 'aug', 'oct', 'nov', 'dec', 'jan', 'feb',\n",
       "        'mar', 'apr'], dtype=object),\n",
       " 'duration': array([ 261,  151,   76, ..., 1880, 1460, 2219]),\n",
       " 'campaign': array([ 1,  2,  3,  5,  4,  6,  7,  8,  9, 10, 11, 12, 13, 19, 14, 24, 16,\n",
       "        32, 18, 22, 15, 17, 25, 21, 43, 51, 63, 41, 26, 28, 55, 50, 38, 23,\n",
       "        20, 29, 31, 37, 30, 46, 27, 58, 33, 35, 34, 36, 39, 44]),\n",
       " 'y': array(['no', 'yes'], dtype=object)}"
      ]
     },
     "execution_count": 13,
     "metadata": {},
     "output_type": "execute_result"
    }
   ],
   "source": [
    "# create dictionary of unique values\n",
    "dict_nunique={col:df[col].unique() for col in df.columns}\n",
    "\n",
    "# this is a little unwieldy \n",
    "# but it will give us a sense of \n",
    "# WHAT the unique values are\n",
    "dict_nunique"
   ]
  },
  {
   "cell_type": "markdown",
   "id": "07c5c4f4-97ea-4763-a7d0-c196783eef0b",
   "metadata": {},
   "source": [
    "Nothing too surprising jumps out at us here, so we'll need to use more powerful methods and do some visualization to understand the dataset."
   ]
  },
  {
   "cell_type": "markdown",
   "id": "d9473f62-b437-4ccd-a13a-6dc1c53cb606",
   "metadata": {},
   "source": [
    "### Visualization <a name='viz'></a>"
   ]
  },
  {
   "cell_type": "code",
   "execution_count": 14,
   "id": "d4ae76f5-93f0-460f-b07c-2f8dc5eed994",
   "metadata": {},
   "outputs": [],
   "source": [
    "X=df[[col for col in df.columns if col != 'y']]\n",
    "y=df['y']"
   ]
  },
  {
   "cell_type": "markdown",
   "id": "caba9795-a9e2-4175-9e2b-d68a0894a122",
   "metadata": {},
   "source": [
    "#### Figure 1: Barplots of Variables"
   ]
  },
  {
   "cell_type": "code",
   "execution_count": 15,
   "id": "871b395c-b597-446a-b831-482ea752bc00",
   "metadata": {},
   "outputs": [
    {
     "data": {
      "text/html": [
       "<div>\n",
       "<style scoped>\n",
       "    .dataframe tbody tr th:only-of-type {\n",
       "        vertical-align: middle;\n",
       "    }\n",
       "\n",
       "    .dataframe tbody tr th {\n",
       "        vertical-align: top;\n",
       "    }\n",
       "\n",
       "    .dataframe thead th {\n",
       "        text-align: right;\n",
       "    }\n",
       "</style>\n",
       "<table border=\"1\" class=\"dataframe\">\n",
       "  <thead>\n",
       "    <tr style=\"text-align: right;\">\n",
       "      <th></th>\n",
       "      <th>age</th>\n",
       "      <th>job</th>\n",
       "      <th>marital</th>\n",
       "      <th>education</th>\n",
       "      <th>default</th>\n",
       "      <th>balance</th>\n",
       "      <th>housing</th>\n",
       "      <th>loan</th>\n",
       "      <th>contact</th>\n",
       "      <th>day</th>\n",
       "      <th>month</th>\n",
       "      <th>duration</th>\n",
       "      <th>campaign</th>\n",
       "      <th>y</th>\n",
       "    </tr>\n",
       "  </thead>\n",
       "  <tbody>\n",
       "    <tr>\n",
       "      <th>0</th>\n",
       "      <td>58</td>\n",
       "      <td>management</td>\n",
       "      <td>married</td>\n",
       "      <td>tertiary</td>\n",
       "      <td>no</td>\n",
       "      <td>2143</td>\n",
       "      <td>yes</td>\n",
       "      <td>no</td>\n",
       "      <td>unknown</td>\n",
       "      <td>5</td>\n",
       "      <td>may</td>\n",
       "      <td>261</td>\n",
       "      <td>1</td>\n",
       "      <td>no</td>\n",
       "    </tr>\n",
       "    <tr>\n",
       "      <th>1</th>\n",
       "      <td>44</td>\n",
       "      <td>technician</td>\n",
       "      <td>single</td>\n",
       "      <td>secondary</td>\n",
       "      <td>no</td>\n",
       "      <td>29</td>\n",
       "      <td>yes</td>\n",
       "      <td>no</td>\n",
       "      <td>unknown</td>\n",
       "      <td>5</td>\n",
       "      <td>may</td>\n",
       "      <td>151</td>\n",
       "      <td>1</td>\n",
       "      <td>no</td>\n",
       "    </tr>\n",
       "    <tr>\n",
       "      <th>2</th>\n",
       "      <td>33</td>\n",
       "      <td>entrepreneur</td>\n",
       "      <td>married</td>\n",
       "      <td>secondary</td>\n",
       "      <td>no</td>\n",
       "      <td>2</td>\n",
       "      <td>yes</td>\n",
       "      <td>yes</td>\n",
       "      <td>unknown</td>\n",
       "      <td>5</td>\n",
       "      <td>may</td>\n",
       "      <td>76</td>\n",
       "      <td>1</td>\n",
       "      <td>no</td>\n",
       "    </tr>\n",
       "  </tbody>\n",
       "</table>\n",
       "</div>"
      ],
      "text/plain": [
       "   age           job  marital  education default  balance housing loan  \\\n",
       "0   58    management  married   tertiary      no     2143     yes   no   \n",
       "1   44    technician   single  secondary      no       29     yes   no   \n",
       "2   33  entrepreneur  married  secondary      no        2     yes  yes   \n",
       "\n",
       "   contact  day month  duration  campaign   y  \n",
       "0  unknown    5   may       261         1  no  \n",
       "1  unknown    5   may       151         1  no  \n",
       "2  unknown    5   may        76         1  no  "
      ]
     },
     "execution_count": 15,
     "metadata": {},
     "output_type": "execute_result"
    }
   ],
   "source": [
    "df.head(3)"
   ]
  },
  {
   "cell_type": "code",
   "execution_count": 16,
   "id": "d7e60782-02be-4938-8642-06a5fcdaf9ef",
   "metadata": {},
   "outputs": [
    {
     "data": {
      "text/plain": [
       "min    19\n",
       "max    95\n",
       "Name: age, dtype: int64"
      ]
     },
     "execution_count": 16,
     "metadata": {},
     "output_type": "execute_result"
    }
   ],
   "source": [
    "df['age'].agg(['min','max'])"
   ]
  },
  {
   "cell_type": "code",
   "execution_count": 42,
   "id": "7c46a8a6-8416-42dc-8089-9fac70783b30",
   "metadata": {},
   "outputs": [
    {
     "data": {
      "image/png": "[encoded data removed]",
      "text/plain": [
       "<Figure size 1500x400 with 1 Axes>"
      ]
     },
     "metadata": {},
     "output_type": "display_data"
    }
   ],
   "source": [
    "plt.figure(figsize=(15, 4))\n",
    "sns.countplot(x='age',data=df,hue='y')\n",
    "plt.title('Age Distribution')\n",
    "plt.xticks(rotation=45)\n",
    "plt.show()"
   ]
  },
  {
   "cell_type": "code",
   "execution_count": 43,
   "id": "ae6b264e-8fb0-4c23-a77e-883086da9c8e",
   "metadata": {},
   "outputs": [
    {
     "data": {
      "text/html": [
       "<div>\n",
       "<style scoped>\n",
       "    .dataframe tbody tr th:only-of-type {\n",
       "        vertical-align: middle;\n",
       "    }\n",
       "\n",
       "    .dataframe tbody tr th {\n",
       "        vertical-align: top;\n",
       "    }\n",
       "\n",
       "    .dataframe thead th {\n",
       "        text-align: right;\n",
       "    }\n",
       "</style>\n",
       "<table border=\"1\" class=\"dataframe\">\n",
       "  <thead>\n",
       "    <tr style=\"text-align: right;\">\n",
       "      <th></th>\n",
       "      <th>age</th>\n",
       "      <th>job</th>\n",
       "      <th>marital</th>\n",
       "      <th>education</th>\n",
       "      <th>default</th>\n",
       "      <th>balance</th>\n",
       "      <th>housing</th>\n",
       "      <th>loan</th>\n",
       "      <th>contact</th>\n",
       "      <th>day</th>\n",
       "      <th>month</th>\n",
       "      <th>duration</th>\n",
       "      <th>campaign</th>\n",
       "      <th>y</th>\n",
       "    </tr>\n",
       "  </thead>\n",
       "  <tbody>\n",
       "    <tr>\n",
       "      <th>0</th>\n",
       "      <td>58</td>\n",
       "      <td>management</td>\n",
       "      <td>married</td>\n",
       "      <td>tertiary</td>\n",
       "      <td>no</td>\n",
       "      <td>2143</td>\n",
       "      <td>yes</td>\n",
       "      <td>no</td>\n",
       "      <td>unknown</td>\n",
       "      <td>5</td>\n",
       "      <td>may</td>\n",
       "      <td>261</td>\n",
       "      <td>1</td>\n",
       "      <td>no</td>\n",
       "    </tr>\n",
       "    <tr>\n",
       "      <th>1</th>\n",
       "      <td>44</td>\n",
       "      <td>technician</td>\n",
       "      <td>single</td>\n",
       "      <td>secondary</td>\n",
       "      <td>no</td>\n",
       "      <td>29</td>\n",
       "      <td>yes</td>\n",
       "      <td>no</td>\n",
       "      <td>unknown</td>\n",
       "      <td>5</td>\n",
       "      <td>may</td>\n",
       "      <td>151</td>\n",
       "      <td>1</td>\n",
       "      <td>no</td>\n",
       "    </tr>\n",
       "    <tr>\n",
       "      <th>2</th>\n",
       "      <td>33</td>\n",
       "      <td>entrepreneur</td>\n",
       "      <td>married</td>\n",
       "      <td>secondary</td>\n",
       "      <td>no</td>\n",
       "      <td>2</td>\n",
       "      <td>yes</td>\n",
       "      <td>yes</td>\n",
       "      <td>unknown</td>\n",
       "      <td>5</td>\n",
       "      <td>may</td>\n",
       "      <td>76</td>\n",
       "      <td>1</td>\n",
       "      <td>no</td>\n",
       "    </tr>\n",
       "  </tbody>\n",
       "</table>\n",
       "</div>"
      ],
      "text/plain": [
       "   age           job  marital  education default  balance housing loan  \\\n",
       "0   58    management  married   tertiary      no     2143     yes   no   \n",
       "1   44    technician   single  secondary      no       29     yes   no   \n",
       "2   33  entrepreneur  married  secondary      no        2     yes  yes   \n",
       "\n",
       "   contact  day month  duration  campaign   y  \n",
       "0  unknown    5   may       261         1  no  \n",
       "1  unknown    5   may       151         1  no  \n",
       "2  unknown    5   may        76         1  no  "
      ]
     },
     "execution_count": 43,
     "metadata": {},
     "output_type": "execute_result"
    }
   ],
   "source": [
    "df.head(3)"
   ]
  },
  {
   "cell_type": "code",
   "execution_count": 82,
   "id": "6741fa7b-1897-4504-b8d6-967bdada2a6f",
   "metadata": {},
   "outputs": [
    {
     "name": "stderr",
     "output_type": "stream",
     "text": [
      "No artists with labels found to put in legend.  Note that artists whose label start with an underscore are ignored when legend() is called with no argument.\n"
     ]
    },
    {
     "data": {
      "image/png": "[encoded data removed]",
      "text/plain": [
       "<Figure size 1500x400 with 2 Axes>"
      ]
     },
     "metadata": {},
     "output_type": "display_data"
    }
   ],
   "source": [
    "# plt.subplots(2,1,figsize=(15,4))\n",
    "plt.figure(figsize=(15,4))\n",
    "plt.suptitle('Job Distribution Based on Campaign Outcome')\n",
    "\n",
    "# create df for y==no and y==yes\n",
    "df_no=df[df['y']=='no']\n",
    "df_yes=df[df['y']=='yes']\n",
    "\n",
    "job_order = ['management', 'technician', 'blue-collar', 'admin.', 'services', \n",
    "             'retired', 'self-employed', 'entrepreneur', 'unemployed', 'housemaid', 'student']\n",
    "\n",
    "# Plot for 'no' on the left side\n",
    "# plt.subplot(1, 2, 1)\n",
    "ax1 = sns.countplot(x='job', data=df_no, color='blue', order=job_order,alpha=.5)\n",
    "plt.title('Job Distribution for Failed Campaigns')\n",
    "plt.xticks(rotation=45)\n",
    "# plt.legend(title='Campaign Outcome')\n",
    "\n",
    "# Plot for 'yes' on the right side with twinx\n",
    "# plt.subplot(1, 2, 2)\n",
    "ax2 = ax1.twinx()\n",
    "sns.countplot(x='job', data=df_yes, color='orange', order=job_order,alpha=.5)\n",
    "plt.title('Job Distribution for Successful Campaigns')\n",
    "plt.xticks(rotation=45)\n",
    "plt.legend().remove()  # Remove legend for the second plot to avoid duplication\n",
    "\n",
    "plt.tight_layout()\n",
    "plt.show()"
   ]
  },
  {
   "cell_type": "code",
   "execution_count": 71,
   "id": "776385eb-85cb-4fb4-89f9-75bcad0e215e",
   "metadata": {},
   "outputs": [
    {
     "data": {
      "image/png": "[encoded data removed]",
      "text/plain": [
       "<Figure size 800x400 with 2 Axes>"
      ]
     },
     "metadata": {},
     "output_type": "display_data"
    }
   ],
   "source": [
    "# Initialize FacetGrid with the data\n",
    "g = sns.FacetGrid(df, row='y', aspect=4, height=2,sharey=False,sharex=True)\n",
    "\n",
    "# Plot job distribution for 'no' and 'yes' categories\n",
    "g.map_dataframe(sns.countplot,\n",
    "                x='job', \n",
    "                hue='y', \n",
    "                palette='colorblind', \n",
    "                dodge=True, \n",
    "                order=None)\n",
    "\n",
    "# Adjust titles and rotation\n",
    "g.set_titles('\"{row_name}\" Campaigns')\n",
    "g.set_xticklabels(rotation=45)\n",
    "\n",
    "# Adjust spacing\n",
    "plt.tight_layout()\n",
    "\n",
    "# Show the plot\n",
    "plt.show()"
   ]
  },
  {
   "cell_type": "markdown",
   "id": "6bd34308-3f68-4981-be99-a8b7fd88cbaf",
   "metadata": {},
   "source": [
    "#### Figure 1: Boxplots of Numerical Variables <a name='fig1'></a>"
   ]
  },
  {
   "cell_type": "code",
   "execution_count": null,
   "id": "286116ae-7723-4700-9f44-85d0a4d207eb",
   "metadata": {},
   "outputs": [],
   "source": [
    "X_cols=[col for col in df.columns if col != 'y']\n",
    "X_cols"
   ]
  },
  {
   "cell_type": "code",
   "execution_count": null,
   "id": "e117b187-f55c-445f-8d3b-9b182e4c4a63",
   "metadata": {},
   "outputs": [],
   "source": [
    "# create dataframe for numeric columns\n",
    "\n",
    "numeric_columns=['balance','duration','campaign','y']\n",
    "\n",
    "df_num=df[[col for col in df.columns if col in numeric_columns]]\n",
    "\n",
    "# melt df to long format\n",
    "df_melted = df_num.melt(id_vars='y',\n",
    "                        value_vars=df_num.columns,\n",
    "                        var_name='Variable',\n",
    "                        value_name='Value')"
   ]
  },
  {
   "cell_type": "code",
   "execution_count": null,
   "id": "4335dada-e752-4fed-beac-5c8a401ad118",
   "metadata": {},
   "outputs": [],
   "source": [
    "df_melted.shape"
   ]
  },
  {
   "cell_type": "code",
   "execution_count": null,
   "id": "d20ac773-b7e2-46ab-867f-d09bd9dc78ce",
   "metadata": {},
   "outputs": [],
   "source": [
    "# Create a FacetGrid for separate y-axes\n",
    "g = sns.catplot(\n",
    "    x='y', \n",
    "    y='Value', \n",
    "    col='Variable', \n",
    "    data=df_melted, \n",
    "    kind='box',\n",
    "    height=8, \n",
    "    aspect=0.7,\n",
    "    sharey=False\n",
    ")\n",
    "\n",
    "# Customize the plot\n",
    "g.set_titles(\"{col_name}\")\n",
    "g.set_axis_labels(\"y\", \"Value\")\n",
    "g.fig.suptitle('Boxplots of Numerical Variables', y=1.03)\n",
    "\n",
    "# Show the plot\n",
    "plt.show()"
   ]
  },
  {
   "cell_type": "markdown",
   "id": "e6e3ddd4-353f-4662-8675-b857f6cd2a7f",
   "metadata": {},
   "source": [
    "#### Figure 2: Histograms of Numerical Variables"
   ]
  },
  {
   "cell_type": "code",
   "execution_count": null,
   "id": "51cc240c-fa0b-45c3-a5af-d8751b29700c",
   "metadata": {},
   "outputs": [],
   "source": [
    "plt.figure(figsize=(15, 6))\n",
    "plt.suptitle('Histograms')\n",
    "plt.subplot(1, 3, 1)\n",
    "sns.histplot(data=df, x='balance',hue='y')\n",
    "plt.title('Balance')\n",
    "plt.subplot(1, 3, 2)\n",
    "sns.histplot(data=df, x='duration',hue='y')\n",
    "plt.title('Duration of Last Phone Call')\n",
    "plt.subplot(1, 3, 3)\n",
    "sns.histplot(data=df, x='campaign',hue='y')\n",
    "plt.title('Contacts Throughout the Campaign')\n",
    "plt.show()"
   ]
  },
  {
   "cell_type": "code",
   "execution_count": null,
   "id": "a8010c92-8733-48c5-be09-2023d9f58fac",
   "metadata": {},
   "outputs": [],
   "source": [
    "# Ensure 'y' is treated as a categorical variable for plotting purposes\n",
    "df_melted['y'] = df_melted['y'].astype(str)\n",
    "\n",
    "# Create a FacetGrid for separate y-axes\n",
    "g = sns.FacetGrid(df_melted, col='Variable', hue='y', sharey=False, sharex=False, height=4, aspect=0.7)\n",
    "\n",
    "# Map the histogram plot to each facet\n",
    "g.map(sns.histplot, 'Value', kde=False, bins='auto')\n",
    "\n",
    "# Customize the plot\n",
    "g.set_titles(\"{col_name}\")\n",
    "g.set_axis_labels(\"Value\", \"Frequency\")\n",
    "g.fig.suptitle('Histograms of Numerical Variables', y=1.03)\n",
    "\n",
    "# Show the plot\n",
    "plt.show()"
   ]
  },
  {
   "cell_type": "markdown",
   "id": "95e93e81-faa3-480f-ad31-48b8d3210f95",
   "metadata": {},
   "source": [
    "#### Figure 3: Distribution of Duration of Last Phone Call Versus Campaign Outcome"
   ]
  },
  {
   "cell_type": "code",
   "execution_count": null,
   "id": "828f1b37-ebbd-40ca-9c30-26e1e4cedbe6",
   "metadata": {},
   "outputs": [],
   "source": [
    "plt.figure(figsize=(8,8))\n",
    "sns.histplot(data=df,x='duration',hue='y',kde=True,legend=True,bins=50,stat='count',zorder=2)\n",
    "plt.grid(zorder=1)\n",
    "plt.tight_layout()\n",
    "plt.title('Distribution of Duration of Last Phone Call')\n",
    "plt.xlabel('Duration of Last Phone Call')\n",
    "plt.ylabel('Count')\n",
    "plt.show()"
   ]
  },
  {
   "cell_type": "code",
   "execution_count": null,
   "id": "c105cf9c-ecd0-43fe-859e-dcaffaf47e58",
   "metadata": {},
   "outputs": [],
   "source": [
    "# Filter data based on hue values\n",
    "df_yes = df[df['y'] == 'yes']\n",
    "df_no = df[df['y'] == 'no']\n",
    "\n",
    "# Create a figure\n",
    "fig, ax_left = plt.subplots(figsize=(10, 6))\n",
    "\n",
    "# Plot for 'yes' on the left y-axis\n",
    "sns.histplot(df_yes, x='age', ax=ax_left, color='blue', alpha=0.5, bins=40)\n",
    "ax_left.set_ylabel('Count (yes)')\n",
    "ax_left.set_xlabel('Age')\n",
    "\n",
    "# Create a second y-axis for 'no'\n",
    "ax_right = ax_left.twinx()\n",
    "\n",
    "# Plot for 'no' on the right y-axis\n",
    "sns.histplot(df_no, x='age', ax=ax_right, color='red', alpha=0.5, bins=40)\n",
    "ax_right.set_ylabel('Count (no)')\n",
    "\n",
    "# Add title and legends\n",
    "plt.title('Histogram of Age with Separate Counts for Yes and No')\n",
    "ax_left.legend(['Count (yes)'], loc='upper left')\n",
    "ax_right.legend(['Count (no)'], loc='upper right')\n",
    "\n",
    "plt.show()"
   ]
  },
  {
   "cell_type": "code",
   "execution_count": null,
   "id": "baa6a26d-74ea-4a98-b4af-1b99c5fe16a7",
   "metadata": {},
   "outputs": [],
   "source": [
    "# Filter data based on hue values\n",
    "df_yes = df[df['y'] == 'yes']\n",
    "df_no = df[df['y'] == 'no']\n",
    "\n",
    "# Create a figure\n",
    "fig, ax_left = plt.subplots(figsize=(10, 6))\n",
    "\n",
    "# Plot for 'yes' on the left y-axis\n",
    "sns.histplot(df_yes, x='balance', ax=ax_left, color='blue', alpha=0.5,bins=40)\n",
    "ax_left.set_ylabel('Count (yes)')\n",
    "ax_left.set_xlabel('Balance')\n",
    "\n",
    "# Create a second y-axis for 'no'\n",
    "ax_right = ax_left.twinx()\n",
    "\n",
    "# Plot for 'no' on the right y-axis\n",
    "sns.histplot(df_no, x='balance', ax=ax_right, color='red', alpha=0.5,bins=40)\n",
    "ax_right.set_ylabel('Count (no)')\n",
    "\n",
    "# Add title and legends\n",
    "plt.title('Histogram of Balance with Separate Counts for Yes and No')\n",
    "ax_left.legend(['Count (yes)'], loc='upper left')\n",
    "ax_right.legend(['Count (no)'], loc='upper right')\n",
    "\n",
    "plt.show()"
   ]
  },
  {
   "cell_type": "code",
   "execution_count": null,
   "id": "a8571f57-b50e-4fb1-8e06-fc6522838921",
   "metadata": {},
   "outputs": [],
   "source": [
    "sns.FacetGrid(data=df, hue='y', height=5).map(sns.histplot, 'duration', kde=True).add_legend()\n",
    "plt.tight_layout()\n",
    "plt.title('Distribution of Duration of Last Phone Call')\n",
    "plt.xlabel('Duration of Last Phone Call')\n",
    "plt.ylabel('Frequency')\n",
    "plt.show()"
   ]
  },
  {
   "cell_type": "markdown",
   "id": "8216fd9a-f562-483b-8942-b4f2b333e79c",
   "metadata": {},
   "source": [
    "#### Figure 4: "
   ]
  },
  {
   "cell_type": "code",
   "execution_count": null,
   "id": "ec3dd9a8-66e4-49eb-90e2-950b4384853a",
   "metadata": {},
   "outputs": [],
   "source": [
    "counts, bin_edges = np.histogram(df[df['y'] == 'yes']['duration'], density=True)\n",
    "pdf = counts / sum(counts)\n",
    "cdf = np.cumsum(pdf)\n",
    "plt.plot(bin_edges[1:], cdf, label='CDF Outcome = Yes')\n",
    "\n",
    "counts, bin_edges = np.histogram(df[df['y'] == 'no']['duration'], density=True)\n",
    "pdf = counts / sum(counts)\n",
    "cdf = np.cumsum(pdf)\n",
    "plt.plot(bin_edges[1:], cdf, label='CDF Outcome = No')\n",
    "\n",
    "plt.legend()\n",
    "plt.xlabel(\"Duration of last phone call\")\n",
    "plt.ylabel(\"CDF\")\n",
    "plt.title('Cumulative Distribution Function for \\nPositive Campaign Outcomes vs. Duration')\n",
    "plt.grid()\n",
    "plt.show()"
   ]
  },
  {
   "cell_type": "code",
   "execution_count": null,
   "id": "6441567f-04d5-4f30-b285-fe55d72eccb2",
   "metadata": {},
   "outputs": [],
   "source": [
    "counts, bin_edges = np.histogram(df[df['y'] == 'yes']['balance'], density=True)\n",
    "pdf = counts / sum(counts)\n",
    "cdf = np.cumsum(pdf)\n",
    "plt.plot(bin_edges[1:], cdf, label='CDF Outcome = Yes')\n",
    "\n",
    "counts, bin_edges = np.histogram(df[df['y'] == 'no']['balance'], density=True)\n",
    "pdf = counts / sum(counts)\n",
    "cdf = np.cumsum(pdf)\n",
    "plt.plot(bin_edges[1:], cdf, label='CDF Outcome = No')\n",
    "\n",
    "plt.legend()\n",
    "plt.xlabel(\"Duration of last phone call\")\n",
    "plt.ylabel(\"CDF\")\n",
    "plt.title('Cumulative Distribution Function for \\nPositive Campaign Outcomes vs. Average Yearly Balance')\n",
    "plt.grid()\n",
    "plt.show()"
   ]
  },
  {
   "cell_type": "markdown",
   "id": "b1cd63d0-5316-4191-8db6-56bdc3287b92",
   "metadata": {},
   "source": [
    "#### Figure 3: Correlation Matrix of Numerical Variables <a name='fig3'></a>"
   ]
  },
  {
   "cell_type": "code",
   "execution_count": null,
   "id": "f0d4a708-bff3-41b2-b23d-ef5e6c4f1915",
   "metadata": {},
   "outputs": [],
   "source": [
    "# compute correlation matrix\n",
    "corr=df_num[['balance','duration','campaign']].corr()\n",
    "\n",
    "# generate mask for the upper triangle\n",
    "mask=np.triu(np.ones_like(corr, dtype=bool))\n",
    "\n",
    "# set up matplotlib figure\n",
    "f,ax = plt.subplots(figsize=(5, 4))\n",
    "\n",
    "# draw heatmap with the mask and correct aspect ratio\n",
    "sns.heatmap(corr,mask=mask,cmap='coolwarm',vmax=.3,center=0,\n",
    "            square=True,linewidths=.5,annot=True,\n",
    "            fmt='.2f',cbar_kws={\"shrink\":.5})\n",
    "plt.title('Correlation Matrix\\n$Higher$ $absolute$ $value$ $indicates$ $stronger$ $correlation$')\n",
    "plt.tight_layout()\n",
    "\n",
    "# save fig\n",
    "# plt.savefig('../figs/1_corrmatrix_alt.pdf')\n",
    "# plt.savefig('../figs/1_corrmatrix_alt.png')"
   ]
  },
  {
   "cell_type": "code",
   "execution_count": null,
   "id": "3537d78c-730d-4df1-ad25-3ce3deeb2997",
   "metadata": {},
   "outputs": [],
   "source": [
    "sns.jointplot(data=df,x='balance',y='age',hue='y')"
   ]
  },
  {
   "cell_type": "code",
   "execution_count": null,
   "id": "1bef4ed3-68f6-4b7a-ad6e-9d2234937a46",
   "metadata": {},
   "outputs": [],
   "source": [
    "df.head(3)"
   ]
  },
  {
   "cell_type": "code",
   "execution_count": null,
   "id": "c6627730-5124-4117-b26a-16119478c70e",
   "metadata": {},
   "outputs": [],
   "source": [
    "sns.jointplot(data=df,x='balance',y='duration',hue='y')"
   ]
  },
  {
   "cell_type": "code",
   "execution_count": null,
   "id": "8bcc58f4-7514-4d33-9274-b4b93bd4f297",
   "metadata": {},
   "outputs": [],
   "source": [
    "sns.jointplot(data=df,x='balance',y='campaign',hue='y',marginal_ticks=True)"
   ]
  },
  {
   "cell_type": "code",
   "execution_count": null,
   "id": "9d3581c8-297e-4adc-a9a6-b360e13f2418",
   "metadata": {},
   "outputs": [],
   "source": []
  },
  {
   "cell_type": "code",
   "execution_count": null,
   "id": "f20060ed-668c-4988-8ca7-073425715e8a",
   "metadata": {},
   "outputs": [],
   "source": [
    "sns.pairplot(data=df,hue='y')"
   ]
  },
  {
   "cell_type": "code",
   "execution_count": null,
   "id": "58b991c8-b120-4983-8d7f-937e1f0a7248",
   "metadata": {},
   "outputs": [],
   "source": []
  }
 ],
 "metadata": {
  "kernelspec": {
   "display_name": "apziva",
   "language": "python",
   "name": "apziva"
  },
  "language_info": {
   "codemirror_mode": {
    "name": "ipython",
    "version": 3
   },
   "file_extension": ".py",
   "mimetype": "text/x-python",
   "name": "python",
   "nbconvert_exporter": "python",
   "pygments_lexer": "ipython3",
   "version": "3.12.3"
  }
 },
 "nbformat": 4,
 "nbformat_minor": 5
}
