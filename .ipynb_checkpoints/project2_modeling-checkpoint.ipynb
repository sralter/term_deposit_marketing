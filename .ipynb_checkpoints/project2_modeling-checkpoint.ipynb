{
 "cells": [
  {
   "cell_type": "markdown",
   "id": "44a4c5d3-3fad-4133-a910-3e4be57ada8f",
   "metadata": {
    "id": "5227e004-7c3d-4d64-824d-36df80facdbf"
   },
   "source": [
    "# Term Deposit Marketing - An Apziva Project"
   ]
  },
  {
   "cell_type": "markdown",
   "id": "b5dad3c3-07a2-46e5-881b-1fcee808679e",
   "metadata": {},
   "source": [
    "# Modeling"
   ]
  },
  {
   "cell_type": "markdown",
   "id": "9c3ac927-2d2d-4d40-b8b2-5cf989c8a3e3",
   "metadata": {
    "id": "13caaf73-d640-4bae-8ee1-f8b07ff73ed1"
   },
   "source": [
    "By Samuel Alter"
   ]
  },
  {
   "cell_type": "markdown",
   "id": "46be3c33-ca2c-44c8-a70b-7aab74df0f12",
   "metadata": {
    "id": "dcc1066f-6628-43fc-abdb-fee10e55e68a"
   },
   "source": [
    "Apziva: G3SuQYZYrFt9dwF3"
   ]
  },
  {
   "cell_type": "markdown",
   "id": "1bff460f-8547-4704-9a79-4e8fc5bfc4e1",
   "metadata": {
    "id": "9623536a-e44e-4fda-8dc5-0e5ed6282c62"
   },
   "source": [
    "## Project Overview"
   ]
  },
  {
   "cell_type": "markdown",
   "id": "518feaf1-38d6-4bf9-a674-ec92eae29a00",
   "metadata": {
    "id": "95b04356-770c-4b85-8823-5d6f7dec2f19"
   },
   "source": [
    "Using phone call data from a European bank, this project will be building a model that predicts if a customer will subscribe to a term deposit, a type of financial product. This project is a partnership with a startup focused on providing ML solutions for European banks."
   ]
  },
  {
   "cell_type": "markdown",
   "id": "b729c582-bc1d-4e9d-bbb2-8388a98f045d",
   "metadata": {
    "id": "0523ee87-ca0b-4efc-80b1-86d7c3f5770f",
    "tags": []
   },
   "source": [
    "### Goals"
   ]
  },
  {
   "cell_type": "markdown",
   "id": "c681a67c-c676-4843-9c0f-3cabc46182a0",
   "metadata": {
    "id": "22534a75-16be-4d77-9a59-8f92436c1700"
   },
   "source": [
    "The startup is hoping that I can **achieve ≥81% accuracy** using a 5-fold cross validation strategy, taking the average performance score.\n",
    "\n",
    "Bonus goals include:\n",
    "* Determining which customers are most likely to buy the term deposit loan\n",
    "  * Which segments of customers should the client prioritize?\n",
    "* Determine what makes the customer buy the loan\n",
    "  * Which feature should the startup focus on?"
   ]
  },
  {
   "cell_type": "markdown",
   "id": "dff5f521-2560-49a0-8979-bdc3d85884f6",
   "metadata": {
    "id": "c73e9346-3220-4860-b609-22540ad7fb6e"
   },
   "source": [
    "### The dataset"
   ]
  },
  {
   "cell_type": "markdown",
   "id": "292a274f-b765-4f59-9434-6bf316e81ad4",
   "metadata": {
    "id": "f561d828-da7d-49a6-a990-be0ab899e90f"
   },
   "source": [
    "Using phone call data from a European bank, this project will be building models that predict if a customer will subscribe to a term deposit, a type of financial product. This project is a partnership with a startup focused on providing ML solutions for European banks.\n",
    "\n",
    "The dataset consists of the following columns:\n",
    "* `age`\n",
    "  * Numeric\n",
    "  * The age of the customer\n",
    "* `job`\n",
    "  * Categorical\n",
    "  * The job category of the customer\n",
    "* `marital`\n",
    "  * Categorical\n",
    "  * Whether the customer is married\n",
    "* `education`\n",
    "  * Categorical\n",
    "  * The customer's level of education\n",
    "* `default`\n",
    "  * Binary\n",
    "  * If the customer has credit in default or not\n",
    "* `balance`\n",
    "  * Numeric\n",
    "  * Average yearly balance in Euros\n",
    "* `housing`\n",
    "  * Binary\n",
    "  * If the customer has a housing loan or not\n",
    "* `loan`\n",
    "  * Binary\n",
    "  * If the customer has a personal loan\n",
    "* `contact`\n",
    "  * Categorical\n",
    "  * The type of contact communication\n",
    "* `day`\n",
    "  * Numeric\n",
    "  * Last contact day of the month\n",
    "* `month`\n",
    "  * Categorical\n",
    "  * Last contact month of the year\n",
    "* `duration`\n",
    "  * Numeric\n",
    "  * Duration of the last phone call with the customer\n",
    "* `campaign`\n",
    "  * Numeric\n",
    "  * The number of contacts performed during this campaign and for this client, which includes the last contact"
   ]
  },
  {
   "cell_type": "markdown",
   "id": "687bc6f3-ed8e-40fe-9e2a-82bc2fb75657",
   "metadata": {
    "id": "866a70ee-45dd-402c-b132-593a220dabec",
    "tags": []
   },
   "source": [
    "The final column, `y`, is the target of the dataset and shows whether the client subscribed to a term deposit."
   ]
  },
  {
   "cell_type": "markdown",
   "id": "622a9c07-3a3d-4889-9a59-ab33493b1ca3",
   "metadata": {
    "id": "cec43663-7e38-44ee-80d5-df9885aa7c12"
   },
   "source": [
    "## Imports and Helper Functions"
   ]
  },
  {
   "cell_type": "code",
   "execution_count": 252,
   "id": "27653100-1ef5-4643-9395-567cf5362aa3",
   "metadata": {},
   "outputs": [],
   "source": [
    "import numpy as np\n",
    "import pandas as pd\n",
    "from pandas.api.types import is_string_dtype\n",
    "import matplotlib.pyplot as plt\n",
    "import seaborn as sns\n",
    "import copy\n",
    "import joblib\n",
    "import time\n",
    "import threading\n",
    "from datetime import datetime\n",
    "# from contextlib import contextmanager\n",
    "from timeit import default_timer\n",
    "\n",
    "from scipy.stats import chi2_contingency\n",
    "\n",
    "from sklearn.model_selection import train_test_split\n",
    "# from pycaret.classification import setup,compare_models,create_model,plot_model,evaluate_model\n",
    "# from pycaret.regression import *\n",
    "\n",
    "# from autosklearn.classification import AutoSklearnClassifier\n",
    "import optuna\n",
    "\n",
    "from sklearn.preprocessing import StandardScaler, OneHotEncoder\n",
    "from sklearn.compose import ColumnTransformer\n",
    "from sklearn.pipeline import Pipeline\n",
    "from sklearn.ensemble import GradientBoostingClassifier\n",
    "from sklearn.metrics import accuracy_score, confusion_matrix, classification_report\n",
    "\n",
    "from sklearn.neural_network import MLPClassifier\n",
    "from sklearn.ensemble import RandomForestClassifier\n",
    "from sklearn.svm import SVC\n",
    "# import sklearn.lda.LDA as LDA # <-- this is throwing the ModuleNotFoundError\n",
    "\n",
    "from imblearn.under_sampling import RandomUnderSampler\n",
    "from imblearn.over_sampling import RandomOverSampler\n",
    "from collections import Counter\n",
    "\n",
    "from sklearn.metrics import  accuracy_score,recall_score\n",
    "from sklearn.metrics import classification_report\n",
    "from sklearn.model_selection import StratifiedKFold\n",
    "from sklearn.model_selection import cross_validate\n",
    "\n",
    "from sklearn.linear_model import LogisticRegression\n",
    "from sklearn.tree import DecisionTreeClassifier\n",
    "from sklearn.tree import ExtraTreeClassifier\n",
    "from sklearn.ensemble import RandomForestClassifier\n",
    "from lightgbm import LGBMClassifier\n",
    "from xgboost import XGBClassifier\n",
    "\n",
    "from collections import defaultdict\n",
    "\n",
    "import shap"
   ]
  },
  {
   "cell_type": "code",
   "execution_count": 4,
   "id": "1070e219-2c5c-4367-a642-58cdf216543e",
   "metadata": {},
   "outputs": [],
   "source": [
    "# simple function to generate random integers\n",
    "\n",
    "def rand_gen(low=1,high=1e4):\n",
    "    '''\n",
    "    Generates a pseudo-random integer\n",
    "    consisting of up to four digits\n",
    "    '''\n",
    "    import numpy as np\n",
    "    rng=np.random.default_rng()\n",
    "    random_state=int(rng.integers(low=low,high=high))\n",
    "    \n",
    "    return random_state"
   ]
  },
  {
   "cell_type": "code",
   "execution_count": 5,
   "id": "2ba1951c-972a-470a-97b7-1bcefbc21e71",
   "metadata": {
    "id": "654d2c07"
   },
   "outputs": [],
   "source": [
    "def make_confusion_matrix(cf,\n",
    "                          group_names=None,\n",
    "                          categories='auto',\n",
    "                          count=True,\n",
    "                          percent=True,\n",
    "                          cbar=True,\n",
    "                          xyticks=True,\n",
    "                          xyplotlabels=True,\n",
    "                          sum_stats=True,\n",
    "                          figsize=None,\n",
    "                          cmap='Blues',\n",
    "                          title=None):\n",
    "    '''\n",
    "    SOURCE: https://github.com/DTrimarchi10/confusion_matrix/blob/master/cf_matrix.py\n",
    "\n",
    "    This function will make a pretty plot of an sklearn Confusion Matrix cm using a Seaborn heatmap visualization.\n",
    "\n",
    "    Arguments\n",
    "    ---------\n",
    "    cf:            confusion matrix to be passed in\n",
    "\n",
    "    group_names:   List of strings that represent the labels row by row to be shown in each square.\n",
    "\n",
    "    categories:    List of strings containing the categories to be displayed on the x,y axis. Default is 'auto'\n",
    "\n",
    "    count:         If True, show the raw number in the confusion matrix. Default is True.\n",
    "\n",
    "    normalize:     If True, show the proportions for each category. Default is True.\n",
    "\n",
    "    cbar:          If True, show the color bar. The cbar values are based off the values in the confusion matrix.\n",
    "                   Default is True.\n",
    "\n",
    "    xyticks:       If True, show x and y ticks. Default is True.\n",
    "\n",
    "    xyplotlabels:  If True, show 'True Label' and 'Predicted Label' on the figure. Default is True.\n",
    "\n",
    "    sum_stats:     If True, display summary statistics below the figure. Default is True.\n",
    "\n",
    "    figsize:       Tuple representing the figure size. Default will be the matplotlib rcParams value.\n",
    "\n",
    "    cmap:          Colormap of the values displayed from matplotlib.pyplot.cm. Default is 'Blues'\n",
    "                   See http://matplotlib.org/examples/color/colormaps_reference.html\n",
    "\n",
    "    title:         Title for the heatmap. Default is None.\n",
    "\n",
    "    '''\n",
    "\n",
    "\n",
    "    # CODE TO GENERATE TEXT INSIDE EACH SQUARE\n",
    "    blanks = ['' for i in range(cf.size)]\n",
    "\n",
    "    if group_names and len(group_names)==cf.size:\n",
    "        group_labels = [\"{}\\n\".format(value) for value in group_names]\n",
    "    else:\n",
    "        group_labels = blanks\n",
    "\n",
    "    if count:\n",
    "        group_counts = [\"{0:0.0f}\\n\".format(value) for value in cf.flatten()]\n",
    "    else:\n",
    "        group_counts = blanks\n",
    "\n",
    "    if percent:\n",
    "        group_percentages = [\"{0:.2%}\".format(value) for value in cf.flatten()/np.sum(cf)]\n",
    "    else:\n",
    "        group_percentages = blanks\n",
    "\n",
    "    box_labels = [f\"{v1}{v2}{v3}\".strip() for v1, v2, v3 in zip(group_labels,group_counts,group_percentages)]\n",
    "    box_labels = np.asarray(box_labels).reshape(cf.shape[0],cf.shape[1])\n",
    "\n",
    "\n",
    "    # CODE TO GENERATE SUMMARY STATISTICS & TEXT FOR SUMMARY STATS\n",
    "    if sum_stats:\n",
    "        #Accuracy is sum of diagonal divided by total observations\n",
    "        accuracy  = np.trace(cf) / float(np.sum(cf))\n",
    "\n",
    "        #if it is a binary confusion matrix, show some more stats\n",
    "        if len(cf)==2:\n",
    "            #Metrics for Binary Confusion Matrices\n",
    "            precision = cf[1,1] / sum(cf[:,1])\n",
    "            recall    = cf[1,1] / sum(cf[1,:])\n",
    "            f1_score  = 2*precision*recall / (precision + recall)\n",
    "            stats_text = \"\\n\\nAccuracy={:0.3f}\\nPrecision={:0.3f}\\nRecall={:0.3f}\\nF1 Score={:0.3f}\".format(\n",
    "                accuracy,precision,recall,f1_score)\n",
    "        else:\n",
    "            stats_text = \"\\n\\nAccuracy={:0.3f}\".format(accuracy)\n",
    "    else:\n",
    "        stats_text = \"\"\n",
    "\n",
    "\n",
    "    # SET FIGURE PARAMETERS ACCORDING TO OTHER ARGUMENTS\n",
    "    if figsize==None:\n",
    "        #Get default figure size if not set\n",
    "        figsize = plt.rcParams.get('figure.figsize')\n",
    "\n",
    "    if xyticks==False:\n",
    "        #Do not show categories if xyticks is False\n",
    "        categories=False\n",
    "\n",
    "\n",
    "    # MAKE THE HEATMAP VISUALIZATION\n",
    "    plt.figure(figsize=figsize)\n",
    "    sns.heatmap(cf,annot=box_labels,fmt=\"\",cmap=cmap,cbar=cbar,xticklabels=categories,yticklabels=categories)\n",
    "\n",
    "    if xyplotlabels:\n",
    "        plt.ylabel('True label')\n",
    "        plt.xlabel('Predicted label' + stats_text)\n",
    "    else:\n",
    "        plt.xlabel(stats_text)\n",
    "\n",
    "    if title:\n",
    "        plt.title(title)"
   ]
  },
  {
   "cell_type": "code",
   "execution_count": 6,
   "id": "85a2775e-5158-46c4-a10d-86d45c551c4f",
   "metadata": {},
   "outputs": [
    {
     "data": {
      "text/plain": [
       "4436"
      ]
     },
     "execution_count": 6,
     "metadata": {},
     "output_type": "execute_result"
    }
   ],
   "source": [
    "seed=rand_gen()\n",
    "seed"
   ]
  },
  {
   "cell_type": "code",
   "execution_count": 7,
   "id": "18bc10ca-5b03-46ec-8abb-4871833f5dc9",
   "metadata": {},
   "outputs": [
    {
     "data": {
      "text/plain": [
       "0.2"
      ]
     },
     "execution_count": 7,
     "metadata": {},
     "output_type": "execute_result"
    }
   ],
   "source": [
    "test_size=0.2\n",
    "test_size"
   ]
  },
  {
   "cell_type": "code",
   "execution_count": 8,
   "id": "33e2b135-2aac-4369-a554-b6e6cd13d52f",
   "metadata": {},
   "outputs": [
    {
     "data": {
      "text/plain": [
       "Generator(PCG64) at 0x1620093C0"
      ]
     },
     "execution_count": 8,
     "metadata": {},
     "output_type": "execute_result"
    }
   ],
   "source": [
    "# set the randomness seed throughout the notebook\n",
    "# source: # https://odsc.medium.com/properly-setting-the-random-seed-in-ml-experiments-not-as-simple-as-you-might-imagine-219969c84752\n",
    "\n",
    "## set `PYTHONHASHSEED` environment variable at a fixed value\n",
    "import os\n",
    "os.environ['PYTHONHASHSEED']=str(seed)\n",
    "## set `python` built-in pseudo-random generator at a fixed value\n",
    "import random\n",
    "random.seed(seed)\n",
    "## set `numpy` pseudo-random generator at a fixed value\n",
    "np.random.seed(seed)\n",
    "np.random.default_rng(seed)"
   ]
  },
  {
   "cell_type": "code",
   "execution_count": 9,
   "id": "34fc7198-7e81-494d-863d-f4cb333c70d6",
   "metadata": {},
   "outputs": [],
   "source": [
    "import json\n",
    "from pathlib import Path\n",
    "import inspect\n",
    "\n",
    "def get_variable_name(var):\n",
    "    callers_local_vars = inspect.currentframe().f_back.f_locals.items()\n",
    "    return [name for name, val in callers_local_vars if val is var]\n",
    "\n",
    "def fileDaterSaver(location: str,\n",
    "                   filetype: str,\n",
    "                   object_,\n",
    "                   extra: str = '',\n",
    "                   verbose: bool = True):\n",
    "\n",
    "    '''\n",
    "    Function that gets a timestamped filename and saves it\n",
    "    to a user-specified location.\n",
    "\n",
    "    Parameters:\n",
    "    -----------\n",
    "    location: str - The location where the file will be saved.\n",
    "    filetype: str - The type of the file to save ('csv' or 'json').\n",
    "    object_: The object to be saved. Should be a pandas DataFrame\n",
    "        for 'csv' or serializable for 'json'.\n",
    "    extra: str - Additional string to include in the filename.\n",
    "    verbose: bool - Whether to print verbose messages.\n",
    "    '''\n",
    "\n",
    "    # get current date and time\n",
    "    current_datetime = datetime.now()\n",
    "\n",
    "    # print current date and time to check\n",
    "    if verbose:\n",
    "        print('current_datetime:', current_datetime)\n",
    "\n",
    "    # format the datetime for a filename\n",
    "    datetime_suffix = current_datetime.strftime(\"%Y-%m-%d_%H-%M-%S\")\n",
    "\n",
    "    # create filename with the datetime suffix\n",
    "    if extra != '':\n",
    "        file_name = f'{location}{extra}_{datetime_suffix}.{filetype}'\n",
    "    else:\n",
    "        file_name = f'{location}{datetime_suffix}.{filetype}'\n",
    "\n",
    "    # print file name\n",
    "    if verbose:\n",
    "        print(file_name)\n",
    "\n",
    "    # save object\n",
    "    if filetype == 'csv':\n",
    "        object_.to_csv(file_name, index=True)\n",
    "    elif filetype == 'json':\n",
    "        with open(file_name, 'w') as file:\n",
    "            file.write(json.dumps(object_, default=str))\n",
    "    else:\n",
    "        raise ValueError(\"Unsupported file type. Use 'csv' or 'json'.\")\n",
    "\n",
    "    # confirm save\n",
    "    file_path = Path(file_name)\n",
    "    if file_path.exists():\n",
    "        variable_name = get_variable_name(object_)\n",
    "        if variable_name:\n",
    "            print(f'Successfully saved {variable_name[0]} to {file_path}')\n",
    "        else:\n",
    "            print(f'Successfully saved object to {file_path}')\n",
    "    else:\n",
    "        print(\"File save error.\")"
   ]
  },
  {
   "cell_type": "code",
   "execution_count": 10,
   "id": "4fc18950-baa2-4e2e-8521-85dd1d89042f",
   "metadata": {},
   "outputs": [
    {
     "data": {
      "text/html": [
       "<div>\n",
       "<style scoped>\n",
       "    .dataframe tbody tr th:only-of-type {\n",
       "        vertical-align: middle;\n",
       "    }\n",
       "\n",
       "    .dataframe tbody tr th {\n",
       "        vertical-align: top;\n",
       "    }\n",
       "\n",
       "    .dataframe thead th {\n",
       "        text-align: right;\n",
       "    }\n",
       "</style>\n",
       "<table border=\"1\" class=\"dataframe\">\n",
       "  <thead>\n",
       "    <tr style=\"text-align: right;\">\n",
       "      <th></th>\n",
       "      <th>age</th>\n",
       "      <th>job</th>\n",
       "      <th>marital</th>\n",
       "      <th>education</th>\n",
       "      <th>default</th>\n",
       "      <th>balance</th>\n",
       "      <th>housing</th>\n",
       "      <th>loan</th>\n",
       "      <th>contact</th>\n",
       "      <th>day</th>\n",
       "      <th>month</th>\n",
       "      <th>duration</th>\n",
       "      <th>campaign</th>\n",
       "      <th>y</th>\n",
       "    </tr>\n",
       "  </thead>\n",
       "  <tbody>\n",
       "    <tr>\n",
       "      <th>0</th>\n",
       "      <td>58</td>\n",
       "      <td>management</td>\n",
       "      <td>married</td>\n",
       "      <td>tertiary</td>\n",
       "      <td>no</td>\n",
       "      <td>2143</td>\n",
       "      <td>yes</td>\n",
       "      <td>no</td>\n",
       "      <td>unknown</td>\n",
       "      <td>5</td>\n",
       "      <td>may</td>\n",
       "      <td>261</td>\n",
       "      <td>1</td>\n",
       "      <td>no</td>\n",
       "    </tr>\n",
       "    <tr>\n",
       "      <th>1</th>\n",
       "      <td>44</td>\n",
       "      <td>technician</td>\n",
       "      <td>single</td>\n",
       "      <td>secondary</td>\n",
       "      <td>no</td>\n",
       "      <td>29</td>\n",
       "      <td>yes</td>\n",
       "      <td>no</td>\n",
       "      <td>unknown</td>\n",
       "      <td>5</td>\n",
       "      <td>may</td>\n",
       "      <td>151</td>\n",
       "      <td>1</td>\n",
       "      <td>no</td>\n",
       "    </tr>\n",
       "    <tr>\n",
       "      <th>2</th>\n",
       "      <td>33</td>\n",
       "      <td>entrepreneur</td>\n",
       "      <td>married</td>\n",
       "      <td>secondary</td>\n",
       "      <td>no</td>\n",
       "      <td>2</td>\n",
       "      <td>yes</td>\n",
       "      <td>yes</td>\n",
       "      <td>unknown</td>\n",
       "      <td>5</td>\n",
       "      <td>may</td>\n",
       "      <td>76</td>\n",
       "      <td>1</td>\n",
       "      <td>no</td>\n",
       "    </tr>\n",
       "  </tbody>\n",
       "</table>\n",
       "</div>"
      ],
      "text/plain": [
       "   age           job  marital  education default  balance housing loan  \\\n",
       "0   58    management  married   tertiary      no     2143     yes   no   \n",
       "1   44    technician   single  secondary      no       29     yes   no   \n",
       "2   33  entrepreneur  married  secondary      no        2     yes  yes   \n",
       "\n",
       "   contact  day month  duration  campaign   y  \n",
       "0  unknown    5   may       261         1  no  \n",
       "1  unknown    5   may       151         1  no  \n",
       "2  unknown    5   may        76         1  no  "
      ]
     },
     "execution_count": 10,
     "metadata": {},
     "output_type": "execute_result"
    }
   ],
   "source": [
    "# read in data\n",
    "df=pd.read_csv('../data/2_data.csv')\n",
    "df.head(3)"
   ]
  },
  {
   "cell_type": "markdown",
   "id": "b5f42d59-ef72-4672-9e49-d9d6c53a4be6",
   "metadata": {
    "id": "c62bb50a-ec4b-4158-afe0-8ceacd187620"
   },
   "source": [
    "## Goals recap"
   ]
  },
  {
   "cell_type": "markdown",
   "id": "8f42dabb-baed-4580-a8d6-ad0bbdffff4a",
   "metadata": {
    "id": "eed783d3-f06d-4ffb-b0cc-28048bb44f6a"
   },
   "source": [
    "To achieve this project's goals, we have to run models. As a reminder, this project is aiming to predict customer behavior. Specifically, we are training models to determine if a customer will buy a term deposit loan.\n",
    "\n",
    "We are aiming to achieve ≥81% accuracy with the modeling\n",
    "  * Use a 5-fold cross validation strategy and take the average performance score.\n",
    "\n",
    "Bonus goals include:\n",
    "* Determine which customers are most likely to buy the term deposit loan\n",
    "  * Which segments of customers should the client prioritize?\n",
    "* Determine what makes the customer buy the loan\n",
    "  * Which feature should the startup focus on?"
   ]
  },
  {
   "cell_type": "markdown",
   "id": "33827b77-a57d-49f0-b63a-10169aae9536",
   "metadata": {
    "id": "43ed68d1"
   },
   "source": [
    "## Will a Customer Receive a Loan?\n",
    "`AutoSklearn` to  `Optuna` to `scikit-learn`: the Modeling Workflow"
   ]
  },
  {
   "cell_type": "markdown",
   "id": "afb5c37b-7573-48ea-a299-d0c06062eb68",
   "metadata": {
    "id": "c01854e1"
   },
   "source": [
    "I will first use [`AutoSklearn`](#https://automl.github.io/auto-sklearn/master/#) to help me explore the ML algorithm landscape to identify the best-performing models for this particular dataset."
   ]
  },
  {
   "cell_type": "markdown",
   "id": "c4bc7bad-ddab-4775-9e2b-903e305d2664",
   "metadata": {
    "id": "ff7e48b4"
   },
   "source": [
    "In order to find the best hyperparameters for our modeling, I will use [`Optuna`](#https://optuna.readthedocs.io/en/stable/index.html). This is similar to other frameworks like [`Hyperopt`](#http://hyperopt.github.io/hyperopt/), which are designed to quickly and efficiently find the best hyperparameters for your dataset."
   ]
  },
  {
   "cell_type": "markdown",
   "id": "529a487e-8324-48de-b3c5-a75507ab3c1d",
   "metadata": {
    "id": "4f61e684"
   },
   "source": [
    "Finally, we will use `sklearn` to build the final, optimized model."
   ]
  },
  {
   "cell_type": "markdown",
   "id": "416b4433-e948-4390-9570-91a4b0ada246",
   "metadata": {
    "id": "a69d26f6"
   },
   "source": [
    "### Notes on project setup:"
   ]
  },
  {
   "cell_type": "markdown",
   "id": "f47c71c9-8e25-45fc-8c61-f0f01a4e7d76",
   "metadata": {
    "id": "62a346fa"
   },
   "source": [
    "We want to help the bank understand which customers are most likely to purchase the financial product. Knowing this would save the bank time and money. The dataset that we were given consists of demographic (and banking) data (like `age`,`job`,`marital`,and `balance`) as well as campaign-specific information (like `contact`,`day`,and `duration`)."
   ]
  },
  {
   "cell_type": "markdown",
   "id": "6051ba5d-874f-4e07-89ae-45ef4faedeea",
   "metadata": {
    "id": "56e774b6"
   },
   "source": [
    "*Demographic and Banking Data*\n",
    "* `age`\n",
    "* `job`\n",
    "* `marital`\n",
    "* `education`\n",
    "* `default`\n",
    "* `balance`\n",
    "* `housing`\n",
    "* `loan`\n",
    "\n",
    "*Campaign-Specific Data*\n",
    "* `contact`\n",
    "* `day`\n",
    "* `month`\n",
    "* `duration`\n",
    "* `campaign`\n",
    "\n",
    "*Target Feature*\n",
    "* `y`"
   ]
  },
  {
   "cell_type": "markdown",
   "id": "862977b3-7bda-4c52-8ad0-ae60675f9dac",
   "metadata": {
    "id": "bdd19b9f"
   },
   "source": [
    "We want to build a three-layered ML system that helps answer the project goals:\n",
    "1. Understand which kinds of customers that they should call\n",
    " 1. I will **not** give the model access to the campaign call data\n",
    "1. After the initial calls, understand which customers the company should keep calling\n",
    " 1. Give the model access to the campaign call data\n",
    "1. Build a model using unsupervised learning to learn about clusters of customers in the dataset"
   ]
  },
  {
   "cell_type": "markdown",
   "id": "78829700-ff51-4a4d-a254-b22beb79ca93",
   "metadata": {
    "id": "c88d3f21"
   },
   "source": [
    "**Layer 1**:  \n",
    "\n",
    "Use `X_1` to model which customers to make calls to. We are training a model that does not know any call data, so this is *before* making calls.\n",
    "\n",
    "**Layer 2**:  \n",
    "\n",
    "Use the full `X` dataset (for clarity in its use in the layer flow, we'll be using `X_2` to model which customers the company should keep calling.\n",
    "\n",
    "**Layer 3**:  \n",
    "\n",
    "Use unsupervised learning to uncover how the customers are grouped."
   ]
  },
  {
   "cell_type": "markdown",
   "id": "5ae0e384-56fd-4b7f-b448-b86b63932b7a",
   "metadata": {},
   "source": [
    "### Setup X"
   ]
  },
  {
   "cell_type": "code",
   "execution_count": 211,
   "id": "afa9dfc1-c8ac-45f2-b15d-8b7ca4e687e4",
   "metadata": {
    "id": "7472f554"
   },
   "outputs": [],
   "source": [
    "dbd=[ # demographic and banking data\n",
    "    'age',\n",
    "    'job',\n",
    "    'marital',\n",
    "    'education',\n",
    "    'default',\n",
    "    'balance',\n",
    "    'housing',\n",
    "    'loan'\n",
    "]\n",
    "\n",
    "csd=[ # campaign-specific data\n",
    "    'contact',\n",
    "    'day',\n",
    "    'month',\n",
    "    'duration',\n",
    "    'campaign'\n",
    "]"
   ]
  },
  {
   "cell_type": "markdown",
   "id": "d5bb2d66-e76e-4db3-8cd2-26408cf75506",
   "metadata": {
    "id": "21d906cc"
   },
   "source": [
    "`_1` refers to the first layer of the model, consisting of demographic and banking data, not including data related to the campaign. This simulates new customers that haven't received a call yet. This helps answer the main question of the project, namely to train a model that predicts which customer will receive a loan."
   ]
  },
  {
   "cell_type": "code",
   "execution_count": 212,
   "id": "4e7dcf7b-a9fe-4a1d-b026-e1a03a2d92e2",
   "metadata": {
    "id": "b05cecd3"
   },
   "outputs": [],
   "source": [
    "X_1=df[[col for col in df.columns if col != 'y' and col not in csd]]\n",
    "y=df['y']\n",
    "y=y.map({'yes':1,'no':0})"
   ]
  },
  {
   "cell_type": "markdown",
   "id": "ebbfb90d-3eed-4061-9fc3-5ccf39e443e0",
   "metadata": {
    "id": "32221b70"
   },
   "source": [
    "`_2` refers to the second layer of the model, consisting of all columns. This helps answer the first bonus question of the project, which is to determine which customers the bank should prioritize calling to: those most likely to receive a loan."
   ]
  },
  {
   "cell_type": "code",
   "execution_count": 13,
   "id": "9c27adba-cd23-45fd-9b45-e43a74ba5855",
   "metadata": {
    "id": "e1adee44"
   },
   "outputs": [],
   "source": [
    "X_2=df[[col for col in df.columns if col != 'y']]"
   ]
  },
  {
   "cell_type": "markdown",
   "id": "aabd853f-a775-447c-9ed3-ae1def2b8a32",
   "metadata": {
    "id": "56a6e907"
   },
   "source": [
    "`_3` refers to the third layer of the model, consisting of all columns. This helps answer the another bonus question: can we train an unsuperived learning model that groups the customers into categories?"
   ]
  },
  {
   "cell_type": "code",
   "execution_count": 14,
   "id": "37440d88-4c73-4250-a057-8fa704f8276d",
   "metadata": {
    "id": "e2ef98c3"
   },
   "outputs": [],
   "source": [
    "X_3=df[[col for col in df.columns if col != 'y']]"
   ]
  },
  {
   "cell_type": "code",
   "execution_count": 15,
   "id": "f7940ad0-7a59-4414-9b6e-6f0d9dd78461",
   "metadata": {
    "id": "4573c507",
    "outputId": "1055391c-9bac-4433-931a-474fb6f484f9"
   },
   "outputs": [
    {
     "data": {
      "text/html": [
       "<div>\n",
       "<style scoped>\n",
       "    .dataframe tbody tr th:only-of-type {\n",
       "        vertical-align: middle;\n",
       "    }\n",
       "\n",
       "    .dataframe tbody tr th {\n",
       "        vertical-align: top;\n",
       "    }\n",
       "\n",
       "    .dataframe thead th {\n",
       "        text-align: right;\n",
       "    }\n",
       "</style>\n",
       "<table border=\"1\" class=\"dataframe\">\n",
       "  <thead>\n",
       "    <tr style=\"text-align: right;\">\n",
       "      <th></th>\n",
       "      <th>age</th>\n",
       "      <th>job</th>\n",
       "      <th>marital</th>\n",
       "      <th>education</th>\n",
       "      <th>default</th>\n",
       "      <th>balance</th>\n",
       "      <th>housing</th>\n",
       "      <th>loan</th>\n",
       "      <th>contact</th>\n",
       "      <th>day</th>\n",
       "      <th>month</th>\n",
       "      <th>duration</th>\n",
       "      <th>campaign</th>\n",
       "      <th>y</th>\n",
       "    </tr>\n",
       "  </thead>\n",
       "  <tbody>\n",
       "    <tr>\n",
       "      <th>0</th>\n",
       "      <td>58</td>\n",
       "      <td>management</td>\n",
       "      <td>married</td>\n",
       "      <td>tertiary</td>\n",
       "      <td>no</td>\n",
       "      <td>2143</td>\n",
       "      <td>yes</td>\n",
       "      <td>no</td>\n",
       "      <td>unknown</td>\n",
       "      <td>5</td>\n",
       "      <td>may</td>\n",
       "      <td>261</td>\n",
       "      <td>1</td>\n",
       "      <td>no</td>\n",
       "    </tr>\n",
       "    <tr>\n",
       "      <th>1</th>\n",
       "      <td>44</td>\n",
       "      <td>technician</td>\n",
       "      <td>single</td>\n",
       "      <td>secondary</td>\n",
       "      <td>no</td>\n",
       "      <td>29</td>\n",
       "      <td>yes</td>\n",
       "      <td>no</td>\n",
       "      <td>unknown</td>\n",
       "      <td>5</td>\n",
       "      <td>may</td>\n",
       "      <td>151</td>\n",
       "      <td>1</td>\n",
       "      <td>no</td>\n",
       "    </tr>\n",
       "    <tr>\n",
       "      <th>2</th>\n",
       "      <td>33</td>\n",
       "      <td>entrepreneur</td>\n",
       "      <td>married</td>\n",
       "      <td>secondary</td>\n",
       "      <td>no</td>\n",
       "      <td>2</td>\n",
       "      <td>yes</td>\n",
       "      <td>yes</td>\n",
       "      <td>unknown</td>\n",
       "      <td>5</td>\n",
       "      <td>may</td>\n",
       "      <td>76</td>\n",
       "      <td>1</td>\n",
       "      <td>no</td>\n",
       "    </tr>\n",
       "    <tr>\n",
       "      <th>3</th>\n",
       "      <td>47</td>\n",
       "      <td>blue-collar</td>\n",
       "      <td>married</td>\n",
       "      <td>unknown</td>\n",
       "      <td>no</td>\n",
       "      <td>1506</td>\n",
       "      <td>yes</td>\n",
       "      <td>no</td>\n",
       "      <td>unknown</td>\n",
       "      <td>5</td>\n",
       "      <td>may</td>\n",
       "      <td>92</td>\n",
       "      <td>1</td>\n",
       "      <td>no</td>\n",
       "    </tr>\n",
       "    <tr>\n",
       "      <th>4</th>\n",
       "      <td>33</td>\n",
       "      <td>unknown</td>\n",
       "      <td>single</td>\n",
       "      <td>unknown</td>\n",
       "      <td>no</td>\n",
       "      <td>1</td>\n",
       "      <td>no</td>\n",
       "      <td>no</td>\n",
       "      <td>unknown</td>\n",
       "      <td>5</td>\n",
       "      <td>may</td>\n",
       "      <td>198</td>\n",
       "      <td>1</td>\n",
       "      <td>no</td>\n",
       "    </tr>\n",
       "    <tr>\n",
       "      <th>...</th>\n",
       "      <td>...</td>\n",
       "      <td>...</td>\n",
       "      <td>...</td>\n",
       "      <td>...</td>\n",
       "      <td>...</td>\n",
       "      <td>...</td>\n",
       "      <td>...</td>\n",
       "      <td>...</td>\n",
       "      <td>...</td>\n",
       "      <td>...</td>\n",
       "      <td>...</td>\n",
       "      <td>...</td>\n",
       "      <td>...</td>\n",
       "      <td>...</td>\n",
       "    </tr>\n",
       "    <tr>\n",
       "      <th>39995</th>\n",
       "      <td>53</td>\n",
       "      <td>technician</td>\n",
       "      <td>married</td>\n",
       "      <td>tertiary</td>\n",
       "      <td>no</td>\n",
       "      <td>395</td>\n",
       "      <td>no</td>\n",
       "      <td>no</td>\n",
       "      <td>cellular</td>\n",
       "      <td>3</td>\n",
       "      <td>jun</td>\n",
       "      <td>107</td>\n",
       "      <td>1</td>\n",
       "      <td>no</td>\n",
       "    </tr>\n",
       "    <tr>\n",
       "      <th>39996</th>\n",
       "      <td>30</td>\n",
       "      <td>management</td>\n",
       "      <td>single</td>\n",
       "      <td>tertiary</td>\n",
       "      <td>no</td>\n",
       "      <td>3340</td>\n",
       "      <td>no</td>\n",
       "      <td>no</td>\n",
       "      <td>cellular</td>\n",
       "      <td>3</td>\n",
       "      <td>jun</td>\n",
       "      <td>238</td>\n",
       "      <td>3</td>\n",
       "      <td>yes</td>\n",
       "    </tr>\n",
       "    <tr>\n",
       "      <th>39997</th>\n",
       "      <td>54</td>\n",
       "      <td>admin</td>\n",
       "      <td>divorced</td>\n",
       "      <td>secondary</td>\n",
       "      <td>no</td>\n",
       "      <td>200</td>\n",
       "      <td>no</td>\n",
       "      <td>no</td>\n",
       "      <td>cellular</td>\n",
       "      <td>3</td>\n",
       "      <td>jun</td>\n",
       "      <td>170</td>\n",
       "      <td>1</td>\n",
       "      <td>yes</td>\n",
       "    </tr>\n",
       "    <tr>\n",
       "      <th>39998</th>\n",
       "      <td>34</td>\n",
       "      <td>management</td>\n",
       "      <td>married</td>\n",
       "      <td>tertiary</td>\n",
       "      <td>no</td>\n",
       "      <td>1047</td>\n",
       "      <td>no</td>\n",
       "      <td>no</td>\n",
       "      <td>cellular</td>\n",
       "      <td>3</td>\n",
       "      <td>jun</td>\n",
       "      <td>342</td>\n",
       "      <td>1</td>\n",
       "      <td>no</td>\n",
       "    </tr>\n",
       "    <tr>\n",
       "      <th>39999</th>\n",
       "      <td>38</td>\n",
       "      <td>technician</td>\n",
       "      <td>married</td>\n",
       "      <td>secondary</td>\n",
       "      <td>no</td>\n",
       "      <td>1442</td>\n",
       "      <td>yes</td>\n",
       "      <td>no</td>\n",
       "      <td>cellular</td>\n",
       "      <td>3</td>\n",
       "      <td>jun</td>\n",
       "      <td>113</td>\n",
       "      <td>1</td>\n",
       "      <td>no</td>\n",
       "    </tr>\n",
       "  </tbody>\n",
       "</table>\n",
       "<p>40000 rows × 14 columns</p>\n",
       "</div>"
      ],
      "text/plain": [
       "       age           job   marital  education default  balance housing loan  \\\n",
       "0       58    management   married   tertiary      no     2143     yes   no   \n",
       "1       44    technician    single  secondary      no       29     yes   no   \n",
       "2       33  entrepreneur   married  secondary      no        2     yes  yes   \n",
       "3       47   blue-collar   married    unknown      no     1506     yes   no   \n",
       "4       33       unknown    single    unknown      no        1      no   no   \n",
       "...    ...           ...       ...        ...     ...      ...     ...  ...   \n",
       "39995   53    technician   married   tertiary      no      395      no   no   \n",
       "39996   30    management    single   tertiary      no     3340      no   no   \n",
       "39997   54         admin  divorced  secondary      no      200      no   no   \n",
       "39998   34    management   married   tertiary      no     1047      no   no   \n",
       "39999   38    technician   married  secondary      no     1442     yes   no   \n",
       "\n",
       "        contact  day month  duration  campaign    y  \n",
       "0       unknown    5   may       261         1   no  \n",
       "1       unknown    5   may       151         1   no  \n",
       "2       unknown    5   may        76         1   no  \n",
       "3       unknown    5   may        92         1   no  \n",
       "4       unknown    5   may       198         1   no  \n",
       "...         ...  ...   ...       ...       ...  ...  \n",
       "39995  cellular    3   jun       107         1   no  \n",
       "39996  cellular    3   jun       238         3  yes  \n",
       "39997  cellular    3   jun       170         1  yes  \n",
       "39998  cellular    3   jun       342         1   no  \n",
       "39999  cellular    3   jun       113         1   no  \n",
       "\n",
       "[40000 rows x 14 columns]"
      ]
     },
     "execution_count": 15,
     "metadata": {},
     "output_type": "execute_result"
    }
   ],
   "source": [
    "df"
   ]
  },
  {
   "cell_type": "markdown",
   "id": "c041ee72-b6bf-4e8f-b9fe-1b9fc2fe331a",
   "metadata": {
    "id": "f50fd2fa"
   },
   "source": [
    "Make function to automate the training of the AutoSklearn pipeline:"
   ]
  },
  {
   "cell_type": "code",
   "execution_count": 16,
   "id": "31248ad9-3680-4983-bf59-659db8879262",
   "metadata": {
    "id": "25fc00b6",
    "scrolled": true
   },
   "outputs": [],
   "source": [
    "def detectCatCont(X,verbose=False):\n",
    "    '''\n",
    "    Helper function for detecting categorical and continuous\n",
    "    features in a dataset. It returns the categorical and\n",
    "    continuous features as a tuple.\n",
    "    '''\n",
    "\n",
    "    # detect categorical and continuous features\n",
    "    categorical_features = X.select_dtypes(\n",
    "        include=['object', 'category']).columns.tolist()\n",
    "    continuous_features = X.select_dtypes(\n",
    "        include=['int64', 'float64']).columns.tolist()\n",
    "\n",
    "    if verbose:\n",
    "        print('Categorical and continuous features detected')\n",
    "\n",
    "    return categorical_features,continuous_features"
   ]
  },
  {
   "cell_type": "code",
   "execution_count": 17,
   "id": "05c602e6-3150-4f15-9ebe-0e1a29071a5e",
   "metadata": {
    "id": "1533ae67"
   },
   "outputs": [],
   "source": [
    "def defPreprocessor(categorical_features,continuous_features,verbose=False,custom_preprocessor=None):\n",
    "    '''\n",
    "    Helper function for returning a custom preprocessor for\n",
    "    processing a dataframe, or one that is defined\n",
    "    within the function. It returns the custom or\n",
    "    function-created preprocessor.\n",
    "    '''\n",
    "\n",
    "    if custom_preprocessor is not None:\n",
    "        if verbose:\n",
    "            print('Using custom preprocessor')\n",
    "        return custom_preprocessor\n",
    "\n",
    "    # Define the preprocessor\n",
    "    preprocessor = ColumnTransformer(\n",
    "        transformers=[\n",
    "            ('cat', OneHotEncoder(), categorical_features),\n",
    "            ('num', StandardScaler(), continuous_features)\n",
    "        ]\n",
    "    )\n",
    "\n",
    "    if verbose:\n",
    "        print('Preprocessor created')\n",
    "        print('categorical_features:', categorical_features)\n",
    "        print('continuous_features:', continuous_features)\n",
    "\n",
    "    return preprocessor"
   ]
  },
  {
   "cell_type": "code",
   "execution_count": 18,
   "id": "1785eeb7-052a-4a1e-bfb5-a90304f56f4b",
   "metadata": {
    "id": "8f40e347"
   },
   "outputs": [],
   "source": [
    "def trainTestSplits(X,y,test_size,seed,verbose=False):\n",
    "    '''\n",
    "    Helper function that automates the train_test_split function within scikit-learn\n",
    "    and returns them as a dictionary.\n",
    "    '''\n",
    "\n",
    "    # create train/test splits\n",
    "    X_train, X_test, y_train, y_test = train_test_split\\\n",
    "    (X, y, test_size=test_size, random_state=seed,stratify=y)\n",
    "\n",
    "    if verbose:\n",
    "        print('Training and testing splits created')\n",
    "\n",
    "    splits={\n",
    "        'X_train':X_train,\n",
    "        'X_test':X_test,\n",
    "        'y_train':y_train,\n",
    "        'y_test':y_test\n",
    "        }\n",
    "\n",
    "    return splits"
   ]
  },
  {
   "cell_type": "code",
   "execution_count": 19,
   "id": "c1ae0930-b38b-4bb7-aa2e-0999eef424e9",
   "metadata": {
    "id": "c312d730"
   },
   "outputs": [],
   "source": [
    "def defPipeline(time_for_task,seed,preprocessor,verbose=False):\n",
    "    '''\n",
    "    Helper function that creates the pipeline from a previously-defined\n",
    "    preprocessor. Returns the pipeline.\n",
    "    '''\n",
    "\n",
    "    # Define Auto-sklearn classifier and pipeline\n",
    "    automl = AutoSklearnClassifier(\n",
    "        time_left_for_this_task=time_for_task,\n",
    "        seed=seed\n",
    "    )\n",
    "    pipeline = Pipeline(\n",
    "        steps=[\n",
    "            ('preprocessor', preprocessor),\n",
    "            ('classifier', automl)\n",
    "        ]\n",
    "    )\n",
    "\n",
    "    if verbose:\n",
    "        print('AutoSklearnClassifier and pipeline created')\n",
    "\n",
    "    return pipeline"
   ]
  },
  {
   "cell_type": "code",
   "execution_count": 20,
   "id": "516673a7-b3cb-4b0b-9814-b0ad12fc8859",
   "metadata": {
    "id": "7a523e2d"
   },
   "outputs": [],
   "source": [
    "def evaluateModel(X_test,y_test,pipeline,verbose=False):\n",
    "    '''\n",
    "    Helper function that returns a tuple of predictions on\n",
    "    the model and the accuracy.\n",
    "    '''\n",
    "\n",
    "    # evaluate the model\n",
    "    y_pred = pipeline.predict(X_test)\n",
    "    accuracy = accuracy_score(y_test, y_pred)\n",
    "\n",
    "    if verbose:\n",
    "        print(f\"AutoSklearn accuracy:\\n{accuracy*100:.2f}%\")\n",
    "\n",
    "    return y_pred,accuracy"
   ]
  },
  {
   "cell_type": "code",
   "execution_count": 21,
   "id": "1ba18dc1-534a-45ba-ad36-f69ff534f318",
   "metadata": {
    "id": "980340cc"
   },
   "outputs": [],
   "source": [
    "def returnTopModels(pipe_path,score=0.9):\n",
    "    '''\n",
    "    Returns the most common classifiers achieving a mean_test_score of over 90% accuracy.\n",
    "    This value can be changed in the function.\n",
    "    '''\n",
    "\n",
    "    # load pipeline and splits\n",
    "    pipeline=joblib.load(pipe_path)\n",
    "\n",
    "    # access the AutoSklearnClassifier from the pipeline\n",
    "    automl_model = pipeline.named_steps['classifier']\n",
    "\n",
    "    # access the cross-validation results\n",
    "    cv_results=pd.DataFrame(automl_model.cv_results_)\n",
    "\n",
    "    cv_results_=\\\n",
    "        cv_results[\n",
    "            (cv_results['status'] == 'Success') & \\\n",
    "            (cv_results['mean_test_score']>score)\n",
    "        ]\\\n",
    "    .sort_values(by='mean_test_score', ascending=False)\n",
    "\n",
    "    cv_results_over90=cv_results_['param_classifier:__choice__'].value_counts()\n",
    "\n",
    "    return cv_results_over90"
   ]
  },
  {
   "cell_type": "code",
   "execution_count": 22,
   "id": "1349cd42-154b-4332-b70f-fa09d053a71d",
   "metadata": {
    "id": "675c4736"
   },
   "outputs": [],
   "source": [
    "def run_autosklearn_pipeline(X,y,seed,test_size,save_location,filename,verbose=False,time_for_task=3600,return_tops=True):\n",
    "    '''\n",
    "    Function that runs the AutoSklearnClassifier.\n",
    "    Outputs a dictionary of the test_train_split'ed dataset (\"splits\")\n",
    "    and the created pipeline object.\n",
    "\n",
    "    It also returns the top-performing models\n",
    "    that achieve an accuracy of over 90%.\n",
    "\n",
    "    Arguments:\n",
    "    X - the features dataset\n",
    "    y - the target dataset\n",
    "    seed - the random seed\n",
    "    test_size - the test_size fraction for train_test_split\n",
    "    save_location - the location where the splits and pipeline are located\n",
    "    filename - what to call these two objects\n",
    "    verbose - verbosity flag\n",
    "    time_for_task - using the AutoSklearnClassifier default value\n",
    "\n",
    "    Outputs:\n",
    "    splits - a dictionary of X_train,X_test,y_train,y_test\n",
    "    pipeline - the trained AutoSklearnClassifier pipeline\n",
    "    '''\n",
    "\n",
    "    categorical_features,continuous_features=detectCatCont(X,verbose)\n",
    "\n",
    "    preprocessor=defPreprocessor(categorical_features,continuous_features,verbose)\n",
    "\n",
    "    splits=trainTestSplits(X,y,test_size,seed,verbose)\n",
    "\n",
    "    X_train=splits['X_train']\n",
    "    X_test=splits['X_test']\n",
    "    y_train=splits['y_train']\n",
    "    y_test=splits['y_test']\n",
    "\n",
    "    pipeline=defPipeline(time_for_task,seed,preprocessor,verbose)\n",
    "\n",
    "    # start training\n",
    "    if verbose:\n",
    "        print(f\"\\nTraining the pipeline... (This may take up to {time_for_task//60} minutes)\\n\")\n",
    "        print()\n",
    "    pipeline.fit(X_train, y_train)\n",
    "\n",
    "    # training complete\n",
    "    if verbose:\n",
    "        print(\"\\nTraining complete.\")\n",
    "\n",
    "    y_pred,accuracy=evaluateModel(X_test,y_test,pipeline,verbose)\n",
    "\n",
    "    pipe_path=f'{save_location+filename}'\n",
    "\n",
    "    # save pipeline\n",
    "    joblib.dump(pipeline,pipe_path)\n",
    "\n",
    "    if verbose:\n",
    "        print(f'saved pipeline here:\\n{pipe_path}')\n",
    "\n",
    "    splits_path=f'{save_location+filename}_splits'\n",
    "\n",
    "    # save splits\n",
    "    joblib.dump(splits,splits_path)\n",
    "\n",
    "    if verbose:\n",
    "        print(f'saved splits here:\\n{splits_path}')\n",
    "\n",
    "    if return_tops:\n",
    "        cv_results_over90=returnTopModels(pipe_path)\n",
    "        return splits,pipeline,cv_results_over90\n",
    "\n",
    "    return splits,pipeline"
   ]
  },
  {
   "cell_type": "markdown",
   "id": "c0a1b409-f7bd-43d0-adf0-bedb23e306f6",
   "metadata": {
    "id": "a2a0f6cf"
   },
   "source": [
    "### Layer 1: Using only the demographic and banking data"
   ]
  },
  {
   "cell_type": "markdown",
   "id": "e444a102-6e99-4d3f-b581-8e2982962c92",
   "metadata": {
    "id": "73f3c13e"
   },
   "source": [
    "#### `AutoSklearn`"
   ]
  },
  {
   "cell_type": "code",
   "execution_count": 23,
   "id": "11ba333e-af88-4779-92bb-d40568bf9f66",
   "metadata": {
    "id": "60797c8e",
    "outputId": "d9bc9721-ee62-47d6-d4a3-b7ceb01a22fd"
   },
   "outputs": [
    {
     "data": {
      "text/plain": [
       "4436"
      ]
     },
     "execution_count": 23,
     "metadata": {},
     "output_type": "execute_result"
    }
   ],
   "source": [
    "seed"
   ]
  },
  {
   "cell_type": "markdown",
   "id": "0e510d7f-a9d5-4e77-8b60-21b6fbb03d5e",
   "metadata": {
    "id": "58386319"
   },
   "source": [
    "Note: I set the seed to a specific number because training the model takes time and I want to proceed with the rest of the project. This number was chosen randomly previously."
   ]
  },
  {
   "cell_type": "code",
   "execution_count": 24,
   "id": "ae961473-5b2b-438e-838f-82a0055b3dc2",
   "metadata": {
    "id": "31066106",
    "outputId": "5ffa1d02-1326-423e-d1a7-841352d7dbae"
   },
   "outputs": [
    {
     "data": {
      "text/plain": [
       "0.2"
      ]
     },
     "execution_count": 24,
     "metadata": {},
     "output_type": "execute_result"
    }
   ],
   "source": [
    "test_size"
   ]
  },
  {
   "cell_type": "code",
   "execution_count": 25,
   "id": "f189aa96-2e08-4088-a154-1c91cd03d76c",
   "metadata": {
    "id": "f127292a",
    "outputId": "6b2258f6-14ce-4e72-dcbc-3249a2dcc632"
   },
   "outputs": [
    {
     "data": {
      "text/html": [
       "<div>\n",
       "<style scoped>\n",
       "    .dataframe tbody tr th:only-of-type {\n",
       "        vertical-align: middle;\n",
       "    }\n",
       "\n",
       "    .dataframe tbody tr th {\n",
       "        vertical-align: top;\n",
       "    }\n",
       "\n",
       "    .dataframe thead th {\n",
       "        text-align: right;\n",
       "    }\n",
       "</style>\n",
       "<table border=\"1\" class=\"dataframe\">\n",
       "  <thead>\n",
       "    <tr style=\"text-align: right;\">\n",
       "      <th></th>\n",
       "      <th>age</th>\n",
       "      <th>job</th>\n",
       "      <th>marital</th>\n",
       "      <th>education</th>\n",
       "      <th>default</th>\n",
       "      <th>balance</th>\n",
       "      <th>housing</th>\n",
       "      <th>loan</th>\n",
       "    </tr>\n",
       "  </thead>\n",
       "  <tbody>\n",
       "    <tr>\n",
       "      <th>0</th>\n",
       "      <td>58</td>\n",
       "      <td>management</td>\n",
       "      <td>married</td>\n",
       "      <td>tertiary</td>\n",
       "      <td>no</td>\n",
       "      <td>2143</td>\n",
       "      <td>yes</td>\n",
       "      <td>no</td>\n",
       "    </tr>\n",
       "    <tr>\n",
       "      <th>1</th>\n",
       "      <td>44</td>\n",
       "      <td>technician</td>\n",
       "      <td>single</td>\n",
       "      <td>secondary</td>\n",
       "      <td>no</td>\n",
       "      <td>29</td>\n",
       "      <td>yes</td>\n",
       "      <td>no</td>\n",
       "    </tr>\n",
       "    <tr>\n",
       "      <th>2</th>\n",
       "      <td>33</td>\n",
       "      <td>entrepreneur</td>\n",
       "      <td>married</td>\n",
       "      <td>secondary</td>\n",
       "      <td>no</td>\n",
       "      <td>2</td>\n",
       "      <td>yes</td>\n",
       "      <td>yes</td>\n",
       "    </tr>\n",
       "  </tbody>\n",
       "</table>\n",
       "</div>"
      ],
      "text/plain": [
       "   age           job  marital  education default  balance housing loan\n",
       "0   58    management  married   tertiary      no     2143     yes   no\n",
       "1   44    technician   single  secondary      no       29     yes   no\n",
       "2   33  entrepreneur  married  secondary      no        2     yes  yes"
      ]
     },
     "execution_count": 25,
     "metadata": {},
     "output_type": "execute_result"
    }
   ],
   "source": [
    "X_1.head(3)"
   ]
  },
  {
   "cell_type": "code",
   "execution_count": null,
   "id": "bac81d51-f690-4d88-ad92-6805ab5e14c8",
   "metadata": {
    "id": "b04fd3e7",
    "outputId": "fe80633a-f01c-4b89-dbbc-184c71c7c85b",
    "scrolled": true
   },
   "outputs": [
    {
     "name": "stdout",
     "output_type": "stream",
     "text": [
      "Categorical and continuous features detected\n",
      "Preprocessor created\n",
      "categorical_features: ['job', 'marital', 'education', 'default', 'housing', 'loan']\n",
      "continuous_features: ['age', 'balance']\n",
      "Training and testing splits created\n",
      "AutoSklearnClassifier and pipeline created\n",
      "\n",
      "Training the pipeline... (This may take up to 60 minutes)\n",
      "\n",
      "\n",
      "[WARNING] [2024-08-22 03:13:33,051:Client-EnsembleBuilder] No models better than random - using Dummy losses!\n",
      "\tModels besides current dummy model: 0\n",
      "\tDummy models: 1\n",
      "[WARNING] [2024-08-22 03:13:33,765:Client-EnsembleBuilder] No runs were available to build an ensemble from\n",
      "[WARNING] [2024-08-22 03:14:17,146:Client-EnsembleBuilder] No models better than random - using Dummy losses!\n",
      "\tModels besides current dummy model: 0\n",
      "\tDummy models: 1\n",
      "[WARNING] [2024-08-22 03:14:31,188:Client-EnsembleBuilder] No models better than random - using Dummy losses!\n",
      "\tModels besides current dummy model: 0\n",
      "\tDummy models: 1\n",
      "[WARNING] [2024-08-22 03:20:32,566:Client-EnsembleBuilder] No models better than random - using Dummy losses!\n",
      "\tModels besides current dummy model: 0\n",
      "\tDummy models: 1\n",
      "[WARNING] [2024-08-22 03:20:35,718:Client-EnsembleBuilder] No models better than random - using Dummy losses!\n",
      "\tModels besides current dummy model: 0\n",
      "\tDummy models: 1\n",
      "[WARNING] [2024-08-22 03:23:05,806:Client-EnsembleBuilder] No models better than random - using Dummy losses!\n",
      "\tModels besides current dummy model: 0\n",
      "\tDummy models: 1\n",
      "[WARNING] [2024-08-22 03:23:18,935:Client-EnsembleBuilder] No models better than random - using Dummy losses!\n",
      "\tModels besides current dummy model: 0\n",
      "\tDummy models: 1\n",
      "[WARNING] [2024-08-22 03:24:42,744:Client-EnsembleBuilder] No models better than random - using Dummy losses!\n",
      "\tModels besides current dummy model: 0\n",
      "\tDummy models: 1\n",
      "[WARNING] [2024-08-22 03:25:36,861:Client-EnsembleBuilder] No models better than random - using Dummy losses!\n",
      "\tModels besides current dummy model: 0\n",
      "\tDummy models: 1\n",
      "[WARNING] [2024-08-22 03:26:42,173:Client-EnsembleBuilder] No models better than random - using Dummy losses!\n",
      "\tModels besides current dummy model: 0\n",
      "\tDummy models: 1\n",
      "[WARNING] [2024-08-22 03:28:03,762:Client-EnsembleBuilder] No models better than random - using Dummy losses!\n",
      "\tModels besides current dummy model: 0\n",
      "\tDummy models: 1\n",
      "[WARNING] [2024-08-22 03:28:19,879:Client-EnsembleBuilder] No models better than random - using Dummy losses!\n",
      "\tModels besides current dummy model: 0\n",
      "\tDummy models: 1\n",
      "[WARNING] [2024-08-22 03:28:22,392:Client-EnsembleBuilder] No models better than random - using Dummy losses!\n",
      "\tModels besides current dummy model: 0\n",
      "\tDummy models: 1\n",
      "[WARNING] [2024-08-22 03:34:23,911:Client-EnsembleBuilder] No models better than random - using Dummy losses!\n",
      "\tModels besides current dummy model: 0\n",
      "\tDummy models: 1\n",
      "[WARNING] [2024-08-22 03:37:15,468:Client-EnsembleBuilder] No models better than random - using Dummy losses!\n",
      "\tModels besides current dummy model: 0\n",
      "\tDummy models: 1\n",
      "[WARNING] [2024-08-22 03:41:01,750:Client-EnsembleBuilder] No models better than random - using Dummy losses!\n",
      "\tModels besides current dummy model: 0\n",
      "\tDummy models: 1\n",
      "\n",
      "Training complete.\n",
      "AutoSklearn accuracy:\n",
      "92.74%\n",
      "saved pipeline here:\n",
      "../joblib/2_pipeline_20240821_layer1\n",
      "saved splits here:\n",
      "../joblib/2_pipeline_20240821_layer1_splits\n"
     ]
    }
   ],
   "source": [
    "# run function for layer_1\n",
    "splits_1,pipeline_1,results_1=\\\n",
    "run_autosklearn_pipeline(X=X_1,\n",
    "                         y=y,\n",
    "                         seed=seed,\n",
    "                         verbose=True,\n",
    "                         test_size=test_size,\n",
    "                         save_location='../joblib/',\n",
    "                         filename='2_pipeline_20240821_layer1',\n",
    "                         time_for_task=3600)"
   ]
  },
  {
   "cell_type": "code",
   "execution_count": null,
   "id": "508e6e5c-147c-4b4f-a7e4-7dee062bc2f3",
   "metadata": {
    "id": "13954db7",
    "outputId": "b31401b9-c4c4-46d7-d301-c1709442c7e7"
   },
   "outputs": [
    {
     "data": {
      "text/plain": [
       "random_forest          14\n",
       "passive_aggressive      9\n",
       "mlp                     5\n",
       "adaboost                5\n",
       "bernoulli_nb            4\n",
       "k_nearest_neighbors     3\n",
       "extra_trees             2\n",
       "sgd                     1\n",
       "liblinear_svc           1\n",
       "lda                     1\n",
       "Name: param_classifier:__choice__, dtype: int64"
      ]
     },
     "execution_count": 40,
     "metadata": {},
     "output_type": "execute_result"
    }
   ],
   "source": [
    "# see top-performing models\n",
    "results_1=returnTopModels('../joblib/2_pipeline_20240821_layer1')\n",
    "results_1"
   ]
  },
  {
   "cell_type": "code",
   "execution_count": 2,
   "id": "37528bd9-e128-4a40-a9a4-9a60412260e5",
   "metadata": {
    "id": "c72cb1f6"
   },
   "outputs": [
    {
     "name": "stderr",
     "output_type": "stream",
     "text": [
      "/Applications/Anaconda/anaconda3/envs/apziva/lib/python3.9/site-packages/sklearn/base.py:376: InconsistentVersionWarning: Trying to unpickle estimator OneHotEncoder from version 0.24.2 when using version 1.5.1. This might lead to breaking code or invalid results. Use at your own risk. For more info please refer to:\n",
      "https://scikit-learn.org/stable/model_persistence.html#security-maintainability-limitations\n",
      "  warnings.warn(\n",
      "/Applications/Anaconda/anaconda3/envs/apziva/lib/python3.9/site-packages/sklearn/base.py:376: InconsistentVersionWarning: Trying to unpickle estimator StandardScaler from version 0.24.2 when using version 1.5.1. This might lead to breaking code or invalid results. Use at your own risk. For more info please refer to:\n",
      "https://scikit-learn.org/stable/model_persistence.html#security-maintainability-limitations\n",
      "  warnings.warn(\n",
      "/Applications/Anaconda/anaconda3/envs/apziva/lib/python3.9/site-packages/sklearn/base.py:376: InconsistentVersionWarning: Trying to unpickle estimator OneHotEncoder from version 0.24.2 when using version 1.5.1. This might lead to breaking code or invalid results. Use at your own risk. For more info please refer to:\n",
      "https://scikit-learn.org/stable/model_persistence.html#security-maintainability-limitations\n",
      "  warnings.warn(\n",
      "/Applications/Anaconda/anaconda3/envs/apziva/lib/python3.9/site-packages/sklearn/base.py:376: InconsistentVersionWarning: Trying to unpickle estimator StandardScaler from version 0.24.2 when using version 1.5.1. This might lead to breaking code or invalid results. Use at your own risk. For more info please refer to:\n",
      "https://scikit-learn.org/stable/model_persistence.html#security-maintainability-limitations\n",
      "  warnings.warn(\n",
      "/Applications/Anaconda/anaconda3/envs/apziva/lib/python3.9/site-packages/sklearn/base.py:376: InconsistentVersionWarning: Trying to unpickle estimator ColumnTransformer from version 0.24.2 when using version 1.5.1. This might lead to breaking code or invalid results. Use at your own risk. For more info please refer to:\n",
      "https://scikit-learn.org/stable/model_persistence.html#security-maintainability-limitations\n",
      "  warnings.warn(\n"
     ]
    },
    {
     "ename": "ModuleNotFoundError",
     "evalue": "No module named 'autosklearn'",
     "output_type": "error",
     "traceback": [
      "\u001b[0;31m---------------------------------------------------------------------------\u001b[0m",
      "\u001b[0;31mModuleNotFoundError\u001b[0m                       Traceback (most recent call last)",
      "Cell \u001b[0;32mIn[2], line 2\u001b[0m\n\u001b[1;32m      1\u001b[0m \u001b[38;5;66;03m# load objects\u001b[39;00m\n\u001b[0;32m----> 2\u001b[0m pipeline_1\u001b[38;5;241m=\u001b[39m\u001b[43mjoblib\u001b[49m\u001b[38;5;241;43m.\u001b[39;49m\u001b[43mload\u001b[49m\u001b[43m(\u001b[49m\u001b[38;5;124;43m'\u001b[39;49m\u001b[38;5;124;43m../joblib/2_pipeline_20240821_layer1\u001b[39;49m\u001b[38;5;124;43m'\u001b[39;49m\u001b[43m)\u001b[49m\n\u001b[1;32m      3\u001b[0m splits_1\u001b[38;5;241m=\u001b[39mjoblib\u001b[38;5;241m.\u001b[39mload(\u001b[38;5;124m'\u001b[39m\u001b[38;5;124m../joblib/2_pipeline_20240821_layer1_splits\u001b[39m\u001b[38;5;124m'\u001b[39m)\n",
      "File \u001b[0;32m/Applications/Anaconda/anaconda3/envs/apziva/lib/python3.9/site-packages/joblib/numpy_pickle.py:658\u001b[0m, in \u001b[0;36mload\u001b[0;34m(filename, mmap_mode)\u001b[0m\n\u001b[1;32m    652\u001b[0m             \u001b[38;5;28;01mif\u001b[39;00m \u001b[38;5;28misinstance\u001b[39m(fobj, \u001b[38;5;28mstr\u001b[39m):\n\u001b[1;32m    653\u001b[0m                 \u001b[38;5;66;03m# if the returned file object is a string, this means we\u001b[39;00m\n\u001b[1;32m    654\u001b[0m                 \u001b[38;5;66;03m# try to load a pickle file generated with an version of\u001b[39;00m\n\u001b[1;32m    655\u001b[0m                 \u001b[38;5;66;03m# Joblib so we load it with joblib compatibility function.\u001b[39;00m\n\u001b[1;32m    656\u001b[0m                 \u001b[38;5;28;01mreturn\u001b[39;00m load_compatibility(fobj)\n\u001b[0;32m--> 658\u001b[0m             obj \u001b[38;5;241m=\u001b[39m \u001b[43m_unpickle\u001b[49m\u001b[43m(\u001b[49m\u001b[43mfobj\u001b[49m\u001b[43m,\u001b[49m\u001b[43m \u001b[49m\u001b[43mfilename\u001b[49m\u001b[43m,\u001b[49m\u001b[43m \u001b[49m\u001b[43mmmap_mode\u001b[49m\u001b[43m)\u001b[49m\n\u001b[1;32m    659\u001b[0m \u001b[38;5;28;01mreturn\u001b[39;00m obj\n",
      "File \u001b[0;32m/Applications/Anaconda/anaconda3/envs/apziva/lib/python3.9/site-packages/joblib/numpy_pickle.py:577\u001b[0m, in \u001b[0;36m_unpickle\u001b[0;34m(fobj, filename, mmap_mode)\u001b[0m\n\u001b[1;32m    575\u001b[0m obj \u001b[38;5;241m=\u001b[39m \u001b[38;5;28;01mNone\u001b[39;00m\n\u001b[1;32m    576\u001b[0m \u001b[38;5;28;01mtry\u001b[39;00m:\n\u001b[0;32m--> 577\u001b[0m     obj \u001b[38;5;241m=\u001b[39m \u001b[43munpickler\u001b[49m\u001b[38;5;241;43m.\u001b[39;49m\u001b[43mload\u001b[49m\u001b[43m(\u001b[49m\u001b[43m)\u001b[49m\n\u001b[1;32m    578\u001b[0m     \u001b[38;5;28;01mif\u001b[39;00m unpickler\u001b[38;5;241m.\u001b[39mcompat_mode:\n\u001b[1;32m    579\u001b[0m         warnings\u001b[38;5;241m.\u001b[39mwarn(\u001b[38;5;124m\"\u001b[39m\u001b[38;5;124mThe file \u001b[39m\u001b[38;5;124m'\u001b[39m\u001b[38;5;132;01m%s\u001b[39;00m\u001b[38;5;124m'\u001b[39m\u001b[38;5;124m has been generated with a \u001b[39m\u001b[38;5;124m\"\u001b[39m\n\u001b[1;32m    580\u001b[0m                       \u001b[38;5;124m\"\u001b[39m\u001b[38;5;124mjoblib version less than 0.10. \u001b[39m\u001b[38;5;124m\"\u001b[39m\n\u001b[1;32m    581\u001b[0m                       \u001b[38;5;124m\"\u001b[39m\u001b[38;5;124mPlease regenerate this pickle file.\u001b[39m\u001b[38;5;124m\"\u001b[39m\n\u001b[1;32m    582\u001b[0m                       \u001b[38;5;241m%\u001b[39m filename,\n\u001b[1;32m    583\u001b[0m                       \u001b[38;5;167;01mDeprecationWarning\u001b[39;00m, stacklevel\u001b[38;5;241m=\u001b[39m\u001b[38;5;241m3\u001b[39m)\n",
      "File \u001b[0;32m/Applications/Anaconda/anaconda3/envs/apziva/lib/python3.9/pickle.py:1212\u001b[0m, in \u001b[0;36m_Unpickler.load\u001b[0;34m(self)\u001b[0m\n\u001b[1;32m   1210\u001b[0m             \u001b[38;5;28;01mraise\u001b[39;00m \u001b[38;5;167;01mEOFError\u001b[39;00m\n\u001b[1;32m   1211\u001b[0m         \u001b[38;5;28;01massert\u001b[39;00m \u001b[38;5;28misinstance\u001b[39m(key, bytes_types)\n\u001b[0;32m-> 1212\u001b[0m         \u001b[43mdispatch\u001b[49m\u001b[43m[\u001b[49m\u001b[43mkey\u001b[49m\u001b[43m[\u001b[49m\u001b[38;5;241;43m0\u001b[39;49m\u001b[43m]\u001b[49m\u001b[43m]\u001b[49m\u001b[43m(\u001b[49m\u001b[38;5;28;43mself\u001b[39;49m\u001b[43m)\u001b[49m\n\u001b[1;32m   1213\u001b[0m \u001b[38;5;28;01mexcept\u001b[39;00m _Stop \u001b[38;5;28;01mas\u001b[39;00m stopinst:\n\u001b[1;32m   1214\u001b[0m     \u001b[38;5;28;01mreturn\u001b[39;00m stopinst\u001b[38;5;241m.\u001b[39mvalue\n",
      "File \u001b[0;32m/Applications/Anaconda/anaconda3/envs/apziva/lib/python3.9/pickle.py:1537\u001b[0m, in \u001b[0;36m_Unpickler.load_stack_global\u001b[0;34m(self)\u001b[0m\n\u001b[1;32m   1535\u001b[0m \u001b[38;5;28;01mif\u001b[39;00m \u001b[38;5;28mtype\u001b[39m(name) \u001b[38;5;129;01mis\u001b[39;00m \u001b[38;5;129;01mnot\u001b[39;00m \u001b[38;5;28mstr\u001b[39m \u001b[38;5;129;01mor\u001b[39;00m \u001b[38;5;28mtype\u001b[39m(module) \u001b[38;5;129;01mis\u001b[39;00m \u001b[38;5;129;01mnot\u001b[39;00m \u001b[38;5;28mstr\u001b[39m:\n\u001b[1;32m   1536\u001b[0m     \u001b[38;5;28;01mraise\u001b[39;00m UnpicklingError(\u001b[38;5;124m\"\u001b[39m\u001b[38;5;124mSTACK_GLOBAL requires str\u001b[39m\u001b[38;5;124m\"\u001b[39m)\n\u001b[0;32m-> 1537\u001b[0m \u001b[38;5;28mself\u001b[39m\u001b[38;5;241m.\u001b[39mappend(\u001b[38;5;28;43mself\u001b[39;49m\u001b[38;5;241;43m.\u001b[39;49m\u001b[43mfind_class\u001b[49m\u001b[43m(\u001b[49m\u001b[43mmodule\u001b[49m\u001b[43m,\u001b[49m\u001b[43m \u001b[49m\u001b[43mname\u001b[49m\u001b[43m)\u001b[49m)\n",
      "File \u001b[0;32m/Applications/Anaconda/anaconda3/envs/apziva/lib/python3.9/pickle.py:1579\u001b[0m, in \u001b[0;36m_Unpickler.find_class\u001b[0;34m(self, module, name)\u001b[0m\n\u001b[1;32m   1577\u001b[0m     \u001b[38;5;28;01melif\u001b[39;00m module \u001b[38;5;129;01min\u001b[39;00m _compat_pickle\u001b[38;5;241m.\u001b[39mIMPORT_MAPPING:\n\u001b[1;32m   1578\u001b[0m         module \u001b[38;5;241m=\u001b[39m _compat_pickle\u001b[38;5;241m.\u001b[39mIMPORT_MAPPING[module]\n\u001b[0;32m-> 1579\u001b[0m \u001b[38;5;28;43m__import__\u001b[39;49m\u001b[43m(\u001b[49m\u001b[43mmodule\u001b[49m\u001b[43m,\u001b[49m\u001b[43m \u001b[49m\u001b[43mlevel\u001b[49m\u001b[38;5;241;43m=\u001b[39;49m\u001b[38;5;241;43m0\u001b[39;49m\u001b[43m)\u001b[49m\n\u001b[1;32m   1580\u001b[0m \u001b[38;5;28;01mif\u001b[39;00m \u001b[38;5;28mself\u001b[39m\u001b[38;5;241m.\u001b[39mproto \u001b[38;5;241m>\u001b[39m\u001b[38;5;241m=\u001b[39m \u001b[38;5;241m4\u001b[39m:\n\u001b[1;32m   1581\u001b[0m     \u001b[38;5;28;01mreturn\u001b[39;00m _getattribute(sys\u001b[38;5;241m.\u001b[39mmodules[module], name)[\u001b[38;5;241m0\u001b[39m]\n",
      "\u001b[0;31mModuleNotFoundError\u001b[0m: No module named 'autosklearn'"
     ]
    }
   ],
   "source": [
    "# load objects\n",
    "pipeline_1=joblib.load('../joblib/2_pipeline_20240821_layer1')\n",
    "splits_1=joblib.load('../joblib/2_pipeline_20240821_layer1_splits')"
   ]
  },
  {
   "cell_type": "code",
   "execution_count": null,
   "id": "3fe1bf1c-e551-4683-a366-7721770b6405",
   "metadata": {
    "id": "1d945329",
    "outputId": "3d89526d-7d95-4521-8447-a5e29119da2a"
   },
   "outputs": [
    {
     "name": "stdout",
     "output_type": "stream",
     "text": [
      "AutoSklearn accuracy:\n",
      "92.74%\n"
     ]
    }
   ],
   "source": [
    "# determine accuracy of model\n",
    "X_1_test=splits_1['X_test']\n",
    "y_1_test=splits_1['y_test']\n",
    "\n",
    "y_1_pred,accuracy_1=evaluateModel(X_test,y_test,pipeline_1,verbose=True)"
   ]
  },
  {
   "cell_type": "code",
   "execution_count": null,
   "id": "857a4ee6-17d9-4c50-a554-7c11d699e27d",
   "metadata": {
    "id": "27931787",
    "outputId": "27697430-3fe0-49cc-8a85-a0901d5e75e4"
   },
   "outputs": [
    {
     "name": "stderr",
     "output_type": "stream",
     "text": [
      "/tmp/ipykernel_88/2902082143.py:80: RuntimeWarning: invalid value encountered in double_scalars\n",
      "  f1_score  = 2*precision*recall / (precision + recall)\n"
     ]
    },
    {
     "data": {
      "image/png": "[encoded data removed]",
      "text/plain": [
       "<Figure size 640x480 with 2 Axes>"
      ]
     },
     "metadata": {},
     "output_type": "display_data"
    }
   ],
   "source": [
    "# view confusion matrix\n",
    "# the F1-score doesn't show but that's ok\n",
    "cf_matrix_1=confusion_matrix(y_1_test,y_1_pred)\n",
    "labels=['True Neg','False Pos','False Neg','True Pos']\n",
    "make_confusion_matrix(cf=cf_matrix_1,\n",
    "                      group_names=labels,\n",
    "                      cmap='coolwarm')"
   ]
  },
  {
   "cell_type": "code",
   "execution_count": null,
   "id": "3841a1f7-175d-43c8-b760-5d368c0dccd2",
   "metadata": {
    "id": "d5cdb443",
    "outputId": "172f8036-01fa-46ee-b6d6-c60d1c286910"
   },
   "outputs": [
    {
     "name": "stdout",
     "output_type": "stream",
     "text": [
      "              precision    recall  f1-score   support\n",
      "\n",
      "          no       0.93      1.00      0.96      7421\n",
      "         yes       0.00      0.00      0.00       579\n",
      "\n",
      "    accuracy                           0.93      8000\n",
      "   macro avg       0.46      0.50      0.48      8000\n",
      "weighted avg       0.86      0.93      0.89      8000\n",
      "\n"
     ]
    }
   ],
   "source": [
    "# view F1-score\n",
    "creport=classification_report(y_test,y_1_pred)\n",
    "print(creport)"
   ]
  },
  {
   "cell_type": "markdown",
   "id": "d42756b7-30e5-40ae-b945-ac36f1650896",
   "metadata": {
    "id": "c65f3b7e"
   },
   "source": [
    "Although we are able to get great accuracy for class 0 ('no'), we were not able to get a good accuracy for class 1 ('yes')."
   ]
  },
  {
   "cell_type": "markdown",
   "id": "308f0feb-affa-4a36-9bca-a09cda5a5cf3",
   "metadata": {},
   "source": [
    "## Modeling: Layer 1"
   ]
  },
  {
   "cell_type": "markdown",
   "id": "4355300e-654f-49e9-ba79-4f6f7f8f2183",
   "metadata": {},
   "source": [
    "### Prepare Dataset for Modeling"
   ]
  },
  {
   "cell_type": "markdown",
   "id": "f6c69b32-b8e6-4bb6-9285-9d10879f90d0",
   "metadata": {},
   "source": [
    "Split data into training, validation, and testing sets:"
   ]
  },
  {
   "cell_type": "code",
   "execution_count": 213,
   "id": "87823f6a-739e-4a15-9434-bbeddcfb61d2",
   "metadata": {},
   "outputs": [
    {
     "data": {
      "text/html": [
       "<div>\n",
       "<style scoped>\n",
       "    .dataframe tbody tr th:only-of-type {\n",
       "        vertical-align: middle;\n",
       "    }\n",
       "\n",
       "    .dataframe tbody tr th {\n",
       "        vertical-align: top;\n",
       "    }\n",
       "\n",
       "    .dataframe thead th {\n",
       "        text-align: right;\n",
       "    }\n",
       "</style>\n",
       "<table border=\"1\" class=\"dataframe\">\n",
       "  <thead>\n",
       "    <tr style=\"text-align: right;\">\n",
       "      <th></th>\n",
       "      <th>age</th>\n",
       "      <th>job</th>\n",
       "      <th>marital</th>\n",
       "      <th>education</th>\n",
       "      <th>default</th>\n",
       "      <th>balance</th>\n",
       "      <th>housing</th>\n",
       "      <th>loan</th>\n",
       "      <th>y</th>\n",
       "    </tr>\n",
       "  </thead>\n",
       "  <tbody>\n",
       "    <tr>\n",
       "      <th>0</th>\n",
       "      <td>58</td>\n",
       "      <td>management</td>\n",
       "      <td>married</td>\n",
       "      <td>tertiary</td>\n",
       "      <td>no</td>\n",
       "      <td>2143</td>\n",
       "      <td>yes</td>\n",
       "      <td>no</td>\n",
       "      <td>0</td>\n",
       "    </tr>\n",
       "    <tr>\n",
       "      <th>1</th>\n",
       "      <td>44</td>\n",
       "      <td>technician</td>\n",
       "      <td>single</td>\n",
       "      <td>secondary</td>\n",
       "      <td>no</td>\n",
       "      <td>29</td>\n",
       "      <td>yes</td>\n",
       "      <td>no</td>\n",
       "      <td>0</td>\n",
       "    </tr>\n",
       "    <tr>\n",
       "      <th>2</th>\n",
       "      <td>33</td>\n",
       "      <td>entrepreneur</td>\n",
       "      <td>married</td>\n",
       "      <td>secondary</td>\n",
       "      <td>no</td>\n",
       "      <td>2</td>\n",
       "      <td>yes</td>\n",
       "      <td>yes</td>\n",
       "      <td>0</td>\n",
       "    </tr>\n",
       "    <tr>\n",
       "      <th>3</th>\n",
       "      <td>47</td>\n",
       "      <td>blue-collar</td>\n",
       "      <td>married</td>\n",
       "      <td>unknown</td>\n",
       "      <td>no</td>\n",
       "      <td>1506</td>\n",
       "      <td>yes</td>\n",
       "      <td>no</td>\n",
       "      <td>0</td>\n",
       "    </tr>\n",
       "    <tr>\n",
       "      <th>4</th>\n",
       "      <td>33</td>\n",
       "      <td>unknown</td>\n",
       "      <td>single</td>\n",
       "      <td>unknown</td>\n",
       "      <td>no</td>\n",
       "      <td>1</td>\n",
       "      <td>no</td>\n",
       "      <td>no</td>\n",
       "      <td>0</td>\n",
       "    </tr>\n",
       "    <tr>\n",
       "      <th>...</th>\n",
       "      <td>...</td>\n",
       "      <td>...</td>\n",
       "      <td>...</td>\n",
       "      <td>...</td>\n",
       "      <td>...</td>\n",
       "      <td>...</td>\n",
       "      <td>...</td>\n",
       "      <td>...</td>\n",
       "      <td>...</td>\n",
       "    </tr>\n",
       "    <tr>\n",
       "      <th>39995</th>\n",
       "      <td>53</td>\n",
       "      <td>technician</td>\n",
       "      <td>married</td>\n",
       "      <td>tertiary</td>\n",
       "      <td>no</td>\n",
       "      <td>395</td>\n",
       "      <td>no</td>\n",
       "      <td>no</td>\n",
       "      <td>0</td>\n",
       "    </tr>\n",
       "    <tr>\n",
       "      <th>39996</th>\n",
       "      <td>30</td>\n",
       "      <td>management</td>\n",
       "      <td>single</td>\n",
       "      <td>tertiary</td>\n",
       "      <td>no</td>\n",
       "      <td>3340</td>\n",
       "      <td>no</td>\n",
       "      <td>no</td>\n",
       "      <td>1</td>\n",
       "    </tr>\n",
       "    <tr>\n",
       "      <th>39997</th>\n",
       "      <td>54</td>\n",
       "      <td>admin</td>\n",
       "      <td>divorced</td>\n",
       "      <td>secondary</td>\n",
       "      <td>no</td>\n",
       "      <td>200</td>\n",
       "      <td>no</td>\n",
       "      <td>no</td>\n",
       "      <td>1</td>\n",
       "    </tr>\n",
       "    <tr>\n",
       "      <th>39998</th>\n",
       "      <td>34</td>\n",
       "      <td>management</td>\n",
       "      <td>married</td>\n",
       "      <td>tertiary</td>\n",
       "      <td>no</td>\n",
       "      <td>1047</td>\n",
       "      <td>no</td>\n",
       "      <td>no</td>\n",
       "      <td>0</td>\n",
       "    </tr>\n",
       "    <tr>\n",
       "      <th>39999</th>\n",
       "      <td>38</td>\n",
       "      <td>technician</td>\n",
       "      <td>married</td>\n",
       "      <td>secondary</td>\n",
       "      <td>no</td>\n",
       "      <td>1442</td>\n",
       "      <td>yes</td>\n",
       "      <td>no</td>\n",
       "      <td>0</td>\n",
       "    </tr>\n",
       "  </tbody>\n",
       "</table>\n",
       "<p>40000 rows × 9 columns</p>\n",
       "</div>"
      ],
      "text/plain": [
       "       age           job   marital  education default  balance housing loan  y\n",
       "0       58    management   married   tertiary      no     2143     yes   no  0\n",
       "1       44    technician    single  secondary      no       29     yes   no  0\n",
       "2       33  entrepreneur   married  secondary      no        2     yes  yes  0\n",
       "3       47   blue-collar   married    unknown      no     1506     yes   no  0\n",
       "4       33       unknown    single    unknown      no        1      no   no  0\n",
       "...    ...           ...       ...        ...     ...      ...     ...  ... ..\n",
       "39995   53    technician   married   tertiary      no      395      no   no  0\n",
       "39996   30    management    single   tertiary      no     3340      no   no  1\n",
       "39997   54         admin  divorced  secondary      no      200      no   no  1\n",
       "39998   34    management   married   tertiary      no     1047      no   no  0\n",
       "39999   38    technician   married  secondary      no     1442     yes   no  0\n",
       "\n",
       "[40000 rows x 9 columns]"
      ]
     },
     "execution_count": 213,
     "metadata": {},
     "output_type": "execute_result"
    }
   ],
   "source": [
    "data=pd.concat([X_1,y],axis=1)\n",
    "data"
   ]
  },
  {
   "cell_type": "code",
   "execution_count": 214,
   "id": "6ecb4ba8-966a-4a8c-883e-46234fb2156e",
   "metadata": {},
   "outputs": [],
   "source": [
    "train,temp=train_test_split(data,test_size=0.4,random_state=seed)\n",
    "val,test=train_test_split(temp,test_size=0.5,random_state=seed)"
   ]
  },
  {
   "cell_type": "code",
   "execution_count": 215,
   "id": "39f96db4-4aba-4b2e-8b81-0e6eb368ef73",
   "metadata": {},
   "outputs": [
    {
     "name": "stdout",
     "output_type": "stream",
     "text": [
      "\n",
      "(24000, 9)\n",
      "(16000, 9)\n",
      "(8000, 9)\n",
      "(8000, 9)\n",
      "\n"
     ]
    }
   ],
   "source": [
    "print(f'''\n",
    "{train.shape}\n",
    "{temp.shape}\n",
    "{val.shape}\n",
    "{test.shape}\n",
    "''')"
   ]
  },
  {
   "cell_type": "code",
   "execution_count": 233,
   "id": "3648e057-fb83-4564-b588-4d857ceff310",
   "metadata": {},
   "outputs": [
    {
     "data": {
      "text/html": [
       "<div>\n",
       "<style scoped>\n",
       "    .dataframe tbody tr th:only-of-type {\n",
       "        vertical-align: middle;\n",
       "    }\n",
       "\n",
       "    .dataframe tbody tr th {\n",
       "        vertical-align: top;\n",
       "    }\n",
       "\n",
       "    .dataframe thead th {\n",
       "        text-align: right;\n",
       "    }\n",
       "</style>\n",
       "<table border=\"1\" class=\"dataframe\">\n",
       "  <thead>\n",
       "    <tr style=\"text-align: right;\">\n",
       "      <th></th>\n",
       "      <th>age</th>\n",
       "      <th>job</th>\n",
       "      <th>marital</th>\n",
       "      <th>education</th>\n",
       "      <th>default</th>\n",
       "      <th>balance</th>\n",
       "      <th>housing</th>\n",
       "      <th>loan</th>\n",
       "      <th>y</th>\n",
       "    </tr>\n",
       "  </thead>\n",
       "  <tbody>\n",
       "    <tr>\n",
       "      <th>17472</th>\n",
       "      <td>29</td>\n",
       "      <td>management</td>\n",
       "      <td>single</td>\n",
       "      <td>tertiary</td>\n",
       "      <td>no</td>\n",
       "      <td>1895</td>\n",
       "      <td>no</td>\n",
       "      <td>no</td>\n",
       "      <td>0</td>\n",
       "    </tr>\n",
       "    <tr>\n",
       "      <th>26759</th>\n",
       "      <td>32</td>\n",
       "      <td>blue-collar</td>\n",
       "      <td>single</td>\n",
       "      <td>secondary</td>\n",
       "      <td>no</td>\n",
       "      <td>2696</td>\n",
       "      <td>yes</td>\n",
       "      <td>no</td>\n",
       "      <td>0</td>\n",
       "    </tr>\n",
       "    <tr>\n",
       "      <th>37325</th>\n",
       "      <td>45</td>\n",
       "      <td>blue-collar</td>\n",
       "      <td>married</td>\n",
       "      <td>tertiary</td>\n",
       "      <td>no</td>\n",
       "      <td>23</td>\n",
       "      <td>yes</td>\n",
       "      <td>yes</td>\n",
       "      <td>0</td>\n",
       "    </tr>\n",
       "    <tr>\n",
       "      <th>1482</th>\n",
       "      <td>37</td>\n",
       "      <td>blue-collar</td>\n",
       "      <td>divorced</td>\n",
       "      <td>secondary</td>\n",
       "      <td>no</td>\n",
       "      <td>48</td>\n",
       "      <td>yes</td>\n",
       "      <td>no</td>\n",
       "      <td>0</td>\n",
       "    </tr>\n",
       "    <tr>\n",
       "      <th>37158</th>\n",
       "      <td>34</td>\n",
       "      <td>blue-collar</td>\n",
       "      <td>married</td>\n",
       "      <td>secondary</td>\n",
       "      <td>no</td>\n",
       "      <td>496</td>\n",
       "      <td>yes</td>\n",
       "      <td>no</td>\n",
       "      <td>1</td>\n",
       "    </tr>\n",
       "    <tr>\n",
       "      <th>...</th>\n",
       "      <td>...</td>\n",
       "      <td>...</td>\n",
       "      <td>...</td>\n",
       "      <td>...</td>\n",
       "      <td>...</td>\n",
       "      <td>...</td>\n",
       "      <td>...</td>\n",
       "      <td>...</td>\n",
       "      <td>...</td>\n",
       "    </tr>\n",
       "    <tr>\n",
       "      <th>11598</th>\n",
       "      <td>38</td>\n",
       "      <td>blue-collar</td>\n",
       "      <td>married</td>\n",
       "      <td>secondary</td>\n",
       "      <td>no</td>\n",
       "      <td>1403</td>\n",
       "      <td>no</td>\n",
       "      <td>no</td>\n",
       "      <td>0</td>\n",
       "    </tr>\n",
       "    <tr>\n",
       "      <th>19466</th>\n",
       "      <td>52</td>\n",
       "      <td>entrepreneur</td>\n",
       "      <td>married</td>\n",
       "      <td>secondary</td>\n",
       "      <td>no</td>\n",
       "      <td>0</td>\n",
       "      <td>no</td>\n",
       "      <td>no</td>\n",
       "      <td>0</td>\n",
       "    </tr>\n",
       "    <tr>\n",
       "      <th>18793</th>\n",
       "      <td>36</td>\n",
       "      <td>blue-collar</td>\n",
       "      <td>married</td>\n",
       "      <td>secondary</td>\n",
       "      <td>no</td>\n",
       "      <td>1550</td>\n",
       "      <td>no</td>\n",
       "      <td>no</td>\n",
       "      <td>0</td>\n",
       "    </tr>\n",
       "    <tr>\n",
       "      <th>24874</th>\n",
       "      <td>59</td>\n",
       "      <td>entrepreneur</td>\n",
       "      <td>married</td>\n",
       "      <td>primary</td>\n",
       "      <td>no</td>\n",
       "      <td>222</td>\n",
       "      <td>no</td>\n",
       "      <td>no</td>\n",
       "      <td>0</td>\n",
       "    </tr>\n",
       "    <tr>\n",
       "      <th>27850</th>\n",
       "      <td>31</td>\n",
       "      <td>technician</td>\n",
       "      <td>single</td>\n",
       "      <td>tertiary</td>\n",
       "      <td>no</td>\n",
       "      <td>53</td>\n",
       "      <td>no</td>\n",
       "      <td>no</td>\n",
       "      <td>0</td>\n",
       "    </tr>\n",
       "  </tbody>\n",
       "</table>\n",
       "<p>24000 rows × 9 columns</p>\n",
       "</div>"
      ],
      "text/plain": [
       "       age           job   marital  education default  balance housing loan  y\n",
       "17472   29    management    single   tertiary      no     1895      no   no  0\n",
       "26759   32   blue-collar    single  secondary      no     2696     yes   no  0\n",
       "37325   45   blue-collar   married   tertiary      no       23     yes  yes  0\n",
       "1482    37   blue-collar  divorced  secondary      no       48     yes   no  0\n",
       "37158   34   blue-collar   married  secondary      no      496     yes   no  1\n",
       "...    ...           ...       ...        ...     ...      ...     ...  ... ..\n",
       "11598   38   blue-collar   married  secondary      no     1403      no   no  0\n",
       "19466   52  entrepreneur   married  secondary      no        0      no   no  0\n",
       "18793   36   blue-collar   married  secondary      no     1550      no   no  0\n",
       "24874   59  entrepreneur   married    primary      no      222      no   no  0\n",
       "27850   31    technician    single   tertiary      no       53      no   no  0\n",
       "\n",
       "[24000 rows x 9 columns]"
      ]
     },
     "execution_count": 233,
     "metadata": {},
     "output_type": "execute_result"
    }
   ],
   "source": [
    "train"
   ]
  },
  {
   "cell_type": "code",
   "execution_count": 216,
   "id": "4e3e5a13-29d5-4717-8fab-ff0300bbe307",
   "metadata": {},
   "outputs": [
    {
     "name": "stdout",
     "output_type": "stream",
     "text": [
      "Counter({0: 22272, 1: 1728})\n",
      "Counter({0: 14832, 1: 1168})\n",
      "Counter({0: 7430, 1: 570})\n",
      "Counter({0: 7402, 1: 598})\n"
     ]
    }
   ],
   "source": [
    "# view breakdown of each class\n",
    "listo=[train,temp,val,test]\n",
    "for item in listo:\n",
    "    print(Counter(item['y']))"
   ]
  },
  {
   "cell_type": "markdown",
   "id": "aa84f85f-1444-40be-b3b9-ebfe954dbf04",
   "metadata": {},
   "source": [
    "Create function to speed up preparing data for modeling going forward:"
   ]
  },
  {
   "cell_type": "code",
   "execution_count": 255,
   "id": "d8b55689-b51e-4c00-8e86-414325d49267",
   "metadata": {},
   "outputs": [
    {
     "data": {
      "text/plain": [
       "Index(['age', 'balance'], dtype='object')"
      ]
     },
     "execution_count": 255,
     "metadata": {},
     "output_type": "execute_result"
    }
   ],
   "source": [
    "cat_cols = X_1.select_dtypes(include='object').columns\n",
    "num_cols = X_1.select_dtypes(exclude='object').columns\n",
    "\n",
    "num_cols"
   ]
  },
  {
   "cell_type": "code",
   "execution_count": 262,
   "id": "ec21d62b-92be-4b0c-a013-ab54034209a7",
   "metadata": {},
   "outputs": [],
   "source": [
    "def ml_workflow(data,target_column_name,cat_cols,random_state,classifiers,verbose=1,train_size=0.4,test_size=0.5):\n",
    "    '''\n",
    "    Complete ML pipeline: preprocess data, cross_validate models, fit, and evaluate\n",
    "    '''\n",
    "    \n",
    "    # split data into train, validation, and test sets\n",
    "    train,temp=train_test_split(data,test_size=train_size,random_state=random_state)\n",
    "    val,test=train_test_split(temp,test_size=test_size,random_state=random_state)\n",
    "    if verbose=1:\n",
    "        print('Data is split into train, val, and test sets')\n",
    "    if verbose>1:\n",
    "        print(f'''\n",
    "    Data is split into train (shape:{train.shape}), \n",
    "    val (shape:{val.shape}), and \n",
    "    test (shape:{test.shape}) sets''')\n",
    "\n",
    "    # separate target from features\n",
    "    X_train,y_train=train.drop(columns=[target_column_name]),train[target_column_name]\n",
    "    X_val,y_val=val.drop(columns=[target_column_name]),val[target_column_name]\n",
    "    X_test,y_test=test.drop(columns=[target_column_name]),test[target_column_name]\n",
    "    if verbose=1:\n",
    "        print('Separated target column from features')\n",
    "    if verbose>1:\n",
    "        print(f'''\n",
    "        X_train shape: {X_train.shape}\n",
    "        y_train shape: {y_train.shape}\n",
    "        X_val shape: {X_val.shape}\n",
    "        y_val shape: {y_val.shape}\n",
    "        X_test shape: {X_test.shape}\n",
    "        y_test shape: {y_test.shape}\n",
    "        ''')\n",
    "    \n",
    "    # define numerical columns for scaling\n",
    "    num_cols=[col for col in X_train.columns if col not in cat_cols]\n",
    "    if verbose=1:\n",
    "        print('Defined numerical columns')\n",
    "    if verbose>1:\n",
    "        print(f'Numerical columns: {num_cols}')\n",
    "\n",
    "    # Define preprocessing pipeline\n",
    "    preprocessor=ColumnTransformer(\n",
    "        transformers=[\n",
    "            ('num',StandardScaler(),num_cols),\n",
    "            ('cat',OneHotEncoder(handle_unknown='ignore'),cat_cols)\n",
    "        ]\n",
    "    )\n",
    "    if verbose=1:\n",
    "        print('Preprocessor created')\n",
    "    if verbose>1:\n",
    "        print(f'Preprocessor: {preprocessor}')\n",
    "    \n",
    "    # define classifiers\n",
    "    classifiers=classifiers\n",
    "    if verbose=1:\n",
    "        print('Classifiers have been defined')\n",
    "    if verbose>1:\n",
    "        print(f'Classifiers: {classifiers}')\n",
    "    \n",
    "    # store cross-validation scores\n",
    "    cv_scores={}\n",
    "\n",
    "    # Perform cross-validation for each model\n",
    "    for name, model in classifiers.items():\n",
    "        pipe = Pipeline(steps=[('preprocessor', preprocessor), ('classifier', model)])\n",
    "        cv = StratifiedKFold(n_splits=5, shuffle=True, random_state=seed)\n",
    "        scores = cross_validate(pipe, X_train, y_train, cv=cv, \n",
    "                                scoring=['accuracy', 'precision', 'recall', 'f1'])\n",
    "        \n",
    "        print(f\"\\n{name} Cross-Validation Scores:\")\n",
    "        print(f\"Accuracy: {np.mean(scores['test_accuracy']) * 100:.2f}%\")\n",
    "        print(f\"Recall: {np.mean(scores['test_recall']) * 100:.2f}%\")\n",
    "        cv_scores[name] = scores\n",
    "\n",
    "    # Find the best models based on accuracy and recall\n",
    "    best_accuracy_model = max(cv_scores, key=lambda x: np.mean(cv_scores[x]['test_accuracy']))\n",
    "    best_recall_model = max(cv_scores, key=lambda x: np.mean(cv_scores[x]['test_recall']))\n",
    "\n",
    "    print(f\"\\nBest Accuracy Model: {best_accuracy_model}\")\n",
    "    print(f\"Best Recall Model: {best_recall_model}\")\n",
    "\n",
    "    # Fit the best models on the full training set\n",
    "    fitted_models = {}\n",
    "    for name, model in classifiers.items():\n",
    "        pipe = Pipeline(steps=[('preprocessor', preprocessor), ('classifier', model)])\n",
    "        pipe.fit(X_train, y_train)\n",
    "        fitted_models[name] = pipe\n",
    "\n",
    "    # Evaluate models on the validation set\n",
    "    print(\"\\nValidation Set Evaluation:\")\n",
    "    for name, model in fitted_models.items():\n",
    "        y_pred = model.predict(X_val)\n",
    "        print(f\"\\n{name} Validation Results:\")\n",
    "        print(f\"Accuracy: {accuracy_score(y_val, y_pred) * 100:.2f}%\")\n",
    "        print(f\"Recall: {recall_score(y_val, y_pred, average='weighted') * 100:.2f}%\")\n",
    "        print(classification_report(y_val, y_pred))\n",
    "\n",
    "    # Evaluate models on the test set\n",
    "    print(\"\\nTest Set Evaluation:\")\n",
    "    for name, model in fitted_models.items():\n",
    "        y_pred = model.predict(X_test)\n",
    "        print(f\"\\n{name} Test Results:\")\n",
    "        print(f\"Accuracy: {accuracy_score(y_test, y_pred) * 100:.2f}%\")\n",
    "        print(f\"Recall: {recall_score(y_test, y_pred, average='weighted') * 100:.2f}%\")\n",
    "        print(classification_report(y_test, y_pred))"
   ]
  },
  {
   "cell_type": "code",
   "execution_count": null,
   "id": "522fcf09-286d-4934-aa33-a18fad26720f",
   "metadata": {},
   "outputs": [],
   "source": [
    "def mlProcess:\n",
    "    # preprocessing step (OneHotEncoding for categorical, scaling for numeric)\n",
    "    preprocessor = ColumnTransformer(\n",
    "        transformers=[\n",
    "            ('num', StandardScaler(), num_cols),\n",
    "            ('cat', OneHotEncoder(handle_unknown='ignore'), cat_cols)\n",
    "        ]\n",
    "    )\n",
    "\n",
    "    # Create a pipeline that includes preprocessing and classifier\n",
    "    def create_pipeline(model):\n",
    "        return Pipeline(steps=[('preprocessor', preprocessor), ('classifier', model)])\n",
    "\n",
    "    # Fit each model using the pipeline\n",
    "    fitted_model = {}"
   ]
  },
  {
   "cell_type": "code",
   "execution_count": 261,
   "id": "e8554ec6-1f62-4377-ba59-6dfe661e8719",
   "metadata": {},
   "outputs": [
    {
     "ename": "ValueError",
     "evalue": "A given column is not a column of the dataframe",
     "output_type": "error",
     "traceback": [
      "\u001b[0;31m---------------------------------------------------------------------------\u001b[0m",
      "\u001b[0;31mKeyError\u001b[0m                                  Traceback (most recent call last)",
      "File \u001b[0;32m/Applications/Anaconda/anaconda3/envs/apziva/lib/python3.9/site-packages/pandas/core/indexes/base.py:3805\u001b[0m, in \u001b[0;36mIndex.get_loc\u001b[0;34m(self, key)\u001b[0m\n\u001b[1;32m   3804\u001b[0m \u001b[38;5;28;01mtry\u001b[39;00m:\n\u001b[0;32m-> 3805\u001b[0m     \u001b[38;5;28;01mreturn\u001b[39;00m \u001b[38;5;28;43mself\u001b[39;49m\u001b[38;5;241;43m.\u001b[39;49m\u001b[43m_engine\u001b[49m\u001b[38;5;241;43m.\u001b[39;49m\u001b[43mget_loc\u001b[49m\u001b[43m(\u001b[49m\u001b[43mcasted_key\u001b[49m\u001b[43m)\u001b[49m\n\u001b[1;32m   3806\u001b[0m \u001b[38;5;28;01mexcept\u001b[39;00m \u001b[38;5;167;01mKeyError\u001b[39;00m \u001b[38;5;28;01mas\u001b[39;00m err:\n",
      "File \u001b[0;32mindex.pyx:167\u001b[0m, in \u001b[0;36mpandas._libs.index.IndexEngine.get_loc\u001b[0;34m()\u001b[0m\n",
      "File \u001b[0;32mindex.pyx:196\u001b[0m, in \u001b[0;36mpandas._libs.index.IndexEngine.get_loc\u001b[0;34m()\u001b[0m\n",
      "File \u001b[0;32mpandas/_libs/hashtable_class_helper.pxi:7081\u001b[0m, in \u001b[0;36mpandas._libs.hashtable.PyObjectHashTable.get_item\u001b[0;34m()\u001b[0m\n",
      "File \u001b[0;32mpandas/_libs/hashtable_class_helper.pxi:7089\u001b[0m, in \u001b[0;36mpandas._libs.hashtable.PyObjectHashTable.get_item\u001b[0;34m()\u001b[0m\n",
      "\u001b[0;31mKeyError\u001b[0m: 'job'",
      "\nThe above exception was the direct cause of the following exception:\n",
      "\u001b[0;31mKeyError\u001b[0m                                  Traceback (most recent call last)",
      "File \u001b[0;32m/Applications/Anaconda/anaconda3/envs/apziva/lib/python3.9/site-packages/sklearn/utils/_indexing.py:361\u001b[0m, in \u001b[0;36m_get_column_indices\u001b[0;34m(X, key)\u001b[0m\n\u001b[1;32m    360\u001b[0m \u001b[38;5;28;01mfor\u001b[39;00m col \u001b[38;5;129;01min\u001b[39;00m columns:\n\u001b[0;32m--> 361\u001b[0m     col_idx \u001b[38;5;241m=\u001b[39m \u001b[43mall_columns\u001b[49m\u001b[38;5;241;43m.\u001b[39;49m\u001b[43mget_loc\u001b[49m\u001b[43m(\u001b[49m\u001b[43mcol\u001b[49m\u001b[43m)\u001b[49m\n\u001b[1;32m    362\u001b[0m     \u001b[38;5;28;01mif\u001b[39;00m \u001b[38;5;129;01mnot\u001b[39;00m \u001b[38;5;28misinstance\u001b[39m(col_idx, numbers\u001b[38;5;241m.\u001b[39mIntegral):\n",
      "File \u001b[0;32m/Applications/Anaconda/anaconda3/envs/apziva/lib/python3.9/site-packages/pandas/core/indexes/base.py:3812\u001b[0m, in \u001b[0;36mIndex.get_loc\u001b[0;34m(self, key)\u001b[0m\n\u001b[1;32m   3811\u001b[0m         \u001b[38;5;28;01mraise\u001b[39;00m InvalidIndexError(key)\n\u001b[0;32m-> 3812\u001b[0m     \u001b[38;5;28;01mraise\u001b[39;00m \u001b[38;5;167;01mKeyError\u001b[39;00m(key) \u001b[38;5;28;01mfrom\u001b[39;00m \u001b[38;5;21;01merr\u001b[39;00m\n\u001b[1;32m   3813\u001b[0m \u001b[38;5;28;01mexcept\u001b[39;00m \u001b[38;5;167;01mTypeError\u001b[39;00m:\n\u001b[1;32m   3814\u001b[0m     \u001b[38;5;66;03m# If we have a listlike key, _check_indexing_error will raise\u001b[39;00m\n\u001b[1;32m   3815\u001b[0m     \u001b[38;5;66;03m#  InvalidIndexError. Otherwise we fall through and re-raise\u001b[39;00m\n\u001b[1;32m   3816\u001b[0m     \u001b[38;5;66;03m#  the TypeError.\u001b[39;00m\n",
      "\u001b[0;31mKeyError\u001b[0m: 'job'",
      "\nThe above exception was the direct cause of the following exception:\n",
      "\u001b[0;31mValueError\u001b[0m                                Traceback (most recent call last)",
      "Cell \u001b[0;32mIn[261], line 18\u001b[0m\n\u001b[1;32m     16\u001b[0m \u001b[38;5;28;01mfor\u001b[39;00m name, model \u001b[38;5;129;01min\u001b[39;00m classifier_map\u001b[38;5;241m.\u001b[39mitems():\n\u001b[1;32m     17\u001b[0m     pipeline \u001b[38;5;241m=\u001b[39m create_pipeline(model)\n\u001b[0;32m---> 18\u001b[0m     \u001b[43mpipeline\u001b[49m\u001b[38;5;241;43m.\u001b[39;49m\u001b[43mfit\u001b[49m\u001b[43m(\u001b[49m\u001b[43mX_train\u001b[49m\u001b[43m,\u001b[49m\u001b[43m \u001b[49m\u001b[43my_train\u001b[49m\u001b[43m)\u001b[49m\n\u001b[1;32m     19\u001b[0m     fitted_model[name] \u001b[38;5;241m=\u001b[39m pipeline\n\u001b[1;32m     21\u001b[0m \u001b[38;5;66;03m# Model evaluation function\u001b[39;00m\n",
      "File \u001b[0;32m/Applications/Anaconda/anaconda3/envs/apziva/lib/python3.9/site-packages/sklearn/base.py:1473\u001b[0m, in \u001b[0;36m_fit_context.<locals>.decorator.<locals>.wrapper\u001b[0;34m(estimator, *args, **kwargs)\u001b[0m\n\u001b[1;32m   1466\u001b[0m     estimator\u001b[38;5;241m.\u001b[39m_validate_params()\n\u001b[1;32m   1468\u001b[0m \u001b[38;5;28;01mwith\u001b[39;00m config_context(\n\u001b[1;32m   1469\u001b[0m     skip_parameter_validation\u001b[38;5;241m=\u001b[39m(\n\u001b[1;32m   1470\u001b[0m         prefer_skip_nested_validation \u001b[38;5;129;01mor\u001b[39;00m global_skip_validation\n\u001b[1;32m   1471\u001b[0m     )\n\u001b[1;32m   1472\u001b[0m ):\n\u001b[0;32m-> 1473\u001b[0m     \u001b[38;5;28;01mreturn\u001b[39;00m \u001b[43mfit_method\u001b[49m\u001b[43m(\u001b[49m\u001b[43mestimator\u001b[49m\u001b[43m,\u001b[49m\u001b[43m \u001b[49m\u001b[38;5;241;43m*\u001b[39;49m\u001b[43margs\u001b[49m\u001b[43m,\u001b[49m\u001b[43m \u001b[49m\u001b[38;5;241;43m*\u001b[39;49m\u001b[38;5;241;43m*\u001b[39;49m\u001b[43mkwargs\u001b[49m\u001b[43m)\u001b[49m\n",
      "File \u001b[0;32m/Applications/Anaconda/anaconda3/envs/apziva/lib/python3.9/site-packages/sklearn/pipeline.py:469\u001b[0m, in \u001b[0;36mPipeline.fit\u001b[0;34m(self, X, y, **params)\u001b[0m\n\u001b[1;32m    426\u001b[0m \u001b[38;5;250m\u001b[39m\u001b[38;5;124;03m\"\"\"Fit the model.\u001b[39;00m\n\u001b[1;32m    427\u001b[0m \n\u001b[1;32m    428\u001b[0m \u001b[38;5;124;03mFit all the transformers one after the other and sequentially transform the\u001b[39;00m\n\u001b[0;32m   (...)\u001b[0m\n\u001b[1;32m    466\u001b[0m \u001b[38;5;124;03m    Pipeline with fitted steps.\u001b[39;00m\n\u001b[1;32m    467\u001b[0m \u001b[38;5;124;03m\"\"\"\u001b[39;00m\n\u001b[1;32m    468\u001b[0m routed_params \u001b[38;5;241m=\u001b[39m \u001b[38;5;28mself\u001b[39m\u001b[38;5;241m.\u001b[39m_check_method_params(method\u001b[38;5;241m=\u001b[39m\u001b[38;5;124m\"\u001b[39m\u001b[38;5;124mfit\u001b[39m\u001b[38;5;124m\"\u001b[39m, props\u001b[38;5;241m=\u001b[39mparams)\n\u001b[0;32m--> 469\u001b[0m Xt \u001b[38;5;241m=\u001b[39m \u001b[38;5;28;43mself\u001b[39;49m\u001b[38;5;241;43m.\u001b[39;49m\u001b[43m_fit\u001b[49m\u001b[43m(\u001b[49m\u001b[43mX\u001b[49m\u001b[43m,\u001b[49m\u001b[43m \u001b[49m\u001b[43my\u001b[49m\u001b[43m,\u001b[49m\u001b[43m \u001b[49m\u001b[43mrouted_params\u001b[49m\u001b[43m)\u001b[49m\n\u001b[1;32m    470\u001b[0m \u001b[38;5;28;01mwith\u001b[39;00m _print_elapsed_time(\u001b[38;5;124m\"\u001b[39m\u001b[38;5;124mPipeline\u001b[39m\u001b[38;5;124m\"\u001b[39m, \u001b[38;5;28mself\u001b[39m\u001b[38;5;241m.\u001b[39m_log_message(\u001b[38;5;28mlen\u001b[39m(\u001b[38;5;28mself\u001b[39m\u001b[38;5;241m.\u001b[39msteps) \u001b[38;5;241m-\u001b[39m \u001b[38;5;241m1\u001b[39m)):\n\u001b[1;32m    471\u001b[0m     \u001b[38;5;28;01mif\u001b[39;00m \u001b[38;5;28mself\u001b[39m\u001b[38;5;241m.\u001b[39m_final_estimator \u001b[38;5;241m!=\u001b[39m \u001b[38;5;124m\"\u001b[39m\u001b[38;5;124mpassthrough\u001b[39m\u001b[38;5;124m\"\u001b[39m:\n",
      "File \u001b[0;32m/Applications/Anaconda/anaconda3/envs/apziva/lib/python3.9/site-packages/sklearn/pipeline.py:406\u001b[0m, in \u001b[0;36mPipeline._fit\u001b[0;34m(self, X, y, routed_params)\u001b[0m\n\u001b[1;32m    404\u001b[0m     cloned_transformer \u001b[38;5;241m=\u001b[39m clone(transformer)\n\u001b[1;32m    405\u001b[0m \u001b[38;5;66;03m# Fit or load from cache the current transformer\u001b[39;00m\n\u001b[0;32m--> 406\u001b[0m X, fitted_transformer \u001b[38;5;241m=\u001b[39m \u001b[43mfit_transform_one_cached\u001b[49m\u001b[43m(\u001b[49m\n\u001b[1;32m    407\u001b[0m \u001b[43m    \u001b[49m\u001b[43mcloned_transformer\u001b[49m\u001b[43m,\u001b[49m\n\u001b[1;32m    408\u001b[0m \u001b[43m    \u001b[49m\u001b[43mX\u001b[49m\u001b[43m,\u001b[49m\n\u001b[1;32m    409\u001b[0m \u001b[43m    \u001b[49m\u001b[43my\u001b[49m\u001b[43m,\u001b[49m\n\u001b[1;32m    410\u001b[0m \u001b[43m    \u001b[49m\u001b[38;5;28;43;01mNone\u001b[39;49;00m\u001b[43m,\u001b[49m\n\u001b[1;32m    411\u001b[0m \u001b[43m    \u001b[49m\u001b[43mmessage_clsname\u001b[49m\u001b[38;5;241;43m=\u001b[39;49m\u001b[38;5;124;43m\"\u001b[39;49m\u001b[38;5;124;43mPipeline\u001b[39;49m\u001b[38;5;124;43m\"\u001b[39;49m\u001b[43m,\u001b[49m\n\u001b[1;32m    412\u001b[0m \u001b[43m    \u001b[49m\u001b[43mmessage\u001b[49m\u001b[38;5;241;43m=\u001b[39;49m\u001b[38;5;28;43mself\u001b[39;49m\u001b[38;5;241;43m.\u001b[39;49m\u001b[43m_log_message\u001b[49m\u001b[43m(\u001b[49m\u001b[43mstep_idx\u001b[49m\u001b[43m)\u001b[49m\u001b[43m,\u001b[49m\n\u001b[1;32m    413\u001b[0m \u001b[43m    \u001b[49m\u001b[43mparams\u001b[49m\u001b[38;5;241;43m=\u001b[39;49m\u001b[43mrouted_params\u001b[49m\u001b[43m[\u001b[49m\u001b[43mname\u001b[49m\u001b[43m]\u001b[49m\u001b[43m,\u001b[49m\n\u001b[1;32m    414\u001b[0m \u001b[43m\u001b[49m\u001b[43m)\u001b[49m\n\u001b[1;32m    415\u001b[0m \u001b[38;5;66;03m# Replace the transformer of the step with the fitted\u001b[39;00m\n\u001b[1;32m    416\u001b[0m \u001b[38;5;66;03m# transformer. This is necessary when loading the transformer\u001b[39;00m\n\u001b[1;32m    417\u001b[0m \u001b[38;5;66;03m# from the cache.\u001b[39;00m\n\u001b[1;32m    418\u001b[0m \u001b[38;5;28mself\u001b[39m\u001b[38;5;241m.\u001b[39msteps[step_idx] \u001b[38;5;241m=\u001b[39m (name, fitted_transformer)\n",
      "File \u001b[0;32m/Applications/Anaconda/anaconda3/envs/apziva/lib/python3.9/site-packages/joblib/memory.py:312\u001b[0m, in \u001b[0;36mNotMemorizedFunc.__call__\u001b[0;34m(self, *args, **kwargs)\u001b[0m\n\u001b[1;32m    311\u001b[0m \u001b[38;5;28;01mdef\u001b[39;00m \u001b[38;5;21m__call__\u001b[39m(\u001b[38;5;28mself\u001b[39m, \u001b[38;5;241m*\u001b[39margs, \u001b[38;5;241m*\u001b[39m\u001b[38;5;241m*\u001b[39mkwargs):\n\u001b[0;32m--> 312\u001b[0m     \u001b[38;5;28;01mreturn\u001b[39;00m \u001b[38;5;28;43mself\u001b[39;49m\u001b[38;5;241;43m.\u001b[39;49m\u001b[43mfunc\u001b[49m\u001b[43m(\u001b[49m\u001b[38;5;241;43m*\u001b[39;49m\u001b[43margs\u001b[49m\u001b[43m,\u001b[49m\u001b[43m \u001b[49m\u001b[38;5;241;43m*\u001b[39;49m\u001b[38;5;241;43m*\u001b[39;49m\u001b[43mkwargs\u001b[49m\u001b[43m)\u001b[49m\n",
      "File \u001b[0;32m/Applications/Anaconda/anaconda3/envs/apziva/lib/python3.9/site-packages/sklearn/pipeline.py:1310\u001b[0m, in \u001b[0;36m_fit_transform_one\u001b[0;34m(transformer, X, y, weight, message_clsname, message, params)\u001b[0m\n\u001b[1;32m   1308\u001b[0m \u001b[38;5;28;01mwith\u001b[39;00m _print_elapsed_time(message_clsname, message):\n\u001b[1;32m   1309\u001b[0m     \u001b[38;5;28;01mif\u001b[39;00m \u001b[38;5;28mhasattr\u001b[39m(transformer, \u001b[38;5;124m\"\u001b[39m\u001b[38;5;124mfit_transform\u001b[39m\u001b[38;5;124m\"\u001b[39m):\n\u001b[0;32m-> 1310\u001b[0m         res \u001b[38;5;241m=\u001b[39m \u001b[43mtransformer\u001b[49m\u001b[38;5;241;43m.\u001b[39;49m\u001b[43mfit_transform\u001b[49m\u001b[43m(\u001b[49m\u001b[43mX\u001b[49m\u001b[43m,\u001b[49m\u001b[43m \u001b[49m\u001b[43my\u001b[49m\u001b[43m,\u001b[49m\u001b[43m \u001b[49m\u001b[38;5;241;43m*\u001b[39;49m\u001b[38;5;241;43m*\u001b[39;49m\u001b[43mparams\u001b[49m\u001b[38;5;241;43m.\u001b[39;49m\u001b[43mget\u001b[49m\u001b[43m(\u001b[49m\u001b[38;5;124;43m\"\u001b[39;49m\u001b[38;5;124;43mfit_transform\u001b[39;49m\u001b[38;5;124;43m\"\u001b[39;49m\u001b[43m,\u001b[49m\u001b[43m \u001b[49m\u001b[43m{\u001b[49m\u001b[43m}\u001b[49m\u001b[43m)\u001b[49m\u001b[43m)\u001b[49m\n\u001b[1;32m   1311\u001b[0m     \u001b[38;5;28;01melse\u001b[39;00m:\n\u001b[1;32m   1312\u001b[0m         res \u001b[38;5;241m=\u001b[39m transformer\u001b[38;5;241m.\u001b[39mfit(X, y, \u001b[38;5;241m*\u001b[39m\u001b[38;5;241m*\u001b[39mparams\u001b[38;5;241m.\u001b[39mget(\u001b[38;5;124m\"\u001b[39m\u001b[38;5;124mfit\u001b[39m\u001b[38;5;124m\"\u001b[39m, {}))\u001b[38;5;241m.\u001b[39mtransform(\n\u001b[1;32m   1313\u001b[0m             X, \u001b[38;5;241m*\u001b[39m\u001b[38;5;241m*\u001b[39mparams\u001b[38;5;241m.\u001b[39mget(\u001b[38;5;124m\"\u001b[39m\u001b[38;5;124mtransform\u001b[39m\u001b[38;5;124m\"\u001b[39m, {})\n\u001b[1;32m   1314\u001b[0m         )\n",
      "File \u001b[0;32m/Applications/Anaconda/anaconda3/envs/apziva/lib/python3.9/site-packages/sklearn/utils/_set_output.py:313\u001b[0m, in \u001b[0;36m_wrap_method_output.<locals>.wrapped\u001b[0;34m(self, X, *args, **kwargs)\u001b[0m\n\u001b[1;32m    311\u001b[0m \u001b[38;5;129m@wraps\u001b[39m(f)\n\u001b[1;32m    312\u001b[0m \u001b[38;5;28;01mdef\u001b[39;00m \u001b[38;5;21mwrapped\u001b[39m(\u001b[38;5;28mself\u001b[39m, X, \u001b[38;5;241m*\u001b[39margs, \u001b[38;5;241m*\u001b[39m\u001b[38;5;241m*\u001b[39mkwargs):\n\u001b[0;32m--> 313\u001b[0m     data_to_wrap \u001b[38;5;241m=\u001b[39m \u001b[43mf\u001b[49m\u001b[43m(\u001b[49m\u001b[38;5;28;43mself\u001b[39;49m\u001b[43m,\u001b[49m\u001b[43m \u001b[49m\u001b[43mX\u001b[49m\u001b[43m,\u001b[49m\u001b[43m \u001b[49m\u001b[38;5;241;43m*\u001b[39;49m\u001b[43margs\u001b[49m\u001b[43m,\u001b[49m\u001b[43m \u001b[49m\u001b[38;5;241;43m*\u001b[39;49m\u001b[38;5;241;43m*\u001b[39;49m\u001b[43mkwargs\u001b[49m\u001b[43m)\u001b[49m\n\u001b[1;32m    314\u001b[0m     \u001b[38;5;28;01mif\u001b[39;00m \u001b[38;5;28misinstance\u001b[39m(data_to_wrap, \u001b[38;5;28mtuple\u001b[39m):\n\u001b[1;32m    315\u001b[0m         \u001b[38;5;66;03m# only wrap the first output for cross decomposition\u001b[39;00m\n\u001b[1;32m    316\u001b[0m         return_tuple \u001b[38;5;241m=\u001b[39m (\n\u001b[1;32m    317\u001b[0m             _wrap_data_with_container(method, data_to_wrap[\u001b[38;5;241m0\u001b[39m], X, \u001b[38;5;28mself\u001b[39m),\n\u001b[1;32m    318\u001b[0m             \u001b[38;5;241m*\u001b[39mdata_to_wrap[\u001b[38;5;241m1\u001b[39m:],\n\u001b[1;32m    319\u001b[0m         )\n",
      "File \u001b[0;32m/Applications/Anaconda/anaconda3/envs/apziva/lib/python3.9/site-packages/sklearn/base.py:1473\u001b[0m, in \u001b[0;36m_fit_context.<locals>.decorator.<locals>.wrapper\u001b[0;34m(estimator, *args, **kwargs)\u001b[0m\n\u001b[1;32m   1466\u001b[0m     estimator\u001b[38;5;241m.\u001b[39m_validate_params()\n\u001b[1;32m   1468\u001b[0m \u001b[38;5;28;01mwith\u001b[39;00m config_context(\n\u001b[1;32m   1469\u001b[0m     skip_parameter_validation\u001b[38;5;241m=\u001b[39m(\n\u001b[1;32m   1470\u001b[0m         prefer_skip_nested_validation \u001b[38;5;129;01mor\u001b[39;00m global_skip_validation\n\u001b[1;32m   1471\u001b[0m     )\n\u001b[1;32m   1472\u001b[0m ):\n\u001b[0;32m-> 1473\u001b[0m     \u001b[38;5;28;01mreturn\u001b[39;00m \u001b[43mfit_method\u001b[49m\u001b[43m(\u001b[49m\u001b[43mestimator\u001b[49m\u001b[43m,\u001b[49m\u001b[43m \u001b[49m\u001b[38;5;241;43m*\u001b[39;49m\u001b[43margs\u001b[49m\u001b[43m,\u001b[49m\u001b[43m \u001b[49m\u001b[38;5;241;43m*\u001b[39;49m\u001b[38;5;241;43m*\u001b[39;49m\u001b[43mkwargs\u001b[49m\u001b[43m)\u001b[49m\n",
      "File \u001b[0;32m/Applications/Anaconda/anaconda3/envs/apziva/lib/python3.9/site-packages/sklearn/compose/_column_transformer.py:968\u001b[0m, in \u001b[0;36mColumnTransformer.fit_transform\u001b[0;34m(self, X, y, **params)\u001b[0m\n\u001b[1;32m    965\u001b[0m \u001b[38;5;28mself\u001b[39m\u001b[38;5;241m.\u001b[39m_validate_transformers()\n\u001b[1;32m    966\u001b[0m n_samples \u001b[38;5;241m=\u001b[39m _num_samples(X)\n\u001b[0;32m--> 968\u001b[0m \u001b[38;5;28;43mself\u001b[39;49m\u001b[38;5;241;43m.\u001b[39;49m\u001b[43m_validate_column_callables\u001b[49m\u001b[43m(\u001b[49m\u001b[43mX\u001b[49m\u001b[43m)\u001b[49m\n\u001b[1;32m    969\u001b[0m \u001b[38;5;28mself\u001b[39m\u001b[38;5;241m.\u001b[39m_validate_remainder(X)\n\u001b[1;32m    971\u001b[0m \u001b[38;5;28;01mif\u001b[39;00m _routing_enabled():\n",
      "File \u001b[0;32m/Applications/Anaconda/anaconda3/envs/apziva/lib/python3.9/site-packages/sklearn/compose/_column_transformer.py:536\u001b[0m, in \u001b[0;36mColumnTransformer._validate_column_callables\u001b[0;34m(self, X)\u001b[0m\n\u001b[1;32m    534\u001b[0m         columns \u001b[38;5;241m=\u001b[39m columns(X)\n\u001b[1;32m    535\u001b[0m     all_columns\u001b[38;5;241m.\u001b[39mappend(columns)\n\u001b[0;32m--> 536\u001b[0m     transformer_to_input_indices[name] \u001b[38;5;241m=\u001b[39m \u001b[43m_get_column_indices\u001b[49m\u001b[43m(\u001b[49m\u001b[43mX\u001b[49m\u001b[43m,\u001b[49m\u001b[43m \u001b[49m\u001b[43mcolumns\u001b[49m\u001b[43m)\u001b[49m\n\u001b[1;32m    538\u001b[0m \u001b[38;5;28mself\u001b[39m\u001b[38;5;241m.\u001b[39m_columns \u001b[38;5;241m=\u001b[39m all_columns\n\u001b[1;32m    539\u001b[0m \u001b[38;5;28mself\u001b[39m\u001b[38;5;241m.\u001b[39m_transformer_to_input_indices \u001b[38;5;241m=\u001b[39m transformer_to_input_indices\n",
      "File \u001b[0;32m/Applications/Anaconda/anaconda3/envs/apziva/lib/python3.9/site-packages/sklearn/utils/_indexing.py:369\u001b[0m, in \u001b[0;36m_get_column_indices\u001b[0;34m(X, key)\u001b[0m\n\u001b[1;32m    366\u001b[0m         column_indices\u001b[38;5;241m.\u001b[39mappend(col_idx)\n\u001b[1;32m    368\u001b[0m \u001b[38;5;28;01mexcept\u001b[39;00m \u001b[38;5;167;01mKeyError\u001b[39;00m \u001b[38;5;28;01mas\u001b[39;00m e:\n\u001b[0;32m--> 369\u001b[0m     \u001b[38;5;28;01mraise\u001b[39;00m \u001b[38;5;167;01mValueError\u001b[39;00m(\u001b[38;5;124m\"\u001b[39m\u001b[38;5;124mA given column is not a column of the dataframe\u001b[39m\u001b[38;5;124m\"\u001b[39m) \u001b[38;5;28;01mfrom\u001b[39;00m \u001b[38;5;21;01me\u001b[39;00m\n\u001b[1;32m    371\u001b[0m \u001b[38;5;28;01mreturn\u001b[39;00m column_indices\n",
      "\u001b[0;31mValueError\u001b[0m: A given column is not a column of the dataframe"
     ]
    }
   ],
   "source": [
    "# preprocessing step (OneHotEncoding for categorical, scaling for numeric)\n",
    "preprocessor = ColumnTransformer(\n",
    "    transformers=[\n",
    "        ('num', StandardScaler(), num_cols),\n",
    "        ('cat', OneHotEncoder(handle_unknown='ignore'), cat_cols)\n",
    "    ]\n",
    ")\n",
    "\n",
    "# Create a pipeline that includes preprocessing and classifier\n",
    "def create_pipeline(model):\n",
    "    return Pipeline(steps=[('preprocessor', preprocessor), ('classifier', model)])\n",
    "\n",
    "# Fit each model using the pipeline\n",
    "fitted_model = {}\n",
    "\n",
    "for name, model in classifier_map.items():\n",
    "    pipeline = create_pipeline(model)\n",
    "    pipeline.fit(X_train, y_train)\n",
    "    fitted_model[name] = pipeline\n",
    "\n",
    "# Model evaluation function\n",
    "def model_eval(models, X, y):\n",
    "    for name, model in models.items():\n",
    "        y_pred = model.predict(X)  # Predict on validation data\n",
    "        accuracy = accuracy_score(y, y_pred)\n",
    "        recall = recall_score(y, y_pred)\n",
    "\n",
    "        print(f'''\n",
    "        Model name: {name}\n",
    "        Accuracy: {accuracy * 100:.2f}%\n",
    "        Recall: {recall * 100:.2f}%\n",
    "        Classification report:\n",
    "        {classification_report(y, y_pred)}\n",
    "        ''')"
   ]
  },
  {
   "cell_type": "code",
   "execution_count": null,
   "id": "0aa4c0a5-2d6a-472b-968d-99a9bdd27528",
   "metadata": {},
   "outputs": [],
   "source": [
    "# Evaluate models on the validation data\n",
    "model_eval(fitted_model, X_val, y_val)"
   ]
  },
  {
   "cell_type": "code",
   "execution_count": 256,
   "id": "6e08e752-7652-4c00-8906-ab1406e7f007",
   "metadata": {},
   "outputs": [],
   "source": [
    "def dummy_and_scale(data, target_column_name, cat_columns, scaler, drop_first=False, \n",
    "                    undersample=False, oversample=False):\n",
    "    '''\n",
    "    Function to dummify only categorical columns and scale numeric ones.\n",
    "    '''\n",
    "    # Separate target column\n",
    "    X = data.drop(columns=[target_column_name])\n",
    "    y = data[target_column_name]\n",
    "\n",
    "    # Identify numerical columns to scale\n",
    "    num_columns = [col for col in X.columns if col not in cat_columns]\n",
    "\n",
    "    # Dummify only categorical columns\n",
    "    X_cat = pd.get_dummies(X[cat_columns], drop_first=drop_first)\n",
    "\n",
    "    # Scale numerical columns\n",
    "    X_num_scaled = pd.DataFrame(scaler.fit_transform(X[num_columns]), \n",
    "                                columns=num_columns, \n",
    "                                index=X.index)\n",
    "\n",
    "    # Combine scaled numerical and dummified categorical columns\n",
    "    X_scaled = pd.concat([X_num_scaled, X_cat], axis=1)\n",
    "\n",
    "    # Optional under/oversampling\n",
    "    if undersample:\n",
    "        rus = RandomUnderSampler()\n",
    "        X_scaled, y = rus.fit_resample(X_scaled, y)\n",
    "\n",
    "    if oversample:\n",
    "        ros = RandomOverSampler()\n",
    "        X_scaled, y = ros.fit_resample(X_scaled, y)\n",
    "\n",
    "    # Concatenate scaled features and target column\n",
    "    data_scaled = pd.concat([X_scaled, y.reset_index(drop=True)], axis=1)\n",
    "\n",
    "    return data_scaled, X_scaled, y"
   ]
  },
  {
   "cell_type": "code",
   "execution_count": 257,
   "id": "48f4cf31-039d-4bce-8faf-1eb576752be3",
   "metadata": {},
   "outputs": [
    {
     "data": {
      "text/plain": [
       "Index(['job', 'marital', 'education', 'default', 'housing', 'loan'], dtype='object')"
      ]
     },
     "execution_count": 257,
     "metadata": {},
     "output_type": "execute_result"
    }
   ],
   "source": [
    "cat_cols"
   ]
  },
  {
   "cell_type": "code",
   "execution_count": 237,
   "id": "046d071f-c2d1-427c-8aed-fb18a4353ea7",
   "metadata": {},
   "outputs": [],
   "source": [
    "train_scaled,X_train,y_train=dummy_and_scale(\n",
    "    data=data,\n",
    "    target_column_name='y',\n",
    "    cat_columns=cat_cols,\n",
    "    scaler=StandardScaler(),\n",
    "    drop_first=True,\n",
    "    oversample=True\n",
    ")"
   ]
  },
  {
   "cell_type": "code",
   "execution_count": 238,
   "id": "2f2d4a77-7b0b-4ad3-9f94-5d4e4d37fcce",
   "metadata": {},
   "outputs": [
    {
     "data": {
      "text/plain": [
       "Counter({0: 37104, 1: 37104})"
      ]
     },
     "execution_count": 238,
     "metadata": {},
     "output_type": "execute_result"
    }
   ],
   "source": [
    "# check to make sure it worked\n",
    "Counter(train_scaled['y'])"
   ]
  },
  {
   "cell_type": "markdown",
   "id": "dd699e3c-0fdf-4df1-b001-42a47a416bde",
   "metadata": {},
   "source": [
    "### Cross Validation with 5 Folds"
   ]
  },
  {
   "cell_type": "markdown",
   "id": "4b37f55c-bb37-4a53-9c23-c3422f7b6f04",
   "metadata": {},
   "source": [
    "Define function to speed up model cross-validation process:"
   ]
  },
  {
   "cell_type": "code",
   "execution_count": 246,
   "id": "86c9fb7f-20eb-4ab7-9c06-803c257727e3",
   "metadata": {},
   "outputs": [],
   "source": [
    "def crossValidate(model, folds, X_train, y_train, random_state,timer=False):\n",
    "    '''\n",
    "    Cross-validate and get scores for user-specified models.\n",
    "    '''\n",
    "    score_dict={}\n",
    "    \n",
    "    start_time=time.time()\n",
    "    \n",
    "    scoring = ['accuracy', 'precision', 'recall', 'f1']\n",
    "    cv = StratifiedKFold(n_splits=folds, shuffle=True, random_state=random_state)\n",
    "    \n",
    "    # Perform cross-validation\n",
    "    scores = cross_validate(model, X=X_train, y=y_train, cv=cv, scoring=scoring)\n",
    "\n",
    "    # Use setdefault to safely access and initialize the model's scores\n",
    "    score_dict.setdefault(model, {}).setdefault('accuracy', []).extend(scores['test_accuracy'])\n",
    "    score_dict.setdefault(model, {}).setdefault('precision', []).extend(scores['test_precision'])\n",
    "    score_dict.setdefault(model, {}).setdefault('recall', []).extend(scores['test_recall'])\n",
    "    score_dict.setdefault(model, {}).setdefault('f1', []).extend(scores['test_f1'])\n",
    "    \n",
    "    # Print average scores\n",
    "    print(f'\\nModel: {model}')\n",
    "    print(f'Average Accuracy: {scores[\"test_accuracy\"].mean() * 100:.2f}%')\n",
    "    print(f'Average Precision: {scores[\"test_precision\"].mean() * 100:.2f}%')\n",
    "    print(f'Average Recall: {scores[\"test_recall\"].mean() * 100:.2f}%')\n",
    "    print(f'Average F1 Score: {scores[\"test_f1\"].mean() * 100:.2f}%')\n",
    "    if timer:\n",
    "        end_time=time.time()\n",
    "        print(f'Elapsed time: {end_time-start_time:.2f} seconds') \n",
    "    print('-' * 20)\n",
    "    \n",
    "    return score_dict"
   ]
  },
  {
   "cell_type": "code",
   "execution_count": 247,
   "id": "0c0eee56-6f73-4a6a-a564-1d3d39eacf56",
   "metadata": {},
   "outputs": [],
   "source": [
    "classifier_map={\n",
    "    'etc':ExtraTreeClassifier(random_state=seed),\n",
    "    'xgb':XGBClassifier(random_state=seed),\n",
    "    'dtc':DecisionTreeClassifier(random_state=seed),\n",
    "    'rfc':RandomForestClassifier(random_state=seed),\n",
    "    'lgb':LGBMClassifier(random_state=seed,verbose=-1),\n",
    "    'lrx':LogisticRegression(random_state=seed)\n",
    "}"
   ]
  },
  {
   "cell_type": "code",
   "execution_count": 248,
   "id": "396c31ef-e7c3-47b3-b80a-a90ed33d984c",
   "metadata": {},
   "outputs": [
    {
     "name": "stdout",
     "output_type": "stream",
     "text": [
      "\n",
      "Model: ExtraTreeClassifier(random_state=4436)\n",
      "Average Accuracy: 95.39%\n",
      "Average Precision: 91.62%\n",
      "Average Recall: 99.92%\n",
      "Average F1 Score: 95.59%\n",
      "Elapsed time: 0.26 seconds\n",
      "--------------------\n",
      "\n",
      "Model: XGBClassifier(base_score=None, booster=None, callbacks=None,\n",
      "              colsample_bylevel=None, colsample_bynode=None,\n",
      "              colsample_bytree=None, device=None, early_stopping_rounds=None,\n",
      "              enable_categorical=False, eval_metric=None, feature_types=None,\n",
      "              gamma=None, grow_policy=None, importance_type=None,\n",
      "              interaction_constraints=None, learning_rate=None, max_bin=None,\n",
      "              max_cat_threshold=None, max_cat_to_onehot=None,\n",
      "              max_delta_step=None, max_depth=None, max_leaves=None,\n",
      "              min_child_weight=None, missing=nan, monotone_constraints=None,\n",
      "              multi_strategy=None, n_estimators=None, n_jobs=None,\n",
      "              num_parallel_tree=None, random_state=4436, ...)\n",
      "Average Accuracy: 77.20%\n",
      "Average Precision: 75.99%\n",
      "Average Recall: 79.53%\n",
      "Average F1 Score: 77.72%\n",
      "Elapsed time: 1.21 seconds\n",
      "--------------------\n",
      "\n",
      "Model: DecisionTreeClassifier(random_state=4436)\n",
      "Average Accuracy: 95.23%\n",
      "Average Precision: 91.35%\n",
      "Average Recall: 99.92%\n",
      "Average F1 Score: 95.44%\n",
      "Elapsed time: 0.78 seconds\n",
      "--------------------\n",
      "\n",
      "Model: RandomForestClassifier(random_state=4436)\n",
      "Average Accuracy: 96.56%\n",
      "Average Precision: 93.61%\n",
      "Average Recall: 99.93%\n",
      "Average F1 Score: 96.67%\n",
      "Elapsed time: 15.19 seconds\n",
      "--------------------\n",
      "\n",
      "Model: LGBMClassifier(random_state=4436, verbose=-1)\n",
      "Average Accuracy: 70.41%\n",
      "Average Precision: 70.56%\n",
      "Average Recall: 70.05%\n",
      "Average F1 Score: 70.30%\n",
      "Elapsed time: 1.23 seconds\n",
      "--------------------\n",
      "\n",
      "Model: LogisticRegression(random_state=4436)\n",
      "Average Accuracy: 58.38%\n",
      "Average Precision: 58.80%\n",
      "Average Recall: 55.99%\n",
      "Average F1 Score: 57.36%\n",
      "Elapsed time: 0.78 seconds\n",
      "--------------------\n"
     ]
    }
   ],
   "source": [
    "cv_scores={}\n",
    "for key in classifier_map.keys():\n",
    "    cv_scores[key]=crossValidate(model=classifier_map[key],\n",
    "                  folds=5,\n",
    "                  X_train=X_train,\n",
    "                  y_train=y_train,\n",
    "                  random_state=seed,\n",
    "                  timer=True)"
   ]
  },
  {
   "cell_type": "code",
   "execution_count": 249,
   "id": "58dfa4ca-0c0c-4cc5-b4b0-139bb05a85d9",
   "metadata": {},
   "outputs": [
    {
     "name": "stdout",
     "output_type": "stream",
     "text": [
      "\n",
      "Model with max mean recall: rfc \n",
      "Recall: 99.93%\n",
      "\n",
      "Model with max mean accuracy: rfc \n",
      "Accuracy: 96.56%\n"
     ]
    }
   ],
   "source": [
    "# loop through results to extract best model and results\n",
    "max_mean_recall=0\n",
    "max_mean_accuracy=0\n",
    "best_recall_model=None\n",
    "best_accuracy_model=None\n",
    "\n",
    "for model_name,model_data in cv_scores.items():\n",
    "    \n",
    "    scores=list(model_data.values())[0]\n",
    "    \n",
    "    mean_recall=np.mean(scores['recall'])\n",
    "    mean_accuracy=np.mean(scores['accuracy'])\n",
    "    \n",
    "    # update max recall and corresponding model\n",
    "    if mean_recall>max_mean_recall:\n",
    "        max_mean_recall=mean_recall\n",
    "        best_recall_model=model_name\n",
    "        \n",
    "    # update max accuracy and corresponding model\n",
    "    if mean_accuracy>max_mean_accuracy:\n",
    "        max_mean_accuracy=mean_accuracy\n",
    "        best_accuracy_model=model_name\n",
    "        \n",
    "# print results\n",
    "print(f'''\n",
    "Model with max mean recall: {best_recall_model} \n",
    "Recall: {max_mean_recall*100:.2f}%''')\n",
    "print(f'''\n",
    "Model with max mean accuracy: {best_accuracy_model} \n",
    "Accuracy: {max_mean_accuracy*100:.2f}%''')"
   ]
  },
  {
   "cell_type": "markdown",
   "id": "0b365af3-a651-4ba2-8144-d33da35b2b79",
   "metadata": {},
   "source": [
    "Using the training dataset, the best model is RandomForestClassifier with an average recall of almost 100%! The accuracy is also very high, at over 98%."
   ]
  },
  {
   "cell_type": "markdown",
   "id": "c50242cb-4b64-4173-934a-1a11a041e203",
   "metadata": {},
   "source": [
    "### Evaluate the models on the validation set"
   ]
  },
  {
   "cell_type": "code",
   "execution_count": 251,
   "id": "59ffc494-3a21-4267-91b8-0e196a39f1ae",
   "metadata": {},
   "outputs": [
    {
     "ename": "ValueError",
     "evalue": "The feature names should match those that were passed during fit.\nFeature names unseen at fit time:\n- default\n- education\n- housing\n- job\n- loan\n- ...\nFeature names seen at fit time, yet now missing:\n- default_yes\n- education_secondary\n- education_tertiary\n- education_unknown\n- housing_yes\n- ...\n",
     "output_type": "error",
     "traceback": [
      "\u001b[0;31m---------------------------------------------------------------------------\u001b[0m",
      "\u001b[0;31mValueError\u001b[0m                                Traceback (most recent call last)",
      "Cell \u001b[0;32mIn[251], line 32\u001b[0m\n\u001b[1;32m     23\u001b[0m         \u001b[38;5;28mprint\u001b[39m(\u001b[38;5;124mf\u001b[39m\u001b[38;5;124m'''\u001b[39m\n\u001b[1;32m     24\u001b[0m \u001b[38;5;124m        Model name: \u001b[39m\u001b[38;5;132;01m{\u001b[39;00mname\u001b[38;5;132;01m}\u001b[39;00m\n\u001b[1;32m     25\u001b[0m \u001b[38;5;124m        Accuracy: \u001b[39m\u001b[38;5;132;01m{\u001b[39;00maccuracy\u001b[38;5;241m*\u001b[39m\u001b[38;5;241m100\u001b[39m\u001b[38;5;132;01m:\u001b[39;00m\u001b[38;5;124m.2f\u001b[39m\u001b[38;5;132;01m}\u001b[39;00m\u001b[38;5;124m%\u001b[39m\n\u001b[0;32m   (...)\u001b[0m\n\u001b[1;32m     28\u001b[0m \u001b[38;5;124m        \u001b[39m\u001b[38;5;132;01m{\u001b[39;00mclassification_report(y,y_pred)\u001b[38;5;132;01m}\u001b[39;00m\n\u001b[1;32m     29\u001b[0m \u001b[38;5;124m        \u001b[39m\u001b[38;5;124m'''\u001b[39m)\n\u001b[1;32m     31\u001b[0m \u001b[38;5;66;03m# Evaluate models on validation data\u001b[39;00m\n\u001b[0;32m---> 32\u001b[0m \u001b[43mmodel_eval\u001b[49m\u001b[43m(\u001b[49m\u001b[43mfitted_model\u001b[49m\u001b[43m,\u001b[49m\u001b[43mX_val\u001b[49m\u001b[43m,\u001b[49m\u001b[43my_val\u001b[49m\u001b[43m)\u001b[49m\n",
      "Cell \u001b[0;32mIn[251], line 19\u001b[0m, in \u001b[0;36mmodel_eval\u001b[0;34m(models, X, y)\u001b[0m\n\u001b[1;32m     15\u001b[0m \u001b[38;5;250m\u001b[39m\u001b[38;5;124;03m'''\u001b[39;00m\n\u001b[1;32m     16\u001b[0m \u001b[38;5;124;03mEvaluate fitted models on the validation data.\u001b[39;00m\n\u001b[1;32m     17\u001b[0m \u001b[38;5;124;03m'''\u001b[39;00m\n\u001b[1;32m     18\u001b[0m \u001b[38;5;28;01mfor\u001b[39;00m name,model \u001b[38;5;129;01min\u001b[39;00m models\u001b[38;5;241m.\u001b[39mitems():\n\u001b[0;32m---> 19\u001b[0m     y_pred\u001b[38;5;241m=\u001b[39m\u001b[43mmodel\u001b[49m\u001b[38;5;241;43m.\u001b[39;49m\u001b[43mpredict\u001b[49m\u001b[43m(\u001b[49m\u001b[43mX\u001b[49m\u001b[43m)\u001b[49m  \u001b[38;5;66;03m# Predict on validation data\u001b[39;00m\n\u001b[1;32m     20\u001b[0m     accuracy\u001b[38;5;241m=\u001b[39maccuracy_score(y,y_pred)\n\u001b[1;32m     21\u001b[0m     recall\u001b[38;5;241m=\u001b[39mrecall_score(y,y_pred)\n",
      "File \u001b[0;32m/Applications/Anaconda/anaconda3/envs/apziva/lib/python3.9/site-packages/sklearn/tree/_classes.py:529\u001b[0m, in \u001b[0;36mBaseDecisionTree.predict\u001b[0;34m(self, X, check_input)\u001b[0m\n\u001b[1;32m    506\u001b[0m \u001b[38;5;250m\u001b[39m\u001b[38;5;124;03m\"\"\"Predict class or regression value for X.\u001b[39;00m\n\u001b[1;32m    507\u001b[0m \n\u001b[1;32m    508\u001b[0m \u001b[38;5;124;03mFor a classification model, the predicted class for each sample in X is\u001b[39;00m\n\u001b[0;32m   (...)\u001b[0m\n\u001b[1;32m    526\u001b[0m \u001b[38;5;124;03m    The predicted classes, or the predict values.\u001b[39;00m\n\u001b[1;32m    527\u001b[0m \u001b[38;5;124;03m\"\"\"\u001b[39;00m\n\u001b[1;32m    528\u001b[0m check_is_fitted(\u001b[38;5;28mself\u001b[39m)\n\u001b[0;32m--> 529\u001b[0m X \u001b[38;5;241m=\u001b[39m \u001b[38;5;28;43mself\u001b[39;49m\u001b[38;5;241;43m.\u001b[39;49m\u001b[43m_validate_X_predict\u001b[49m\u001b[43m(\u001b[49m\u001b[43mX\u001b[49m\u001b[43m,\u001b[49m\u001b[43m \u001b[49m\u001b[43mcheck_input\u001b[49m\u001b[43m)\u001b[49m\n\u001b[1;32m    530\u001b[0m proba \u001b[38;5;241m=\u001b[39m \u001b[38;5;28mself\u001b[39m\u001b[38;5;241m.\u001b[39mtree_\u001b[38;5;241m.\u001b[39mpredict(X)\n\u001b[1;32m    531\u001b[0m n_samples \u001b[38;5;241m=\u001b[39m X\u001b[38;5;241m.\u001b[39mshape[\u001b[38;5;241m0\u001b[39m]\n",
      "File \u001b[0;32m/Applications/Anaconda/anaconda3/envs/apziva/lib/python3.9/site-packages/sklearn/tree/_classes.py:489\u001b[0m, in \u001b[0;36mBaseDecisionTree._validate_X_predict\u001b[0;34m(self, X, check_input)\u001b[0m\n\u001b[1;32m    487\u001b[0m \u001b[38;5;28;01melse\u001b[39;00m:\n\u001b[1;32m    488\u001b[0m     force_all_finite \u001b[38;5;241m=\u001b[39m \u001b[38;5;28;01mTrue\u001b[39;00m\n\u001b[0;32m--> 489\u001b[0m X \u001b[38;5;241m=\u001b[39m \u001b[38;5;28;43mself\u001b[39;49m\u001b[38;5;241;43m.\u001b[39;49m\u001b[43m_validate_data\u001b[49m\u001b[43m(\u001b[49m\n\u001b[1;32m    490\u001b[0m \u001b[43m    \u001b[49m\u001b[43mX\u001b[49m\u001b[43m,\u001b[49m\n\u001b[1;32m    491\u001b[0m \u001b[43m    \u001b[49m\u001b[43mdtype\u001b[49m\u001b[38;5;241;43m=\u001b[39;49m\u001b[43mDTYPE\u001b[49m\u001b[43m,\u001b[49m\n\u001b[1;32m    492\u001b[0m \u001b[43m    \u001b[49m\u001b[43maccept_sparse\u001b[49m\u001b[38;5;241;43m=\u001b[39;49m\u001b[38;5;124;43m\"\u001b[39;49m\u001b[38;5;124;43mcsr\u001b[39;49m\u001b[38;5;124;43m\"\u001b[39;49m\u001b[43m,\u001b[49m\n\u001b[1;32m    493\u001b[0m \u001b[43m    \u001b[49m\u001b[43mreset\u001b[49m\u001b[38;5;241;43m=\u001b[39;49m\u001b[38;5;28;43;01mFalse\u001b[39;49;00m\u001b[43m,\u001b[49m\n\u001b[1;32m    494\u001b[0m \u001b[43m    \u001b[49m\u001b[43mforce_all_finite\u001b[49m\u001b[38;5;241;43m=\u001b[39;49m\u001b[43mforce_all_finite\u001b[49m\u001b[43m,\u001b[49m\n\u001b[1;32m    495\u001b[0m \u001b[43m\u001b[49m\u001b[43m)\u001b[49m\n\u001b[1;32m    496\u001b[0m \u001b[38;5;28;01mif\u001b[39;00m issparse(X) \u001b[38;5;129;01mand\u001b[39;00m (\n\u001b[1;32m    497\u001b[0m     X\u001b[38;5;241m.\u001b[39mindices\u001b[38;5;241m.\u001b[39mdtype \u001b[38;5;241m!=\u001b[39m np\u001b[38;5;241m.\u001b[39mintc \u001b[38;5;129;01mor\u001b[39;00m X\u001b[38;5;241m.\u001b[39mindptr\u001b[38;5;241m.\u001b[39mdtype \u001b[38;5;241m!=\u001b[39m np\u001b[38;5;241m.\u001b[39mintc\n\u001b[1;32m    498\u001b[0m ):\n\u001b[1;32m    499\u001b[0m     \u001b[38;5;28;01mraise\u001b[39;00m \u001b[38;5;167;01mValueError\u001b[39;00m(\u001b[38;5;124m\"\u001b[39m\u001b[38;5;124mNo support for np.int64 index based sparse matrices\u001b[39m\u001b[38;5;124m\"\u001b[39m)\n",
      "File \u001b[0;32m/Applications/Anaconda/anaconda3/envs/apziva/lib/python3.9/site-packages/sklearn/base.py:608\u001b[0m, in \u001b[0;36mBaseEstimator._validate_data\u001b[0;34m(self, X, y, reset, validate_separately, cast_to_ndarray, **check_params)\u001b[0m\n\u001b[1;32m    537\u001b[0m \u001b[38;5;28;01mdef\u001b[39;00m \u001b[38;5;21m_validate_data\u001b[39m(\n\u001b[1;32m    538\u001b[0m     \u001b[38;5;28mself\u001b[39m,\n\u001b[1;32m    539\u001b[0m     X\u001b[38;5;241m=\u001b[39m\u001b[38;5;124m\"\u001b[39m\u001b[38;5;124mno_validation\u001b[39m\u001b[38;5;124m\"\u001b[39m,\n\u001b[0;32m   (...)\u001b[0m\n\u001b[1;32m    544\u001b[0m     \u001b[38;5;241m*\u001b[39m\u001b[38;5;241m*\u001b[39mcheck_params,\n\u001b[1;32m    545\u001b[0m ):\n\u001b[1;32m    546\u001b[0m \u001b[38;5;250m    \u001b[39m\u001b[38;5;124;03m\"\"\"Validate input data and set or check the `n_features_in_` attribute.\u001b[39;00m\n\u001b[1;32m    547\u001b[0m \n\u001b[1;32m    548\u001b[0m \u001b[38;5;124;03m    Parameters\u001b[39;00m\n\u001b[0;32m   (...)\u001b[0m\n\u001b[1;32m    606\u001b[0m \u001b[38;5;124;03m        validated.\u001b[39;00m\n\u001b[1;32m    607\u001b[0m \u001b[38;5;124;03m    \"\"\"\u001b[39;00m\n\u001b[0;32m--> 608\u001b[0m     \u001b[38;5;28;43mself\u001b[39;49m\u001b[38;5;241;43m.\u001b[39;49m\u001b[43m_check_feature_names\u001b[49m\u001b[43m(\u001b[49m\u001b[43mX\u001b[49m\u001b[43m,\u001b[49m\u001b[43m \u001b[49m\u001b[43mreset\u001b[49m\u001b[38;5;241;43m=\u001b[39;49m\u001b[43mreset\u001b[49m\u001b[43m)\u001b[49m\n\u001b[1;32m    610\u001b[0m     \u001b[38;5;28;01mif\u001b[39;00m y \u001b[38;5;129;01mis\u001b[39;00m \u001b[38;5;28;01mNone\u001b[39;00m \u001b[38;5;129;01mand\u001b[39;00m \u001b[38;5;28mself\u001b[39m\u001b[38;5;241m.\u001b[39m_get_tags()[\u001b[38;5;124m\"\u001b[39m\u001b[38;5;124mrequires_y\u001b[39m\u001b[38;5;124m\"\u001b[39m]:\n\u001b[1;32m    611\u001b[0m         \u001b[38;5;28;01mraise\u001b[39;00m \u001b[38;5;167;01mValueError\u001b[39;00m(\n\u001b[1;32m    612\u001b[0m             \u001b[38;5;124mf\u001b[39m\u001b[38;5;124m\"\u001b[39m\u001b[38;5;124mThis \u001b[39m\u001b[38;5;132;01m{\u001b[39;00m\u001b[38;5;28mself\u001b[39m\u001b[38;5;241m.\u001b[39m\u001b[38;5;18m__class__\u001b[39m\u001b[38;5;241m.\u001b[39m\u001b[38;5;18m__name__\u001b[39m\u001b[38;5;132;01m}\u001b[39;00m\u001b[38;5;124m estimator \u001b[39m\u001b[38;5;124m\"\u001b[39m\n\u001b[1;32m    613\u001b[0m             \u001b[38;5;124m\"\u001b[39m\u001b[38;5;124mrequires y to be passed, but the target y is None.\u001b[39m\u001b[38;5;124m\"\u001b[39m\n\u001b[1;32m    614\u001b[0m         )\n",
      "File \u001b[0;32m/Applications/Anaconda/anaconda3/envs/apziva/lib/python3.9/site-packages/sklearn/base.py:535\u001b[0m, in \u001b[0;36mBaseEstimator._check_feature_names\u001b[0;34m(self, X, reset)\u001b[0m\n\u001b[1;32m    530\u001b[0m \u001b[38;5;28;01mif\u001b[39;00m \u001b[38;5;129;01mnot\u001b[39;00m missing_names \u001b[38;5;129;01mand\u001b[39;00m \u001b[38;5;129;01mnot\u001b[39;00m unexpected_names:\n\u001b[1;32m    531\u001b[0m     message \u001b[38;5;241m+\u001b[39m\u001b[38;5;241m=\u001b[39m (\n\u001b[1;32m    532\u001b[0m         \u001b[38;5;124m\"\u001b[39m\u001b[38;5;124mFeature names must be in the same order as they were in fit.\u001b[39m\u001b[38;5;130;01m\\n\u001b[39;00m\u001b[38;5;124m\"\u001b[39m\n\u001b[1;32m    533\u001b[0m     )\n\u001b[0;32m--> 535\u001b[0m \u001b[38;5;28;01mraise\u001b[39;00m \u001b[38;5;167;01mValueError\u001b[39;00m(message)\n",
      "\u001b[0;31mValueError\u001b[0m: The feature names should match those that were passed during fit.\nFeature names unseen at fit time:\n- default\n- education\n- housing\n- job\n- loan\n- ...\nFeature names seen at fit time, yet now missing:\n- default_yes\n- education_secondary\n- education_tertiary\n- education_unknown\n- housing_yes\n- ...\n"
     ]
    }
   ],
   "source": [
    "def model_fit(model,X,y):\n",
    "    '''\n",
    "    Fit the model on training data.\n",
    "    '''\n",
    "    model.fit(X,y)\n",
    "    return model\n",
    "\n",
    "fitted_model={}\n",
    "\n",
    "# Fit each model and store in a dictionary\n",
    "for name,model in classifier_map.items():\n",
    "    fitted_model[name]=model_fit(model,X_train,y_train)\n",
    "\n",
    "def model_eval(models,X,y):\n",
    "    '''\n",
    "    Evaluate fitted models on the validation data.\n",
    "    '''\n",
    "    for name,model in models.items():\n",
    "        y_pred=model.predict(X)  # Predict on validation data\n",
    "        accuracy=accuracy_score(y,y_pred)\n",
    "        recall=recall_score(y,y_pred)\n",
    "\n",
    "        print(f'''\n",
    "        Model name: {name}\n",
    "        Accuracy: {accuracy*100:.2f}%\n",
    "        Recall: {recall*100:.2f}%\n",
    "        Classification report:\n",
    "        {classification_report(y,y_pred)}\n",
    "        ''')\n",
    "\n",
    "# Evaluate models on validation data\n",
    "model_eval(fitted_model,X_val,y_val)"
   ]
  },
  {
   "cell_type": "markdown",
   "id": "bf6e805f-0eb9-4fbd-b74b-879ce9ab366f",
   "metadata": {},
   "source": [
    "## Modeling: Layer 2"
   ]
  },
  {
   "cell_type": "markdown",
   "id": "41d5c255-c27d-488f-8f69-8bee86b22957",
   "metadata": {
    "id": "f06b3cf6",
    "tags": []
   },
   "source": [
    "### Layer 2: Use the full X dataset to model which customers the bank should keep calling"
   ]
  },
  {
   "cell_type": "code",
   "execution_count": null,
   "id": "17341fa5-3f4a-42d9-9bac-ab700d1ba1a1",
   "metadata": {
    "id": "70e86c82",
    "outputId": "bf4beec8-a46d-4233-a803-6b24d0ddcf4f"
   },
   "outputs": [
    {
     "data": {
      "text/html": [
       "<div>\n",
       "<style scoped>\n",
       "    .dataframe tbody tr th:only-of-type {\n",
       "        vertical-align: middle;\n",
       "    }\n",
       "\n",
       "    .dataframe tbody tr th {\n",
       "        vertical-align: top;\n",
       "    }\n",
       "\n",
       "    .dataframe thead th {\n",
       "        text-align: right;\n",
       "    }\n",
       "</style>\n",
       "<table border=\"1\" class=\"dataframe\">\n",
       "  <thead>\n",
       "    <tr style=\"text-align: right;\">\n",
       "      <th></th>\n",
       "      <th>age</th>\n",
       "      <th>job</th>\n",
       "      <th>marital</th>\n",
       "      <th>education</th>\n",
       "      <th>default</th>\n",
       "      <th>balance</th>\n",
       "      <th>housing</th>\n",
       "      <th>loan</th>\n",
       "      <th>contact</th>\n",
       "      <th>day</th>\n",
       "      <th>month</th>\n",
       "      <th>duration</th>\n",
       "      <th>campaign</th>\n",
       "    </tr>\n",
       "  </thead>\n",
       "  <tbody>\n",
       "    <tr>\n",
       "      <th>0</th>\n",
       "      <td>58</td>\n",
       "      <td>management</td>\n",
       "      <td>married</td>\n",
       "      <td>tertiary</td>\n",
       "      <td>no</td>\n",
       "      <td>2143</td>\n",
       "      <td>yes</td>\n",
       "      <td>no</td>\n",
       "      <td>unknown</td>\n",
       "      <td>5</td>\n",
       "      <td>may</td>\n",
       "      <td>261</td>\n",
       "      <td>1</td>\n",
       "    </tr>\n",
       "    <tr>\n",
       "      <th>1</th>\n",
       "      <td>44</td>\n",
       "      <td>technician</td>\n",
       "      <td>single</td>\n",
       "      <td>secondary</td>\n",
       "      <td>no</td>\n",
       "      <td>29</td>\n",
       "      <td>yes</td>\n",
       "      <td>no</td>\n",
       "      <td>unknown</td>\n",
       "      <td>5</td>\n",
       "      <td>may</td>\n",
       "      <td>151</td>\n",
       "      <td>1</td>\n",
       "    </tr>\n",
       "    <tr>\n",
       "      <th>2</th>\n",
       "      <td>33</td>\n",
       "      <td>entrepreneur</td>\n",
       "      <td>married</td>\n",
       "      <td>secondary</td>\n",
       "      <td>no</td>\n",
       "      <td>2</td>\n",
       "      <td>yes</td>\n",
       "      <td>yes</td>\n",
       "      <td>unknown</td>\n",
       "      <td>5</td>\n",
       "      <td>may</td>\n",
       "      <td>76</td>\n",
       "      <td>1</td>\n",
       "    </tr>\n",
       "  </tbody>\n",
       "</table>\n",
       "</div>"
      ],
      "text/plain": [
       "   age           job  marital  education default  balance housing loan  \\\n",
       "0   58    management  married   tertiary      no     2143     yes   no   \n",
       "1   44    technician   single  secondary      no       29     yes   no   \n",
       "2   33  entrepreneur  married  secondary      no        2     yes  yes   \n",
       "\n",
       "   contact  day month  duration  campaign  \n",
       "0  unknown    5   may       261         1  \n",
       "1  unknown    5   may       151         1  \n",
       "2  unknown    5   may        76         1  "
      ]
     },
     "execution_count": 163,
     "metadata": {},
     "output_type": "execute_result"
    }
   ],
   "source": [
    "X_2.head(3)"
   ]
  },
  {
   "cell_type": "code",
   "execution_count": null,
   "id": "2fd8e54d-96b8-4147-8466-05672f971530",
   "metadata": {
    "id": "f3cc3a79",
    "outputId": "33cf4219-4f65-4883-dcad-dece07859c3a",
    "scrolled": true
   },
   "outputs": [
    {
     "name": "stdout",
     "output_type": "stream",
     "text": [
      "Categorical and continuous features detected\n",
      "Preprocessor created\n",
      "categorical_features: ['job', 'marital', 'education', 'default', 'housing', 'loan', 'contact', 'month']\n",
      "continuous_features: ['age', 'balance', 'day', 'duration', 'campaign']\n",
      "Training and testing splits created\n",
      "AutoSklearnClassifier and pipeline created\n",
      "\n",
      "Training the pipeline... (This may take up to 60 minutes)\n",
      "\n",
      "\n"
     ]
    }
   ],
   "source": [
    "splits_2,pipeline_2,results_2=\\\n",
    "run_autosklearn_pipeline(X=X_2,\n",
    "                         y=y,\n",
    "                         seed=seed,\n",
    "                         verbose=True,\n",
    "                         test_size=test_size,\n",
    "                         save_location='../joblib/',\n",
    "                         filename='2_pipeline_20240821_layer2',\n",
    "                         time_for_task=3600)"
   ]
  },
  {
   "cell_type": "code",
   "execution_count": null,
   "id": "bc137d2f-d07a-4f0f-b6cf-7740598df380",
   "metadata": {
    "id": "1732dd7c",
    "outputId": "dd57d4d1-4676-419f-f700-b2dd99bef5a3"
   },
   "outputs": [
    {
     "data": {
      "text/plain": [
       "random_forest          23\n",
       "mlp                     5\n",
       "liblinear_svc           3\n",
       "k_nearest_neighbors     2\n",
       "extra_trees             2\n",
       "passive_aggressive      1\n",
       "gaussian_nb             1\n",
       "bernoulli_nb            1\n",
       "Name: param_classifier:__choice__, dtype: int64"
      ]
     },
     "execution_count": 71,
     "metadata": {},
     "output_type": "execute_result"
    }
   ],
   "source": [
    "results_2=returnTopModels('../joblib/2_pipeline_20240821_layer2')\n",
    "results_2"
   ]
  },
  {
   "cell_type": "code",
   "execution_count": null,
   "id": "f075698f-3f27-402f-a5ea-f4d5719b41b0",
   "metadata": {
    "id": "90a1395c"
   },
   "outputs": [],
   "source": [
    "pipeline_2=joblib.load('../joblib/2_pipeline_20240821_layer2')\n",
    "splits_2=joblib.load('../joblib/2_pipeline_20240821_layer2_splits')"
   ]
  },
  {
   "cell_type": "code",
   "execution_count": null,
   "id": "868d2e36-1e53-485a-94c5-5eeab826be8e",
   "metadata": {
    "id": "d20e470c",
    "outputId": "ac45b856-b6b2-42e8-bd5c-01242314d254"
   },
   "outputs": [
    {
     "name": "stdout",
     "output_type": "stream",
     "text": [
      "AutoSklearn accuracy:\n",
      "93.77%\n"
     ]
    }
   ],
   "source": [
    "X_2_test=splits_2['X_test']\n",
    "y_2_test=splits_2['y_test']\n",
    "\n",
    "y_2_pred,accuracy_2=evaluateModel(X_2_test,y_2_test,pipeline_2,verbose=True)"
   ]
  },
  {
   "cell_type": "code",
   "execution_count": null,
   "id": "13074c56-5165-4833-8fab-2fc3e9f74839",
   "metadata": {
    "id": "7902197f",
    "outputId": "12054d76-cb6a-4666-fd98-b032d84113c9"
   },
   "outputs": [
    {
     "data": {
      "image/png": "[encoded data removed]",
      "text/plain": [
       "<Figure size 640x480 with 2 Axes>"
      ]
     },
     "metadata": {},
     "output_type": "display_data"
    }
   ],
   "source": [
    "# view confusion matrix\n",
    "# the F1-score doesn't show but that's ok\n",
    "cf_matrix_2=confusion_matrix(y_2_test,y_2_pred)\n",
    "labels=['True Neg','False Pos','False Neg','True Pos']\n",
    "make_confusion_matrix(cf=cf_matrix_2,\n",
    "                      group_names=labels,\n",
    "                      cmap='coolwarm')"
   ]
  },
  {
   "cell_type": "code",
   "execution_count": null,
   "id": "d2fed3fb-dda4-46f3-befd-3acc4d66d532",
   "metadata": {
    "id": "2946eb0e",
    "outputId": "34a2ccd0-7e00-4f1b-e12b-07e1a052addd"
   },
   "outputs": [
    {
     "name": "stdout",
     "output_type": "stream",
     "text": [
      "              precision    recall  f1-score   support\n",
      "\n",
      "          no       0.95      0.98      0.97      7421\n",
      "         yes       0.62      0.35      0.45       579\n",
      "\n",
      "    accuracy                           0.94      8000\n",
      "   macro avg       0.79      0.67      0.71      8000\n",
      "weighted avg       0.93      0.94      0.93      8000\n",
      "\n"
     ]
    }
   ],
   "source": [
    "# view F1-score\n",
    "creport=classification_report(y_test,y_2_pred)\n",
    "print(creport)"
   ]
  },
  {
   "cell_type": "markdown",
   "id": "5412fc74-84c6-4d6a-881a-8998882771ac",
   "metadata": {
    "id": "4988a70f"
   },
   "source": [
    "This is also a great result."
   ]
  },
  {
   "cell_type": "code",
   "execution_count": null,
   "id": "a9337a5e-13b0-41a6-a28a-6efcca46c992",
   "metadata": {},
   "outputs": [],
   "source": []
  }
 ],
 "metadata": {
  "kernelspec": {
   "display_name": "apziva",
   "language": "python",
   "name": "apziva"
  },
  "language_info": {
   "codemirror_mode": {
    "name": "ipython",
    "version": 3
   },
   "file_extension": ".py",
   "mimetype": "text/x-python",
   "name": "python",
   "nbconvert_exporter": "python",
   "pygments_lexer": "ipython3",
   "version": "3.9.20"
  }
 },
 "nbformat": 4,
 "nbformat_minor": 5
}
