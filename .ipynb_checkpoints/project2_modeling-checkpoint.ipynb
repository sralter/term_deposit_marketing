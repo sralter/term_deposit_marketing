{
 "cells": [
  {
   "cell_type": "markdown",
   "id": "44a4c5d3-3fad-4133-a910-3e4be57ada8f",
   "metadata": {
    "id": "5227e004-7c3d-4d64-824d-36df80facdbf"
   },
   "source": [
    "# Term Deposit Marketing - An Apziva Project"
   ]
  },
  {
   "cell_type": "markdown",
   "id": "b5dad3c3-07a2-46e5-881b-1fcee808679e",
   "metadata": {},
   "source": [
    "# Modeling"
   ]
  },
  {
   "cell_type": "markdown",
   "id": "9c3ac927-2d2d-4d40-b8b2-5cf989c8a3e3",
   "metadata": {
    "id": "13caaf73-d640-4bae-8ee1-f8b07ff73ed1"
   },
   "source": [
    "By Samuel Alter"
   ]
  },
  {
   "cell_type": "markdown",
   "id": "46be3c33-ca2c-44c8-a70b-7aab74df0f12",
   "metadata": {
    "id": "dcc1066f-6628-43fc-abdb-fee10e55e68a"
   },
   "source": [
    "Apziva: G3SuQYZYrFt9dwF3"
   ]
  },
  {
   "cell_type": "markdown",
   "id": "1bff460f-8547-4704-9a79-4e8fc5bfc4e1",
   "metadata": {
    "id": "9623536a-e44e-4fda-8dc5-0e5ed6282c62"
   },
   "source": [
    "## Project Overview"
   ]
  },
  {
   "cell_type": "markdown",
   "id": "518feaf1-38d6-4bf9-a674-ec92eae29a00",
   "metadata": {
    "id": "95b04356-770c-4b85-8823-5d6f7dec2f19"
   },
   "source": [
    "Using phone call data from a European bank, this project will be building a model that predicts if a customer will subscribe to a term deposit, a type of financial product. This project is a partnership with a startup focused on providing ML solutions for European banks."
   ]
  },
  {
   "cell_type": "markdown",
   "id": "b729c582-bc1d-4e9d-bbb2-8388a98f045d",
   "metadata": {
    "id": "0523ee87-ca0b-4efc-80b1-86d7c3f5770f",
    "tags": []
   },
   "source": [
    "### Goals"
   ]
  },
  {
   "cell_type": "markdown",
   "id": "c681a67c-c676-4843-9c0f-3cabc46182a0",
   "metadata": {
    "id": "22534a75-16be-4d77-9a59-8f92436c1700"
   },
   "source": [
    "The startup is hoping that I can **achieve ≥81% accuracy** using a 5-fold cross validation strategy, taking the average performance score.\n",
    "\n",
    "Bonus goals include:\n",
    "* Determining which customers are most likely to buy the term deposit loan\n",
    "  * Which segments of customers should the client prioritize?\n",
    "* Determine what makes the customer buy the loan\n",
    "  * Which feature should the startup focus on?"
   ]
  },
  {
   "cell_type": "markdown",
   "id": "dff5f521-2560-49a0-8979-bdc3d85884f6",
   "metadata": {
    "id": "c73e9346-3220-4860-b609-22540ad7fb6e"
   },
   "source": [
    "### The dataset"
   ]
  },
  {
   "cell_type": "markdown",
   "id": "292a274f-b765-4f59-9434-6bf316e81ad4",
   "metadata": {
    "id": "f561d828-da7d-49a6-a990-be0ab899e90f"
   },
   "source": [
    "Using phone call data from a European bank, this project will be building models that predict if a customer will subscribe to a term deposit, a type of financial product. This project is a partnership with a startup focused on providing ML solutions for European banks.\n",
    "\n",
    "The dataset consists of the following columns:\n",
    "* `age`\n",
    "  * Numeric\n",
    "  * The age of the customer\n",
    "* `job`\n",
    "  * Categorical\n",
    "  * The job category of the customer\n",
    "* `marital`\n",
    "  * Categorical\n",
    "  * Whether the customer is married\n",
    "* `education`\n",
    "  * Categorical\n",
    "  * The customer's level of education\n",
    "* `default`\n",
    "  * Binary\n",
    "  * If the customer has credit in default or not\n",
    "* `balance`\n",
    "  * Numeric\n",
    "  * Average yearly balance in Euros\n",
    "* `housing`\n",
    "  * Binary\n",
    "  * If the customer has a housing loan or not\n",
    "* `loan`\n",
    "  * Binary\n",
    "  * If the customer has a personal loan\n",
    "* `contact`\n",
    "  * Categorical\n",
    "  * The type of contact communication\n",
    "* `day`\n",
    "  * Numeric\n",
    "  * Last contact day of the month\n",
    "* `month`\n",
    "  * Categorical\n",
    "  * Last contact month of the year\n",
    "* `duration`\n",
    "  * Numeric\n",
    "  * Duration of the last phone call with the customer\n",
    "* `campaign`\n",
    "  * Numeric\n",
    "  * The number of contacts performed during this campaign and for this client, which includes the last contact"
   ]
  },
  {
   "cell_type": "markdown",
   "id": "687bc6f3-ed8e-40fe-9e2a-82bc2fb75657",
   "metadata": {
    "id": "866a70ee-45dd-402c-b132-593a220dabec",
    "tags": []
   },
   "source": [
    "The final column, `y`, is the target of the dataset and shows whether the client subscribed to a term deposit."
   ]
  },
  {
   "cell_type": "markdown",
   "id": "622a9c07-3a3d-4889-9a59-ab33493b1ca3",
   "metadata": {
    "id": "cec43663-7e38-44ee-80d5-df9885aa7c12"
   },
   "source": [
    "## Imports and Helper Functions"
   ]
  },
  {
   "cell_type": "code",
   "execution_count": 222,
   "id": "27653100-1ef5-4643-9395-567cf5362aa3",
   "metadata": {},
   "outputs": [],
   "source": [
    "import numpy as np\n",
    "import pandas as pd\n",
    "from pandas.api.types import is_string_dtype\n",
    "import matplotlib.pyplot as plt\n",
    "import seaborn as sns\n",
    "import copy\n",
    "import joblib\n",
    "import time\n",
    "import threading\n",
    "from datetime import datetime\n",
    "# from contextlib import contextmanager\n",
    "from timeit import default_timer\n",
    "\n",
    "from scipy.stats import chi2_contingency\n",
    "\n",
    "from sklearn.model_selection import train_test_split,cross_val_score\n",
    "# from pycaret.classification import setup,compare_models,create_model,plot_model,evaluate_model\n",
    "# from pycaret.regression import *\n",
    "\n",
    "# from autosklearn.classification import AutoSklearnClassifier\n",
    "import optuna\n",
    "\n",
    "from sklearn.preprocessing import StandardScaler, OneHotEncoder\n",
    "from sklearn.compose import ColumnTransformer\n",
    "from sklearn.pipeline import Pipeline as SklearnPipeline\n",
    "from sklearn.ensemble import GradientBoostingClassifier\n",
    "from sklearn.metrics import accuracy_score, confusion_matrix, classification_report\n",
    "from sklearn.base import BaseEstimator, TransformerMixin\n",
    "\n",
    "from sklearn.neural_network import MLPClassifier\n",
    "from sklearn.ensemble import RandomForestClassifier\n",
    "from sklearn.svm import SVC\n",
    "# import sklearn.lda.LDA as LDA # <-- this is throwing the ModuleNotFoundError\n",
    "\n",
    "from imblearn.pipeline import Pipeline as ImbPipeline\n",
    "from imblearn.under_sampling import RandomUnderSampler\n",
    "from imblearn.over_sampling import RandomOverSampler\n",
    "from collections import Counter\n",
    "\n",
    "from sklearn.metrics import precision_score, recall_score, f1_score, accuracy_score\n",
    "from sklearn.metrics import classification_report\n",
    "from sklearn.model_selection import StratifiedKFold\n",
    "from sklearn.model_selection import cross_validate\n",
    "\n",
    "from sklearn.linear_model import LogisticRegression\n",
    "from sklearn.tree import DecisionTreeClassifier\n",
    "from sklearn.tree import ExtraTreeClassifier\n",
    "from sklearn.ensemble import RandomForestClassifier\n",
    "from lightgbm import LGBMClassifier\n",
    "from xgboost import XGBClassifier\n",
    "\n",
    "from collections import defaultdict\n",
    "\n",
    "import shap"
   ]
  },
  {
   "cell_type": "code",
   "execution_count": 7,
   "id": "1070e219-2c5c-4367-a642-58cdf216543e",
   "metadata": {},
   "outputs": [],
   "source": [
    "# simple function to generate random integers\n",
    "\n",
    "def rand_gen(low=1,high=1e4):\n",
    "    '''\n",
    "    Generates a pseudo-random integer\n",
    "    consisting of up to four digits\n",
    "    '''\n",
    "    import numpy as np\n",
    "    rng=np.random.default_rng()\n",
    "    random_state=int(rng.integers(low=low,high=high))\n",
    "    \n",
    "    return random_state"
   ]
  },
  {
   "cell_type": "code",
   "execution_count": 8,
   "id": "2ba1951c-972a-470a-97b7-1bcefbc21e71",
   "metadata": {
    "id": "654d2c07"
   },
   "outputs": [],
   "source": [
    "def make_confusion_matrix(cf,\n",
    "                          group_names=None,\n",
    "                          categories='auto',\n",
    "                          count=True,\n",
    "                          percent=True,\n",
    "                          cbar=True,\n",
    "                          xyticks=True,\n",
    "                          xyplotlabels=True,\n",
    "                          sum_stats=True,\n",
    "                          figsize=None,\n",
    "                          cmap='Blues',\n",
    "                          title=None):\n",
    "    '''\n",
    "    SOURCE: https://github.com/DTrimarchi10/confusion_matrix/blob/master/cf_matrix.py\n",
    "\n",
    "    This function will make a pretty plot of an sklearn Confusion Matrix cm using a Seaborn heatmap visualization.\n",
    "\n",
    "    Arguments\n",
    "    ---------\n",
    "    cf:            confusion matrix to be passed in\n",
    "\n",
    "    group_names:   List of strings that represent the labels row by row to be shown in each square.\n",
    "\n",
    "    categories:    List of strings containing the categories to be displayed on the x,y axis. Default is 'auto'\n",
    "\n",
    "    count:         If True, show the raw number in the confusion matrix. Default is True.\n",
    "\n",
    "    normalize:     If True, show the proportions for each category. Default is True.\n",
    "\n",
    "    cbar:          If True, show the color bar. The cbar values are based off the values in the confusion matrix.\n",
    "                   Default is True.\n",
    "\n",
    "    xyticks:       If True, show x and y ticks. Default is True.\n",
    "\n",
    "    xyplotlabels:  If True, show 'True Label' and 'Predicted Label' on the figure. Default is True.\n",
    "\n",
    "    sum_stats:     If True, display summary statistics below the figure. Default is True.\n",
    "\n",
    "    figsize:       Tuple representing the figure size. Default will be the matplotlib rcParams value.\n",
    "\n",
    "    cmap:          Colormap of the values displayed from matplotlib.pyplot.cm. Default is 'Blues'\n",
    "                   See http://matplotlib.org/examples/color/colormaps_reference.html\n",
    "\n",
    "    title:         Title for the heatmap. Default is None.\n",
    "\n",
    "    '''\n",
    "\n",
    "\n",
    "    # CODE TO GENERATE TEXT INSIDE EACH SQUARE\n",
    "    blanks = ['' for i in range(cf.size)]\n",
    "\n",
    "    if group_names and len(group_names)==cf.size:\n",
    "        group_labels = [\"{}\\n\".format(value) for value in group_names]\n",
    "    else:\n",
    "        group_labels = blanks\n",
    "\n",
    "    if count:\n",
    "        group_counts = [\"{0:0.0f}\\n\".format(value) for value in cf.flatten()]\n",
    "    else:\n",
    "        group_counts = blanks\n",
    "\n",
    "    if percent:\n",
    "        group_percentages = [\"{0:.2%}\".format(value) for value in cf.flatten()/np.sum(cf)]\n",
    "    else:\n",
    "        group_percentages = blanks\n",
    "\n",
    "    box_labels = [f\"{v1}{v2}{v3}\".strip() for v1, v2, v3 in zip(group_labels,group_counts,group_percentages)]\n",
    "    box_labels = np.asarray(box_labels).reshape(cf.shape[0],cf.shape[1])\n",
    "\n",
    "\n",
    "    # CODE TO GENERATE SUMMARY STATISTICS & TEXT FOR SUMMARY STATS\n",
    "    if sum_stats:\n",
    "        #Accuracy is sum of diagonal divided by total observations\n",
    "        accuracy  = np.trace(cf) / float(np.sum(cf))\n",
    "\n",
    "        #if it is a binary confusion matrix, show some more stats\n",
    "        if len(cf)==2:\n",
    "            #Metrics for Binary Confusion Matrices\n",
    "            precision = cf[1,1] / sum(cf[:,1])\n",
    "            recall    = cf[1,1] / sum(cf[1,:])\n",
    "            f1_score  = 2*precision*recall / (precision + recall)\n",
    "            stats_text = \"\\n\\nAccuracy={:0.3f}\\nPrecision={:0.3f}\\nRecall={:0.3f}\\nF1 Score={:0.3f}\".format(\n",
    "                accuracy,precision,recall,f1_score)\n",
    "        else:\n",
    "            stats_text = \"\\n\\nAccuracy={:0.3f}\".format(accuracy)\n",
    "    else:\n",
    "        stats_text = \"\"\n",
    "\n",
    "\n",
    "    # SET FIGURE PARAMETERS ACCORDING TO OTHER ARGUMENTS\n",
    "    if figsize==None:\n",
    "        #Get default figure size if not set\n",
    "        figsize = plt.rcParams.get('figure.figsize')\n",
    "\n",
    "    if xyticks==False:\n",
    "        #Do not show categories if xyticks is False\n",
    "        categories=False\n",
    "\n",
    "\n",
    "    # MAKE THE HEATMAP VISUALIZATION\n",
    "    plt.figure(figsize=figsize)\n",
    "    sns.heatmap(cf,annot=box_labels,fmt=\"\",cmap=cmap,cbar=cbar,xticklabels=categories,yticklabels=categories)\n",
    "\n",
    "    if xyplotlabels:\n",
    "        plt.ylabel('True label')\n",
    "        plt.xlabel('Predicted label' + stats_text)\n",
    "    else:\n",
    "        plt.xlabel(stats_text)\n",
    "\n",
    "    if title:\n",
    "        plt.title(title)"
   ]
  },
  {
   "cell_type": "code",
   "execution_count": 9,
   "id": "85a2775e-5158-46c4-a10d-86d45c551c4f",
   "metadata": {},
   "outputs": [
    {
     "data": {
      "text/plain": [
       "4769"
      ]
     },
     "execution_count": 9,
     "metadata": {},
     "output_type": "execute_result"
    }
   ],
   "source": [
    "seed=rand_gen()\n",
    "seed"
   ]
  },
  {
   "cell_type": "code",
   "execution_count": 10,
   "id": "18bc10ca-5b03-46ec-8abb-4871833f5dc9",
   "metadata": {},
   "outputs": [
    {
     "data": {
      "text/plain": [
       "0.2"
      ]
     },
     "execution_count": 10,
     "metadata": {},
     "output_type": "execute_result"
    }
   ],
   "source": [
    "test_size=0.2\n",
    "test_size"
   ]
  },
  {
   "cell_type": "code",
   "execution_count": 11,
   "id": "33e2b135-2aac-4369-a554-b6e6cd13d52f",
   "metadata": {},
   "outputs": [
    {
     "data": {
      "text/plain": [
       "Generator(PCG64) at 0x16984BAC0"
      ]
     },
     "execution_count": 11,
     "metadata": {},
     "output_type": "execute_result"
    }
   ],
   "source": [
    "# set the randomness seed throughout the notebook\n",
    "# source: # https://odsc.medium.com/properly-setting-the-random-seed-in-ml-experiments-not-as-simple-as-you-might-imagine-219969c84752\n",
    "\n",
    "## set `PYTHONHASHSEED` environment variable at a fixed value\n",
    "import os\n",
    "os.environ['PYTHONHASHSEED']=str(seed)\n",
    "## set `python` built-in pseudo-random generator at a fixed value\n",
    "import random\n",
    "random.seed(seed)\n",
    "## set `numpy` pseudo-random generator at a fixed value\n",
    "np.random.seed(seed)\n",
    "np.random.default_rng(seed)"
   ]
  },
  {
   "cell_type": "code",
   "execution_count": 12,
   "id": "34fc7198-7e81-494d-863d-f4cb333c70d6",
   "metadata": {},
   "outputs": [],
   "source": [
    "import json\n",
    "from pathlib import Path\n",
    "import inspect\n",
    "\n",
    "def get_variable_name(var):\n",
    "    callers_local_vars = inspect.currentframe().f_back.f_locals.items()\n",
    "    return [name for name, val in callers_local_vars if val is var]\n",
    "\n",
    "def fileDaterSaver(location: str,\n",
    "                   filetype: str,\n",
    "                   object_,\n",
    "                   extra: str = '',\n",
    "                   verbose: bool = True):\n",
    "\n",
    "    '''\n",
    "    Function that gets a timestamped filename and saves it\n",
    "    to a user-specified location.\n",
    "\n",
    "    Parameters:\n",
    "    -----------\n",
    "    location: str - The location where the file will be saved.\n",
    "    filetype: str - The type of the file to save ('csv' or 'json').\n",
    "    object_: The object to be saved. Should be a pandas DataFrame\n",
    "        for 'csv' or serializable for 'json'.\n",
    "    extra: str - Additional string to include in the filename.\n",
    "    verbose: bool - Whether to print verbose messages.\n",
    "    '''\n",
    "\n",
    "    # get current date and time\n",
    "    current_datetime = datetime.now()\n",
    "\n",
    "    # print current date and time to check\n",
    "    if verbose:\n",
    "        print('current_datetime:', current_datetime)\n",
    "\n",
    "    # format the datetime for a filename\n",
    "    datetime_suffix = current_datetime.strftime(\"%Y-%m-%d_%H-%M-%S\")\n",
    "\n",
    "    # create filename with the datetime suffix\n",
    "    if extra != '':\n",
    "        file_name = f'{location}{extra}_{datetime_suffix}.{filetype}'\n",
    "    else:\n",
    "        file_name = f'{location}{datetime_suffix}.{filetype}'\n",
    "\n",
    "    # print file name\n",
    "    if verbose:\n",
    "        print(file_name)\n",
    "\n",
    "    # save object\n",
    "    if filetype == 'csv':\n",
    "        object_.to_csv(file_name, index=True)\n",
    "    elif filetype == 'json':\n",
    "        with open(file_name, 'w') as file:\n",
    "            file.write(json.dumps(object_, default=str))\n",
    "    else:\n",
    "        raise ValueError(\"Unsupported file type. Use 'csv' or 'json'.\")\n",
    "\n",
    "    # confirm save\n",
    "    file_path = Path(file_name)\n",
    "    if file_path.exists():\n",
    "        variable_name = get_variable_name(object_)\n",
    "        if variable_name:\n",
    "            print(f'Successfully saved {variable_name[0]} to {file_path}')\n",
    "        else:\n",
    "            print(f'Successfully saved object to {file_path}')\n",
    "    else:\n",
    "        print(\"File save error.\")"
   ]
  },
  {
   "cell_type": "code",
   "execution_count": 13,
   "id": "4fc18950-baa2-4e2e-8521-85dd1d89042f",
   "metadata": {},
   "outputs": [
    {
     "data": {
      "text/html": [
       "<div>\n",
       "<style scoped>\n",
       "    .dataframe tbody tr th:only-of-type {\n",
       "        vertical-align: middle;\n",
       "    }\n",
       "\n",
       "    .dataframe tbody tr th {\n",
       "        vertical-align: top;\n",
       "    }\n",
       "\n",
       "    .dataframe thead th {\n",
       "        text-align: right;\n",
       "    }\n",
       "</style>\n",
       "<table border=\"1\" class=\"dataframe\">\n",
       "  <thead>\n",
       "    <tr style=\"text-align: right;\">\n",
       "      <th></th>\n",
       "      <th>age</th>\n",
       "      <th>job</th>\n",
       "      <th>marital</th>\n",
       "      <th>education</th>\n",
       "      <th>default</th>\n",
       "      <th>balance</th>\n",
       "      <th>housing</th>\n",
       "      <th>loan</th>\n",
       "      <th>contact</th>\n",
       "      <th>day</th>\n",
       "      <th>month</th>\n",
       "      <th>duration</th>\n",
       "      <th>campaign</th>\n",
       "      <th>y</th>\n",
       "    </tr>\n",
       "  </thead>\n",
       "  <tbody>\n",
       "    <tr>\n",
       "      <th>0</th>\n",
       "      <td>58</td>\n",
       "      <td>management</td>\n",
       "      <td>married</td>\n",
       "      <td>tertiary</td>\n",
       "      <td>no</td>\n",
       "      <td>2143</td>\n",
       "      <td>yes</td>\n",
       "      <td>no</td>\n",
       "      <td>unknown</td>\n",
       "      <td>5</td>\n",
       "      <td>may</td>\n",
       "      <td>261</td>\n",
       "      <td>1</td>\n",
       "      <td>no</td>\n",
       "    </tr>\n",
       "    <tr>\n",
       "      <th>1</th>\n",
       "      <td>44</td>\n",
       "      <td>technician</td>\n",
       "      <td>single</td>\n",
       "      <td>secondary</td>\n",
       "      <td>no</td>\n",
       "      <td>29</td>\n",
       "      <td>yes</td>\n",
       "      <td>no</td>\n",
       "      <td>unknown</td>\n",
       "      <td>5</td>\n",
       "      <td>may</td>\n",
       "      <td>151</td>\n",
       "      <td>1</td>\n",
       "      <td>no</td>\n",
       "    </tr>\n",
       "    <tr>\n",
       "      <th>2</th>\n",
       "      <td>33</td>\n",
       "      <td>entrepreneur</td>\n",
       "      <td>married</td>\n",
       "      <td>secondary</td>\n",
       "      <td>no</td>\n",
       "      <td>2</td>\n",
       "      <td>yes</td>\n",
       "      <td>yes</td>\n",
       "      <td>unknown</td>\n",
       "      <td>5</td>\n",
       "      <td>may</td>\n",
       "      <td>76</td>\n",
       "      <td>1</td>\n",
       "      <td>no</td>\n",
       "    </tr>\n",
       "  </tbody>\n",
       "</table>\n",
       "</div>"
      ],
      "text/plain": [
       "   age           job  marital  education default  balance housing loan  \\\n",
       "0   58    management  married   tertiary      no     2143     yes   no   \n",
       "1   44    technician   single  secondary      no       29     yes   no   \n",
       "2   33  entrepreneur  married  secondary      no        2     yes  yes   \n",
       "\n",
       "   contact  day month  duration  campaign   y  \n",
       "0  unknown    5   may       261         1  no  \n",
       "1  unknown    5   may       151         1  no  \n",
       "2  unknown    5   may        76         1  no  "
      ]
     },
     "execution_count": 13,
     "metadata": {},
     "output_type": "execute_result"
    }
   ],
   "source": [
    "# read in data\n",
    "df=pd.read_csv('../data/2_data.csv')\n",
    "df.head(3)"
   ]
  },
  {
   "cell_type": "markdown",
   "id": "b5f42d59-ef72-4672-9e49-d9d6c53a4be6",
   "metadata": {
    "id": "c62bb50a-ec4b-4158-afe0-8ceacd187620"
   },
   "source": [
    "## Goals recap"
   ]
  },
  {
   "cell_type": "markdown",
   "id": "8f42dabb-baed-4580-a8d6-ad0bbdffff4a",
   "metadata": {
    "id": "eed783d3-f06d-4ffb-b0cc-28048bb44f6a"
   },
   "source": [
    "To achieve this project's goals, we have to run models. As a reminder, this project is aiming to predict customer behavior. Specifically, we are training models to determine if a customer will buy a term deposit loan.\n",
    "\n",
    "We are aiming to achieve ≥81% accuracy with the modeling\n",
    "  * Use a 5-fold cross validation strategy and take the average performance score.\n",
    "\n",
    "Bonus goals include:\n",
    "* Determine which customers are most likely to buy the term deposit loan\n",
    "  * Which segments of customers should the client prioritize?\n",
    "* Determine what makes the customer buy the loan\n",
    "  * Which feature should the startup focus on?"
   ]
  },
  {
   "cell_type": "markdown",
   "id": "33827b77-a57d-49f0-b63a-10169aae9536",
   "metadata": {
    "id": "43ed68d1"
   },
   "source": [
    "## Will a Customer Receive a Loan?\n",
    "`AutoSklearn` to  `Optuna` to `scikit-learn`: the Modeling Workflow"
   ]
  },
  {
   "cell_type": "markdown",
   "id": "afb5c37b-7573-48ea-a299-d0c06062eb68",
   "metadata": {
    "id": "c01854e1"
   },
   "source": [
    "I will first use [`AutoSklearn`](#https://automl.github.io/auto-sklearn/master/#) to help me explore the ML algorithm landscape to identify the best-performing models for this particular dataset."
   ]
  },
  {
   "cell_type": "markdown",
   "id": "c4bc7bad-ddab-4775-9e2b-903e305d2664",
   "metadata": {
    "id": "ff7e48b4"
   },
   "source": [
    "In order to find the best hyperparameters for our modeling, I will use [`Optuna`](#https://optuna.readthedocs.io/en/stable/index.html). This is similar to other frameworks like [`Hyperopt`](#http://hyperopt.github.io/hyperopt/), which are designed to quickly and efficiently find the best hyperparameters for your dataset."
   ]
  },
  {
   "cell_type": "markdown",
   "id": "529a487e-8324-48de-b3c5-a75507ab3c1d",
   "metadata": {
    "id": "4f61e684"
   },
   "source": [
    "Finally, we will use `sklearn` to build the final, optimized model."
   ]
  },
  {
   "cell_type": "markdown",
   "id": "416b4433-e948-4390-9570-91a4b0ada246",
   "metadata": {
    "id": "a69d26f6"
   },
   "source": [
    "### Notes on project setup:"
   ]
  },
  {
   "cell_type": "markdown",
   "id": "f47c71c9-8e25-45fc-8c61-f0f01a4e7d76",
   "metadata": {
    "id": "62a346fa"
   },
   "source": [
    "We want to help the bank understand which customers are most likely to purchase the financial product. Knowing this would save the bank time and money. The dataset that we were given consists of demographic (and banking) data (like `age`,`job`,`marital`,and `balance`) as well as campaign-specific information (like `contact`,`day`,and `duration`)."
   ]
  },
  {
   "cell_type": "markdown",
   "id": "6051ba5d-874f-4e07-89ae-45ef4faedeea",
   "metadata": {
    "id": "56e774b6"
   },
   "source": [
    "*Demographic and Banking Data*\n",
    "* `age`\n",
    "* `job`\n",
    "* `marital`\n",
    "* `education`\n",
    "* `default`\n",
    "* `balance`\n",
    "* `housing`\n",
    "* `loan`\n",
    "\n",
    "*Campaign-Specific Data*\n",
    "* `contact`\n",
    "* `day`\n",
    "* `month`\n",
    "* `duration`\n",
    "* `campaign`\n",
    "\n",
    "*Target Feature*\n",
    "* `y`"
   ]
  },
  {
   "cell_type": "markdown",
   "id": "862977b3-7bda-4c52-8ad0-ae60675f9dac",
   "metadata": {
    "id": "bdd19b9f"
   },
   "source": [
    "We want to build a three-layered ML system that helps answer the project goals:\n",
    "1. Understand which kinds of customers that they should call\n",
    " 1. I will **not** give the model access to the campaign call data\n",
    "1. After the initial calls, understand which customers the company should keep calling\n",
    " 1. Give the model access to the campaign call data\n",
    "1. Build a model using unsupervised learning to learn about clusters of customers in the dataset"
   ]
  },
  {
   "cell_type": "markdown",
   "id": "78829700-ff51-4a4d-a254-b22beb79ca93",
   "metadata": {
    "id": "c88d3f21"
   },
   "source": [
    "**Layer 1**:  \n",
    "\n",
    "Use `X_1` to model which customers to make calls to. We are training a model that does not know any call data, so this is *before* making calls.\n",
    "\n",
    "**Layer 2**:  \n",
    "\n",
    "Use the full `X` dataset (for clarity in its use in the layer flow, we'll be using `X_2` to model which customers the company should keep calling.\n",
    "\n",
    "**Layer 3**:  \n",
    "\n",
    "Use unsupervised learning to uncover how the customers are grouped."
   ]
  },
  {
   "cell_type": "markdown",
   "id": "5ae0e384-56fd-4b7f-b448-b86b63932b7a",
   "metadata": {},
   "source": [
    "### Setup X"
   ]
  },
  {
   "cell_type": "code",
   "execution_count": 19,
   "id": "afa9dfc1-c8ac-45f2-b15d-8b7ca4e687e4",
   "metadata": {
    "id": "7472f554"
   },
   "outputs": [],
   "source": [
    "dbd=[ # demographic and banking data\n",
    "    'age',\n",
    "    'job',\n",
    "    'marital',\n",
    "    'education',\n",
    "    'default',\n",
    "    'balance',\n",
    "    'housing',\n",
    "    'loan'\n",
    "]\n",
    "\n",
    "csd=[ # campaign-specific data\n",
    "    'contact',\n",
    "    'day',\n",
    "    'month',\n",
    "    'duration',\n",
    "    'campaign'\n",
    "]"
   ]
  },
  {
   "cell_type": "markdown",
   "id": "d5bb2d66-e76e-4db3-8cd2-26408cf75506",
   "metadata": {
    "id": "21d906cc"
   },
   "source": [
    "`_1` refers to the first layer of the model, consisting of demographic and banking data, not including data related to the campaign. This simulates new customers that haven't received a call yet. This helps answer the main question of the project, namely to train a model that predicts which customer will receive a loan."
   ]
  },
  {
   "cell_type": "code",
   "execution_count": 20,
   "id": "4e7dcf7b-a9fe-4a1d-b026-e1a03a2d92e2",
   "metadata": {
    "id": "b05cecd3"
   },
   "outputs": [],
   "source": [
    "X_1=df[[col for col in df.columns if col != 'y' and col not in csd]]\n",
    "y=df['y']\n",
    "y=y.map({'yes':1,'no':0})"
   ]
  },
  {
   "cell_type": "markdown",
   "id": "ebbfb90d-3eed-4061-9fc3-5ccf39e443e0",
   "metadata": {
    "id": "32221b70"
   },
   "source": [
    "`_2` refers to the second layer of the model, consisting of all columns. This helps answer the first bonus question of the project, which is to determine which customers the bank should prioritize calling to: those most likely to receive a loan."
   ]
  },
  {
   "cell_type": "code",
   "execution_count": 21,
   "id": "9c27adba-cd23-45fd-9b45-e43a74ba5855",
   "metadata": {
    "id": "e1adee44"
   },
   "outputs": [],
   "source": [
    "X_2=df[[col for col in df.columns if col != 'y']]"
   ]
  },
  {
   "cell_type": "markdown",
   "id": "aabd853f-a775-447c-9ed3-ae1def2b8a32",
   "metadata": {
    "id": "56a6e907"
   },
   "source": [
    "`_3` refers to the third layer of the model, consisting of all columns. This helps answer the another bonus question: can we train an unsuperived learning model that groups the customers into categories?"
   ]
  },
  {
   "cell_type": "code",
   "execution_count": 22,
   "id": "37440d88-4c73-4250-a057-8fa704f8276d",
   "metadata": {
    "id": "e2ef98c3"
   },
   "outputs": [],
   "source": [
    "X_3=df[[col for col in df.columns if col != 'y']]"
   ]
  },
  {
   "cell_type": "code",
   "execution_count": 23,
   "id": "f7940ad0-7a59-4414-9b6e-6f0d9dd78461",
   "metadata": {
    "id": "4573c507",
    "outputId": "1055391c-9bac-4433-931a-474fb6f484f9"
   },
   "outputs": [
    {
     "data": {
      "text/html": [
       "<div>\n",
       "<style scoped>\n",
       "    .dataframe tbody tr th:only-of-type {\n",
       "        vertical-align: middle;\n",
       "    }\n",
       "\n",
       "    .dataframe tbody tr th {\n",
       "        vertical-align: top;\n",
       "    }\n",
       "\n",
       "    .dataframe thead th {\n",
       "        text-align: right;\n",
       "    }\n",
       "</style>\n",
       "<table border=\"1\" class=\"dataframe\">\n",
       "  <thead>\n",
       "    <tr style=\"text-align: right;\">\n",
       "      <th></th>\n",
       "      <th>age</th>\n",
       "      <th>job</th>\n",
       "      <th>marital</th>\n",
       "      <th>education</th>\n",
       "      <th>default</th>\n",
       "      <th>balance</th>\n",
       "      <th>housing</th>\n",
       "      <th>loan</th>\n",
       "      <th>contact</th>\n",
       "      <th>day</th>\n",
       "      <th>month</th>\n",
       "      <th>duration</th>\n",
       "      <th>campaign</th>\n",
       "      <th>y</th>\n",
       "    </tr>\n",
       "  </thead>\n",
       "  <tbody>\n",
       "    <tr>\n",
       "      <th>0</th>\n",
       "      <td>58</td>\n",
       "      <td>management</td>\n",
       "      <td>married</td>\n",
       "      <td>tertiary</td>\n",
       "      <td>no</td>\n",
       "      <td>2143</td>\n",
       "      <td>yes</td>\n",
       "      <td>no</td>\n",
       "      <td>unknown</td>\n",
       "      <td>5</td>\n",
       "      <td>may</td>\n",
       "      <td>261</td>\n",
       "      <td>1</td>\n",
       "      <td>no</td>\n",
       "    </tr>\n",
       "    <tr>\n",
       "      <th>1</th>\n",
       "      <td>44</td>\n",
       "      <td>technician</td>\n",
       "      <td>single</td>\n",
       "      <td>secondary</td>\n",
       "      <td>no</td>\n",
       "      <td>29</td>\n",
       "      <td>yes</td>\n",
       "      <td>no</td>\n",
       "      <td>unknown</td>\n",
       "      <td>5</td>\n",
       "      <td>may</td>\n",
       "      <td>151</td>\n",
       "      <td>1</td>\n",
       "      <td>no</td>\n",
       "    </tr>\n",
       "    <tr>\n",
       "      <th>2</th>\n",
       "      <td>33</td>\n",
       "      <td>entrepreneur</td>\n",
       "      <td>married</td>\n",
       "      <td>secondary</td>\n",
       "      <td>no</td>\n",
       "      <td>2</td>\n",
       "      <td>yes</td>\n",
       "      <td>yes</td>\n",
       "      <td>unknown</td>\n",
       "      <td>5</td>\n",
       "      <td>may</td>\n",
       "      <td>76</td>\n",
       "      <td>1</td>\n",
       "      <td>no</td>\n",
       "    </tr>\n",
       "    <tr>\n",
       "      <th>3</th>\n",
       "      <td>47</td>\n",
       "      <td>blue-collar</td>\n",
       "      <td>married</td>\n",
       "      <td>unknown</td>\n",
       "      <td>no</td>\n",
       "      <td>1506</td>\n",
       "      <td>yes</td>\n",
       "      <td>no</td>\n",
       "      <td>unknown</td>\n",
       "      <td>5</td>\n",
       "      <td>may</td>\n",
       "      <td>92</td>\n",
       "      <td>1</td>\n",
       "      <td>no</td>\n",
       "    </tr>\n",
       "    <tr>\n",
       "      <th>4</th>\n",
       "      <td>33</td>\n",
       "      <td>unknown</td>\n",
       "      <td>single</td>\n",
       "      <td>unknown</td>\n",
       "      <td>no</td>\n",
       "      <td>1</td>\n",
       "      <td>no</td>\n",
       "      <td>no</td>\n",
       "      <td>unknown</td>\n",
       "      <td>5</td>\n",
       "      <td>may</td>\n",
       "      <td>198</td>\n",
       "      <td>1</td>\n",
       "      <td>no</td>\n",
       "    </tr>\n",
       "    <tr>\n",
       "      <th>...</th>\n",
       "      <td>...</td>\n",
       "      <td>...</td>\n",
       "      <td>...</td>\n",
       "      <td>...</td>\n",
       "      <td>...</td>\n",
       "      <td>...</td>\n",
       "      <td>...</td>\n",
       "      <td>...</td>\n",
       "      <td>...</td>\n",
       "      <td>...</td>\n",
       "      <td>...</td>\n",
       "      <td>...</td>\n",
       "      <td>...</td>\n",
       "      <td>...</td>\n",
       "    </tr>\n",
       "    <tr>\n",
       "      <th>39995</th>\n",
       "      <td>53</td>\n",
       "      <td>technician</td>\n",
       "      <td>married</td>\n",
       "      <td>tertiary</td>\n",
       "      <td>no</td>\n",
       "      <td>395</td>\n",
       "      <td>no</td>\n",
       "      <td>no</td>\n",
       "      <td>cellular</td>\n",
       "      <td>3</td>\n",
       "      <td>jun</td>\n",
       "      <td>107</td>\n",
       "      <td>1</td>\n",
       "      <td>no</td>\n",
       "    </tr>\n",
       "    <tr>\n",
       "      <th>39996</th>\n",
       "      <td>30</td>\n",
       "      <td>management</td>\n",
       "      <td>single</td>\n",
       "      <td>tertiary</td>\n",
       "      <td>no</td>\n",
       "      <td>3340</td>\n",
       "      <td>no</td>\n",
       "      <td>no</td>\n",
       "      <td>cellular</td>\n",
       "      <td>3</td>\n",
       "      <td>jun</td>\n",
       "      <td>238</td>\n",
       "      <td>3</td>\n",
       "      <td>yes</td>\n",
       "    </tr>\n",
       "    <tr>\n",
       "      <th>39997</th>\n",
       "      <td>54</td>\n",
       "      <td>admin</td>\n",
       "      <td>divorced</td>\n",
       "      <td>secondary</td>\n",
       "      <td>no</td>\n",
       "      <td>200</td>\n",
       "      <td>no</td>\n",
       "      <td>no</td>\n",
       "      <td>cellular</td>\n",
       "      <td>3</td>\n",
       "      <td>jun</td>\n",
       "      <td>170</td>\n",
       "      <td>1</td>\n",
       "      <td>yes</td>\n",
       "    </tr>\n",
       "    <tr>\n",
       "      <th>39998</th>\n",
       "      <td>34</td>\n",
       "      <td>management</td>\n",
       "      <td>married</td>\n",
       "      <td>tertiary</td>\n",
       "      <td>no</td>\n",
       "      <td>1047</td>\n",
       "      <td>no</td>\n",
       "      <td>no</td>\n",
       "      <td>cellular</td>\n",
       "      <td>3</td>\n",
       "      <td>jun</td>\n",
       "      <td>342</td>\n",
       "      <td>1</td>\n",
       "      <td>no</td>\n",
       "    </tr>\n",
       "    <tr>\n",
       "      <th>39999</th>\n",
       "      <td>38</td>\n",
       "      <td>technician</td>\n",
       "      <td>married</td>\n",
       "      <td>secondary</td>\n",
       "      <td>no</td>\n",
       "      <td>1442</td>\n",
       "      <td>yes</td>\n",
       "      <td>no</td>\n",
       "      <td>cellular</td>\n",
       "      <td>3</td>\n",
       "      <td>jun</td>\n",
       "      <td>113</td>\n",
       "      <td>1</td>\n",
       "      <td>no</td>\n",
       "    </tr>\n",
       "  </tbody>\n",
       "</table>\n",
       "<p>40000 rows × 14 columns</p>\n",
       "</div>"
      ],
      "text/plain": [
       "       age           job   marital  education default  balance housing loan  \\\n",
       "0       58    management   married   tertiary      no     2143     yes   no   \n",
       "1       44    technician    single  secondary      no       29     yes   no   \n",
       "2       33  entrepreneur   married  secondary      no        2     yes  yes   \n",
       "3       47   blue-collar   married    unknown      no     1506     yes   no   \n",
       "4       33       unknown    single    unknown      no        1      no   no   \n",
       "...    ...           ...       ...        ...     ...      ...     ...  ...   \n",
       "39995   53    technician   married   tertiary      no      395      no   no   \n",
       "39996   30    management    single   tertiary      no     3340      no   no   \n",
       "39997   54         admin  divorced  secondary      no      200      no   no   \n",
       "39998   34    management   married   tertiary      no     1047      no   no   \n",
       "39999   38    technician   married  secondary      no     1442     yes   no   \n",
       "\n",
       "        contact  day month  duration  campaign    y  \n",
       "0       unknown    5   may       261         1   no  \n",
       "1       unknown    5   may       151         1   no  \n",
       "2       unknown    5   may        76         1   no  \n",
       "3       unknown    5   may        92         1   no  \n",
       "4       unknown    5   may       198         1   no  \n",
       "...         ...  ...   ...       ...       ...  ...  \n",
       "39995  cellular    3   jun       107         1   no  \n",
       "39996  cellular    3   jun       238         3  yes  \n",
       "39997  cellular    3   jun       170         1  yes  \n",
       "39998  cellular    3   jun       342         1   no  \n",
       "39999  cellular    3   jun       113         1   no  \n",
       "\n",
       "[40000 rows x 14 columns]"
      ]
     },
     "execution_count": 23,
     "metadata": {},
     "output_type": "execute_result"
    }
   ],
   "source": [
    "df"
   ]
  },
  {
   "cell_type": "markdown",
   "id": "c041ee72-b6bf-4e8f-b9fe-1b9fc2fe331a",
   "metadata": {
    "id": "f50fd2fa"
   },
   "source": [
    "Make function to automate the training of the AutoSklearn pipeline:"
   ]
  },
  {
   "cell_type": "code",
   "execution_count": 16,
   "id": "31248ad9-3680-4983-bf59-659db8879262",
   "metadata": {
    "id": "25fc00b6",
    "scrolled": true
   },
   "outputs": [],
   "source": [
    "def detectCatCont(X,verbose=False):\n",
    "    '''\n",
    "    Helper function for detecting categorical and continuous\n",
    "    features in a dataset. It returns the categorical and\n",
    "    continuous features as a tuple.\n",
    "    '''\n",
    "\n",
    "    # detect categorical and continuous features\n",
    "    categorical_features = X.select_dtypes(\n",
    "        include=['object', 'category']).columns.tolist()\n",
    "    continuous_features = X.select_dtypes(\n",
    "        include=['int64', 'float64']).columns.tolist()\n",
    "\n",
    "    if verbose:\n",
    "        print('Categorical and continuous features detected')\n",
    "\n",
    "    return categorical_features,continuous_features"
   ]
  },
  {
   "cell_type": "code",
   "execution_count": 17,
   "id": "05c602e6-3150-4f15-9ebe-0e1a29071a5e",
   "metadata": {
    "id": "1533ae67"
   },
   "outputs": [],
   "source": [
    "def defPreprocessor(categorical_features,continuous_features,verbose=False,custom_preprocessor=None):\n",
    "    '''\n",
    "    Helper function for returning a custom preprocessor for\n",
    "    processing a dataframe, or one that is defined\n",
    "    within the function. It returns the custom or\n",
    "    function-created preprocessor.\n",
    "    '''\n",
    "\n",
    "    if custom_preprocessor is not None:\n",
    "        if verbose:\n",
    "            print('Using custom preprocessor')\n",
    "        return custom_preprocessor\n",
    "\n",
    "    # Define the preprocessor\n",
    "    preprocessor = ColumnTransformer(\n",
    "        transformers=[\n",
    "            ('cat', OneHotEncoder(), categorical_features),\n",
    "            ('num', StandardScaler(), continuous_features)\n",
    "        ]\n",
    "    )\n",
    "\n",
    "    if verbose:\n",
    "        print('Preprocessor created')\n",
    "        print('categorical_features:', categorical_features)\n",
    "        print('continuous_features:', continuous_features)\n",
    "\n",
    "    return preprocessor"
   ]
  },
  {
   "cell_type": "code",
   "execution_count": 18,
   "id": "1785eeb7-052a-4a1e-bfb5-a90304f56f4b",
   "metadata": {
    "id": "8f40e347"
   },
   "outputs": [],
   "source": [
    "def trainTestSplits(X,y,test_size,seed,verbose=False):\n",
    "    '''\n",
    "    Helper function that automates the train_test_split function within scikit-learn\n",
    "    and returns them as a dictionary.\n",
    "    '''\n",
    "\n",
    "    # create train/test splits\n",
    "    X_train, X_test, y_train, y_test = train_test_split\\\n",
    "    (X, y, test_size=test_size, random_state=seed,stratify=y)\n",
    "\n",
    "    if verbose:\n",
    "        print('Training and testing splits created')\n",
    "\n",
    "    splits={\n",
    "        'X_train':X_train,\n",
    "        'X_test':X_test,\n",
    "        'y_train':y_train,\n",
    "        'y_test':y_test\n",
    "        }\n",
    "\n",
    "    return splits"
   ]
  },
  {
   "cell_type": "code",
   "execution_count": 19,
   "id": "c1ae0930-b38b-4bb7-aa2e-0999eef424e9",
   "metadata": {
    "id": "c312d730"
   },
   "outputs": [],
   "source": [
    "def defPipeline(time_for_task,seed,preprocessor,verbose=False):\n",
    "    '''\n",
    "    Helper function that creates the pipeline from a previously-defined\n",
    "    preprocessor. Returns the pipeline.\n",
    "    '''\n",
    "\n",
    "    # Define Auto-sklearn classifier and pipeline\n",
    "    automl = AutoSklearnClassifier(\n",
    "        time_left_for_this_task=time_for_task,\n",
    "        seed=seed\n",
    "    )\n",
    "    pipeline = Pipeline(\n",
    "        steps=[\n",
    "            ('preprocessor', preprocessor),\n",
    "            ('classifier', automl)\n",
    "        ]\n",
    "    )\n",
    "\n",
    "    if verbose:\n",
    "        print('AutoSklearnClassifier and pipeline created')\n",
    "\n",
    "    return pipeline"
   ]
  },
  {
   "cell_type": "code",
   "execution_count": 20,
   "id": "516673a7-b3cb-4b0b-9814-b0ad12fc8859",
   "metadata": {
    "id": "7a523e2d"
   },
   "outputs": [],
   "source": [
    "def evaluateModel(X_test,y_test,pipeline,verbose=False):\n",
    "    '''\n",
    "    Helper function that returns a tuple of predictions on\n",
    "    the model and the accuracy.\n",
    "    '''\n",
    "\n",
    "    # evaluate the model\n",
    "    y_pred = pipeline.predict(X_test)\n",
    "    accuracy = accuracy_score(y_test, y_pred)\n",
    "\n",
    "    if verbose:\n",
    "        print(f\"AutoSklearn accuracy:\\n{accuracy*100:.2f}%\")\n",
    "\n",
    "    return y_pred,accuracy"
   ]
  },
  {
   "cell_type": "code",
   "execution_count": 21,
   "id": "1ba18dc1-534a-45ba-ad36-f69ff534f318",
   "metadata": {
    "id": "980340cc"
   },
   "outputs": [],
   "source": [
    "def returnTopModels(pipe_path,score=0.9):\n",
    "    '''\n",
    "    Returns the most common classifiers achieving a mean_test_score of over 90% accuracy.\n",
    "    This value can be changed in the function.\n",
    "    '''\n",
    "\n",
    "    # load pipeline and splits\n",
    "    pipeline=joblib.load(pipe_path)\n",
    "\n",
    "    # access the AutoSklearnClassifier from the pipeline\n",
    "    automl_model = pipeline.named_steps['classifier']\n",
    "\n",
    "    # access the cross-validation results\n",
    "    cv_results=pd.DataFrame(automl_model.cv_results_)\n",
    "\n",
    "    cv_results_=\\\n",
    "        cv_results[\n",
    "            (cv_results['status'] == 'Success') & \\\n",
    "            (cv_results['mean_test_score']>score)\n",
    "        ]\\\n",
    "    .sort_values(by='mean_test_score', ascending=False)\n",
    "\n",
    "    cv_results_over90=cv_results_['param_classifier:__choice__'].value_counts()\n",
    "\n",
    "    return cv_results_over90"
   ]
  },
  {
   "cell_type": "code",
   "execution_count": 22,
   "id": "1349cd42-154b-4332-b70f-fa09d053a71d",
   "metadata": {
    "id": "675c4736"
   },
   "outputs": [],
   "source": [
    "def run_autosklearn_pipeline(X,y,seed,test_size,save_location,filename,verbose=False,time_for_task=3600,return_tops=True):\n",
    "    '''\n",
    "    Function that runs the AutoSklearnClassifier.\n",
    "    Outputs a dictionary of the test_train_split'ed dataset (\"splits\")\n",
    "    and the created pipeline object.\n",
    "\n",
    "    It also returns the top-performing models\n",
    "    that achieve an accuracy of over 90%.\n",
    "\n",
    "    Arguments:\n",
    "    X - the features dataset\n",
    "    y - the target dataset\n",
    "    seed - the random seed\n",
    "    test_size - the test_size fraction for train_test_split\n",
    "    save_location - the location where the splits and pipeline are located\n",
    "    filename - what to call these two objects\n",
    "    verbose - verbosity flag\n",
    "    time_for_task - using the AutoSklearnClassifier default value\n",
    "\n",
    "    Outputs:\n",
    "    splits - a dictionary of X_train,X_test,y_train,y_test\n",
    "    pipeline - the trained AutoSklearnClassifier pipeline\n",
    "    '''\n",
    "\n",
    "    categorical_features,continuous_features=detectCatCont(X,verbose)\n",
    "\n",
    "    preprocessor=defPreprocessor(categorical_features,continuous_features,verbose)\n",
    "\n",
    "    splits=trainTestSplits(X,y,test_size,seed,verbose)\n",
    "\n",
    "    X_train=splits['X_train']\n",
    "    X_test=splits['X_test']\n",
    "    y_train=splits['y_train']\n",
    "    y_test=splits['y_test']\n",
    "\n",
    "    pipeline=defPipeline(time_for_task,seed,preprocessor,verbose)\n",
    "\n",
    "    # start training\n",
    "    if verbose:\n",
    "        print(f\"\\nTraining the pipeline... (This may take up to {time_for_task//60} minutes)\\n\")\n",
    "        print()\n",
    "    pipeline.fit(X_train, y_train)\n",
    "\n",
    "    # training complete\n",
    "    if verbose:\n",
    "        print(\"\\nTraining complete.\")\n",
    "\n",
    "    y_pred,accuracy=evaluateModel(X_test,y_test,pipeline,verbose)\n",
    "\n",
    "    pipe_path=f'{save_location+filename}'\n",
    "\n",
    "    # save pipeline\n",
    "    joblib.dump(pipeline,pipe_path)\n",
    "\n",
    "    if verbose:\n",
    "        print(f'saved pipeline here:\\n{pipe_path}')\n",
    "\n",
    "    splits_path=f'{save_location+filename}_splits'\n",
    "\n",
    "    # save splits\n",
    "    joblib.dump(splits,splits_path)\n",
    "\n",
    "    if verbose:\n",
    "        print(f'saved splits here:\\n{splits_path}')\n",
    "\n",
    "    if return_tops:\n",
    "        cv_results_over90=returnTopModels(pipe_path)\n",
    "        return splits,pipeline,cv_results_over90\n",
    "\n",
    "    return splits,pipeline"
   ]
  },
  {
   "cell_type": "markdown",
   "id": "c0a1b409-f7bd-43d0-adf0-bedb23e306f6",
   "metadata": {
    "id": "a2a0f6cf"
   },
   "source": [
    "### Layer 1: Using only the demographic and banking data"
   ]
  },
  {
   "cell_type": "markdown",
   "id": "e444a102-6e99-4d3f-b581-8e2982962c92",
   "metadata": {
    "id": "73f3c13e"
   },
   "source": [
    "#### `AutoSklearn`"
   ]
  },
  {
   "cell_type": "code",
   "execution_count": 23,
   "id": "11ba333e-af88-4779-92bb-d40568bf9f66",
   "metadata": {
    "id": "60797c8e",
    "outputId": "d9bc9721-ee62-47d6-d4a3-b7ceb01a22fd"
   },
   "outputs": [
    {
     "data": {
      "text/plain": [
       "4436"
      ]
     },
     "execution_count": 23,
     "metadata": {},
     "output_type": "execute_result"
    }
   ],
   "source": [
    "seed"
   ]
  },
  {
   "cell_type": "markdown",
   "id": "0e510d7f-a9d5-4e77-8b60-21b6fbb03d5e",
   "metadata": {
    "id": "58386319"
   },
   "source": [
    "Note: I set the seed to a specific number because training the model takes time and I want to proceed with the rest of the project. This number was chosen randomly previously."
   ]
  },
  {
   "cell_type": "code",
   "execution_count": 24,
   "id": "ae961473-5b2b-438e-838f-82a0055b3dc2",
   "metadata": {
    "id": "31066106",
    "outputId": "5ffa1d02-1326-423e-d1a7-841352d7dbae"
   },
   "outputs": [
    {
     "data": {
      "text/plain": [
       "0.2"
      ]
     },
     "execution_count": 24,
     "metadata": {},
     "output_type": "execute_result"
    }
   ],
   "source": [
    "test_size"
   ]
  },
  {
   "cell_type": "code",
   "execution_count": 25,
   "id": "f189aa96-2e08-4088-a154-1c91cd03d76c",
   "metadata": {
    "id": "f127292a",
    "outputId": "6b2258f6-14ce-4e72-dcbc-3249a2dcc632"
   },
   "outputs": [
    {
     "data": {
      "text/html": [
       "<div>\n",
       "<style scoped>\n",
       "    .dataframe tbody tr th:only-of-type {\n",
       "        vertical-align: middle;\n",
       "    }\n",
       "\n",
       "    .dataframe tbody tr th {\n",
       "        vertical-align: top;\n",
       "    }\n",
       "\n",
       "    .dataframe thead th {\n",
       "        text-align: right;\n",
       "    }\n",
       "</style>\n",
       "<table border=\"1\" class=\"dataframe\">\n",
       "  <thead>\n",
       "    <tr style=\"text-align: right;\">\n",
       "      <th></th>\n",
       "      <th>age</th>\n",
       "      <th>job</th>\n",
       "      <th>marital</th>\n",
       "      <th>education</th>\n",
       "      <th>default</th>\n",
       "      <th>balance</th>\n",
       "      <th>housing</th>\n",
       "      <th>loan</th>\n",
       "    </tr>\n",
       "  </thead>\n",
       "  <tbody>\n",
       "    <tr>\n",
       "      <th>0</th>\n",
       "      <td>58</td>\n",
       "      <td>management</td>\n",
       "      <td>married</td>\n",
       "      <td>tertiary</td>\n",
       "      <td>no</td>\n",
       "      <td>2143</td>\n",
       "      <td>yes</td>\n",
       "      <td>no</td>\n",
       "    </tr>\n",
       "    <tr>\n",
       "      <th>1</th>\n",
       "      <td>44</td>\n",
       "      <td>technician</td>\n",
       "      <td>single</td>\n",
       "      <td>secondary</td>\n",
       "      <td>no</td>\n",
       "      <td>29</td>\n",
       "      <td>yes</td>\n",
       "      <td>no</td>\n",
       "    </tr>\n",
       "    <tr>\n",
       "      <th>2</th>\n",
       "      <td>33</td>\n",
       "      <td>entrepreneur</td>\n",
       "      <td>married</td>\n",
       "      <td>secondary</td>\n",
       "      <td>no</td>\n",
       "      <td>2</td>\n",
       "      <td>yes</td>\n",
       "      <td>yes</td>\n",
       "    </tr>\n",
       "  </tbody>\n",
       "</table>\n",
       "</div>"
      ],
      "text/plain": [
       "   age           job  marital  education default  balance housing loan\n",
       "0   58    management  married   tertiary      no     2143     yes   no\n",
       "1   44    technician   single  secondary      no       29     yes   no\n",
       "2   33  entrepreneur  married  secondary      no        2     yes  yes"
      ]
     },
     "execution_count": 25,
     "metadata": {},
     "output_type": "execute_result"
    }
   ],
   "source": [
    "X_1.head(3)"
   ]
  },
  {
   "cell_type": "code",
   "execution_count": null,
   "id": "bac81d51-f690-4d88-ad92-6805ab5e14c8",
   "metadata": {
    "id": "b04fd3e7",
    "outputId": "fe80633a-f01c-4b89-dbbc-184c71c7c85b",
    "scrolled": true
   },
   "outputs": [
    {
     "name": "stdout",
     "output_type": "stream",
     "text": [
      "Categorical and continuous features detected\n",
      "Preprocessor created\n",
      "categorical_features: ['job', 'marital', 'education', 'default', 'housing', 'loan']\n",
      "continuous_features: ['age', 'balance']\n",
      "Training and testing splits created\n",
      "AutoSklearnClassifier and pipeline created\n",
      "\n",
      "Training the pipeline... (This may take up to 60 minutes)\n",
      "\n",
      "\n",
      "[WARNING] [2024-08-22 03:13:33,051:Client-EnsembleBuilder] No models better than random - using Dummy losses!\n",
      "\tModels besides current dummy model: 0\n",
      "\tDummy models: 1\n",
      "[WARNING] [2024-08-22 03:13:33,765:Client-EnsembleBuilder] No runs were available to build an ensemble from\n",
      "[WARNING] [2024-08-22 03:14:17,146:Client-EnsembleBuilder] No models better than random - using Dummy losses!\n",
      "\tModels besides current dummy model: 0\n",
      "\tDummy models: 1\n",
      "[WARNING] [2024-08-22 03:14:31,188:Client-EnsembleBuilder] No models better than random - using Dummy losses!\n",
      "\tModels besides current dummy model: 0\n",
      "\tDummy models: 1\n",
      "[WARNING] [2024-08-22 03:20:32,566:Client-EnsembleBuilder] No models better than random - using Dummy losses!\n",
      "\tModels besides current dummy model: 0\n",
      "\tDummy models: 1\n",
      "[WARNING] [2024-08-22 03:20:35,718:Client-EnsembleBuilder] No models better than random - using Dummy losses!\n",
      "\tModels besides current dummy model: 0\n",
      "\tDummy models: 1\n",
      "[WARNING] [2024-08-22 03:23:05,806:Client-EnsembleBuilder] No models better than random - using Dummy losses!\n",
      "\tModels besides current dummy model: 0\n",
      "\tDummy models: 1\n",
      "[WARNING] [2024-08-22 03:23:18,935:Client-EnsembleBuilder] No models better than random - using Dummy losses!\n",
      "\tModels besides current dummy model: 0\n",
      "\tDummy models: 1\n",
      "[WARNING] [2024-08-22 03:24:42,744:Client-EnsembleBuilder] No models better than random - using Dummy losses!\n",
      "\tModels besides current dummy model: 0\n",
      "\tDummy models: 1\n",
      "[WARNING] [2024-08-22 03:25:36,861:Client-EnsembleBuilder] No models better than random - using Dummy losses!\n",
      "\tModels besides current dummy model: 0\n",
      "\tDummy models: 1\n",
      "[WARNING] [2024-08-22 03:26:42,173:Client-EnsembleBuilder] No models better than random - using Dummy losses!\n",
      "\tModels besides current dummy model: 0\n",
      "\tDummy models: 1\n",
      "[WARNING] [2024-08-22 03:28:03,762:Client-EnsembleBuilder] No models better than random - using Dummy losses!\n",
      "\tModels besides current dummy model: 0\n",
      "\tDummy models: 1\n",
      "[WARNING] [2024-08-22 03:28:19,879:Client-EnsembleBuilder] No models better than random - using Dummy losses!\n",
      "\tModels besides current dummy model: 0\n",
      "\tDummy models: 1\n",
      "[WARNING] [2024-08-22 03:28:22,392:Client-EnsembleBuilder] No models better than random - using Dummy losses!\n",
      "\tModels besides current dummy model: 0\n",
      "\tDummy models: 1\n",
      "[WARNING] [2024-08-22 03:34:23,911:Client-EnsembleBuilder] No models better than random - using Dummy losses!\n",
      "\tModels besides current dummy model: 0\n",
      "\tDummy models: 1\n",
      "[WARNING] [2024-08-22 03:37:15,468:Client-EnsembleBuilder] No models better than random - using Dummy losses!\n",
      "\tModels besides current dummy model: 0\n",
      "\tDummy models: 1\n",
      "[WARNING] [2024-08-22 03:41:01,750:Client-EnsembleBuilder] No models better than random - using Dummy losses!\n",
      "\tModels besides current dummy model: 0\n",
      "\tDummy models: 1\n",
      "\n",
      "Training complete.\n",
      "AutoSklearn accuracy:\n",
      "92.74%\n",
      "saved pipeline here:\n",
      "../joblib/2_pipeline_20240821_layer1\n",
      "saved splits here:\n",
      "../joblib/2_pipeline_20240821_layer1_splits\n"
     ]
    }
   ],
   "source": [
    "# run function for layer_1\n",
    "splits_1,pipeline_1,results_1=\\\n",
    "run_autosklearn_pipeline(X=X_1,\n",
    "                         y=y,\n",
    "                         seed=seed,\n",
    "                         verbose=True,\n",
    "                         test_size=test_size,\n",
    "                         save_location='../joblib/',\n",
    "                         filename='2_pipeline_20240821_layer1',\n",
    "                         time_for_task=3600)"
   ]
  },
  {
   "cell_type": "code",
   "execution_count": null,
   "id": "508e6e5c-147c-4b4f-a7e4-7dee062bc2f3",
   "metadata": {
    "id": "13954db7",
    "outputId": "b31401b9-c4c4-46d7-d301-c1709442c7e7"
   },
   "outputs": [
    {
     "data": {
      "text/plain": [
       "random_forest          14\n",
       "passive_aggressive      9\n",
       "mlp                     5\n",
       "adaboost                5\n",
       "bernoulli_nb            4\n",
       "k_nearest_neighbors     3\n",
       "extra_trees             2\n",
       "sgd                     1\n",
       "liblinear_svc           1\n",
       "lda                     1\n",
       "Name: param_classifier:__choice__, dtype: int64"
      ]
     },
     "execution_count": 40,
     "metadata": {},
     "output_type": "execute_result"
    }
   ],
   "source": [
    "# see top-performing models\n",
    "results_1=returnTopModels('../joblib/2_pipeline_20240821_layer1')\n",
    "results_1"
   ]
  },
  {
   "cell_type": "code",
   "execution_count": 2,
   "id": "37528bd9-e128-4a40-a9a4-9a60412260e5",
   "metadata": {
    "id": "c72cb1f6"
   },
   "outputs": [
    {
     "name": "stderr",
     "output_type": "stream",
     "text": [
      "/Applications/Anaconda/anaconda3/envs/apziva/lib/python3.9/site-packages/sklearn/base.py:376: InconsistentVersionWarning: Trying to unpickle estimator OneHotEncoder from version 0.24.2 when using version 1.5.1. This might lead to breaking code or invalid results. Use at your own risk. For more info please refer to:\n",
      "https://scikit-learn.org/stable/model_persistence.html#security-maintainability-limitations\n",
      "  warnings.warn(\n",
      "/Applications/Anaconda/anaconda3/envs/apziva/lib/python3.9/site-packages/sklearn/base.py:376: InconsistentVersionWarning: Trying to unpickle estimator StandardScaler from version 0.24.2 when using version 1.5.1. This might lead to breaking code or invalid results. Use at your own risk. For more info please refer to:\n",
      "https://scikit-learn.org/stable/model_persistence.html#security-maintainability-limitations\n",
      "  warnings.warn(\n",
      "/Applications/Anaconda/anaconda3/envs/apziva/lib/python3.9/site-packages/sklearn/base.py:376: InconsistentVersionWarning: Trying to unpickle estimator OneHotEncoder from version 0.24.2 when using version 1.5.1. This might lead to breaking code or invalid results. Use at your own risk. For more info please refer to:\n",
      "https://scikit-learn.org/stable/model_persistence.html#security-maintainability-limitations\n",
      "  warnings.warn(\n",
      "/Applications/Anaconda/anaconda3/envs/apziva/lib/python3.9/site-packages/sklearn/base.py:376: InconsistentVersionWarning: Trying to unpickle estimator StandardScaler from version 0.24.2 when using version 1.5.1. This might lead to breaking code or invalid results. Use at your own risk. For more info please refer to:\n",
      "https://scikit-learn.org/stable/model_persistence.html#security-maintainability-limitations\n",
      "  warnings.warn(\n",
      "/Applications/Anaconda/anaconda3/envs/apziva/lib/python3.9/site-packages/sklearn/base.py:376: InconsistentVersionWarning: Trying to unpickle estimator ColumnTransformer from version 0.24.2 when using version 1.5.1. This might lead to breaking code or invalid results. Use at your own risk. For more info please refer to:\n",
      "https://scikit-learn.org/stable/model_persistence.html#security-maintainability-limitations\n",
      "  warnings.warn(\n"
     ]
    },
    {
     "ename": "ModuleNotFoundError",
     "evalue": "No module named 'autosklearn'",
     "output_type": "error",
     "traceback": [
      "\u001b[0;31m---------------------------------------------------------------------------\u001b[0m",
      "\u001b[0;31mModuleNotFoundError\u001b[0m                       Traceback (most recent call last)",
      "Cell \u001b[0;32mIn[2], line 2\u001b[0m\n\u001b[1;32m      1\u001b[0m \u001b[38;5;66;03m# load objects\u001b[39;00m\n\u001b[0;32m----> 2\u001b[0m pipeline_1\u001b[38;5;241m=\u001b[39m\u001b[43mjoblib\u001b[49m\u001b[38;5;241;43m.\u001b[39;49m\u001b[43mload\u001b[49m\u001b[43m(\u001b[49m\u001b[38;5;124;43m'\u001b[39;49m\u001b[38;5;124;43m../joblib/2_pipeline_20240821_layer1\u001b[39;49m\u001b[38;5;124;43m'\u001b[39;49m\u001b[43m)\u001b[49m\n\u001b[1;32m      3\u001b[0m splits_1\u001b[38;5;241m=\u001b[39mjoblib\u001b[38;5;241m.\u001b[39mload(\u001b[38;5;124m'\u001b[39m\u001b[38;5;124m../joblib/2_pipeline_20240821_layer1_splits\u001b[39m\u001b[38;5;124m'\u001b[39m)\n",
      "File \u001b[0;32m/Applications/Anaconda/anaconda3/envs/apziva/lib/python3.9/site-packages/joblib/numpy_pickle.py:658\u001b[0m, in \u001b[0;36mload\u001b[0;34m(filename, mmap_mode)\u001b[0m\n\u001b[1;32m    652\u001b[0m             \u001b[38;5;28;01mif\u001b[39;00m \u001b[38;5;28misinstance\u001b[39m(fobj, \u001b[38;5;28mstr\u001b[39m):\n\u001b[1;32m    653\u001b[0m                 \u001b[38;5;66;03m# if the returned file object is a string, this means we\u001b[39;00m\n\u001b[1;32m    654\u001b[0m                 \u001b[38;5;66;03m# try to load a pickle file generated with an version of\u001b[39;00m\n\u001b[1;32m    655\u001b[0m                 \u001b[38;5;66;03m# Joblib so we load it with joblib compatibility function.\u001b[39;00m\n\u001b[1;32m    656\u001b[0m                 \u001b[38;5;28;01mreturn\u001b[39;00m load_compatibility(fobj)\n\u001b[0;32m--> 658\u001b[0m             obj \u001b[38;5;241m=\u001b[39m \u001b[43m_unpickle\u001b[49m\u001b[43m(\u001b[49m\u001b[43mfobj\u001b[49m\u001b[43m,\u001b[49m\u001b[43m \u001b[49m\u001b[43mfilename\u001b[49m\u001b[43m,\u001b[49m\u001b[43m \u001b[49m\u001b[43mmmap_mode\u001b[49m\u001b[43m)\u001b[49m\n\u001b[1;32m    659\u001b[0m \u001b[38;5;28;01mreturn\u001b[39;00m obj\n",
      "File \u001b[0;32m/Applications/Anaconda/anaconda3/envs/apziva/lib/python3.9/site-packages/joblib/numpy_pickle.py:577\u001b[0m, in \u001b[0;36m_unpickle\u001b[0;34m(fobj, filename, mmap_mode)\u001b[0m\n\u001b[1;32m    575\u001b[0m obj \u001b[38;5;241m=\u001b[39m \u001b[38;5;28;01mNone\u001b[39;00m\n\u001b[1;32m    576\u001b[0m \u001b[38;5;28;01mtry\u001b[39;00m:\n\u001b[0;32m--> 577\u001b[0m     obj \u001b[38;5;241m=\u001b[39m \u001b[43munpickler\u001b[49m\u001b[38;5;241;43m.\u001b[39;49m\u001b[43mload\u001b[49m\u001b[43m(\u001b[49m\u001b[43m)\u001b[49m\n\u001b[1;32m    578\u001b[0m     \u001b[38;5;28;01mif\u001b[39;00m unpickler\u001b[38;5;241m.\u001b[39mcompat_mode:\n\u001b[1;32m    579\u001b[0m         warnings\u001b[38;5;241m.\u001b[39mwarn(\u001b[38;5;124m\"\u001b[39m\u001b[38;5;124mThe file \u001b[39m\u001b[38;5;124m'\u001b[39m\u001b[38;5;132;01m%s\u001b[39;00m\u001b[38;5;124m'\u001b[39m\u001b[38;5;124m has been generated with a \u001b[39m\u001b[38;5;124m\"\u001b[39m\n\u001b[1;32m    580\u001b[0m                       \u001b[38;5;124m\"\u001b[39m\u001b[38;5;124mjoblib version less than 0.10. \u001b[39m\u001b[38;5;124m\"\u001b[39m\n\u001b[1;32m    581\u001b[0m                       \u001b[38;5;124m\"\u001b[39m\u001b[38;5;124mPlease regenerate this pickle file.\u001b[39m\u001b[38;5;124m\"\u001b[39m\n\u001b[1;32m    582\u001b[0m                       \u001b[38;5;241m%\u001b[39m filename,\n\u001b[1;32m    583\u001b[0m                       \u001b[38;5;167;01mDeprecationWarning\u001b[39;00m, stacklevel\u001b[38;5;241m=\u001b[39m\u001b[38;5;241m3\u001b[39m)\n",
      "File \u001b[0;32m/Applications/Anaconda/anaconda3/envs/apziva/lib/python3.9/pickle.py:1212\u001b[0m, in \u001b[0;36m_Unpickler.load\u001b[0;34m(self)\u001b[0m\n\u001b[1;32m   1210\u001b[0m             \u001b[38;5;28;01mraise\u001b[39;00m \u001b[38;5;167;01mEOFError\u001b[39;00m\n\u001b[1;32m   1211\u001b[0m         \u001b[38;5;28;01massert\u001b[39;00m \u001b[38;5;28misinstance\u001b[39m(key, bytes_types)\n\u001b[0;32m-> 1212\u001b[0m         \u001b[43mdispatch\u001b[49m\u001b[43m[\u001b[49m\u001b[43mkey\u001b[49m\u001b[43m[\u001b[49m\u001b[38;5;241;43m0\u001b[39;49m\u001b[43m]\u001b[49m\u001b[43m]\u001b[49m\u001b[43m(\u001b[49m\u001b[38;5;28;43mself\u001b[39;49m\u001b[43m)\u001b[49m\n\u001b[1;32m   1213\u001b[0m \u001b[38;5;28;01mexcept\u001b[39;00m _Stop \u001b[38;5;28;01mas\u001b[39;00m stopinst:\n\u001b[1;32m   1214\u001b[0m     \u001b[38;5;28;01mreturn\u001b[39;00m stopinst\u001b[38;5;241m.\u001b[39mvalue\n",
      "File \u001b[0;32m/Applications/Anaconda/anaconda3/envs/apziva/lib/python3.9/pickle.py:1537\u001b[0m, in \u001b[0;36m_Unpickler.load_stack_global\u001b[0;34m(self)\u001b[0m\n\u001b[1;32m   1535\u001b[0m \u001b[38;5;28;01mif\u001b[39;00m \u001b[38;5;28mtype\u001b[39m(name) \u001b[38;5;129;01mis\u001b[39;00m \u001b[38;5;129;01mnot\u001b[39;00m \u001b[38;5;28mstr\u001b[39m \u001b[38;5;129;01mor\u001b[39;00m \u001b[38;5;28mtype\u001b[39m(module) \u001b[38;5;129;01mis\u001b[39;00m \u001b[38;5;129;01mnot\u001b[39;00m \u001b[38;5;28mstr\u001b[39m:\n\u001b[1;32m   1536\u001b[0m     \u001b[38;5;28;01mraise\u001b[39;00m UnpicklingError(\u001b[38;5;124m\"\u001b[39m\u001b[38;5;124mSTACK_GLOBAL requires str\u001b[39m\u001b[38;5;124m\"\u001b[39m)\n\u001b[0;32m-> 1537\u001b[0m \u001b[38;5;28mself\u001b[39m\u001b[38;5;241m.\u001b[39mappend(\u001b[38;5;28;43mself\u001b[39;49m\u001b[38;5;241;43m.\u001b[39;49m\u001b[43mfind_class\u001b[49m\u001b[43m(\u001b[49m\u001b[43mmodule\u001b[49m\u001b[43m,\u001b[49m\u001b[43m \u001b[49m\u001b[43mname\u001b[49m\u001b[43m)\u001b[49m)\n",
      "File \u001b[0;32m/Applications/Anaconda/anaconda3/envs/apziva/lib/python3.9/pickle.py:1579\u001b[0m, in \u001b[0;36m_Unpickler.find_class\u001b[0;34m(self, module, name)\u001b[0m\n\u001b[1;32m   1577\u001b[0m     \u001b[38;5;28;01melif\u001b[39;00m module \u001b[38;5;129;01min\u001b[39;00m _compat_pickle\u001b[38;5;241m.\u001b[39mIMPORT_MAPPING:\n\u001b[1;32m   1578\u001b[0m         module \u001b[38;5;241m=\u001b[39m _compat_pickle\u001b[38;5;241m.\u001b[39mIMPORT_MAPPING[module]\n\u001b[0;32m-> 1579\u001b[0m \u001b[38;5;28;43m__import__\u001b[39;49m\u001b[43m(\u001b[49m\u001b[43mmodule\u001b[49m\u001b[43m,\u001b[49m\u001b[43m \u001b[49m\u001b[43mlevel\u001b[49m\u001b[38;5;241;43m=\u001b[39;49m\u001b[38;5;241;43m0\u001b[39;49m\u001b[43m)\u001b[49m\n\u001b[1;32m   1580\u001b[0m \u001b[38;5;28;01mif\u001b[39;00m \u001b[38;5;28mself\u001b[39m\u001b[38;5;241m.\u001b[39mproto \u001b[38;5;241m>\u001b[39m\u001b[38;5;241m=\u001b[39m \u001b[38;5;241m4\u001b[39m:\n\u001b[1;32m   1581\u001b[0m     \u001b[38;5;28;01mreturn\u001b[39;00m _getattribute(sys\u001b[38;5;241m.\u001b[39mmodules[module], name)[\u001b[38;5;241m0\u001b[39m]\n",
      "\u001b[0;31mModuleNotFoundError\u001b[0m: No module named 'autosklearn'"
     ]
    }
   ],
   "source": [
    "# load objects\n",
    "pipeline_1=joblib.load('../joblib/2_pipeline_20240821_layer1')\n",
    "splits_1=joblib.load('../joblib/2_pipeline_20240821_layer1_splits')"
   ]
  },
  {
   "cell_type": "code",
   "execution_count": null,
   "id": "3fe1bf1c-e551-4683-a366-7721770b6405",
   "metadata": {
    "id": "1d945329",
    "outputId": "3d89526d-7d95-4521-8447-a5e29119da2a"
   },
   "outputs": [
    {
     "name": "stdout",
     "output_type": "stream",
     "text": [
      "AutoSklearn accuracy:\n",
      "92.74%\n"
     ]
    }
   ],
   "source": [
    "# determine accuracy of model\n",
    "X_1_test=splits_1['X_test']\n",
    "y_1_test=splits_1['y_test']\n",
    "\n",
    "y_1_pred,accuracy_1=evaluateModel(X_test,y_test,pipeline_1,verbose=True)"
   ]
  },
  {
   "cell_type": "code",
   "execution_count": null,
   "id": "857a4ee6-17d9-4c50-a554-7c11d699e27d",
   "metadata": {
    "id": "27931787",
    "outputId": "27697430-3fe0-49cc-8a85-a0901d5e75e4"
   },
   "outputs": [
    {
     "name": "stderr",
     "output_type": "stream",
     "text": [
      "/tmp/ipykernel_88/2902082143.py:80: RuntimeWarning: invalid value encountered in double_scalars\n",
      "  f1_score  = 2*precision*recall / (precision + recall)\n"
     ]
    },
    {
     "data": {
      "image/png": "[encoded data removed]",
      "text/plain": [
       "<Figure size 640x480 with 2 Axes>"
      ]
     },
     "metadata": {},
     "output_type": "display_data"
    }
   ],
   "source": [
    "# view confusion matrix\n",
    "# the F1-score doesn't show but that's ok\n",
    "cf_matrix_1=confusion_matrix(y_1_test,y_1_pred)\n",
    "labels=['True Neg','False Pos','False Neg','True Pos']\n",
    "make_confusion_matrix(cf=cf_matrix_1,\n",
    "                      group_names=labels,\n",
    "                      cmap='coolwarm')"
   ]
  },
  {
   "cell_type": "code",
   "execution_count": null,
   "id": "3841a1f7-175d-43c8-b760-5d368c0dccd2",
   "metadata": {
    "id": "d5cdb443",
    "outputId": "172f8036-01fa-46ee-b6d6-c60d1c286910"
   },
   "outputs": [
    {
     "name": "stdout",
     "output_type": "stream",
     "text": [
      "              precision    recall  f1-score   support\n",
      "\n",
      "          no       0.93      1.00      0.96      7421\n",
      "         yes       0.00      0.00      0.00       579\n",
      "\n",
      "    accuracy                           0.93      8000\n",
      "   macro avg       0.46      0.50      0.48      8000\n",
      "weighted avg       0.86      0.93      0.89      8000\n",
      "\n"
     ]
    }
   ],
   "source": [
    "# view F1-score\n",
    "creport=classification_report(y_test,y_1_pred)\n",
    "print(creport)"
   ]
  },
  {
   "cell_type": "markdown",
   "id": "d42756b7-30e5-40ae-b945-ac36f1650896",
   "metadata": {
    "id": "c65f3b7e"
   },
   "source": [
    "Although we are able to get great accuracy for class 0 ('no'), we were not able to get a good accuracy for class 1 ('yes')."
   ]
  },
  {
   "cell_type": "markdown",
   "id": "308f0feb-affa-4a36-9bca-a09cda5a5cf3",
   "metadata": {},
   "source": [
    "## Modeling: Layer 1"
   ]
  },
  {
   "cell_type": "markdown",
   "id": "4355300e-654f-49e9-ba79-4f6f7f8f2183",
   "metadata": {},
   "source": [
    "### Prepare Dataset for Modeling"
   ]
  },
  {
   "cell_type": "markdown",
   "id": "f6c69b32-b8e6-4bb6-9285-9d10879f90d0",
   "metadata": {},
   "source": [
    "Split data into training, validation, and testing sets:"
   ]
  },
  {
   "cell_type": "code",
   "execution_count": 199,
   "id": "87823f6a-739e-4a15-9434-bbeddcfb61d2",
   "metadata": {},
   "outputs": [
    {
     "data": {
      "text/html": [
       "<div>\n",
       "<style scoped>\n",
       "    .dataframe tbody tr th:only-of-type {\n",
       "        vertical-align: middle;\n",
       "    }\n",
       "\n",
       "    .dataframe tbody tr th {\n",
       "        vertical-align: top;\n",
       "    }\n",
       "\n",
       "    .dataframe thead th {\n",
       "        text-align: right;\n",
       "    }\n",
       "</style>\n",
       "<table border=\"1\" class=\"dataframe\">\n",
       "  <thead>\n",
       "    <tr style=\"text-align: right;\">\n",
       "      <th></th>\n",
       "      <th>age</th>\n",
       "      <th>job</th>\n",
       "      <th>marital</th>\n",
       "      <th>education</th>\n",
       "      <th>default</th>\n",
       "      <th>balance</th>\n",
       "      <th>housing</th>\n",
       "      <th>loan</th>\n",
       "      <th>y</th>\n",
       "    </tr>\n",
       "  </thead>\n",
       "  <tbody>\n",
       "    <tr>\n",
       "      <th>0</th>\n",
       "      <td>58</td>\n",
       "      <td>management</td>\n",
       "      <td>married</td>\n",
       "      <td>tertiary</td>\n",
       "      <td>no</td>\n",
       "      <td>2143</td>\n",
       "      <td>yes</td>\n",
       "      <td>no</td>\n",
       "      <td>0</td>\n",
       "    </tr>\n",
       "    <tr>\n",
       "      <th>1</th>\n",
       "      <td>44</td>\n",
       "      <td>technician</td>\n",
       "      <td>single</td>\n",
       "      <td>secondary</td>\n",
       "      <td>no</td>\n",
       "      <td>29</td>\n",
       "      <td>yes</td>\n",
       "      <td>no</td>\n",
       "      <td>0</td>\n",
       "    </tr>\n",
       "    <tr>\n",
       "      <th>2</th>\n",
       "      <td>33</td>\n",
       "      <td>entrepreneur</td>\n",
       "      <td>married</td>\n",
       "      <td>secondary</td>\n",
       "      <td>no</td>\n",
       "      <td>2</td>\n",
       "      <td>yes</td>\n",
       "      <td>yes</td>\n",
       "      <td>0</td>\n",
       "    </tr>\n",
       "    <tr>\n",
       "      <th>3</th>\n",
       "      <td>47</td>\n",
       "      <td>blue-collar</td>\n",
       "      <td>married</td>\n",
       "      <td>unknown</td>\n",
       "      <td>no</td>\n",
       "      <td>1506</td>\n",
       "      <td>yes</td>\n",
       "      <td>no</td>\n",
       "      <td>0</td>\n",
       "    </tr>\n",
       "    <tr>\n",
       "      <th>4</th>\n",
       "      <td>33</td>\n",
       "      <td>unknown</td>\n",
       "      <td>single</td>\n",
       "      <td>unknown</td>\n",
       "      <td>no</td>\n",
       "      <td>1</td>\n",
       "      <td>no</td>\n",
       "      <td>no</td>\n",
       "      <td>0</td>\n",
       "    </tr>\n",
       "    <tr>\n",
       "      <th>...</th>\n",
       "      <td>...</td>\n",
       "      <td>...</td>\n",
       "      <td>...</td>\n",
       "      <td>...</td>\n",
       "      <td>...</td>\n",
       "      <td>...</td>\n",
       "      <td>...</td>\n",
       "      <td>...</td>\n",
       "      <td>...</td>\n",
       "    </tr>\n",
       "    <tr>\n",
       "      <th>39995</th>\n",
       "      <td>53</td>\n",
       "      <td>technician</td>\n",
       "      <td>married</td>\n",
       "      <td>tertiary</td>\n",
       "      <td>no</td>\n",
       "      <td>395</td>\n",
       "      <td>no</td>\n",
       "      <td>no</td>\n",
       "      <td>0</td>\n",
       "    </tr>\n",
       "    <tr>\n",
       "      <th>39996</th>\n",
       "      <td>30</td>\n",
       "      <td>management</td>\n",
       "      <td>single</td>\n",
       "      <td>tertiary</td>\n",
       "      <td>no</td>\n",
       "      <td>3340</td>\n",
       "      <td>no</td>\n",
       "      <td>no</td>\n",
       "      <td>1</td>\n",
       "    </tr>\n",
       "    <tr>\n",
       "      <th>39997</th>\n",
       "      <td>54</td>\n",
       "      <td>admin</td>\n",
       "      <td>divorced</td>\n",
       "      <td>secondary</td>\n",
       "      <td>no</td>\n",
       "      <td>200</td>\n",
       "      <td>no</td>\n",
       "      <td>no</td>\n",
       "      <td>1</td>\n",
       "    </tr>\n",
       "    <tr>\n",
       "      <th>39998</th>\n",
       "      <td>34</td>\n",
       "      <td>management</td>\n",
       "      <td>married</td>\n",
       "      <td>tertiary</td>\n",
       "      <td>no</td>\n",
       "      <td>1047</td>\n",
       "      <td>no</td>\n",
       "      <td>no</td>\n",
       "      <td>0</td>\n",
       "    </tr>\n",
       "    <tr>\n",
       "      <th>39999</th>\n",
       "      <td>38</td>\n",
       "      <td>technician</td>\n",
       "      <td>married</td>\n",
       "      <td>secondary</td>\n",
       "      <td>no</td>\n",
       "      <td>1442</td>\n",
       "      <td>yes</td>\n",
       "      <td>no</td>\n",
       "      <td>0</td>\n",
       "    </tr>\n",
       "  </tbody>\n",
       "</table>\n",
       "<p>40000 rows × 9 columns</p>\n",
       "</div>"
      ],
      "text/plain": [
       "       age           job   marital  education default  balance housing loan  y\n",
       "0       58    management   married   tertiary      no     2143     yes   no  0\n",
       "1       44    technician    single  secondary      no       29     yes   no  0\n",
       "2       33  entrepreneur   married  secondary      no        2     yes  yes  0\n",
       "3       47   blue-collar   married    unknown      no     1506     yes   no  0\n",
       "4       33       unknown    single    unknown      no        1      no   no  0\n",
       "...    ...           ...       ...        ...     ...      ...     ...  ... ..\n",
       "39995   53    technician   married   tertiary      no      395      no   no  0\n",
       "39996   30    management    single   tertiary      no     3340      no   no  1\n",
       "39997   54         admin  divorced  secondary      no      200      no   no  1\n",
       "39998   34    management   married   tertiary      no     1047      no   no  0\n",
       "39999   38    technician   married  secondary      no     1442     yes   no  0\n",
       "\n",
       "[40000 rows x 9 columns]"
      ]
     },
     "execution_count": 199,
     "metadata": {},
     "output_type": "execute_result"
    }
   ],
   "source": [
    "data=pd.concat([X_1,y],axis=1)\n",
    "data"
   ]
  },
  {
   "cell_type": "markdown",
   "id": "aa84f85f-1444-40be-b3b9-ebfe954dbf04",
   "metadata": {},
   "source": [
    "Create function to speed up preparing data for modeling going forward:"
   ]
  },
  {
   "cell_type": "code",
   "execution_count": 200,
   "id": "d8b55689-b51e-4c00-8e86-414325d49267",
   "metadata": {},
   "outputs": [
    {
     "data": {
      "text/plain": [
       "['age', 'balance']"
      ]
     },
     "execution_count": 200,
     "metadata": {},
     "output_type": "execute_result"
    }
   ],
   "source": [
    "cat_cols = list(X_1.select_dtypes(include='object').columns)\n",
    "num_cols = list(X_1.select_dtypes(exclude='object').columns)\n",
    "\n",
    "num_cols"
   ]
  },
  {
   "cell_type": "markdown",
   "id": "6f39ec8c-eb2d-4b3d-9bad-a9f70a763adf",
   "metadata": {},
   "source": [
    "### Define and Run Functions for Modeling"
   ]
  },
  {
   "cell_type": "markdown",
   "id": "9dcd3d65-1643-40b2-bf07-9bb4b6e5e139",
   "metadata": {},
   "source": [
    "Define code for preprocessing, modeling, and evaluation:"
   ]
  },
  {
   "cell_type": "code",
   "execution_count": 201,
   "id": "9e1d3c63-1a81-49c8-aa58-cd5e7a3be1e3",
   "metadata": {},
   "outputs": [],
   "source": [
    "classifier_map={\n",
    "    'etc':ExtraTreeClassifier(random_state=seed),\n",
    "    'xgb':XGBClassifier(random_state=seed),\n",
    "    'dtc':DecisionTreeClassifier(random_state=seed),\n",
    "    'rfc':RandomForestClassifier(random_state=seed),\n",
    "    'lgb':LGBMClassifier(random_state=seed,verbose=-1),\n",
    "    'lrx':LogisticRegression(random_state=seed)\n",
    "}"
   ]
  },
  {
   "cell_type": "code",
   "execution_count": 206,
   "id": "aa7d9a05-09d0-46ea-a8da-e1c58f043d33",
   "metadata": {},
   "outputs": [],
   "source": [
    "# Step 1: Split the data into training and testing sets\n",
    "def split_data(data, target_column_name, random_state,test_size=0.2):\n",
    "    print('Defining X...')\n",
    "    X = data.drop(columns=[target_column_name])\n",
    "    assert not X.isnull().any().any(), \"X contains NaN values!\"\n",
    "\n",
    "    print('Defining y...')\n",
    "    y = data[target_column_name]\n",
    "    assert not y.isnull().any(), \"y contains NaN values!\"\n",
    "  \n",
    "    print('train_test_splitting...')\n",
    "    X_train,X_test,y_train,y_test=train_test_split(X,y,test_size=test_size,random_state=random_state)\n",
    "    \n",
    "    assert X_train.shape[0] + X_test.shape[0] == X.shape[0], \"Train and test sizes do not match!\"   \n",
    "    return X_train,X_test,y_train,y_test\n",
    "\n",
    "# Step 2: Create a function to transform the data\n",
    "def transform_data(X_train, X_test, cat_cols):\n",
    "    # One-hot encoding for categorical variables\n",
    "    print('X_train encoding...')\n",
    "    X_train_encoded = pd.get_dummies(X_train, columns=cat_cols, drop_first=True)\n",
    "    assert X_train_encoded.shape[1] > 0, \"X_train_encoded has no columns!\"\n",
    "\n",
    "    print('X_test encoding...')\n",
    "    X_test_encoded = pd.get_dummies(X_test, columns=cat_cols, drop_first=True)\n",
    "    \n",
    "    # Align columns with the training set to avoid mismatches\n",
    "    print('Aligning columns...')\n",
    "    X_test_encoded = X_test_encoded.reindex(columns=X_train_encoded.columns, fill_value=0)\n",
    "\n",
    "    # Scaling\n",
    "    scaler = StandardScaler()\n",
    "    print('Scaling X_train...')\n",
    "    X_train_scaled = scaler.fit_transform(X_train_encoded)\n",
    "    print('Scaling X_test...')\n",
    "    X_test_scaled = scaler.transform(X_test_encoded)\n",
    "\n",
    "    # Convert scaled arrays back to DataFrame\n",
    "    X_train_scaled = pd.DataFrame(X_train_scaled, columns=X_train_encoded.columns)\n",
    "    X_test_scaled = pd.DataFrame(X_test_scaled, columns=X_test_encoded.columns)\n",
    "\n",
    "    return X_train_scaled, X_test_scaled\n",
    "\n",
    "# Step 3: Set up the RandomOverSampler\n",
    "def oversample(X, y,random_state):\n",
    "    ros = RandomOverSampler(random_state=random_state)\n",
    "    print('Oversampling...')\n",
    "\n",
    "    X_resampled, y_resampled = ros.fit_resample(X, y)\n",
    "\n",
    "    # Convert resampled arrays back to DataFrame\n",
    "    X_resampled = pd.DataFrame(X_resampled, columns=X.columns)\n",
    "\n",
    "    # Assert to check if the resampling worked\n",
    "    assert X_resampled.shape[0] > X.shape[0], \"Oversampling did not increase the number of samples!\"\n",
    "\n",
    "    return X_resampled, y_resampled\n",
    "\n",
    "# Step 4: Use 5-fold cross-validation and classification report\n",
    "def evaluate_model(X_train, y_train, model,random_state):\n",
    "    print(f'Evaluating model: {model}')\n",
    "    \n",
    "    # Initialize a StratifiedKFold object for cross-validation\n",
    "    skf = StratifiedKFold(n_splits=5, shuffle=True, random_state=random_state)\n",
    "    all_y_true = []\n",
    "    all_y_pred = []\n",
    "\n",
    "    for train_index, test_index in skf.split(X_train, y_train):\n",
    "        X_cv_train, X_cv_test = X_train.iloc[train_index], X_train.iloc[test_index]\n",
    "        y_cv_train, y_cv_test = y_train.iloc[train_index], y_train.iloc[test_index]\n",
    "\n",
    "        # Fit the model on the training fold\n",
    "        model.fit(X_cv_train, y_cv_train)\n",
    "        \n",
    "        # Make predictions on the validation fold\n",
    "        y_cv_pred = model.predict(X_cv_test)\n",
    "\n",
    "        # Collect the true and predicted values\n",
    "        all_y_true.extend(y_cv_test)\n",
    "        all_y_pred.extend(y_cv_pred)\n",
    "\n",
    "        assert set(y_cv_test).issubset({0,1}),'y_cv_test contains unexpected values!'\n",
    "    \n",
    "    # Calculate evaluation metrics\n",
    "    precision = precision_score(all_y_true, all_y_pred)\n",
    "    recall = recall_score(all_y_true, all_y_pred)\n",
    "    f1 = f1_score(all_y_true, all_y_pred)\n",
    "    accuracy = accuracy_score(all_y_true, all_y_pred)\n",
    "\n",
    "    results[model.__class__.__name__]={\n",
    "        'precision':precision,\n",
    "        'recall':recall,\n",
    "        'f1_score':f1,\n",
    "        'accuracy':accuracy\n",
    "    }\n",
    "    \n",
    "    # Generate the classification report\n",
    "    print(classification_report(all_y_true, all_y_pred))\n",
    "    \n",
    "    # Optionally: Calculate and print cross-validation scores\n",
    "    scores = cross_val_score(model, X_train, y_train, cv=5)\n",
    "    print(f\"Cross-validation scores: {scores}\")\n",
    "    print(f\"Mean score: {scores.mean()*100:.2f}%\")\n",
    "    \n",
    "    assert len(all_y_true) == len(all_y_pred), \"Mismatch between true and predicted values length!\""
   ]
  },
  {
   "cell_type": "code",
   "execution_count": 208,
   "id": "6bdf710a-f4e4-4d20-bfde-19df68570f9e",
   "metadata": {},
   "outputs": [
    {
     "name": "stdout",
     "output_type": "stream",
     "text": [
      "Defining X...\n",
      "Defining y...\n",
      "train_test_splitting...\n",
      "X_train encoding...\n",
      "X_test encoding...\n",
      "Aligning columns...\n",
      "Scaling X_train...\n",
      "Scaling X_test...\n",
      "Oversampling...\n",
      "\n",
      "Evaluating etc on Train set:\n",
      "Evaluating model: ExtraTreeClassifier(random_state=4769)\n",
      "              precision    recall  f1-score   support\n",
      "\n",
      "           0       1.00      0.91      0.95     29690\n",
      "           1       0.92      1.00      0.96     29690\n",
      "\n",
      "    accuracy                           0.95     59380\n",
      "   macro avg       0.96      0.95      0.95     59380\n",
      "weighted avg       0.96      0.95      0.95     59380\n",
      "\n",
      "Cross-validation scores: [0.95520377 0.95486696 0.95444594 0.95528798 0.95469855]\n",
      "Mean score: 95.49%\n",
      "\n",
      "Evaluating etc on Test set:\n",
      "              precision    recall  f1-score   support\n",
      "\n",
      "           0       0.93      0.91      0.92      7414\n",
      "           1       0.13      0.17      0.15       586\n",
      "\n",
      "    accuracy                           0.85      8000\n",
      "   macro avg       0.53      0.54      0.53      8000\n",
      "weighted avg       0.87      0.85      0.86      8000\n",
      "\n"
     ]
    },
    {
     "data": {
      "image/png": "[encoded data removed]",
      "text/plain": [
       "<Figure size 1000x600 with 1 Axes>"
      ]
     },
     "metadata": {},
     "output_type": "display_data"
    },
    {
     "name": "stdout",
     "output_type": "stream",
     "text": [
      "\n",
      " ********************\n",
      "\n",
      "Evaluating xgb on Train set:\n",
      "Evaluating model: XGBClassifier(base_score=None, booster=None, callbacks=None,\n",
      "              colsample_bylevel=None, colsample_bynode=None,\n",
      "              colsample_bytree=None, device=None, early_stopping_rounds=None,\n",
      "              enable_categorical=False, eval_metric=None, feature_types=None,\n",
      "              gamma=None, grow_policy=None, importance_type=None,\n",
      "              interaction_constraints=None, learning_rate=None, max_bin=None,\n",
      "              max_cat_threshold=None, max_cat_to_onehot=None,\n",
      "              max_delta_step=None, max_depth=None, max_leaves=None,\n",
      "              min_child_weight=None, missing=nan, monotone_constraints=None,\n",
      "              multi_strategy=None, n_estimators=None, n_jobs=None,\n",
      "              num_parallel_tree=None, random_state=4769, ...)\n",
      "              precision    recall  f1-score   support\n",
      "\n",
      "           0       0.81      0.76      0.78     29690\n",
      "           1       0.77      0.83      0.80     29690\n",
      "\n",
      "    accuracy                           0.79     59380\n",
      "   macro avg       0.79      0.79      0.79     59380\n",
      "weighted avg       0.79      0.79      0.79     59380\n",
      "\n",
      "Cross-validation scores: [0.78949141 0.79951162 0.79227012 0.80094308 0.79378579]\n",
      "Mean score: 79.52%\n",
      "\n",
      "Evaluating xgb on Test set:\n",
      "              precision    recall  f1-score   support\n",
      "\n",
      "           0       0.94      0.76      0.84      7414\n",
      "           1       0.11      0.37      0.17       586\n",
      "\n",
      "    accuracy                           0.73      8000\n",
      "   macro avg       0.52      0.57      0.50      8000\n",
      "weighted avg       0.88      0.73      0.79      8000\n",
      "\n"
     ]
    },
    {
     "data": {
      "image/png": "[encoded data removed]",
      "text/plain": [
       "<Figure size 1000x600 with 1 Axes>"
      ]
     },
     "metadata": {},
     "output_type": "display_data"
    },
    {
     "name": "stdout",
     "output_type": "stream",
     "text": [
      "\n",
      " ********************\n",
      "\n",
      "Evaluating dtc on Train set:\n",
      "Evaluating model: DecisionTreeClassifier(random_state=4769)\n",
      "              precision    recall  f1-score   support\n",
      "\n",
      "           0       1.00      0.91      0.95     29690\n",
      "           1       0.91      1.00      0.96     29690\n",
      "\n",
      "    accuracy                           0.95     59380\n",
      "   macro avg       0.96      0.95      0.95     59380\n",
      "weighted avg       0.96      0.95      0.95     59380\n",
      "\n",
      "Cross-validation scores: [0.95225665 0.95663523 0.95444594 0.95183563 0.95259347]\n",
      "Mean score: 95.36%\n",
      "\n",
      "Evaluating dtc on Test set:\n",
      "              precision    recall  f1-score   support\n",
      "\n",
      "           0       0.93      0.91      0.92      7414\n",
      "           1       0.13      0.18      0.15       586\n",
      "\n",
      "    accuracy                           0.85      8000\n",
      "   macro avg       0.53      0.54      0.53      8000\n",
      "weighted avg       0.87      0.85      0.86      8000\n",
      "\n"
     ]
    },
    {
     "data": {
      "image/png": "[encoded data removed]",
      "text/plain": [
       "<Figure size 1000x600 with 1 Axes>"
      ]
     },
     "metadata": {},
     "output_type": "display_data"
    },
    {
     "name": "stdout",
     "output_type": "stream",
     "text": [
      "\n",
      " ********************\n",
      "\n",
      "Evaluating rfc on Train set:\n",
      "Evaluating model: RandomForestClassifier(random_state=4769)\n",
      "              precision    recall  f1-score   support\n",
      "\n",
      "           0       1.00      0.93      0.97     29690\n",
      "           1       0.94      1.00      0.97     29690\n",
      "\n",
      "    accuracy                           0.97     59380\n",
      "   macro avg       0.97      0.97      0.97     59380\n",
      "weighted avg       0.97      0.97      0.97     59380\n",
      "\n",
      "Cross-validation scores: [0.96699225 0.96833951 0.9682553  0.96522398 0.96589761]\n",
      "Mean score: 96.69%\n",
      "\n",
      "Evaluating rfc on Test set:\n",
      "              precision    recall  f1-score   support\n",
      "\n",
      "           0       0.93      0.94      0.93      7414\n",
      "           1       0.15      0.15      0.15       586\n",
      "\n",
      "    accuracy                           0.88      8000\n",
      "   macro avg       0.54      0.54      0.54      8000\n",
      "weighted avg       0.88      0.88      0.88      8000\n",
      "\n"
     ]
    },
    {
     "data": {
      "image/png": "[encoded data removed]",
      "text/plain": [
       "<Figure size 1000x600 with 1 Axes>"
      ]
     },
     "metadata": {},
     "output_type": "display_data"
    },
    {
     "name": "stdout",
     "output_type": "stream",
     "text": [
      "\n",
      " ********************\n",
      "\n",
      "Evaluating lgb on Train set:\n",
      "Evaluating model: LGBMClassifier(random_state=4769, verbose=-1)\n",
      "              precision    recall  f1-score   support\n",
      "\n",
      "           0       0.73      0.71      0.72     29690\n",
      "           1       0.72      0.74      0.73     29690\n",
      "\n",
      "    accuracy                           0.73     59380\n",
      "   macro avg       0.73      0.73      0.73     59380\n",
      "weighted avg       0.73      0.73      0.73     59380\n",
      "\n",
      "Cross-validation scores: [0.72027619 0.73400135 0.7181711  0.7304648  0.72212866]\n",
      "Mean score: 72.50%\n",
      "\n",
      "Evaluating lgb on Test set:\n",
      "              precision    recall  f1-score   support\n",
      "\n",
      "           0       0.94      0.70      0.80      7414\n",
      "           1       0.11      0.47      0.18       586\n",
      "\n",
      "    accuracy                           0.68      8000\n",
      "   macro avg       0.53      0.58      0.49      8000\n",
      "weighted avg       0.88      0.68      0.76      8000\n",
      "\n"
     ]
    },
    {
     "data": {
      "image/png": "[encoded data removed]",
      "text/plain": [
       "<Figure size 1000x600 with 1 Axes>"
      ]
     },
     "metadata": {},
     "output_type": "display_data"
    },
    {
     "name": "stdout",
     "output_type": "stream",
     "text": [
      "\n",
      " ********************\n",
      "\n",
      "Evaluating lrx on Train set:\n",
      "Evaluating model: LogisticRegression(random_state=4769)\n",
      "              precision    recall  f1-score   support\n",
      "\n",
      "           0       0.58      0.61      0.59     29690\n",
      "           1       0.59      0.55      0.57     29690\n",
      "\n",
      "    accuracy                           0.58     59380\n",
      "   macro avg       0.58      0.58      0.58     59380\n",
      "weighted avg       0.58      0.58      0.58     59380\n",
      "\n",
      "Cross-validation scores: [0.5784776  0.57999326 0.5808353  0.57957225 0.58428764]\n",
      "Mean score: 58.06%\n",
      "\n",
      "Evaluating lrx on Test set:\n",
      "              precision    recall  f1-score   support\n",
      "\n",
      "           0       0.95      0.61      0.74      7414\n",
      "           1       0.10      0.55      0.17       586\n",
      "\n",
      "    accuracy                           0.61      8000\n",
      "   macro avg       0.52      0.58      0.46      8000\n",
      "weighted avg       0.88      0.61      0.70      8000\n",
      "\n",
      "\n",
      " ********************\n",
      "********************\n",
      "Done!\n",
      "********************\n"
     ]
    }
   ],
   "source": [
    "target_column_name='y'\n",
    "\n",
    "# Splitting the data\n",
    "X_train, X_test, y_train, y_test = split_data(data, target_column_name,random_state=seed)\n",
    "\n",
    "# Transforming the data\n",
    "X_train_scaled, X_test_scaled = transform_data(X_train, X_test, cat_cols)\n",
    "\n",
    "# Oversampling the training data\n",
    "X_train_resampled, y_train_resampled = oversample(X_train_scaled, y_train,random_state=seed)\n",
    "\n",
    "results={}\n",
    "\n",
    "for model_name, model in classifier_map.items():\n",
    "    # Evaluate the model using cross-validation\n",
    "    print(f'\\nEvaluating {model_name} on Train set:')\n",
    "    evaluate_model(X_train_resampled, y_train_resampled, model, random_state=seed)\n",
    "    \n",
    "    # Final evaluation on test set\n",
    "    print(f'\\nEvaluating {model_name} on Test set:')\n",
    "    y_test_pred=model.predict(X_test_scaled)\n",
    "    print(classification_report(y_test,y_test_pred))\n",
    "    \n",
    "    # Feature importance\n",
    "    if hasattr(model, 'feature_importances_'):\n",
    "        importances = model.feature_importances_\n",
    "        feature_names = X_train_resampled.columns  # Now this will work correctly\n",
    "        feature_importances_df = pd.DataFrame({\n",
    "            'Feature': feature_names,\n",
    "            'Importance': importances\n",
    "        })\n",
    "        \n",
    "        # Sort DataFrame by importance\n",
    "        feature_importances_df.sort_values(by='Importance', ascending=False, inplace=True)\n",
    "        \n",
    "        # Plot feature importances\n",
    "        plt.figure(figsize=(10, 6))\n",
    "        sns.barplot(x='Importance', y='Feature', data=feature_importances_df)\n",
    "        plt.title(f'Feature Importances for {model_name}')\n",
    "        plt.xlabel('Importance Score')\n",
    "        plt.ylabel('Feature')\n",
    "        plt.show()\n",
    "        \n",
    "    print('\\n', '*' * 20)\n",
    "    \n",
    "print('*'*20)\n",
    "print('Done!')\n",
    "print('*'*20)"
   ]
  },
  {
   "cell_type": "markdown",
   "id": "330f3435-4713-4c2b-8085-fb78ce51c5c5",
   "metadata": {},
   "source": [
    "This is a good first step - we have classification reports for a suite of algorithms, along with the extracted feature importances for the models that support this feature. After completing this survey, we found that the `RandomForestClassifier` and `LGBMClassifier` performed the best."
   ]
  },
  {
   "cell_type": "markdown",
   "id": "260dfb4c-f506-4898-9617-59db17267a11",
   "metadata": {},
   "source": [
    "Now we can evaluate the RFC model on the test set:"
   ]
  },
  {
   "cell_type": "code",
   "execution_count": 212,
   "id": "4a129c1f-b0f8-4f38-ab49-327ff271a45c",
   "metadata": {},
   "outputs": [
    {
     "name": "stdout",
     "output_type": "stream",
     "text": [
      "              precision    recall  f1-score   support\n",
      "\n",
      "           0       0.93      0.95      0.94      7414\n",
      "           1       0.15      0.12      0.13       586\n",
      "\n",
      "    accuracy                           0.89      8000\n",
      "   macro avg       0.54      0.53      0.54      8000\n",
      "weighted avg       0.87      0.89      0.88      8000\n",
      "\n"
     ]
    }
   ],
   "source": [
    "best_model=classifier_map['rfc']\n",
    "best_model.fit(X_train_resampled,y_train_resampled)\n",
    "y_test_pred=best_model.predict(X_test_scaled)\n",
    "print(classification_report(y_test,y_test_pred))"
   ]
  },
  {
   "cell_type": "code",
   "execution_count": 226,
   "id": "ee84293a-0f60-469b-9327-eb9c8ca395b0",
   "metadata": {},
   "outputs": [
    {
     "name": "stdout",
     "output_type": "stream",
     "text": [
      "              precision    recall  f1-score   support\n",
      "\n",
      "           0       0.93      0.69      0.79      7421\n",
      "           1       0.07      0.29      0.11       579\n",
      "\n",
      "    accuracy                           0.66      8000\n",
      "   macro avg       0.50      0.49      0.45      8000\n",
      "weighted avg       0.86      0.66      0.74      8000\n",
      "\n"
     ]
    }
   ],
   "source": [
    "best_model=classifier_map['lgb']\n",
    "best_model.fit(X_train_resampled,y_train_resampled)\n",
    "y_test_pred=best_model.predict(X_test_scaled)\n",
    "print(classification_report(y_test,y_test_pred))"
   ]
  },
  {
   "cell_type": "code",
   "execution_count": 213,
   "id": "3318a0b8-8c7a-4d98-bf39-c5b690be311d",
   "metadata": {},
   "outputs": [],
   "source": [
    "from imblearn.ensemble import BalancedRandomForestClassifier"
   ]
  },
  {
   "cell_type": "code",
   "execution_count": 215,
   "id": "26c4ef15-94c8-427e-abd8-d0b8e653ae4c",
   "metadata": {},
   "outputs": [
    {
     "name": "stdout",
     "output_type": "stream",
     "text": [
      "              precision    recall  f1-score   support\n",
      "\n",
      "           0       0.93      0.95      0.94      7414\n",
      "           1       0.15      0.12      0.13       586\n",
      "\n",
      "    accuracy                           0.89      8000\n",
      "   macro avg       0.54      0.53      0.54      8000\n",
      "weighted avg       0.87      0.89      0.88      8000\n",
      "\n"
     ]
    }
   ],
   "source": [
    "model=BalancedRandomForestClassifier(random_state=seed,sampling_strategy='all',replacement=True,bootstrap=False)\n",
    "model.fit(X_train_resampled,y_train_resampled)\n",
    "y_test_pred=model.predict(X_test_scaled)\n",
    "print(classification_report(y_test,y_test_pred))"
   ]
  },
  {
   "cell_type": "markdown",
   "id": "4e386d9a-bef8-400f-ae6f-1471671d2cf8",
   "metadata": {},
   "source": [
    "### Optuna with RandomForestClassifier"
   ]
  },
  {
   "cell_type": "code",
   "execution_count": 217,
   "id": "1a6753d7-71c9-4448-84bd-a0fb98d1abc8",
   "metadata": {},
   "outputs": [
    {
     "name": "stderr",
     "output_type": "stream",
     "text": [
      "[I 2024-10-24 15:07:38,721] A new study created in memory with name: no-name-0ebb5770-1ff1-4f21-94de-44e3cdb154f9\n",
      "[I 2024-10-24 15:08:50,839] Trial 0 finished with value: 0.6086987616090671 and parameters: {'n_estimators': 279, 'max_depth': 6, 'min_samples_split': 4}. Best is trial 0 with value: 0.6086987616090671.\n",
      "[I 2024-10-24 15:11:06,491] Trial 1 finished with value: 0.8530655961419586 and parameters: {'n_estimators': 288, 'max_depth': 15, 'min_samples_split': 15}. Best is trial 1 with value: 0.8530655961419586.\n",
      "[I 2024-10-24 15:11:45,378] Trial 2 finished with value: 0.6082169789081949 and parameters: {'n_estimators': 151, 'max_depth': 6, 'min_samples_split': 12}. Best is trial 1 with value: 0.8530655961419586.\n",
      "[I 2024-10-24 15:12:07,039] Trial 3 finished with value: 0.5963402199168595 and parameters: {'n_estimators': 93, 'max_depth': 5, 'min_samples_split': 14}. Best is trial 1 with value: 0.8530655961419586.\n",
      "[I 2024-10-24 15:13:37,894] Trial 4 finished with value: 0.6782374541282782 and parameters: {'n_estimators': 258, 'max_depth': 9, 'min_samples_split': 13}. Best is trial 1 with value: 0.8530655961419586.\n",
      "[I 2024-10-24 15:15:08,152] Trial 5 finished with value: 0.9112741811586285 and parameters: {'n_estimators': 155, 'max_depth': 18, 'min_samples_split': 11}. Best is trial 5 with value: 0.9112741811586285.\n",
      "[I 2024-10-24 15:16:14,847] Trial 6 finished with value: 0.7123001703508611 and parameters: {'n_estimators': 171, 'max_depth': 10, 'min_samples_split': 9}. Best is trial 5 with value: 0.9112741811586285.\n",
      "[I 2024-10-24 15:16:51,643] Trial 7 finished with value: 0.9231371957478332 and parameters: {'n_estimators': 63, 'max_depth': 18, 'min_samples_split': 6}. Best is trial 7 with value: 0.9231371957478332.\n",
      "[I 2024-10-24 15:18:09,363] Trial 8 finished with value: 0.680689404964752 and parameters: {'n_estimators': 216, 'max_depth': 9, 'min_samples_split': 9}. Best is trial 7 with value: 0.9231371957478332.\n",
      "[I 2024-10-24 15:19:25,323] Trial 9 finished with value: 0.7151376281625401 and parameters: {'n_estimators': 207, 'max_depth': 10, 'min_samples_split': 3}. Best is trial 7 with value: 0.9231371957478332.\n",
      "[I 2024-10-24 15:19:55,359] Trial 10 finished with value: 0.9105863470262194 and parameters: {'n_estimators': 53, 'max_depth': 20, 'min_samples_split': 19}. Best is trial 7 with value: 0.9231371957478332.\n",
      "[I 2024-10-24 15:20:55,980] Trial 11 finished with value: 0.9245914209046845 and parameters: {'n_estimators': 109, 'max_depth': 18, 'min_samples_split': 6}. Best is trial 11 with value: 0.9245914209046845.\n",
      "[I 2024-10-24 15:21:45,381] Trial 12 finished with value: 0.8707709041700369 and parameters: {'n_estimators': 101, 'max_depth': 15, 'min_samples_split': 6}. Best is trial 11 with value: 0.9245914209046845.\n",
      "[I 2024-10-24 15:22:16,593] Trial 13 finished with value: 0.868064662372839 and parameters: {'n_estimators': 63, 'max_depth': 15, 'min_samples_split': 6}. Best is trial 11 with value: 0.9245914209046845.\n",
      "[I 2024-10-24 15:23:17,560] Trial 14 finished with value: 0.9260012515279514 and parameters: {'n_estimators': 109, 'max_depth': 18, 'min_samples_split': 2}. Best is trial 14 with value: 0.9260012515279514.\n",
      "[I 2024-10-24 15:24:13,894] Trial 15 finished with value: 0.8186306261008116 and parameters: {'n_estimators': 126, 'max_depth': 13, 'min_samples_split': 3}. Best is trial 14 with value: 0.9260012515279514.\n",
      "[I 2024-10-24 15:25:19,112] Trial 16 finished with value: 0.9477727083402141 and parameters: {'n_estimators': 111, 'max_depth': 20, 'min_samples_split': 2}. Best is trial 16 with value: 0.9477727083402141.\n",
      "[I 2024-10-24 15:26:30,704] Trial 17 finished with value: 0.947407895853063 and parameters: {'n_estimators': 123, 'max_depth': 20, 'min_samples_split': 2}. Best is trial 16 with value: 0.9477727083402141.\n",
      "[I 2024-10-24 15:27:58,683] Trial 18 finished with value: 0.8138399291123668 and parameters: {'n_estimators': 201, 'max_depth': 13, 'min_samples_split': 9}. Best is trial 16 with value: 0.9477727083402141.\n",
      "[I 2024-10-24 15:29:16,745] Trial 19 finished with value: 0.9176801480894556 and parameters: {'n_estimators': 138, 'max_depth': 20, 'min_samples_split': 17}. Best is trial 16 with value: 0.9477727083402141.\n",
      "[I 2024-10-24 15:30:07,321] Trial 20 finished with value: 0.9474644536654486 and parameters: {'n_estimators': 86, 'max_depth': 20, 'min_samples_split': 4}. Best is trial 16 with value: 0.9477727083402141.\n",
      "[I 2024-10-24 15:30:56,973] Trial 21 finished with value: 0.9471594138076206 and parameters: {'n_estimators': 85, 'max_depth': 20, 'min_samples_split': 2}. Best is trial 16 with value: 0.9477727083402141.\n",
      "[I 2024-10-24 15:32:06,017] Trial 22 finished with value: 0.9098007682970506 and parameters: {'n_estimators': 128, 'max_depth': 17, 'min_samples_split': 4}. Best is trial 16 with value: 0.9477727083402141.\n",
      "[I 2024-10-24 15:32:45,057] Trial 23 finished with value: 0.8918635030396685 and parameters: {'n_estimators': 77, 'max_depth': 16, 'min_samples_split': 4}. Best is trial 16 with value: 0.9477727083402141.\n",
      "[I 2024-10-24 15:33:54,597] Trial 24 finished with value: 0.9445256688772902 and parameters: {'n_estimators': 120, 'max_depth': 20, 'min_samples_split': 7}. Best is trial 16 with value: 0.9477727083402141.\n",
      "[I 2024-10-24 15:34:27,598] Trial 25 finished with value: 0.5816434929809058 and parameters: {'n_estimators': 182, 'max_depth': 3, 'min_samples_split': 2}. Best is trial 16 with value: 0.9477727083402141.\n",
      "[I 2024-10-24 15:35:13,757] Trial 26 finished with value: 0.9368036312583342 and parameters: {'n_estimators': 81, 'max_depth': 19, 'min_samples_split': 4}. Best is trial 16 with value: 0.9477727083402141.\n",
      "[I 2024-10-24 15:36:30,068] Trial 27 finished with value: 0.8869961590326844 and parameters: {'n_estimators': 149, 'max_depth': 16, 'min_samples_split': 8}. Best is trial 16 with value: 0.9477727083402141.\n",
      "[I 2024-10-24 15:37:46,042] Trial 28 finished with value: 0.8185817793500862 and parameters: {'n_estimators': 172, 'max_depth': 13, 'min_samples_split': 5}. Best is trial 16 with value: 0.9477727083402141.\n",
      "[I 2024-10-24 15:38:50,253] Trial 29 finished with value: 0.9377029418800791 and parameters: {'n_estimators': 113, 'max_depth': 19, 'min_samples_split': 3}. Best is trial 16 with value: 0.9477727083402141.\n",
      "[I 2024-10-24 15:40:55,940] Trial 30 finished with value: 0.8938281745183644 and parameters: {'n_estimators': 244, 'max_depth': 16, 'min_samples_split': 2}. Best is trial 16 with value: 0.9477727083402141.\n",
      "[I 2024-10-24 15:41:45,306] Trial 31 finished with value: 0.9471594138076206 and parameters: {'n_estimators': 85, 'max_depth': 20, 'min_samples_split': 2}. Best is trial 16 with value: 0.9477727083402141.\n",
      "[I 2024-10-24 15:42:28,923] Trial 32 finished with value: 0.9367594781487474 and parameters: {'n_estimators': 77, 'max_depth': 19, 'min_samples_split': 4}. Best is trial 16 with value: 0.9477727083402141.\n",
      "[I 2024-10-24 15:42:55,788] Trial 33 finished with value: 0.907607364293674 and parameters: {'n_estimators': 50, 'max_depth': 17, 'min_samples_split': 5}. Best is trial 16 with value: 0.9477727083402141.\n",
      "[I 2024-10-24 15:43:49,501] Trial 34 finished with value: 0.9371784878398883 and parameters: {'n_estimators': 93, 'max_depth': 19, 'min_samples_split': 3}. Best is trial 16 with value: 0.9477727083402141.\n",
      "[I 2024-10-24 15:46:29,608] Trial 35 finished with value: 0.9103210952760219 and parameters: {'n_estimators': 299, 'max_depth': 17, 'min_samples_split': 5}. Best is trial 16 with value: 0.9477727083402141.\n",
      "[I 2024-10-24 15:47:49,396] Trial 36 finished with value: 0.9476159378803943 and parameters: {'n_estimators': 138, 'max_depth': 20, 'min_samples_split': 2}. Best is trial 16 with value: 0.9477727083402141.\n",
      "[I 2024-10-24 15:48:29,809] Trial 37 finished with value: 0.6258354760317035 and parameters: {'n_estimators': 142, 'max_depth': 7, 'min_samples_split': 12}. Best is trial 16 with value: 0.9477727083402141.\n",
      "[I 2024-10-24 15:49:53,867] Trial 38 finished with value: 0.8977688832011643 and parameters: {'n_estimators': 158, 'max_depth': 18, 'min_samples_split': 16}. Best is trial 16 with value: 0.9477727083402141.\n",
      "[I 2024-10-24 15:50:54,761] Trial 39 finished with value: 0.8438528440063716 and parameters: {'n_estimators': 129, 'max_depth': 14, 'min_samples_split': 7}. Best is trial 16 with value: 0.9477727083402141.\n",
      "[I 2024-10-24 15:51:54,754] Trial 40 finished with value: 0.9377804820935102 and parameters: {'n_estimators': 102, 'max_depth': 19, 'min_samples_split': 3}. Best is trial 16 with value: 0.9477727083402141.\n",
      "[I 2024-10-24 15:52:49,537] Trial 41 finished with value: 0.9473111721758753 and parameters: {'n_estimators': 94, 'max_depth': 20, 'min_samples_split': 2}. Best is trial 16 with value: 0.9477727083402141.\n",
      "[I 2024-10-24 15:53:45,797] Trial 42 finished with value: 0.9472765765943314 and parameters: {'n_estimators': 96, 'max_depth': 20, 'min_samples_split': 2}. Best is trial 16 with value: 0.9477727083402141.\n",
      "[I 2024-10-24 15:54:25,021] Trial 43 finished with value: 0.9365955934318416 and parameters: {'n_estimators': 69, 'max_depth': 19, 'min_samples_split': 3}. Best is trial 16 with value: 0.9477727083402141.\n",
      "[I 2024-10-24 15:55:49,552] Trial 44 finished with value: 0.9094155323094448 and parameters: {'n_estimators': 162, 'max_depth': 17, 'min_samples_split': 5}. Best is trial 16 with value: 0.9477727083402141.\n",
      "[I 2024-10-24 15:57:04,790] Trial 45 finished with value: 0.9255871376937207 and parameters: {'n_estimators': 139, 'max_depth': 18, 'min_samples_split': 3}. Best is trial 16 with value: 0.9477727083402141.\n",
      "[I 2024-10-24 15:58:14,431] Trial 46 finished with value: 0.947796484634523 and parameters: {'n_estimators': 121, 'max_depth': 20, 'min_samples_split': 4}. Best is trial 46 with value: 0.947796484634523.\n",
      "[I 2024-10-24 15:58:58,596] Trial 47 finished with value: 0.7449983835735536 and parameters: {'n_estimators': 113, 'max_depth': 11, 'min_samples_split': 10}. Best is trial 46 with value: 0.947796484634523.\n",
      "[I 2024-10-24 16:00:37,252] Trial 48 finished with value: 0.9257110739259131 and parameters: {'n_estimators': 180, 'max_depth': 18, 'min_samples_split': 5}. Best is trial 46 with value: 0.947796484634523.\n",
      "[I 2024-10-24 16:01:42,591] Trial 49 finished with value: 0.8994081845920023 and parameters: {'n_estimators': 119, 'max_depth': 19, 'min_samples_split': 20}. Best is trial 46 with value: 0.947796484634523.\n"
     ]
    },
    {
     "name": "stdout",
     "output_type": "stream",
     "text": [
      "Best trial:\n",
      "{'n_estimators': 121, 'max_depth': 20, 'min_samples_split': 4}\n"
     ]
    },
    {
     "ename": "ValueError",
     "evalue": "The feature names should match those that were passed during fit.\nFeature names unseen at fit time:\n- default\n- education\n- housing\n- job\n- loan\n- ...\nFeature names seen at fit time, yet now missing:\n- default_yes\n- education_secondary\n- education_tertiary\n- education_unknown\n- housing_yes\n- ...\n",
     "output_type": "error",
     "traceback": [
      "\u001b[0;31m---------------------------------------------------------------------------\u001b[0m",
      "\u001b[0;31mValueError\u001b[0m                                Traceback (most recent call last)",
      "Cell \u001b[0;32mIn[217], line 67\u001b[0m\n\u001b[1;32m     64\u001b[0m final_model\u001b[38;5;241m.\u001b[39mfit(X_train_resampled, y_train_resampled)\n\u001b[1;32m     66\u001b[0m \u001b[38;5;66;03m# Predict on the test set\u001b[39;00m\n\u001b[0;32m---> 67\u001b[0m y_pred \u001b[38;5;241m=\u001b[39m \u001b[43mfinal_model\u001b[49m\u001b[38;5;241;43m.\u001b[39;49m\u001b[43mpredict\u001b[49m\u001b[43m(\u001b[49m\u001b[43mX_test\u001b[49m\u001b[43m)\u001b[49m\n\u001b[1;32m     69\u001b[0m \u001b[38;5;66;03m# Evaluate using classification report\u001b[39;00m\n\u001b[1;32m     70\u001b[0m \u001b[38;5;28;01mfrom\u001b[39;00m \u001b[38;5;21;01msklearn\u001b[39;00m\u001b[38;5;21;01m.\u001b[39;00m\u001b[38;5;21;01mmetrics\u001b[39;00m \u001b[38;5;28;01mimport\u001b[39;00m classification_report\n",
      "File \u001b[0;32m/Applications/Anaconda/anaconda3/envs/apziva/lib/python3.9/site-packages/sklearn/ensemble/_forest.py:904\u001b[0m, in \u001b[0;36mForestClassifier.predict\u001b[0;34m(self, X)\u001b[0m\n\u001b[1;32m    883\u001b[0m \u001b[38;5;28;01mdef\u001b[39;00m \u001b[38;5;21mpredict\u001b[39m(\u001b[38;5;28mself\u001b[39m, X):\n\u001b[1;32m    884\u001b[0m \u001b[38;5;250m    \u001b[39m\u001b[38;5;124;03m\"\"\"\u001b[39;00m\n\u001b[1;32m    885\u001b[0m \u001b[38;5;124;03m    Predict class for X.\u001b[39;00m\n\u001b[1;32m    886\u001b[0m \n\u001b[0;32m   (...)\u001b[0m\n\u001b[1;32m    902\u001b[0m \u001b[38;5;124;03m        The predicted classes.\u001b[39;00m\n\u001b[1;32m    903\u001b[0m \u001b[38;5;124;03m    \"\"\"\u001b[39;00m\n\u001b[0;32m--> 904\u001b[0m     proba \u001b[38;5;241m=\u001b[39m \u001b[38;5;28;43mself\u001b[39;49m\u001b[38;5;241;43m.\u001b[39;49m\u001b[43mpredict_proba\u001b[49m\u001b[43m(\u001b[49m\u001b[43mX\u001b[49m\u001b[43m)\u001b[49m\n\u001b[1;32m    906\u001b[0m     \u001b[38;5;28;01mif\u001b[39;00m \u001b[38;5;28mself\u001b[39m\u001b[38;5;241m.\u001b[39mn_outputs_ \u001b[38;5;241m==\u001b[39m \u001b[38;5;241m1\u001b[39m:\n\u001b[1;32m    907\u001b[0m         \u001b[38;5;28;01mreturn\u001b[39;00m \u001b[38;5;28mself\u001b[39m\u001b[38;5;241m.\u001b[39mclasses_\u001b[38;5;241m.\u001b[39mtake(np\u001b[38;5;241m.\u001b[39margmax(proba, axis\u001b[38;5;241m=\u001b[39m\u001b[38;5;241m1\u001b[39m), axis\u001b[38;5;241m=\u001b[39m\u001b[38;5;241m0\u001b[39m)\n",
      "File \u001b[0;32m/Applications/Anaconda/anaconda3/envs/apziva/lib/python3.9/site-packages/sklearn/ensemble/_forest.py:946\u001b[0m, in \u001b[0;36mForestClassifier.predict_proba\u001b[0;34m(self, X)\u001b[0m\n\u001b[1;32m    944\u001b[0m check_is_fitted(\u001b[38;5;28mself\u001b[39m)\n\u001b[1;32m    945\u001b[0m \u001b[38;5;66;03m# Check data\u001b[39;00m\n\u001b[0;32m--> 946\u001b[0m X \u001b[38;5;241m=\u001b[39m \u001b[38;5;28;43mself\u001b[39;49m\u001b[38;5;241;43m.\u001b[39;49m\u001b[43m_validate_X_predict\u001b[49m\u001b[43m(\u001b[49m\u001b[43mX\u001b[49m\u001b[43m)\u001b[49m\n\u001b[1;32m    948\u001b[0m \u001b[38;5;66;03m# Assign chunk of trees to jobs\u001b[39;00m\n\u001b[1;32m    949\u001b[0m n_jobs, _, _ \u001b[38;5;241m=\u001b[39m _partition_estimators(\u001b[38;5;28mself\u001b[39m\u001b[38;5;241m.\u001b[39mn_estimators, \u001b[38;5;28mself\u001b[39m\u001b[38;5;241m.\u001b[39mn_jobs)\n",
      "File \u001b[0;32m/Applications/Anaconda/anaconda3/envs/apziva/lib/python3.9/site-packages/sklearn/ensemble/_forest.py:641\u001b[0m, in \u001b[0;36mBaseForest._validate_X_predict\u001b[0;34m(self, X)\u001b[0m\n\u001b[1;32m    638\u001b[0m \u001b[38;5;28;01melse\u001b[39;00m:\n\u001b[1;32m    639\u001b[0m     force_all_finite \u001b[38;5;241m=\u001b[39m \u001b[38;5;28;01mTrue\u001b[39;00m\n\u001b[0;32m--> 641\u001b[0m X \u001b[38;5;241m=\u001b[39m \u001b[38;5;28;43mself\u001b[39;49m\u001b[38;5;241;43m.\u001b[39;49m\u001b[43m_validate_data\u001b[49m\u001b[43m(\u001b[49m\n\u001b[1;32m    642\u001b[0m \u001b[43m    \u001b[49m\u001b[43mX\u001b[49m\u001b[43m,\u001b[49m\n\u001b[1;32m    643\u001b[0m \u001b[43m    \u001b[49m\u001b[43mdtype\u001b[49m\u001b[38;5;241;43m=\u001b[39;49m\u001b[43mDTYPE\u001b[49m\u001b[43m,\u001b[49m\n\u001b[1;32m    644\u001b[0m \u001b[43m    \u001b[49m\u001b[43maccept_sparse\u001b[49m\u001b[38;5;241;43m=\u001b[39;49m\u001b[38;5;124;43m\"\u001b[39;49m\u001b[38;5;124;43mcsr\u001b[39;49m\u001b[38;5;124;43m\"\u001b[39;49m\u001b[43m,\u001b[49m\n\u001b[1;32m    645\u001b[0m \u001b[43m    \u001b[49m\u001b[43mreset\u001b[49m\u001b[38;5;241;43m=\u001b[39;49m\u001b[38;5;28;43;01mFalse\u001b[39;49;00m\u001b[43m,\u001b[49m\n\u001b[1;32m    646\u001b[0m \u001b[43m    \u001b[49m\u001b[43mforce_all_finite\u001b[49m\u001b[38;5;241;43m=\u001b[39;49m\u001b[43mforce_all_finite\u001b[49m\u001b[43m,\u001b[49m\n\u001b[1;32m    647\u001b[0m \u001b[43m\u001b[49m\u001b[43m)\u001b[49m\n\u001b[1;32m    648\u001b[0m \u001b[38;5;28;01mif\u001b[39;00m issparse(X) \u001b[38;5;129;01mand\u001b[39;00m (X\u001b[38;5;241m.\u001b[39mindices\u001b[38;5;241m.\u001b[39mdtype \u001b[38;5;241m!=\u001b[39m np\u001b[38;5;241m.\u001b[39mintc \u001b[38;5;129;01mor\u001b[39;00m X\u001b[38;5;241m.\u001b[39mindptr\u001b[38;5;241m.\u001b[39mdtype \u001b[38;5;241m!=\u001b[39m np\u001b[38;5;241m.\u001b[39mintc):\n\u001b[1;32m    649\u001b[0m     \u001b[38;5;28;01mraise\u001b[39;00m \u001b[38;5;167;01mValueError\u001b[39;00m(\u001b[38;5;124m\"\u001b[39m\u001b[38;5;124mNo support for np.int64 index based sparse matrices\u001b[39m\u001b[38;5;124m\"\u001b[39m)\n",
      "File \u001b[0;32m/Applications/Anaconda/anaconda3/envs/apziva/lib/python3.9/site-packages/sklearn/base.py:608\u001b[0m, in \u001b[0;36mBaseEstimator._validate_data\u001b[0;34m(self, X, y, reset, validate_separately, cast_to_ndarray, **check_params)\u001b[0m\n\u001b[1;32m    537\u001b[0m \u001b[38;5;28;01mdef\u001b[39;00m \u001b[38;5;21m_validate_data\u001b[39m(\n\u001b[1;32m    538\u001b[0m     \u001b[38;5;28mself\u001b[39m,\n\u001b[1;32m    539\u001b[0m     X\u001b[38;5;241m=\u001b[39m\u001b[38;5;124m\"\u001b[39m\u001b[38;5;124mno_validation\u001b[39m\u001b[38;5;124m\"\u001b[39m,\n\u001b[0;32m   (...)\u001b[0m\n\u001b[1;32m    544\u001b[0m     \u001b[38;5;241m*\u001b[39m\u001b[38;5;241m*\u001b[39mcheck_params,\n\u001b[1;32m    545\u001b[0m ):\n\u001b[1;32m    546\u001b[0m \u001b[38;5;250m    \u001b[39m\u001b[38;5;124;03m\"\"\"Validate input data and set or check the `n_features_in_` attribute.\u001b[39;00m\n\u001b[1;32m    547\u001b[0m \n\u001b[1;32m    548\u001b[0m \u001b[38;5;124;03m    Parameters\u001b[39;00m\n\u001b[0;32m   (...)\u001b[0m\n\u001b[1;32m    606\u001b[0m \u001b[38;5;124;03m        validated.\u001b[39;00m\n\u001b[1;32m    607\u001b[0m \u001b[38;5;124;03m    \"\"\"\u001b[39;00m\n\u001b[0;32m--> 608\u001b[0m     \u001b[38;5;28;43mself\u001b[39;49m\u001b[38;5;241;43m.\u001b[39;49m\u001b[43m_check_feature_names\u001b[49m\u001b[43m(\u001b[49m\u001b[43mX\u001b[49m\u001b[43m,\u001b[49m\u001b[43m \u001b[49m\u001b[43mreset\u001b[49m\u001b[38;5;241;43m=\u001b[39;49m\u001b[43mreset\u001b[49m\u001b[43m)\u001b[49m\n\u001b[1;32m    610\u001b[0m     \u001b[38;5;28;01mif\u001b[39;00m y \u001b[38;5;129;01mis\u001b[39;00m \u001b[38;5;28;01mNone\u001b[39;00m \u001b[38;5;129;01mand\u001b[39;00m \u001b[38;5;28mself\u001b[39m\u001b[38;5;241m.\u001b[39m_get_tags()[\u001b[38;5;124m\"\u001b[39m\u001b[38;5;124mrequires_y\u001b[39m\u001b[38;5;124m\"\u001b[39m]:\n\u001b[1;32m    611\u001b[0m         \u001b[38;5;28;01mraise\u001b[39;00m \u001b[38;5;167;01mValueError\u001b[39;00m(\n\u001b[1;32m    612\u001b[0m             \u001b[38;5;124mf\u001b[39m\u001b[38;5;124m\"\u001b[39m\u001b[38;5;124mThis \u001b[39m\u001b[38;5;132;01m{\u001b[39;00m\u001b[38;5;28mself\u001b[39m\u001b[38;5;241m.\u001b[39m\u001b[38;5;18m__class__\u001b[39m\u001b[38;5;241m.\u001b[39m\u001b[38;5;18m__name__\u001b[39m\u001b[38;5;132;01m}\u001b[39;00m\u001b[38;5;124m estimator \u001b[39m\u001b[38;5;124m\"\u001b[39m\n\u001b[1;32m    613\u001b[0m             \u001b[38;5;124m\"\u001b[39m\u001b[38;5;124mrequires y to be passed, but the target y is None.\u001b[39m\u001b[38;5;124m\"\u001b[39m\n\u001b[1;32m    614\u001b[0m         )\n",
      "File \u001b[0;32m/Applications/Anaconda/anaconda3/envs/apziva/lib/python3.9/site-packages/sklearn/base.py:535\u001b[0m, in \u001b[0;36mBaseEstimator._check_feature_names\u001b[0;34m(self, X, reset)\u001b[0m\n\u001b[1;32m    530\u001b[0m \u001b[38;5;28;01mif\u001b[39;00m \u001b[38;5;129;01mnot\u001b[39;00m missing_names \u001b[38;5;129;01mand\u001b[39;00m \u001b[38;5;129;01mnot\u001b[39;00m unexpected_names:\n\u001b[1;32m    531\u001b[0m     message \u001b[38;5;241m+\u001b[39m\u001b[38;5;241m=\u001b[39m (\n\u001b[1;32m    532\u001b[0m         \u001b[38;5;124m\"\u001b[39m\u001b[38;5;124mFeature names must be in the same order as they were in fit.\u001b[39m\u001b[38;5;130;01m\\n\u001b[39;00m\u001b[38;5;124m\"\u001b[39m\n\u001b[1;32m    533\u001b[0m     )\n\u001b[0;32m--> 535\u001b[0m \u001b[38;5;28;01mraise\u001b[39;00m \u001b[38;5;167;01mValueError\u001b[39;00m(message)\n",
      "\u001b[0;31mValueError\u001b[0m: The feature names should match those that were passed during fit.\nFeature names unseen at fit time:\n- default\n- education\n- housing\n- job\n- loan\n- ...\nFeature names seen at fit time, yet now missing:\n- default_yes\n- education_secondary\n- education_tertiary\n- education_unknown\n- housing_yes\n- ...\n"
     ]
    }
   ],
   "source": [
    "from imblearn.over_sampling import RandomOverSampler\n",
    "from imblearn.under_sampling import TomekLinks\n",
    "from imblearn.pipeline import Pipeline\n",
    "\n",
    "# Create a pipeline with RandomOverSampler and Tomek Links\n",
    "resample_pipeline = Pipeline(steps=[\n",
    "    ('oversample', RandomOverSampler(random_state=42)),\n",
    "    ('tomek', TomekLinks(sampling_strategy='majority'))\n",
    "])\n",
    "\n",
    "# Resample only the training data\n",
    "X_train_resampled, y_train_resampled = resample_pipeline.fit_resample(X_train_scaled, y_train)\n",
    "\n",
    "import optuna\n",
    "from sklearn.ensemble import RandomForestClassifier\n",
    "from sklearn.model_selection import cross_val_score, RepeatedStratifiedKFold\n",
    "from sklearn.metrics import make_scorer, f1_score, recall_score\n",
    "\n",
    "# Define the objective function for Optuna\n",
    "def objective(trial):\n",
    "    # Suggest hyperparameters\n",
    "    n_estimators = trial.suggest_int('n_estimators', 50, 300)\n",
    "    max_depth = trial.suggest_int('max_depth', 3, 20)\n",
    "    min_samples_split = trial.suggest_int('min_samples_split', 2, 20)\n",
    "\n",
    "    # Create the RandomForest model with the suggested parameters\n",
    "    model = RandomForestClassifier(\n",
    "        n_estimators=n_estimators,\n",
    "        max_depth=max_depth,\n",
    "        min_samples_split=min_samples_split,\n",
    "        random_state=42\n",
    "    )\n",
    "\n",
    "    # Define macro-averaged F1-score and recall scorers\n",
    "    f1_scorer = make_scorer(f1_score, average='macro')\n",
    "    recall_scorer = make_scorer(recall_score, average='macro')\n",
    "\n",
    "    # Perform cross-validation and compute both F1-score and recall\n",
    "    cv = RepeatedStratifiedKFold(n_splits=5, n_repeats=3, random_state=42)\n",
    "    f1_scores = cross_val_score(model, X_train_resampled, y_train_resampled, \n",
    "                                scoring=f1_scorer, cv=cv)\n",
    "    recall_scores = cross_val_score(model, X_train_resampled, y_train_resampled, \n",
    "                                    scoring=recall_scorer, cv=cv)\n",
    "\n",
    "    # Compute a weighted combination of F1-score and recall\n",
    "    f1_mean = f1_scores.mean()\n",
    "    recall_mean = recall_scores.mean()\n",
    "    \n",
    "    combined_score = 0.6 * f1_mean + 0.4 * recall_mean  # Adjust weights as needed\n",
    "\n",
    "    return combined_score\n",
    "\n",
    "# Create an Optuna study and optimize\n",
    "study = optuna.create_study(direction='maximize')\n",
    "study.optimize(objective, n_trials=50)\n",
    "\n",
    "# Print the best hyperparameters\n",
    "print(\"Best trial:\")\n",
    "print(study.best_trial.params)\n",
    "\n",
    "# Train the final model with the best hyperparameters\n",
    "best_params = study.best_trial.params\n",
    "final_model = RandomForestClassifier(**best_params, random_state=42)\n",
    "final_model.fit(X_train_resampled, y_train_resampled)\n",
    "\n",
    "# Predict on the test set\n",
    "y_pred = final_model.predict(X_test)\n",
    "\n",
    "# Evaluate using classification report\n",
    "from sklearn.metrics import classification_report\n",
    "print(classification_report(y_test, y_pred))"
   ]
  },
  {
   "cell_type": "code",
   "execution_count": 218,
   "id": "db417540-8a9b-4e8a-9483-6e1b94a27695",
   "metadata": {},
   "outputs": [
    {
     "name": "stderr",
     "output_type": "stream",
     "text": [
      "[I 2024-10-24 16:12:31,199] A new study created in memory with name: no-name-1103519c-a5f9-45b6-b701-1273f1b80e0d\n",
      "[W 2024-10-24 16:12:31,558] Trial 0 failed with parameters: {'n_estimators': 236, 'max_depth': 8, 'min_samples_split': 6} because of the following error: ValueError('\\nAll the 15 fits failed.\\nIt is very likely that your model is misconfigured.\\nYou can try to debug the error by setting error_score=\\'raise\\'.\\n\\nBelow are more details about the failures:\\n--------------------------------------------------------------------------------\\n15 fits failed with the following error:\\nTraceback (most recent call last):\\n  File \"/Applications/Anaconda/anaconda3/envs/apziva/lib/python3.9/site-packages/sklearn/model_selection/_validation.py\", line 888, in _fit_and_score\\n    estimator.fit(X_train, y_train, **fit_params)\\n  File \"/Applications/Anaconda/anaconda3/envs/apziva/lib/python3.9/site-packages/sklearn/base.py\", line 1473, in wrapper\\n    return fit_method(estimator, *args, **kwargs)\\n  File \"/Applications/Anaconda/anaconda3/envs/apziva/lib/python3.9/site-packages/imblearn/pipeline.py\", line 329, in fit\\n    Xt, yt = self._fit(X, y, routed_params)\\n  File \"/Applications/Anaconda/anaconda3/envs/apziva/lib/python3.9/site-packages/imblearn/pipeline.py\", line 265, in _fit\\n    X, y, fitted_transformer = fit_resample_one_cached(\\n  File \"/Applications/Anaconda/anaconda3/envs/apziva/lib/python3.9/site-packages/joblib/memory.py\", line 312, in __call__\\n    return self.func(*args, **kwargs)\\n  File \"/Applications/Anaconda/anaconda3/envs/apziva/lib/python3.9/site-packages/imblearn/pipeline.py\", line 1057, in _fit_resample_one\\n    X_res, y_res = sampler.fit_resample(X, y, **params.get(\"fit_resample\", {}))\\n  File \"/Applications/Anaconda/anaconda3/envs/apziva/lib/python3.9/site-packages/imblearn/base.py\", line 208, in fit_resample\\n    return super().fit_resample(X, y)\\n  File \"/Applications/Anaconda/anaconda3/envs/apziva/lib/python3.9/site-packages/imblearn/base.py\", line 106, in fit_resample\\n    X, y, binarize_y = self._check_X_y(X, y)\\n  File \"/Applications/Anaconda/anaconda3/envs/apziva/lib/python3.9/site-packages/imblearn/base.py\", line 161, in _check_X_y\\n    X, y = self._validate_data(X, y, reset=True, accept_sparse=accept_sparse)\\n  File \"/Applications/Anaconda/anaconda3/envs/apziva/lib/python3.9/site-packages/sklearn/base.py\", line 650, in _validate_data\\n    X, y = check_X_y(X, y, **check_params)\\n  File \"/Applications/Anaconda/anaconda3/envs/apziva/lib/python3.9/site-packages/sklearn/utils/validation.py\", line 1301, in check_X_y\\n    X = check_array(\\n  File \"/Applications/Anaconda/anaconda3/envs/apziva/lib/python3.9/site-packages/sklearn/utils/validation.py\", line 1012, in check_array\\n    array = _asarray_with_order(array, order=order, dtype=dtype, xp=xp)\\n  File \"/Applications/Anaconda/anaconda3/envs/apziva/lib/python3.9/site-packages/sklearn/utils/_array_api.py\", line 751, in _asarray_with_order\\n    array = numpy.asarray(array, order=order, dtype=dtype)\\n  File \"/Applications/Anaconda/anaconda3/envs/apziva/lib/python3.9/site-packages/pandas/core/generic.py\", line 2153, in __array__\\n    arr = np.asarray(values, dtype=dtype)\\nValueError: could not convert string to float: \\'blue-collar\\'\\n').\n",
      "Traceback (most recent call last):\n",
      "  File \"/Applications/Anaconda/anaconda3/envs/apziva/lib/python3.9/site-packages/optuna/study/_optimize.py\", line 196, in _run_trial\n",
      "    value_or_values = func(trial)\n",
      "  File \"/var/folders/n3/q8wb235x57n_sx2q14dsngjr0000gn/T/ipykernel_99575/2622191943.py\", line 37, in objective\n",
      "    f1_scores = cross_val_score(pipeline, X_train, y_train, scoring=f1_scorer, cv=cv)\n",
      "  File \"/Applications/Anaconda/anaconda3/envs/apziva/lib/python3.9/site-packages/sklearn/utils/_param_validation.py\", line 213, in wrapper\n",
      "    return func(*args, **kwargs)\n",
      "  File \"/Applications/Anaconda/anaconda3/envs/apziva/lib/python3.9/site-packages/sklearn/model_selection/_validation.py\", line 712, in cross_val_score\n",
      "    cv_results = cross_validate(\n",
      "  File \"/Applications/Anaconda/anaconda3/envs/apziva/lib/python3.9/site-packages/sklearn/utils/_param_validation.py\", line 213, in wrapper\n",
      "    return func(*args, **kwargs)\n",
      "  File \"/Applications/Anaconda/anaconda3/envs/apziva/lib/python3.9/site-packages/sklearn/model_selection/_validation.py\", line 443, in cross_validate\n",
      "    _warn_or_raise_about_fit_failures(results, error_score)\n",
      "  File \"/Applications/Anaconda/anaconda3/envs/apziva/lib/python3.9/site-packages/sklearn/model_selection/_validation.py\", line 529, in _warn_or_raise_about_fit_failures\n",
      "    raise ValueError(all_fits_failed_message)\n",
      "ValueError: \n",
      "All the 15 fits failed.\n",
      "It is very likely that your model is misconfigured.\n",
      "You can try to debug the error by setting error_score='raise'.\n",
      "\n",
      "Below are more details about the failures:\n",
      "--------------------------------------------------------------------------------\n",
      "15 fits failed with the following error:\n",
      "Traceback (most recent call last):\n",
      "  File \"/Applications/Anaconda/anaconda3/envs/apziva/lib/python3.9/site-packages/sklearn/model_selection/_validation.py\", line 888, in _fit_and_score\n",
      "    estimator.fit(X_train, y_train, **fit_params)\n",
      "  File \"/Applications/Anaconda/anaconda3/envs/apziva/lib/python3.9/site-packages/sklearn/base.py\", line 1473, in wrapper\n",
      "    return fit_method(estimator, *args, **kwargs)\n",
      "  File \"/Applications/Anaconda/anaconda3/envs/apziva/lib/python3.9/site-packages/imblearn/pipeline.py\", line 329, in fit\n",
      "    Xt, yt = self._fit(X, y, routed_params)\n",
      "  File \"/Applications/Anaconda/anaconda3/envs/apziva/lib/python3.9/site-packages/imblearn/pipeline.py\", line 265, in _fit\n",
      "    X, y, fitted_transformer = fit_resample_one_cached(\n",
      "  File \"/Applications/Anaconda/anaconda3/envs/apziva/lib/python3.9/site-packages/joblib/memory.py\", line 312, in __call__\n",
      "    return self.func(*args, **kwargs)\n",
      "  File \"/Applications/Anaconda/anaconda3/envs/apziva/lib/python3.9/site-packages/imblearn/pipeline.py\", line 1057, in _fit_resample_one\n",
      "    X_res, y_res = sampler.fit_resample(X, y, **params.get(\"fit_resample\", {}))\n",
      "  File \"/Applications/Anaconda/anaconda3/envs/apziva/lib/python3.9/site-packages/imblearn/base.py\", line 208, in fit_resample\n",
      "    return super().fit_resample(X, y)\n",
      "  File \"/Applications/Anaconda/anaconda3/envs/apziva/lib/python3.9/site-packages/imblearn/base.py\", line 106, in fit_resample\n",
      "    X, y, binarize_y = self._check_X_y(X, y)\n",
      "  File \"/Applications/Anaconda/anaconda3/envs/apziva/lib/python3.9/site-packages/imblearn/base.py\", line 161, in _check_X_y\n",
      "    X, y = self._validate_data(X, y, reset=True, accept_sparse=accept_sparse)\n",
      "  File \"/Applications/Anaconda/anaconda3/envs/apziva/lib/python3.9/site-packages/sklearn/base.py\", line 650, in _validate_data\n",
      "    X, y = check_X_y(X, y, **check_params)\n",
      "  File \"/Applications/Anaconda/anaconda3/envs/apziva/lib/python3.9/site-packages/sklearn/utils/validation.py\", line 1301, in check_X_y\n",
      "    X = check_array(\n",
      "  File \"/Applications/Anaconda/anaconda3/envs/apziva/lib/python3.9/site-packages/sklearn/utils/validation.py\", line 1012, in check_array\n",
      "    array = _asarray_with_order(array, order=order, dtype=dtype, xp=xp)\n",
      "  File \"/Applications/Anaconda/anaconda3/envs/apziva/lib/python3.9/site-packages/sklearn/utils/_array_api.py\", line 751, in _asarray_with_order\n",
      "    array = numpy.asarray(array, order=order, dtype=dtype)\n",
      "  File \"/Applications/Anaconda/anaconda3/envs/apziva/lib/python3.9/site-packages/pandas/core/generic.py\", line 2153, in __array__\n",
      "    arr = np.asarray(values, dtype=dtype)\n",
      "ValueError: could not convert string to float: 'blue-collar'\n",
      "\n",
      "[W 2024-10-24 16:12:31,563] Trial 0 failed with value None.\n"
     ]
    },
    {
     "ename": "ValueError",
     "evalue": "\nAll the 15 fits failed.\nIt is very likely that your model is misconfigured.\nYou can try to debug the error by setting error_score='raise'.\n\nBelow are more details about the failures:\n--------------------------------------------------------------------------------\n15 fits failed with the following error:\nTraceback (most recent call last):\n  File \"/Applications/Anaconda/anaconda3/envs/apziva/lib/python3.9/site-packages/sklearn/model_selection/_validation.py\", line 888, in _fit_and_score\n    estimator.fit(X_train, y_train, **fit_params)\n  File \"/Applications/Anaconda/anaconda3/envs/apziva/lib/python3.9/site-packages/sklearn/base.py\", line 1473, in wrapper\n    return fit_method(estimator, *args, **kwargs)\n  File \"/Applications/Anaconda/anaconda3/envs/apziva/lib/python3.9/site-packages/imblearn/pipeline.py\", line 329, in fit\n    Xt, yt = self._fit(X, y, routed_params)\n  File \"/Applications/Anaconda/anaconda3/envs/apziva/lib/python3.9/site-packages/imblearn/pipeline.py\", line 265, in _fit\n    X, y, fitted_transformer = fit_resample_one_cached(\n  File \"/Applications/Anaconda/anaconda3/envs/apziva/lib/python3.9/site-packages/joblib/memory.py\", line 312, in __call__\n    return self.func(*args, **kwargs)\n  File \"/Applications/Anaconda/anaconda3/envs/apziva/lib/python3.9/site-packages/imblearn/pipeline.py\", line 1057, in _fit_resample_one\n    X_res, y_res = sampler.fit_resample(X, y, **params.get(\"fit_resample\", {}))\n  File \"/Applications/Anaconda/anaconda3/envs/apziva/lib/python3.9/site-packages/imblearn/base.py\", line 208, in fit_resample\n    return super().fit_resample(X, y)\n  File \"/Applications/Anaconda/anaconda3/envs/apziva/lib/python3.9/site-packages/imblearn/base.py\", line 106, in fit_resample\n    X, y, binarize_y = self._check_X_y(X, y)\n  File \"/Applications/Anaconda/anaconda3/envs/apziva/lib/python3.9/site-packages/imblearn/base.py\", line 161, in _check_X_y\n    X, y = self._validate_data(X, y, reset=True, accept_sparse=accept_sparse)\n  File \"/Applications/Anaconda/anaconda3/envs/apziva/lib/python3.9/site-packages/sklearn/base.py\", line 650, in _validate_data\n    X, y = check_X_y(X, y, **check_params)\n  File \"/Applications/Anaconda/anaconda3/envs/apziva/lib/python3.9/site-packages/sklearn/utils/validation.py\", line 1301, in check_X_y\n    X = check_array(\n  File \"/Applications/Anaconda/anaconda3/envs/apziva/lib/python3.9/site-packages/sklearn/utils/validation.py\", line 1012, in check_array\n    array = _asarray_with_order(array, order=order, dtype=dtype, xp=xp)\n  File \"/Applications/Anaconda/anaconda3/envs/apziva/lib/python3.9/site-packages/sklearn/utils/_array_api.py\", line 751, in _asarray_with_order\n    array = numpy.asarray(array, order=order, dtype=dtype)\n  File \"/Applications/Anaconda/anaconda3/envs/apziva/lib/python3.9/site-packages/pandas/core/generic.py\", line 2153, in __array__\n    arr = np.asarray(values, dtype=dtype)\nValueError: could not convert string to float: 'blue-collar'\n",
     "output_type": "error",
     "traceback": [
      "\u001b[0;31m---------------------------------------------------------------------------\u001b[0m",
      "\u001b[0;31mValueError\u001b[0m                                Traceback (most recent call last)",
      "Cell \u001b[0;32mIn[218], line 50\u001b[0m\n\u001b[1;32m     48\u001b[0m \u001b[38;5;66;03m# Create the Optuna study and optimize\u001b[39;00m\n\u001b[1;32m     49\u001b[0m study \u001b[38;5;241m=\u001b[39m optuna\u001b[38;5;241m.\u001b[39mcreate_study(direction\u001b[38;5;241m=\u001b[39m\u001b[38;5;124m'\u001b[39m\u001b[38;5;124mmaximize\u001b[39m\u001b[38;5;124m'\u001b[39m)\n\u001b[0;32m---> 50\u001b[0m \u001b[43mstudy\u001b[49m\u001b[38;5;241;43m.\u001b[39;49m\u001b[43moptimize\u001b[49m\u001b[43m(\u001b[49m\u001b[43mobjective\u001b[49m\u001b[43m,\u001b[49m\u001b[43m \u001b[49m\u001b[43mn_trials\u001b[49m\u001b[38;5;241;43m=\u001b[39;49m\u001b[38;5;241;43m25\u001b[39;49m\u001b[43m)\u001b[49m\n\u001b[1;32m     52\u001b[0m \u001b[38;5;66;03m# Print the best trial's parameters\u001b[39;00m\n\u001b[1;32m     53\u001b[0m \u001b[38;5;28mprint\u001b[39m(\u001b[38;5;124m\"\u001b[39m\u001b[38;5;124mBest trial:\u001b[39m\u001b[38;5;124m\"\u001b[39m)\n",
      "File \u001b[0;32m/Applications/Anaconda/anaconda3/envs/apziva/lib/python3.9/site-packages/optuna/study/study.py:451\u001b[0m, in \u001b[0;36mStudy.optimize\u001b[0;34m(self, func, n_trials, timeout, n_jobs, catch, callbacks, gc_after_trial, show_progress_bar)\u001b[0m\n\u001b[1;32m    348\u001b[0m \u001b[38;5;28;01mdef\u001b[39;00m \u001b[38;5;21moptimize\u001b[39m(\n\u001b[1;32m    349\u001b[0m     \u001b[38;5;28mself\u001b[39m,\n\u001b[1;32m    350\u001b[0m     func: ObjectiveFuncType,\n\u001b[0;32m   (...)\u001b[0m\n\u001b[1;32m    357\u001b[0m     show_progress_bar: \u001b[38;5;28mbool\u001b[39m \u001b[38;5;241m=\u001b[39m \u001b[38;5;28;01mFalse\u001b[39;00m,\n\u001b[1;32m    358\u001b[0m ) \u001b[38;5;241m-\u001b[39m\u001b[38;5;241m>\u001b[39m \u001b[38;5;28;01mNone\u001b[39;00m:\n\u001b[1;32m    359\u001b[0m \u001b[38;5;250m    \u001b[39m\u001b[38;5;124;03m\"\"\"Optimize an objective function.\u001b[39;00m\n\u001b[1;32m    360\u001b[0m \n\u001b[1;32m    361\u001b[0m \u001b[38;5;124;03m    Optimization is done by choosing a suitable set of hyperparameter values from a given\u001b[39;00m\n\u001b[0;32m   (...)\u001b[0m\n\u001b[1;32m    449\u001b[0m \u001b[38;5;124;03m            If nested invocation of this method occurs.\u001b[39;00m\n\u001b[1;32m    450\u001b[0m \u001b[38;5;124;03m    \"\"\"\u001b[39;00m\n\u001b[0;32m--> 451\u001b[0m     \u001b[43m_optimize\u001b[49m\u001b[43m(\u001b[49m\n\u001b[1;32m    452\u001b[0m \u001b[43m        \u001b[49m\u001b[43mstudy\u001b[49m\u001b[38;5;241;43m=\u001b[39;49m\u001b[38;5;28;43mself\u001b[39;49m\u001b[43m,\u001b[49m\n\u001b[1;32m    453\u001b[0m \u001b[43m        \u001b[49m\u001b[43mfunc\u001b[49m\u001b[38;5;241;43m=\u001b[39;49m\u001b[43mfunc\u001b[49m\u001b[43m,\u001b[49m\n\u001b[1;32m    454\u001b[0m \u001b[43m        \u001b[49m\u001b[43mn_trials\u001b[49m\u001b[38;5;241;43m=\u001b[39;49m\u001b[43mn_trials\u001b[49m\u001b[43m,\u001b[49m\n\u001b[1;32m    455\u001b[0m \u001b[43m        \u001b[49m\u001b[43mtimeout\u001b[49m\u001b[38;5;241;43m=\u001b[39;49m\u001b[43mtimeout\u001b[49m\u001b[43m,\u001b[49m\n\u001b[1;32m    456\u001b[0m \u001b[43m        \u001b[49m\u001b[43mn_jobs\u001b[49m\u001b[38;5;241;43m=\u001b[39;49m\u001b[43mn_jobs\u001b[49m\u001b[43m,\u001b[49m\n\u001b[1;32m    457\u001b[0m \u001b[43m        \u001b[49m\u001b[43mcatch\u001b[49m\u001b[38;5;241;43m=\u001b[39;49m\u001b[38;5;28;43mtuple\u001b[39;49m\u001b[43m(\u001b[49m\u001b[43mcatch\u001b[49m\u001b[43m)\u001b[49m\u001b[43m \u001b[49m\u001b[38;5;28;43;01mif\u001b[39;49;00m\u001b[43m \u001b[49m\u001b[38;5;28;43misinstance\u001b[39;49m\u001b[43m(\u001b[49m\u001b[43mcatch\u001b[49m\u001b[43m,\u001b[49m\u001b[43m \u001b[49m\u001b[43mIterable\u001b[49m\u001b[43m)\u001b[49m\u001b[43m \u001b[49m\u001b[38;5;28;43;01melse\u001b[39;49;00m\u001b[43m \u001b[49m\u001b[43m(\u001b[49m\u001b[43mcatch\u001b[49m\u001b[43m,\u001b[49m\u001b[43m)\u001b[49m\u001b[43m,\u001b[49m\n\u001b[1;32m    458\u001b[0m \u001b[43m        \u001b[49m\u001b[43mcallbacks\u001b[49m\u001b[38;5;241;43m=\u001b[39;49m\u001b[43mcallbacks\u001b[49m\u001b[43m,\u001b[49m\n\u001b[1;32m    459\u001b[0m \u001b[43m        \u001b[49m\u001b[43mgc_after_trial\u001b[49m\u001b[38;5;241;43m=\u001b[39;49m\u001b[43mgc_after_trial\u001b[49m\u001b[43m,\u001b[49m\n\u001b[1;32m    460\u001b[0m \u001b[43m        \u001b[49m\u001b[43mshow_progress_bar\u001b[49m\u001b[38;5;241;43m=\u001b[39;49m\u001b[43mshow_progress_bar\u001b[49m\u001b[43m,\u001b[49m\n\u001b[1;32m    461\u001b[0m \u001b[43m    \u001b[49m\u001b[43m)\u001b[49m\n",
      "File \u001b[0;32m/Applications/Anaconda/anaconda3/envs/apziva/lib/python3.9/site-packages/optuna/study/_optimize.py:62\u001b[0m, in \u001b[0;36m_optimize\u001b[0;34m(study, func, n_trials, timeout, n_jobs, catch, callbacks, gc_after_trial, show_progress_bar)\u001b[0m\n\u001b[1;32m     60\u001b[0m \u001b[38;5;28;01mtry\u001b[39;00m:\n\u001b[1;32m     61\u001b[0m     \u001b[38;5;28;01mif\u001b[39;00m n_jobs \u001b[38;5;241m==\u001b[39m \u001b[38;5;241m1\u001b[39m:\n\u001b[0;32m---> 62\u001b[0m         \u001b[43m_optimize_sequential\u001b[49m\u001b[43m(\u001b[49m\n\u001b[1;32m     63\u001b[0m \u001b[43m            \u001b[49m\u001b[43mstudy\u001b[49m\u001b[43m,\u001b[49m\n\u001b[1;32m     64\u001b[0m \u001b[43m            \u001b[49m\u001b[43mfunc\u001b[49m\u001b[43m,\u001b[49m\n\u001b[1;32m     65\u001b[0m \u001b[43m            \u001b[49m\u001b[43mn_trials\u001b[49m\u001b[43m,\u001b[49m\n\u001b[1;32m     66\u001b[0m \u001b[43m            \u001b[49m\u001b[43mtimeout\u001b[49m\u001b[43m,\u001b[49m\n\u001b[1;32m     67\u001b[0m \u001b[43m            \u001b[49m\u001b[43mcatch\u001b[49m\u001b[43m,\u001b[49m\n\u001b[1;32m     68\u001b[0m \u001b[43m            \u001b[49m\u001b[43mcallbacks\u001b[49m\u001b[43m,\u001b[49m\n\u001b[1;32m     69\u001b[0m \u001b[43m            \u001b[49m\u001b[43mgc_after_trial\u001b[49m\u001b[43m,\u001b[49m\n\u001b[1;32m     70\u001b[0m \u001b[43m            \u001b[49m\u001b[43mreseed_sampler_rng\u001b[49m\u001b[38;5;241;43m=\u001b[39;49m\u001b[38;5;28;43;01mFalse\u001b[39;49;00m\u001b[43m,\u001b[49m\n\u001b[1;32m     71\u001b[0m \u001b[43m            \u001b[49m\u001b[43mtime_start\u001b[49m\u001b[38;5;241;43m=\u001b[39;49m\u001b[38;5;28;43;01mNone\u001b[39;49;00m\u001b[43m,\u001b[49m\n\u001b[1;32m     72\u001b[0m \u001b[43m            \u001b[49m\u001b[43mprogress_bar\u001b[49m\u001b[38;5;241;43m=\u001b[39;49m\u001b[43mprogress_bar\u001b[49m\u001b[43m,\u001b[49m\n\u001b[1;32m     73\u001b[0m \u001b[43m        \u001b[49m\u001b[43m)\u001b[49m\n\u001b[1;32m     74\u001b[0m     \u001b[38;5;28;01melse\u001b[39;00m:\n\u001b[1;32m     75\u001b[0m         \u001b[38;5;28;01mif\u001b[39;00m n_jobs \u001b[38;5;241m==\u001b[39m \u001b[38;5;241m-\u001b[39m\u001b[38;5;241m1\u001b[39m:\n",
      "File \u001b[0;32m/Applications/Anaconda/anaconda3/envs/apziva/lib/python3.9/site-packages/optuna/study/_optimize.py:159\u001b[0m, in \u001b[0;36m_optimize_sequential\u001b[0;34m(study, func, n_trials, timeout, catch, callbacks, gc_after_trial, reseed_sampler_rng, time_start, progress_bar)\u001b[0m\n\u001b[1;32m    156\u001b[0m         \u001b[38;5;28;01mbreak\u001b[39;00m\n\u001b[1;32m    158\u001b[0m \u001b[38;5;28;01mtry\u001b[39;00m:\n\u001b[0;32m--> 159\u001b[0m     frozen_trial \u001b[38;5;241m=\u001b[39m \u001b[43m_run_trial\u001b[49m\u001b[43m(\u001b[49m\u001b[43mstudy\u001b[49m\u001b[43m,\u001b[49m\u001b[43m \u001b[49m\u001b[43mfunc\u001b[49m\u001b[43m,\u001b[49m\u001b[43m \u001b[49m\u001b[43mcatch\u001b[49m\u001b[43m)\u001b[49m\n\u001b[1;32m    160\u001b[0m \u001b[38;5;28;01mfinally\u001b[39;00m:\n\u001b[1;32m    161\u001b[0m     \u001b[38;5;66;03m# The following line mitigates memory problems that can be occurred in some\u001b[39;00m\n\u001b[1;32m    162\u001b[0m     \u001b[38;5;66;03m# environments (e.g., services that use computing containers such as GitHub Actions).\u001b[39;00m\n\u001b[1;32m    163\u001b[0m     \u001b[38;5;66;03m# Please refer to the following PR for further details:\u001b[39;00m\n\u001b[1;32m    164\u001b[0m     \u001b[38;5;66;03m# https://github.com/optuna/optuna/pull/325.\u001b[39;00m\n\u001b[1;32m    165\u001b[0m     \u001b[38;5;28;01mif\u001b[39;00m gc_after_trial:\n",
      "File \u001b[0;32m/Applications/Anaconda/anaconda3/envs/apziva/lib/python3.9/site-packages/optuna/study/_optimize.py:247\u001b[0m, in \u001b[0;36m_run_trial\u001b[0;34m(study, func, catch)\u001b[0m\n\u001b[1;32m    240\u001b[0m         \u001b[38;5;28;01massert\u001b[39;00m \u001b[38;5;28;01mFalse\u001b[39;00m, \u001b[38;5;124m\"\u001b[39m\u001b[38;5;124mShould not reach.\u001b[39m\u001b[38;5;124m\"\u001b[39m\n\u001b[1;32m    242\u001b[0m \u001b[38;5;28;01mif\u001b[39;00m (\n\u001b[1;32m    243\u001b[0m     frozen_trial\u001b[38;5;241m.\u001b[39mstate \u001b[38;5;241m==\u001b[39m TrialState\u001b[38;5;241m.\u001b[39mFAIL\n\u001b[1;32m    244\u001b[0m     \u001b[38;5;129;01mand\u001b[39;00m func_err \u001b[38;5;129;01mis\u001b[39;00m \u001b[38;5;129;01mnot\u001b[39;00m \u001b[38;5;28;01mNone\u001b[39;00m\n\u001b[1;32m    245\u001b[0m     \u001b[38;5;129;01mand\u001b[39;00m \u001b[38;5;129;01mnot\u001b[39;00m \u001b[38;5;28misinstance\u001b[39m(func_err, catch)\n\u001b[1;32m    246\u001b[0m ):\n\u001b[0;32m--> 247\u001b[0m     \u001b[38;5;28;01mraise\u001b[39;00m func_err\n\u001b[1;32m    248\u001b[0m \u001b[38;5;28;01mreturn\u001b[39;00m frozen_trial\n",
      "File \u001b[0;32m/Applications/Anaconda/anaconda3/envs/apziva/lib/python3.9/site-packages/optuna/study/_optimize.py:196\u001b[0m, in \u001b[0;36m_run_trial\u001b[0;34m(study, func, catch)\u001b[0m\n\u001b[1;32m    194\u001b[0m \u001b[38;5;28;01mwith\u001b[39;00m get_heartbeat_thread(trial\u001b[38;5;241m.\u001b[39m_trial_id, study\u001b[38;5;241m.\u001b[39m_storage):\n\u001b[1;32m    195\u001b[0m     \u001b[38;5;28;01mtry\u001b[39;00m:\n\u001b[0;32m--> 196\u001b[0m         value_or_values \u001b[38;5;241m=\u001b[39m \u001b[43mfunc\u001b[49m\u001b[43m(\u001b[49m\u001b[43mtrial\u001b[49m\u001b[43m)\u001b[49m\n\u001b[1;32m    197\u001b[0m     \u001b[38;5;28;01mexcept\u001b[39;00m exceptions\u001b[38;5;241m.\u001b[39mTrialPruned \u001b[38;5;28;01mas\u001b[39;00m e:\n\u001b[1;32m    198\u001b[0m         \u001b[38;5;66;03m# TODO(mamu): Handle multi-objective cases.\u001b[39;00m\n\u001b[1;32m    199\u001b[0m         state \u001b[38;5;241m=\u001b[39m TrialState\u001b[38;5;241m.\u001b[39mPRUNED\n",
      "Cell \u001b[0;32mIn[218], line 37\u001b[0m, in \u001b[0;36mobjective\u001b[0;34m(trial)\u001b[0m\n\u001b[1;32m     35\u001b[0m \u001b[38;5;66;03m# Perform cross-validation\u001b[39;00m\n\u001b[1;32m     36\u001b[0m cv \u001b[38;5;241m=\u001b[39m RepeatedStratifiedKFold(n_splits\u001b[38;5;241m=\u001b[39m\u001b[38;5;241m5\u001b[39m, n_repeats\u001b[38;5;241m=\u001b[39m\u001b[38;5;241m3\u001b[39m, random_state\u001b[38;5;241m=\u001b[39mseed)\n\u001b[0;32m---> 37\u001b[0m f1_scores \u001b[38;5;241m=\u001b[39m \u001b[43mcross_val_score\u001b[49m\u001b[43m(\u001b[49m\u001b[43mpipeline\u001b[49m\u001b[43m,\u001b[49m\u001b[43m \u001b[49m\u001b[43mX_train\u001b[49m\u001b[43m,\u001b[49m\u001b[43m \u001b[49m\u001b[43my_train\u001b[49m\u001b[43m,\u001b[49m\u001b[43m \u001b[49m\u001b[43mscoring\u001b[49m\u001b[38;5;241;43m=\u001b[39;49m\u001b[43mf1_scorer\u001b[49m\u001b[43m,\u001b[49m\u001b[43m \u001b[49m\u001b[43mcv\u001b[49m\u001b[38;5;241;43m=\u001b[39;49m\u001b[43mcv\u001b[49m\u001b[43m)\u001b[49m\n\u001b[1;32m     38\u001b[0m recall_scores \u001b[38;5;241m=\u001b[39m cross_val_score(pipeline, X_train, y_train, scoring\u001b[38;5;241m=\u001b[39mrecall_scorer, cv\u001b[38;5;241m=\u001b[39mcv)\n\u001b[1;32m     40\u001b[0m \u001b[38;5;66;03m# Compute a weighted score combining F1 and recall\u001b[39;00m\n",
      "File \u001b[0;32m/Applications/Anaconda/anaconda3/envs/apziva/lib/python3.9/site-packages/sklearn/utils/_param_validation.py:213\u001b[0m, in \u001b[0;36mvalidate_params.<locals>.decorator.<locals>.wrapper\u001b[0;34m(*args, **kwargs)\u001b[0m\n\u001b[1;32m    207\u001b[0m \u001b[38;5;28;01mtry\u001b[39;00m:\n\u001b[1;32m    208\u001b[0m     \u001b[38;5;28;01mwith\u001b[39;00m config_context(\n\u001b[1;32m    209\u001b[0m         skip_parameter_validation\u001b[38;5;241m=\u001b[39m(\n\u001b[1;32m    210\u001b[0m             prefer_skip_nested_validation \u001b[38;5;129;01mor\u001b[39;00m global_skip_validation\n\u001b[1;32m    211\u001b[0m         )\n\u001b[1;32m    212\u001b[0m     ):\n\u001b[0;32m--> 213\u001b[0m         \u001b[38;5;28;01mreturn\u001b[39;00m \u001b[43mfunc\u001b[49m\u001b[43m(\u001b[49m\u001b[38;5;241;43m*\u001b[39;49m\u001b[43margs\u001b[49m\u001b[43m,\u001b[49m\u001b[43m \u001b[49m\u001b[38;5;241;43m*\u001b[39;49m\u001b[38;5;241;43m*\u001b[39;49m\u001b[43mkwargs\u001b[49m\u001b[43m)\u001b[49m\n\u001b[1;32m    214\u001b[0m \u001b[38;5;28;01mexcept\u001b[39;00m InvalidParameterError \u001b[38;5;28;01mas\u001b[39;00m e:\n\u001b[1;32m    215\u001b[0m     \u001b[38;5;66;03m# When the function is just a wrapper around an estimator, we allow\u001b[39;00m\n\u001b[1;32m    216\u001b[0m     \u001b[38;5;66;03m# the function to delegate validation to the estimator, but we replace\u001b[39;00m\n\u001b[1;32m    217\u001b[0m     \u001b[38;5;66;03m# the name of the estimator by the name of the function in the error\u001b[39;00m\n\u001b[1;32m    218\u001b[0m     \u001b[38;5;66;03m# message to avoid confusion.\u001b[39;00m\n\u001b[1;32m    219\u001b[0m     msg \u001b[38;5;241m=\u001b[39m re\u001b[38;5;241m.\u001b[39msub(\n\u001b[1;32m    220\u001b[0m         \u001b[38;5;124mr\u001b[39m\u001b[38;5;124m\"\u001b[39m\u001b[38;5;124mparameter of \u001b[39m\u001b[38;5;124m\\\u001b[39m\u001b[38;5;124mw+ must be\u001b[39m\u001b[38;5;124m\"\u001b[39m,\n\u001b[1;32m    221\u001b[0m         \u001b[38;5;124mf\u001b[39m\u001b[38;5;124m\"\u001b[39m\u001b[38;5;124mparameter of \u001b[39m\u001b[38;5;132;01m{\u001b[39;00mfunc\u001b[38;5;241m.\u001b[39m\u001b[38;5;18m__qualname__\u001b[39m\u001b[38;5;132;01m}\u001b[39;00m\u001b[38;5;124m must be\u001b[39m\u001b[38;5;124m\"\u001b[39m,\n\u001b[1;32m    222\u001b[0m         \u001b[38;5;28mstr\u001b[39m(e),\n\u001b[1;32m    223\u001b[0m     )\n",
      "File \u001b[0;32m/Applications/Anaconda/anaconda3/envs/apziva/lib/python3.9/site-packages/sklearn/model_selection/_validation.py:712\u001b[0m, in \u001b[0;36mcross_val_score\u001b[0;34m(estimator, X, y, groups, scoring, cv, n_jobs, verbose, fit_params, params, pre_dispatch, error_score)\u001b[0m\n\u001b[1;32m    709\u001b[0m \u001b[38;5;66;03m# To ensure multimetric format is not supported\u001b[39;00m\n\u001b[1;32m    710\u001b[0m scorer \u001b[38;5;241m=\u001b[39m check_scoring(estimator, scoring\u001b[38;5;241m=\u001b[39mscoring)\n\u001b[0;32m--> 712\u001b[0m cv_results \u001b[38;5;241m=\u001b[39m \u001b[43mcross_validate\u001b[49m\u001b[43m(\u001b[49m\n\u001b[1;32m    713\u001b[0m \u001b[43m    \u001b[49m\u001b[43mestimator\u001b[49m\u001b[38;5;241;43m=\u001b[39;49m\u001b[43mestimator\u001b[49m\u001b[43m,\u001b[49m\n\u001b[1;32m    714\u001b[0m \u001b[43m    \u001b[49m\u001b[43mX\u001b[49m\u001b[38;5;241;43m=\u001b[39;49m\u001b[43mX\u001b[49m\u001b[43m,\u001b[49m\n\u001b[1;32m    715\u001b[0m \u001b[43m    \u001b[49m\u001b[43my\u001b[49m\u001b[38;5;241;43m=\u001b[39;49m\u001b[43my\u001b[49m\u001b[43m,\u001b[49m\n\u001b[1;32m    716\u001b[0m \u001b[43m    \u001b[49m\u001b[43mgroups\u001b[49m\u001b[38;5;241;43m=\u001b[39;49m\u001b[43mgroups\u001b[49m\u001b[43m,\u001b[49m\n\u001b[1;32m    717\u001b[0m \u001b[43m    \u001b[49m\u001b[43mscoring\u001b[49m\u001b[38;5;241;43m=\u001b[39;49m\u001b[43m{\u001b[49m\u001b[38;5;124;43m\"\u001b[39;49m\u001b[38;5;124;43mscore\u001b[39;49m\u001b[38;5;124;43m\"\u001b[39;49m\u001b[43m:\u001b[49m\u001b[43m \u001b[49m\u001b[43mscorer\u001b[49m\u001b[43m}\u001b[49m\u001b[43m,\u001b[49m\n\u001b[1;32m    718\u001b[0m \u001b[43m    \u001b[49m\u001b[43mcv\u001b[49m\u001b[38;5;241;43m=\u001b[39;49m\u001b[43mcv\u001b[49m\u001b[43m,\u001b[49m\n\u001b[1;32m    719\u001b[0m \u001b[43m    \u001b[49m\u001b[43mn_jobs\u001b[49m\u001b[38;5;241;43m=\u001b[39;49m\u001b[43mn_jobs\u001b[49m\u001b[43m,\u001b[49m\n\u001b[1;32m    720\u001b[0m \u001b[43m    \u001b[49m\u001b[43mverbose\u001b[49m\u001b[38;5;241;43m=\u001b[39;49m\u001b[43mverbose\u001b[49m\u001b[43m,\u001b[49m\n\u001b[1;32m    721\u001b[0m \u001b[43m    \u001b[49m\u001b[43mfit_params\u001b[49m\u001b[38;5;241;43m=\u001b[39;49m\u001b[43mfit_params\u001b[49m\u001b[43m,\u001b[49m\n\u001b[1;32m    722\u001b[0m \u001b[43m    \u001b[49m\u001b[43mparams\u001b[49m\u001b[38;5;241;43m=\u001b[39;49m\u001b[43mparams\u001b[49m\u001b[43m,\u001b[49m\n\u001b[1;32m    723\u001b[0m \u001b[43m    \u001b[49m\u001b[43mpre_dispatch\u001b[49m\u001b[38;5;241;43m=\u001b[39;49m\u001b[43mpre_dispatch\u001b[49m\u001b[43m,\u001b[49m\n\u001b[1;32m    724\u001b[0m \u001b[43m    \u001b[49m\u001b[43merror_score\u001b[49m\u001b[38;5;241;43m=\u001b[39;49m\u001b[43merror_score\u001b[49m\u001b[43m,\u001b[49m\n\u001b[1;32m    725\u001b[0m \u001b[43m\u001b[49m\u001b[43m)\u001b[49m\n\u001b[1;32m    726\u001b[0m \u001b[38;5;28;01mreturn\u001b[39;00m cv_results[\u001b[38;5;124m\"\u001b[39m\u001b[38;5;124mtest_score\u001b[39m\u001b[38;5;124m\"\u001b[39m]\n",
      "File \u001b[0;32m/Applications/Anaconda/anaconda3/envs/apziva/lib/python3.9/site-packages/sklearn/utils/_param_validation.py:213\u001b[0m, in \u001b[0;36mvalidate_params.<locals>.decorator.<locals>.wrapper\u001b[0;34m(*args, **kwargs)\u001b[0m\n\u001b[1;32m    207\u001b[0m \u001b[38;5;28;01mtry\u001b[39;00m:\n\u001b[1;32m    208\u001b[0m     \u001b[38;5;28;01mwith\u001b[39;00m config_context(\n\u001b[1;32m    209\u001b[0m         skip_parameter_validation\u001b[38;5;241m=\u001b[39m(\n\u001b[1;32m    210\u001b[0m             prefer_skip_nested_validation \u001b[38;5;129;01mor\u001b[39;00m global_skip_validation\n\u001b[1;32m    211\u001b[0m         )\n\u001b[1;32m    212\u001b[0m     ):\n\u001b[0;32m--> 213\u001b[0m         \u001b[38;5;28;01mreturn\u001b[39;00m \u001b[43mfunc\u001b[49m\u001b[43m(\u001b[49m\u001b[38;5;241;43m*\u001b[39;49m\u001b[43margs\u001b[49m\u001b[43m,\u001b[49m\u001b[43m \u001b[49m\u001b[38;5;241;43m*\u001b[39;49m\u001b[38;5;241;43m*\u001b[39;49m\u001b[43mkwargs\u001b[49m\u001b[43m)\u001b[49m\n\u001b[1;32m    214\u001b[0m \u001b[38;5;28;01mexcept\u001b[39;00m InvalidParameterError \u001b[38;5;28;01mas\u001b[39;00m e:\n\u001b[1;32m    215\u001b[0m     \u001b[38;5;66;03m# When the function is just a wrapper around an estimator, we allow\u001b[39;00m\n\u001b[1;32m    216\u001b[0m     \u001b[38;5;66;03m# the function to delegate validation to the estimator, but we replace\u001b[39;00m\n\u001b[1;32m    217\u001b[0m     \u001b[38;5;66;03m# the name of the estimator by the name of the function in the error\u001b[39;00m\n\u001b[1;32m    218\u001b[0m     \u001b[38;5;66;03m# message to avoid confusion.\u001b[39;00m\n\u001b[1;32m    219\u001b[0m     msg \u001b[38;5;241m=\u001b[39m re\u001b[38;5;241m.\u001b[39msub(\n\u001b[1;32m    220\u001b[0m         \u001b[38;5;124mr\u001b[39m\u001b[38;5;124m\"\u001b[39m\u001b[38;5;124mparameter of \u001b[39m\u001b[38;5;124m\\\u001b[39m\u001b[38;5;124mw+ must be\u001b[39m\u001b[38;5;124m\"\u001b[39m,\n\u001b[1;32m    221\u001b[0m         \u001b[38;5;124mf\u001b[39m\u001b[38;5;124m\"\u001b[39m\u001b[38;5;124mparameter of \u001b[39m\u001b[38;5;132;01m{\u001b[39;00mfunc\u001b[38;5;241m.\u001b[39m\u001b[38;5;18m__qualname__\u001b[39m\u001b[38;5;132;01m}\u001b[39;00m\u001b[38;5;124m must be\u001b[39m\u001b[38;5;124m\"\u001b[39m,\n\u001b[1;32m    222\u001b[0m         \u001b[38;5;28mstr\u001b[39m(e),\n\u001b[1;32m    223\u001b[0m     )\n",
      "File \u001b[0;32m/Applications/Anaconda/anaconda3/envs/apziva/lib/python3.9/site-packages/sklearn/model_selection/_validation.py:443\u001b[0m, in \u001b[0;36mcross_validate\u001b[0;34m(estimator, X, y, groups, scoring, cv, n_jobs, verbose, fit_params, params, pre_dispatch, return_train_score, return_estimator, return_indices, error_score)\u001b[0m\n\u001b[1;32m    422\u001b[0m parallel \u001b[38;5;241m=\u001b[39m Parallel(n_jobs\u001b[38;5;241m=\u001b[39mn_jobs, verbose\u001b[38;5;241m=\u001b[39mverbose, pre_dispatch\u001b[38;5;241m=\u001b[39mpre_dispatch)\n\u001b[1;32m    423\u001b[0m results \u001b[38;5;241m=\u001b[39m parallel(\n\u001b[1;32m    424\u001b[0m     delayed(_fit_and_score)(\n\u001b[1;32m    425\u001b[0m         clone(estimator),\n\u001b[0;32m   (...)\u001b[0m\n\u001b[1;32m    440\u001b[0m     \u001b[38;5;28;01mfor\u001b[39;00m train, test \u001b[38;5;129;01min\u001b[39;00m indices\n\u001b[1;32m    441\u001b[0m )\n\u001b[0;32m--> 443\u001b[0m \u001b[43m_warn_or_raise_about_fit_failures\u001b[49m\u001b[43m(\u001b[49m\u001b[43mresults\u001b[49m\u001b[43m,\u001b[49m\u001b[43m \u001b[49m\u001b[43merror_score\u001b[49m\u001b[43m)\u001b[49m\n\u001b[1;32m    445\u001b[0m \u001b[38;5;66;03m# For callable scoring, the return type is only know after calling. If the\u001b[39;00m\n\u001b[1;32m    446\u001b[0m \u001b[38;5;66;03m# return type is a dictionary, the error scores can now be inserted with\u001b[39;00m\n\u001b[1;32m    447\u001b[0m \u001b[38;5;66;03m# the correct key.\u001b[39;00m\n\u001b[1;32m    448\u001b[0m \u001b[38;5;28;01mif\u001b[39;00m \u001b[38;5;28mcallable\u001b[39m(scoring):\n",
      "File \u001b[0;32m/Applications/Anaconda/anaconda3/envs/apziva/lib/python3.9/site-packages/sklearn/model_selection/_validation.py:529\u001b[0m, in \u001b[0;36m_warn_or_raise_about_fit_failures\u001b[0;34m(results, error_score)\u001b[0m\n\u001b[1;32m    522\u001b[0m \u001b[38;5;28;01mif\u001b[39;00m num_failed_fits \u001b[38;5;241m==\u001b[39m num_fits:\n\u001b[1;32m    523\u001b[0m     all_fits_failed_message \u001b[38;5;241m=\u001b[39m (\n\u001b[1;32m    524\u001b[0m         \u001b[38;5;124mf\u001b[39m\u001b[38;5;124m\"\u001b[39m\u001b[38;5;130;01m\\n\u001b[39;00m\u001b[38;5;124mAll the \u001b[39m\u001b[38;5;132;01m{\u001b[39;00mnum_fits\u001b[38;5;132;01m}\u001b[39;00m\u001b[38;5;124m fits failed.\u001b[39m\u001b[38;5;130;01m\\n\u001b[39;00m\u001b[38;5;124m\"\u001b[39m\n\u001b[1;32m    525\u001b[0m         \u001b[38;5;124m\"\u001b[39m\u001b[38;5;124mIt is very likely that your model is misconfigured.\u001b[39m\u001b[38;5;130;01m\\n\u001b[39;00m\u001b[38;5;124m\"\u001b[39m\n\u001b[1;32m    526\u001b[0m         \u001b[38;5;124m\"\u001b[39m\u001b[38;5;124mYou can try to debug the error by setting error_score=\u001b[39m\u001b[38;5;124m'\u001b[39m\u001b[38;5;124mraise\u001b[39m\u001b[38;5;124m'\u001b[39m\u001b[38;5;124m.\u001b[39m\u001b[38;5;130;01m\\n\u001b[39;00m\u001b[38;5;130;01m\\n\u001b[39;00m\u001b[38;5;124m\"\u001b[39m\n\u001b[1;32m    527\u001b[0m         \u001b[38;5;124mf\u001b[39m\u001b[38;5;124m\"\u001b[39m\u001b[38;5;124mBelow are more details about the failures:\u001b[39m\u001b[38;5;130;01m\\n\u001b[39;00m\u001b[38;5;132;01m{\u001b[39;00mfit_errors_summary\u001b[38;5;132;01m}\u001b[39;00m\u001b[38;5;124m\"\u001b[39m\n\u001b[1;32m    528\u001b[0m     )\n\u001b[0;32m--> 529\u001b[0m     \u001b[38;5;28;01mraise\u001b[39;00m \u001b[38;5;167;01mValueError\u001b[39;00m(all_fits_failed_message)\n\u001b[1;32m    531\u001b[0m \u001b[38;5;28;01melse\u001b[39;00m:\n\u001b[1;32m    532\u001b[0m     some_fits_failed_message \u001b[38;5;241m=\u001b[39m (\n\u001b[1;32m    533\u001b[0m         \u001b[38;5;124mf\u001b[39m\u001b[38;5;124m\"\u001b[39m\u001b[38;5;130;01m\\n\u001b[39;00m\u001b[38;5;132;01m{\u001b[39;00mnum_failed_fits\u001b[38;5;132;01m}\u001b[39;00m\u001b[38;5;124m fits failed out of a total of \u001b[39m\u001b[38;5;132;01m{\u001b[39;00mnum_fits\u001b[38;5;132;01m}\u001b[39;00m\u001b[38;5;124m.\u001b[39m\u001b[38;5;130;01m\\n\u001b[39;00m\u001b[38;5;124m\"\u001b[39m\n\u001b[1;32m    534\u001b[0m         \u001b[38;5;124m\"\u001b[39m\u001b[38;5;124mThe score on these train-test partitions for these parameters\u001b[39m\u001b[38;5;124m\"\u001b[39m\n\u001b[0;32m   (...)\u001b[0m\n\u001b[1;32m    538\u001b[0m         \u001b[38;5;124mf\u001b[39m\u001b[38;5;124m\"\u001b[39m\u001b[38;5;124mBelow are more details about the failures:\u001b[39m\u001b[38;5;130;01m\\n\u001b[39;00m\u001b[38;5;132;01m{\u001b[39;00mfit_errors_summary\u001b[38;5;132;01m}\u001b[39;00m\u001b[38;5;124m\"\u001b[39m\n\u001b[1;32m    539\u001b[0m     )\n",
      "\u001b[0;31mValueError\u001b[0m: \nAll the 15 fits failed.\nIt is very likely that your model is misconfigured.\nYou can try to debug the error by setting error_score='raise'.\n\nBelow are more details about the failures:\n--------------------------------------------------------------------------------\n15 fits failed with the following error:\nTraceback (most recent call last):\n  File \"/Applications/Anaconda/anaconda3/envs/apziva/lib/python3.9/site-packages/sklearn/model_selection/_validation.py\", line 888, in _fit_and_score\n    estimator.fit(X_train, y_train, **fit_params)\n  File \"/Applications/Anaconda/anaconda3/envs/apziva/lib/python3.9/site-packages/sklearn/base.py\", line 1473, in wrapper\n    return fit_method(estimator, *args, **kwargs)\n  File \"/Applications/Anaconda/anaconda3/envs/apziva/lib/python3.9/site-packages/imblearn/pipeline.py\", line 329, in fit\n    Xt, yt = self._fit(X, y, routed_params)\n  File \"/Applications/Anaconda/anaconda3/envs/apziva/lib/python3.9/site-packages/imblearn/pipeline.py\", line 265, in _fit\n    X, y, fitted_transformer = fit_resample_one_cached(\n  File \"/Applications/Anaconda/anaconda3/envs/apziva/lib/python3.9/site-packages/joblib/memory.py\", line 312, in __call__\n    return self.func(*args, **kwargs)\n  File \"/Applications/Anaconda/anaconda3/envs/apziva/lib/python3.9/site-packages/imblearn/pipeline.py\", line 1057, in _fit_resample_one\n    X_res, y_res = sampler.fit_resample(X, y, **params.get(\"fit_resample\", {}))\n  File \"/Applications/Anaconda/anaconda3/envs/apziva/lib/python3.9/site-packages/imblearn/base.py\", line 208, in fit_resample\n    return super().fit_resample(X, y)\n  File \"/Applications/Anaconda/anaconda3/envs/apziva/lib/python3.9/site-packages/imblearn/base.py\", line 106, in fit_resample\n    X, y, binarize_y = self._check_X_y(X, y)\n  File \"/Applications/Anaconda/anaconda3/envs/apziva/lib/python3.9/site-packages/imblearn/base.py\", line 161, in _check_X_y\n    X, y = self._validate_data(X, y, reset=True, accept_sparse=accept_sparse)\n  File \"/Applications/Anaconda/anaconda3/envs/apziva/lib/python3.9/site-packages/sklearn/base.py\", line 650, in _validate_data\n    X, y = check_X_y(X, y, **check_params)\n  File \"/Applications/Anaconda/anaconda3/envs/apziva/lib/python3.9/site-packages/sklearn/utils/validation.py\", line 1301, in check_X_y\n    X = check_array(\n  File \"/Applications/Anaconda/anaconda3/envs/apziva/lib/python3.9/site-packages/sklearn/utils/validation.py\", line 1012, in check_array\n    array = _asarray_with_order(array, order=order, dtype=dtype, xp=xp)\n  File \"/Applications/Anaconda/anaconda3/envs/apziva/lib/python3.9/site-packages/sklearn/utils/_array_api.py\", line 751, in _asarray_with_order\n    array = numpy.asarray(array, order=order, dtype=dtype)\n  File \"/Applications/Anaconda/anaconda3/envs/apziva/lib/python3.9/site-packages/pandas/core/generic.py\", line 2153, in __array__\n    arr = np.asarray(values, dtype=dtype)\nValueError: could not convert string to float: 'blue-collar'\n"
     ]
    }
   ],
   "source": [
    "from sklearn.ensemble import RandomForestClassifier\n",
    "\n",
    "from imblearn.over_sampling import RandomOverSampler\n",
    "from imblearn.under_sampling import TomekLinks\n",
    "from sklearn.model_selection import cross_val_score, RepeatedStratifiedKFold\n",
    "from sklearn.metrics import make_scorer, f1_score, recall_score\n",
    "import optuna\n",
    "\n",
    "# Define the objective function for Optuna\n",
    "def objective(trial):\n",
    "    # Hyperparameter suggestions from Optuna\n",
    "    n_estimators = trial.suggest_int('n_estimators', 50, 1000)\n",
    "    max_depth = trial.suggest_int('max_depth', 3, 20)\n",
    "    min_samples_split = trial.suggest_int('min_samples_split', 2, 20)\n",
    "\n",
    "    # Define the RandomForest model with suggested parameters\n",
    "    model = RandomForestClassifier(\n",
    "        n_estimators=n_estimators,\n",
    "        max_depth=max_depth,\n",
    "        min_samples_split=min_samples_split,\n",
    "        random_state=seed\n",
    "    )\n",
    "\n",
    "    # Create a pipeline with RandomOverSampler and Tomek Links\n",
    "    pipeline = Pipeline([\n",
    "        ('oversample', RandomOverSampler(sampling_strategy='minority', random_state=seed)),\n",
    "        ('tomek', TomekLinks()),\n",
    "        ('classifier', model)\n",
    "    ])\n",
    "\n",
    "    # Define macro-averaged F1-score and recall scorers\n",
    "    f1_scorer = make_scorer(f1_score, average='macro')\n",
    "    recall_scorer = make_scorer(recall_score, average='macro')\n",
    "\n",
    "    # Perform cross-validation\n",
    "    cv = RepeatedStratifiedKFold(n_splits=5, n_repeats=3, random_state=seed)\n",
    "    f1_scores = cross_val_score(pipeline, X_train, y_train, scoring=f1_scorer, cv=cv)\n",
    "    recall_scores = cross_val_score(pipeline, X_train, y_train, scoring=recall_scorer, cv=cv)\n",
    "\n",
    "    # Compute a weighted score combining F1 and recall\n",
    "    f1_mean = f1_scores.mean()\n",
    "    recall_mean = recall_scores.mean()\n",
    "\n",
    "    combined_score = 0.4 * f1_mean + 0.6 * recall_mean  # Adjust weights as needed\n",
    "\n",
    "    return combined_score\n",
    "\n",
    "# Create the Optuna study and optimize\n",
    "study = optuna.create_study(direction='maximize')\n",
    "study.optimize(objective, n_trials=25)\n",
    "\n",
    "# Print the best trial's parameters\n",
    "print(\"Best trial:\")\n",
    "print(study.best_trial.params)\n",
    "\n",
    "# Train the final model with the best parameters\n",
    "best_params = study.best_trial.params\n",
    "final_model = Pipeline([\n",
    "    ('oversample', RandomOverSampler(sampling_strategy='minority', random_state=seed)),\n",
    "    ('tomek', TomekLinks()),\n",
    "    ('classifier', RandomForestClassifier(**best_params, random_state=seed))\n",
    "])\n",
    "final_model.fit(X_train, y_train)\n",
    "\n",
    "# Evaluate the model on the test set\n",
    "y_pred = final_model.predict(X_test)\n",
    "from sklearn.metrics import classification_report\n",
    "print(classification_report(y_test, y_pred))"
   ]
  },
  {
   "cell_type": "code",
   "execution_count": 225,
   "id": "76e70441-a672-468a-ba10-53d209ec12e6",
   "metadata": {},
   "outputs": [
    {
     "ename": "ValueError",
     "evalue": "could not convert string to float: 'admin'",
     "output_type": "error",
     "traceback": [
      "\u001b[0;31m---------------------------------------------------------------------------\u001b[0m",
      "\u001b[0;31mValueError\u001b[0m                                Traceback (most recent call last)",
      "\u001b[0;32m/var/folders/n3/q8wb235x57n_sx2q14dsngjr0000gn/T/ipykernel_99575/3800188153.py\u001b[0m in \u001b[0;36m?\u001b[0;34m()\u001b[0m\n\u001b[0;32m---> 41\u001b[0;31m \u001b[0;32mfrom\u001b[0m \u001b[0msklearn\u001b[0m\u001b[0;34m.\u001b[0m\u001b[0mcompose\u001b[0m \u001b[0;32mimport\u001b[0m \u001b[0mColumnTransformer\u001b[0m\u001b[0;34m\u001b[0m\u001b[0;34m\u001b[0m\u001b[0m\n\u001b[0m\u001b[1;32m     42\u001b[0m \u001b[0;32mfrom\u001b[0m \u001b[0msklearn\u001b[0m\u001b[0;34m.\u001b[0m\u001b[0mpipeline\u001b[0m \u001b[0;32mimport\u001b[0m \u001b[0mPipeline\u001b[0m \u001b[0;32mas\u001b[0m \u001b[0mSklearnPipeline\u001b[0m\u001b[0;34m\u001b[0m\u001b[0;34m\u001b[0m\u001b[0m\n\u001b[1;32m     43\u001b[0m \u001b[0;32mfrom\u001b[0m \u001b[0mimblearn\u001b[0m\u001b[0;34m.\u001b[0m\u001b[0mpipeline\u001b[0m \u001b[0;32mimport\u001b[0m \u001b[0mPipeline\u001b[0m \u001b[0;32mas\u001b[0m \u001b[0mImbPipeline\u001b[0m\u001b[0;34m\u001b[0m\u001b[0;34m\u001b[0m\u001b[0m\n\u001b[1;32m     44\u001b[0m \u001b[0;32mfrom\u001b[0m \u001b[0msklearn\u001b[0m\u001b[0;34m.\u001b[0m\u001b[0mpreprocessing\u001b[0m \u001b[0;32mimport\u001b[0m \u001b[0mStandardScaler\u001b[0m\u001b[0;34m,\u001b[0m \u001b[0mOneHotEncoder\u001b[0m\u001b[0;34m,\u001b[0m \u001b[0mFunctionTransformer\u001b[0m\u001b[0;34m\u001b[0m\u001b[0;34m\u001b[0m\u001b[0m\n",
      "\u001b[0;32m/var/folders/n3/q8wb235x57n_sx2q14dsngjr0000gn/T/ipykernel_99575/3800188153.py\u001b[0m in \u001b[0;36m?\u001b[0;34m(X, y)\u001b[0m\n\u001b[1;32m     20\u001b[0m \u001b[0;32mdef\u001b[0m \u001b[0mresample_data\u001b[0m\u001b[0;34m(\u001b[0m\u001b[0mX\u001b[0m\u001b[0;34m,\u001b[0m \u001b[0my\u001b[0m\u001b[0;34m)\u001b[0m\u001b[0;34m:\u001b[0m\u001b[0;34m\u001b[0m\u001b[0;34m\u001b[0m\u001b[0m\n\u001b[1;32m     21\u001b[0m     \u001b[0mX_res\u001b[0m\u001b[0;34m,\u001b[0m \u001b[0my_res\u001b[0m \u001b[0;34m=\u001b[0m \u001b[0mRandomOverSampler\u001b[0m\u001b[0;34m(\u001b[0m\u001b[0mrandom_state\u001b[0m\u001b[0;34m=\u001b[0m\u001b[0mseed\u001b[0m\u001b[0;34m)\u001b[0m\u001b[0;34m.\u001b[0m\u001b[0mfit_resample\u001b[0m\u001b[0;34m(\u001b[0m\u001b[0mX\u001b[0m\u001b[0;34m,\u001b[0m \u001b[0my\u001b[0m\u001b[0;34m)\u001b[0m\u001b[0;34m\u001b[0m\u001b[0;34m\u001b[0m\u001b[0m\n\u001b[0;32m---> 22\u001b[0;31m     \u001b[0mX_res\u001b[0m\u001b[0;34m,\u001b[0m \u001b[0my_res\u001b[0m \u001b[0;34m=\u001b[0m \u001b[0mTomekLinks\u001b[0m\u001b[0;34m(\u001b[0m\u001b[0msampling_strategy\u001b[0m\u001b[0;34m=\u001b[0m\u001b[0;34m'not majority'\u001b[0m\u001b[0;34m)\u001b[0m\u001b[0;34m.\u001b[0m\u001b[0mfit_resample\u001b[0m\u001b[0;34m(\u001b[0m\u001b[0mX_res\u001b[0m\u001b[0;34m,\u001b[0m \u001b[0my_res\u001b[0m\u001b[0;34m)\u001b[0m\u001b[0;34m\u001b[0m\u001b[0;34m\u001b[0m\u001b[0m\n\u001b[0m\u001b[1;32m     23\u001b[0m     \u001b[0;32mreturn\u001b[0m \u001b[0mX_res\u001b[0m\u001b[0;34m,\u001b[0m \u001b[0my_res\u001b[0m\u001b[0;34m\u001b[0m\u001b[0;34m\u001b[0m\u001b[0m\n",
      "\u001b[0;32m/Applications/Anaconda/anaconda3/envs/apziva/lib/python3.9/site-packages/imblearn/base.py\u001b[0m in \u001b[0;36m?\u001b[0;34m(self, X, y)\u001b[0m\n\u001b[1;32m    204\u001b[0m         \u001b[0my_resampled\u001b[0m \u001b[0;34m:\u001b[0m \u001b[0marray\u001b[0m\u001b[0;34m-\u001b[0m\u001b[0mlike\u001b[0m \u001b[0mof\u001b[0m \u001b[0mshape\u001b[0m \u001b[0;34m(\u001b[0m\u001b[0mn_samples_new\u001b[0m\u001b[0;34m,\u001b[0m\u001b[0;34m)\u001b[0m\u001b[0;34m\u001b[0m\u001b[0;34m\u001b[0m\u001b[0m\n\u001b[1;32m    205\u001b[0m             \u001b[0mThe\u001b[0m \u001b[0mcorresponding\u001b[0m \u001b[0mlabel\u001b[0m \u001b[0mof\u001b[0m\u001b[0;31m \u001b[0m\u001b[0;31m`\u001b[0m\u001b[0mX_resampled\u001b[0m\u001b[0;31m`\u001b[0m\u001b[0;34m.\u001b[0m\u001b[0;34m\u001b[0m\u001b[0;34m\u001b[0m\u001b[0m\n\u001b[1;32m    206\u001b[0m         \"\"\"\n\u001b[1;32m    207\u001b[0m         \u001b[0mself\u001b[0m\u001b[0;34m.\u001b[0m\u001b[0m_validate_params\u001b[0m\u001b[0;34m(\u001b[0m\u001b[0;34m)\u001b[0m\u001b[0;34m\u001b[0m\u001b[0;34m\u001b[0m\u001b[0m\n\u001b[0;32m--> 208\u001b[0;31m         \u001b[0;32mreturn\u001b[0m \u001b[0msuper\u001b[0m\u001b[0;34m(\u001b[0m\u001b[0;34m)\u001b[0m\u001b[0;34m.\u001b[0m\u001b[0mfit_resample\u001b[0m\u001b[0;34m(\u001b[0m\u001b[0mX\u001b[0m\u001b[0;34m,\u001b[0m \u001b[0my\u001b[0m\u001b[0;34m)\u001b[0m\u001b[0;34m\u001b[0m\u001b[0;34m\u001b[0m\u001b[0m\n\u001b[0m",
      "\u001b[0;32m/Applications/Anaconda/anaconda3/envs/apziva/lib/python3.9/site-packages/imblearn/base.py\u001b[0m in \u001b[0;36m?\u001b[0;34m(self, X, y)\u001b[0m\n\u001b[1;32m    102\u001b[0m             \u001b[0mThe\u001b[0m \u001b[0mcorresponding\u001b[0m \u001b[0mlabel\u001b[0m \u001b[0mof\u001b[0m\u001b[0;31m \u001b[0m\u001b[0;31m`\u001b[0m\u001b[0mX_resampled\u001b[0m\u001b[0;31m`\u001b[0m\u001b[0;34m.\u001b[0m\u001b[0;34m\u001b[0m\u001b[0;34m\u001b[0m\u001b[0m\n\u001b[1;32m    103\u001b[0m         \"\"\"\n\u001b[1;32m    104\u001b[0m         \u001b[0mcheck_classification_targets\u001b[0m\u001b[0;34m(\u001b[0m\u001b[0my\u001b[0m\u001b[0;34m)\u001b[0m\u001b[0;34m\u001b[0m\u001b[0;34m\u001b[0m\u001b[0m\n\u001b[1;32m    105\u001b[0m         \u001b[0marrays_transformer\u001b[0m \u001b[0;34m=\u001b[0m \u001b[0mArraysTransformer\u001b[0m\u001b[0;34m(\u001b[0m\u001b[0mX\u001b[0m\u001b[0;34m,\u001b[0m \u001b[0my\u001b[0m\u001b[0;34m)\u001b[0m\u001b[0;34m\u001b[0m\u001b[0;34m\u001b[0m\u001b[0m\n\u001b[0;32m--> 106\u001b[0;31m         \u001b[0mX\u001b[0m\u001b[0;34m,\u001b[0m \u001b[0my\u001b[0m\u001b[0;34m,\u001b[0m \u001b[0mbinarize_y\u001b[0m \u001b[0;34m=\u001b[0m \u001b[0mself\u001b[0m\u001b[0;34m.\u001b[0m\u001b[0m_check_X_y\u001b[0m\u001b[0;34m(\u001b[0m\u001b[0mX\u001b[0m\u001b[0;34m,\u001b[0m \u001b[0my\u001b[0m\u001b[0;34m)\u001b[0m\u001b[0;34m\u001b[0m\u001b[0;34m\u001b[0m\u001b[0m\n\u001b[0m\u001b[1;32m    107\u001b[0m \u001b[0;34m\u001b[0m\u001b[0m\n\u001b[1;32m    108\u001b[0m         self.sampling_strategy_ = check_sampling_strategy(\n\u001b[1;32m    109\u001b[0m             \u001b[0mself\u001b[0m\u001b[0;34m.\u001b[0m\u001b[0msampling_strategy\u001b[0m\u001b[0;34m,\u001b[0m \u001b[0my\u001b[0m\u001b[0;34m,\u001b[0m \u001b[0mself\u001b[0m\u001b[0;34m.\u001b[0m\u001b[0m_sampling_type\u001b[0m\u001b[0;34m\u001b[0m\u001b[0;34m\u001b[0m\u001b[0m\n",
      "\u001b[0;32m/Applications/Anaconda/anaconda3/envs/apziva/lib/python3.9/site-packages/imblearn/base.py\u001b[0m in \u001b[0;36m?\u001b[0;34m(self, X, y, accept_sparse)\u001b[0m\n\u001b[1;32m    157\u001b[0m     \u001b[0;32mdef\u001b[0m \u001b[0m_check_X_y\u001b[0m\u001b[0;34m(\u001b[0m\u001b[0mself\u001b[0m\u001b[0;34m,\u001b[0m \u001b[0mX\u001b[0m\u001b[0;34m,\u001b[0m \u001b[0my\u001b[0m\u001b[0;34m,\u001b[0m \u001b[0maccept_sparse\u001b[0m\u001b[0;34m=\u001b[0m\u001b[0;32mNone\u001b[0m\u001b[0;34m)\u001b[0m\u001b[0;34m:\u001b[0m\u001b[0;34m\u001b[0m\u001b[0;34m\u001b[0m\u001b[0m\n\u001b[1;32m    158\u001b[0m         \u001b[0;32mif\u001b[0m \u001b[0maccept_sparse\u001b[0m \u001b[0;32mis\u001b[0m \u001b[0;32mNone\u001b[0m\u001b[0;34m:\u001b[0m\u001b[0;34m\u001b[0m\u001b[0;34m\u001b[0m\u001b[0m\n\u001b[1;32m    159\u001b[0m             \u001b[0maccept_sparse\u001b[0m \u001b[0;34m=\u001b[0m \u001b[0;34m[\u001b[0m\u001b[0;34m\"csr\"\u001b[0m\u001b[0;34m,\u001b[0m \u001b[0;34m\"csc\"\u001b[0m\u001b[0;34m]\u001b[0m\u001b[0;34m\u001b[0m\u001b[0;34m\u001b[0m\u001b[0m\n\u001b[1;32m    160\u001b[0m         \u001b[0my\u001b[0m\u001b[0;34m,\u001b[0m \u001b[0mbinarize_y\u001b[0m \u001b[0;34m=\u001b[0m \u001b[0mcheck_target_type\u001b[0m\u001b[0;34m(\u001b[0m\u001b[0my\u001b[0m\u001b[0;34m,\u001b[0m \u001b[0mindicate_one_vs_all\u001b[0m\u001b[0;34m=\u001b[0m\u001b[0;32mTrue\u001b[0m\u001b[0;34m)\u001b[0m\u001b[0;34m\u001b[0m\u001b[0;34m\u001b[0m\u001b[0m\n\u001b[0;32m--> 161\u001b[0;31m         \u001b[0mX\u001b[0m\u001b[0;34m,\u001b[0m \u001b[0my\u001b[0m \u001b[0;34m=\u001b[0m \u001b[0mself\u001b[0m\u001b[0;34m.\u001b[0m\u001b[0m_validate_data\u001b[0m\u001b[0;34m(\u001b[0m\u001b[0mX\u001b[0m\u001b[0;34m,\u001b[0m \u001b[0my\u001b[0m\u001b[0;34m,\u001b[0m \u001b[0mreset\u001b[0m\u001b[0;34m=\u001b[0m\u001b[0;32mTrue\u001b[0m\u001b[0;34m,\u001b[0m \u001b[0maccept_sparse\u001b[0m\u001b[0;34m=\u001b[0m\u001b[0maccept_sparse\u001b[0m\u001b[0;34m)\u001b[0m\u001b[0;34m\u001b[0m\u001b[0;34m\u001b[0m\u001b[0m\n\u001b[0m\u001b[1;32m    162\u001b[0m         \u001b[0;32mreturn\u001b[0m \u001b[0mX\u001b[0m\u001b[0;34m,\u001b[0m \u001b[0my\u001b[0m\u001b[0;34m,\u001b[0m \u001b[0mbinarize_y\u001b[0m\u001b[0;34m\u001b[0m\u001b[0;34m\u001b[0m\u001b[0m\n",
      "\u001b[0;32m/Applications/Anaconda/anaconda3/envs/apziva/lib/python3.9/site-packages/sklearn/base.py\u001b[0m in \u001b[0;36m?\u001b[0;34m(self, X, y, reset, validate_separately, cast_to_ndarray, **check_params)\u001b[0m\n\u001b[1;32m    646\u001b[0m                 \u001b[0;32mif\u001b[0m \u001b[0;34m\"estimator\"\u001b[0m \u001b[0;32mnot\u001b[0m \u001b[0;32min\u001b[0m \u001b[0mcheck_y_params\u001b[0m\u001b[0;34m:\u001b[0m\u001b[0;34m\u001b[0m\u001b[0;34m\u001b[0m\u001b[0m\n\u001b[1;32m    647\u001b[0m                     \u001b[0mcheck_y_params\u001b[0m \u001b[0;34m=\u001b[0m \u001b[0;34m{\u001b[0m\u001b[0;34m**\u001b[0m\u001b[0mdefault_check_params\u001b[0m\u001b[0;34m,\u001b[0m \u001b[0;34m**\u001b[0m\u001b[0mcheck_y_params\u001b[0m\u001b[0;34m}\u001b[0m\u001b[0;34m\u001b[0m\u001b[0;34m\u001b[0m\u001b[0m\n\u001b[1;32m    648\u001b[0m                 \u001b[0my\u001b[0m \u001b[0;34m=\u001b[0m \u001b[0mcheck_array\u001b[0m\u001b[0;34m(\u001b[0m\u001b[0my\u001b[0m\u001b[0;34m,\u001b[0m \u001b[0minput_name\u001b[0m\u001b[0;34m=\u001b[0m\u001b[0;34m\"y\"\u001b[0m\u001b[0;34m,\u001b[0m \u001b[0;34m**\u001b[0m\u001b[0mcheck_y_params\u001b[0m\u001b[0;34m)\u001b[0m\u001b[0;34m\u001b[0m\u001b[0;34m\u001b[0m\u001b[0m\n\u001b[1;32m    649\u001b[0m             \u001b[0;32melse\u001b[0m\u001b[0;34m:\u001b[0m\u001b[0;34m\u001b[0m\u001b[0;34m\u001b[0m\u001b[0m\n\u001b[0;32m--> 650\u001b[0;31m                 \u001b[0mX\u001b[0m\u001b[0;34m,\u001b[0m \u001b[0my\u001b[0m \u001b[0;34m=\u001b[0m \u001b[0mcheck_X_y\u001b[0m\u001b[0;34m(\u001b[0m\u001b[0mX\u001b[0m\u001b[0;34m,\u001b[0m \u001b[0my\u001b[0m\u001b[0;34m,\u001b[0m \u001b[0;34m**\u001b[0m\u001b[0mcheck_params\u001b[0m\u001b[0;34m)\u001b[0m\u001b[0;34m\u001b[0m\u001b[0;34m\u001b[0m\u001b[0m\n\u001b[0m\u001b[1;32m    651\u001b[0m             \u001b[0mout\u001b[0m \u001b[0;34m=\u001b[0m \u001b[0mX\u001b[0m\u001b[0;34m,\u001b[0m \u001b[0my\u001b[0m\u001b[0;34m\u001b[0m\u001b[0;34m\u001b[0m\u001b[0m\n\u001b[1;32m    652\u001b[0m \u001b[0;34m\u001b[0m\u001b[0m\n\u001b[1;32m    653\u001b[0m         \u001b[0;32mif\u001b[0m \u001b[0;32mnot\u001b[0m \u001b[0mno_val_X\u001b[0m \u001b[0;32mand\u001b[0m \u001b[0mcheck_params\u001b[0m\u001b[0;34m.\u001b[0m\u001b[0mget\u001b[0m\u001b[0;34m(\u001b[0m\u001b[0;34m\"ensure_2d\"\u001b[0m\u001b[0;34m,\u001b[0m \u001b[0;32mTrue\u001b[0m\u001b[0;34m)\u001b[0m\u001b[0;34m:\u001b[0m\u001b[0;34m\u001b[0m\u001b[0;34m\u001b[0m\u001b[0m\n",
      "\u001b[0;32m/Applications/Anaconda/anaconda3/envs/apziva/lib/python3.9/site-packages/sklearn/utils/validation.py\u001b[0m in \u001b[0;36m?\u001b[0;34m(X, y, accept_sparse, accept_large_sparse, dtype, order, copy, force_writeable, force_all_finite, ensure_2d, allow_nd, multi_output, ensure_min_samples, ensure_min_features, y_numeric, estimator)\u001b[0m\n\u001b[1;32m   1297\u001b[0m         raise ValueError(\n\u001b[1;32m   1298\u001b[0m             \u001b[0;34mf\"{estimator_name} requires y to be passed, but the target y is None\"\u001b[0m\u001b[0;34m\u001b[0m\u001b[0;34m\u001b[0m\u001b[0m\n\u001b[1;32m   1299\u001b[0m         )\n\u001b[1;32m   1300\u001b[0m \u001b[0;34m\u001b[0m\u001b[0m\n\u001b[0;32m-> 1301\u001b[0;31m     X = check_array(\n\u001b[0m\u001b[1;32m   1302\u001b[0m         \u001b[0mX\u001b[0m\u001b[0;34m,\u001b[0m\u001b[0;34m\u001b[0m\u001b[0;34m\u001b[0m\u001b[0m\n\u001b[1;32m   1303\u001b[0m         \u001b[0maccept_sparse\u001b[0m\u001b[0;34m=\u001b[0m\u001b[0maccept_sparse\u001b[0m\u001b[0;34m,\u001b[0m\u001b[0;34m\u001b[0m\u001b[0;34m\u001b[0m\u001b[0m\n\u001b[1;32m   1304\u001b[0m         \u001b[0maccept_large_sparse\u001b[0m\u001b[0;34m=\u001b[0m\u001b[0maccept_large_sparse\u001b[0m\u001b[0;34m,\u001b[0m\u001b[0;34m\u001b[0m\u001b[0;34m\u001b[0m\u001b[0m\n",
      "\u001b[0;32m/Applications/Anaconda/anaconda3/envs/apziva/lib/python3.9/site-packages/sklearn/utils/validation.py\u001b[0m in \u001b[0;36m?\u001b[0;34m(array, accept_sparse, accept_large_sparse, dtype, order, copy, force_writeable, force_all_finite, ensure_2d, allow_nd, ensure_min_samples, ensure_min_features, estimator, input_name)\u001b[0m\n\u001b[1;32m   1010\u001b[0m                     \u001b[0marray\u001b[0m \u001b[0;34m=\u001b[0m \u001b[0mxp\u001b[0m\u001b[0;34m.\u001b[0m\u001b[0mastype\u001b[0m\u001b[0;34m(\u001b[0m\u001b[0marray\u001b[0m\u001b[0;34m,\u001b[0m \u001b[0mdtype\u001b[0m\u001b[0;34m,\u001b[0m \u001b[0mcopy\u001b[0m\u001b[0;34m=\u001b[0m\u001b[0;32mFalse\u001b[0m\u001b[0;34m)\u001b[0m\u001b[0;34m\u001b[0m\u001b[0;34m\u001b[0m\u001b[0m\n\u001b[1;32m   1011\u001b[0m                 \u001b[0;32melse\u001b[0m\u001b[0;34m:\u001b[0m\u001b[0;34m\u001b[0m\u001b[0;34m\u001b[0m\u001b[0m\n\u001b[1;32m   1012\u001b[0m                     \u001b[0marray\u001b[0m \u001b[0;34m=\u001b[0m \u001b[0m_asarray_with_order\u001b[0m\u001b[0;34m(\u001b[0m\u001b[0marray\u001b[0m\u001b[0;34m,\u001b[0m \u001b[0morder\u001b[0m\u001b[0;34m=\u001b[0m\u001b[0morder\u001b[0m\u001b[0;34m,\u001b[0m \u001b[0mdtype\u001b[0m\u001b[0;34m=\u001b[0m\u001b[0mdtype\u001b[0m\u001b[0;34m,\u001b[0m \u001b[0mxp\u001b[0m\u001b[0;34m=\u001b[0m\u001b[0mxp\u001b[0m\u001b[0;34m)\u001b[0m\u001b[0;34m\u001b[0m\u001b[0;34m\u001b[0m\u001b[0m\n\u001b[1;32m   1013\u001b[0m             \u001b[0;32mexcept\u001b[0m \u001b[0mComplexWarning\u001b[0m \u001b[0;32mas\u001b[0m \u001b[0mcomplex_warning\u001b[0m\u001b[0;34m:\u001b[0m\u001b[0;34m\u001b[0m\u001b[0;34m\u001b[0m\u001b[0m\n\u001b[0;32m-> 1014\u001b[0;31m                 raise ValueError(\n\u001b[0m\u001b[1;32m   1015\u001b[0m                     \u001b[0;34m\"Complex data not supported\\n{}\\n\"\u001b[0m\u001b[0;34m.\u001b[0m\u001b[0mformat\u001b[0m\u001b[0;34m(\u001b[0m\u001b[0marray\u001b[0m\u001b[0;34m)\u001b[0m\u001b[0;34m\u001b[0m\u001b[0;34m\u001b[0m\u001b[0m\n\u001b[1;32m   1016\u001b[0m                 ) from complex_warning\n\u001b[1;32m   1017\u001b[0m \u001b[0;34m\u001b[0m\u001b[0m\n",
      "\u001b[0;32m/Applications/Anaconda/anaconda3/envs/apziva/lib/python3.9/site-packages/sklearn/utils/_array_api.py\u001b[0m in \u001b[0;36m?\u001b[0;34m(array, dtype, order, copy, xp, device)\u001b[0m\n\u001b[1;32m    747\u001b[0m         \u001b[0;31m# Use NumPy API to support order\u001b[0m\u001b[0;34m\u001b[0m\u001b[0;34m\u001b[0m\u001b[0m\n\u001b[1;32m    748\u001b[0m         \u001b[0;32mif\u001b[0m \u001b[0mcopy\u001b[0m \u001b[0;32mis\u001b[0m \u001b[0;32mTrue\u001b[0m\u001b[0;34m:\u001b[0m\u001b[0;34m\u001b[0m\u001b[0;34m\u001b[0m\u001b[0m\n\u001b[1;32m    749\u001b[0m             \u001b[0marray\u001b[0m \u001b[0;34m=\u001b[0m \u001b[0mnumpy\u001b[0m\u001b[0;34m.\u001b[0m\u001b[0marray\u001b[0m\u001b[0;34m(\u001b[0m\u001b[0marray\u001b[0m\u001b[0;34m,\u001b[0m \u001b[0morder\u001b[0m\u001b[0;34m=\u001b[0m\u001b[0morder\u001b[0m\u001b[0;34m,\u001b[0m \u001b[0mdtype\u001b[0m\u001b[0;34m=\u001b[0m\u001b[0mdtype\u001b[0m\u001b[0;34m)\u001b[0m\u001b[0;34m\u001b[0m\u001b[0;34m\u001b[0m\u001b[0m\n\u001b[1;32m    750\u001b[0m         \u001b[0;32melse\u001b[0m\u001b[0;34m:\u001b[0m\u001b[0;34m\u001b[0m\u001b[0;34m\u001b[0m\u001b[0m\n\u001b[0;32m--> 751\u001b[0;31m             \u001b[0marray\u001b[0m \u001b[0;34m=\u001b[0m \u001b[0mnumpy\u001b[0m\u001b[0;34m.\u001b[0m\u001b[0masarray\u001b[0m\u001b[0;34m(\u001b[0m\u001b[0marray\u001b[0m\u001b[0;34m,\u001b[0m \u001b[0morder\u001b[0m\u001b[0;34m=\u001b[0m\u001b[0morder\u001b[0m\u001b[0;34m,\u001b[0m \u001b[0mdtype\u001b[0m\u001b[0;34m=\u001b[0m\u001b[0mdtype\u001b[0m\u001b[0;34m)\u001b[0m\u001b[0;34m\u001b[0m\u001b[0;34m\u001b[0m\u001b[0m\n\u001b[0m\u001b[1;32m    752\u001b[0m \u001b[0;34m\u001b[0m\u001b[0m\n\u001b[1;32m    753\u001b[0m         \u001b[0;31m# At this point array is a NumPy ndarray. We convert it to an array\u001b[0m\u001b[0;34m\u001b[0m\u001b[0;34m\u001b[0m\u001b[0m\n\u001b[1;32m    754\u001b[0m         \u001b[0;31m# container that is consistent with the input's namespace.\u001b[0m\u001b[0;34m\u001b[0m\u001b[0;34m\u001b[0m\u001b[0m\n",
      "\u001b[0;32m/Applications/Anaconda/anaconda3/envs/apziva/lib/python3.9/site-packages/pandas/core/generic.py\u001b[0m in \u001b[0;36m?\u001b[0;34m(self, dtype, copy)\u001b[0m\n\u001b[1;32m   2149\u001b[0m     def __array__(\n\u001b[1;32m   2150\u001b[0m         \u001b[0mself\u001b[0m\u001b[0;34m,\u001b[0m \u001b[0mdtype\u001b[0m\u001b[0;34m:\u001b[0m \u001b[0mnpt\u001b[0m\u001b[0;34m.\u001b[0m\u001b[0mDTypeLike\u001b[0m \u001b[0;34m|\u001b[0m \u001b[0;32mNone\u001b[0m \u001b[0;34m=\u001b[0m \u001b[0;32mNone\u001b[0m\u001b[0;34m,\u001b[0m \u001b[0mcopy\u001b[0m\u001b[0;34m:\u001b[0m \u001b[0mbool_t\u001b[0m \u001b[0;34m|\u001b[0m \u001b[0;32mNone\u001b[0m \u001b[0;34m=\u001b[0m \u001b[0;32mNone\u001b[0m\u001b[0;34m\u001b[0m\u001b[0;34m\u001b[0m\u001b[0m\n\u001b[1;32m   2151\u001b[0m     ) -> np.ndarray:\n\u001b[1;32m   2152\u001b[0m         \u001b[0mvalues\u001b[0m \u001b[0;34m=\u001b[0m \u001b[0mself\u001b[0m\u001b[0;34m.\u001b[0m\u001b[0m_values\u001b[0m\u001b[0;34m\u001b[0m\u001b[0;34m\u001b[0m\u001b[0m\n\u001b[0;32m-> 2153\u001b[0;31m         \u001b[0marr\u001b[0m \u001b[0;34m=\u001b[0m \u001b[0mnp\u001b[0m\u001b[0;34m.\u001b[0m\u001b[0masarray\u001b[0m\u001b[0;34m(\u001b[0m\u001b[0mvalues\u001b[0m\u001b[0;34m,\u001b[0m \u001b[0mdtype\u001b[0m\u001b[0;34m=\u001b[0m\u001b[0mdtype\u001b[0m\u001b[0;34m)\u001b[0m\u001b[0;34m\u001b[0m\u001b[0;34m\u001b[0m\u001b[0m\n\u001b[0m\u001b[1;32m   2154\u001b[0m         if (\n\u001b[1;32m   2155\u001b[0m             \u001b[0mastype_is_view\u001b[0m\u001b[0;34m(\u001b[0m\u001b[0mvalues\u001b[0m\u001b[0;34m.\u001b[0m\u001b[0mdtype\u001b[0m\u001b[0;34m,\u001b[0m \u001b[0marr\u001b[0m\u001b[0;34m.\u001b[0m\u001b[0mdtype\u001b[0m\u001b[0;34m)\u001b[0m\u001b[0;34m\u001b[0m\u001b[0;34m\u001b[0m\u001b[0m\n\u001b[1;32m   2156\u001b[0m             \u001b[0;32mand\u001b[0m \u001b[0musing_copy_on_write\u001b[0m\u001b[0;34m(\u001b[0m\u001b[0;34m)\u001b[0m\u001b[0;34m\u001b[0m\u001b[0;34m\u001b[0m\u001b[0m\n",
      "\u001b[0;31mValueError\u001b[0m: could not convert string to float: 'admin'"
     ]
    }
   ],
   "source": [
    "from sklearn.compose import ColumnTransformer\n",
    "from sklearn.pipeline import Pipeline as SklearnPipeline\n",
    "from imblearn.pipeline import Pipeline as ImbPipeline\n",
    "from sklearn.preprocessing import StandardScaler, OneHotEncoder, FunctionTransformer\n",
    "from imblearn.over_sampling import RandomOverSampler\n",
    "from imblearn.under_sampling import TomekLinks\n",
    "from sklearn.ensemble import RandomForestClassifier\n",
    "from sklearn.model_selection import train_test_split\n",
    "from sklearn.metrics import classification_report\n",
    "\n",
    "# Define your preprocessor\n",
    "preprocessor = ColumnTransformer(\n",
    "    transformers=[\n",
    "        ('cat', OneHotEncoder(handle_unknown='ignore'), cat_cols),\n",
    "        ('num', StandardScaler(), num_cols)\n",
    "    ]\n",
    ")\n",
    "\n",
    "# Function to apply resampling only on the training data\n",
    "def resample_data(X, y):\n",
    "    X_res, y_res = RandomOverSampler(random_state=seed).fit_resample(X, y)\n",
    "    X_res, y_res = TomekLinks(sampling_strategy='not majority').fit_resample(X_res, y_res)\n",
    "    return X_res, y_res\n",
    "\n",
    "# Wrap the resampling logic in FunctionTransformer\n",
    "resample_transformer = FunctionTransformer(lambda X: X, validate=False)\n",
    "\n",
    "# Create the full pipeline\n",
    "model_pipeline = SklearnPipeline(steps=[\n",
    "    ('preprocessor', preprocessor),\n",
    "    ('resample', resample_transformer),  # Wrapper to skip transformation\n",
    "    ('classifier', RandomForestClassifier(random_state=seed))\n",
    "])\n",
    "\n",
    "# Split the data\n",
    "X_train, X_test, y_train, y_test = train_test_split(\n",
    "    X, y, test_size=0.2, stratify=y, random_state=seed\n",
    ")\n",
    "\n",
    "# Apply resampling on the training data only\n",
    "X_train_res, y_train_res = resample_data(X_train, y_train)\n",
    "\n",
    "# Fit the model on resampled training data\n",
    "model_pipeline.fit(X_train_res, y_train_res)\n",
    "\n",
    "# Predict on the test set\n",
    "y_pred = model_pipeline.predict(X_test)\n",
    "\n",
    "# Evaluate the model's performance\n",
    "print(classification_report(y_test, y_pred))\n"
   ]
  },
  {
   "cell_type": "markdown",
   "id": "bf6e805f-0eb9-4fbd-b74b-879ce9ab366f",
   "metadata": {},
   "source": [
    "## Modeling: Layer 2"
   ]
  },
  {
   "cell_type": "markdown",
   "id": "41d5c255-c27d-488f-8f69-8bee86b22957",
   "metadata": {
    "id": "f06b3cf6",
    "tags": []
   },
   "source": [
    "### Layer 2: Use the full X dataset to model which customers the bank should keep calling"
   ]
  },
  {
   "cell_type": "code",
   "execution_count": null,
   "id": "17341fa5-3f4a-42d9-9bac-ab700d1ba1a1",
   "metadata": {
    "id": "70e86c82",
    "outputId": "bf4beec8-a46d-4233-a803-6b24d0ddcf4f"
   },
   "outputs": [
    {
     "data": {
      "text/html": [
       "<div>\n",
       "<style scoped>\n",
       "    .dataframe tbody tr th:only-of-type {\n",
       "        vertical-align: middle;\n",
       "    }\n",
       "\n",
       "    .dataframe tbody tr th {\n",
       "        vertical-align: top;\n",
       "    }\n",
       "\n",
       "    .dataframe thead th {\n",
       "        text-align: right;\n",
       "    }\n",
       "</style>\n",
       "<table border=\"1\" class=\"dataframe\">\n",
       "  <thead>\n",
       "    <tr style=\"text-align: right;\">\n",
       "      <th></th>\n",
       "      <th>age</th>\n",
       "      <th>job</th>\n",
       "      <th>marital</th>\n",
       "      <th>education</th>\n",
       "      <th>default</th>\n",
       "      <th>balance</th>\n",
       "      <th>housing</th>\n",
       "      <th>loan</th>\n",
       "      <th>contact</th>\n",
       "      <th>day</th>\n",
       "      <th>month</th>\n",
       "      <th>duration</th>\n",
       "      <th>campaign</th>\n",
       "    </tr>\n",
       "  </thead>\n",
       "  <tbody>\n",
       "    <tr>\n",
       "      <th>0</th>\n",
       "      <td>58</td>\n",
       "      <td>management</td>\n",
       "      <td>married</td>\n",
       "      <td>tertiary</td>\n",
       "      <td>no</td>\n",
       "      <td>2143</td>\n",
       "      <td>yes</td>\n",
       "      <td>no</td>\n",
       "      <td>unknown</td>\n",
       "      <td>5</td>\n",
       "      <td>may</td>\n",
       "      <td>261</td>\n",
       "      <td>1</td>\n",
       "    </tr>\n",
       "    <tr>\n",
       "      <th>1</th>\n",
       "      <td>44</td>\n",
       "      <td>technician</td>\n",
       "      <td>single</td>\n",
       "      <td>secondary</td>\n",
       "      <td>no</td>\n",
       "      <td>29</td>\n",
       "      <td>yes</td>\n",
       "      <td>no</td>\n",
       "      <td>unknown</td>\n",
       "      <td>5</td>\n",
       "      <td>may</td>\n",
       "      <td>151</td>\n",
       "      <td>1</td>\n",
       "    </tr>\n",
       "    <tr>\n",
       "      <th>2</th>\n",
       "      <td>33</td>\n",
       "      <td>entrepreneur</td>\n",
       "      <td>married</td>\n",
       "      <td>secondary</td>\n",
       "      <td>no</td>\n",
       "      <td>2</td>\n",
       "      <td>yes</td>\n",
       "      <td>yes</td>\n",
       "      <td>unknown</td>\n",
       "      <td>5</td>\n",
       "      <td>may</td>\n",
       "      <td>76</td>\n",
       "      <td>1</td>\n",
       "    </tr>\n",
       "  </tbody>\n",
       "</table>\n",
       "</div>"
      ],
      "text/plain": [
       "   age           job  marital  education default  balance housing loan  \\\n",
       "0   58    management  married   tertiary      no     2143     yes   no   \n",
       "1   44    technician   single  secondary      no       29     yes   no   \n",
       "2   33  entrepreneur  married  secondary      no        2     yes  yes   \n",
       "\n",
       "   contact  day month  duration  campaign  \n",
       "0  unknown    5   may       261         1  \n",
       "1  unknown    5   may       151         1  \n",
       "2  unknown    5   may        76         1  "
      ]
     },
     "execution_count": 163,
     "metadata": {},
     "output_type": "execute_result"
    }
   ],
   "source": [
    "X_2.head(3)"
   ]
  },
  {
   "cell_type": "code",
   "execution_count": null,
   "id": "2fd8e54d-96b8-4147-8466-05672f971530",
   "metadata": {
    "id": "f3cc3a79",
    "outputId": "33cf4219-4f65-4883-dcad-dece07859c3a",
    "scrolled": true
   },
   "outputs": [
    {
     "name": "stdout",
     "output_type": "stream",
     "text": [
      "Categorical and continuous features detected\n",
      "Preprocessor created\n",
      "categorical_features: ['job', 'marital', 'education', 'default', 'housing', 'loan', 'contact', 'month']\n",
      "continuous_features: ['age', 'balance', 'day', 'duration', 'campaign']\n",
      "Training and testing splits created\n",
      "AutoSklearnClassifier and pipeline created\n",
      "\n",
      "Training the pipeline... (This may take up to 60 minutes)\n",
      "\n",
      "\n"
     ]
    }
   ],
   "source": [
    "splits_2,pipeline_2,results_2=\\\n",
    "run_autosklearn_pipeline(X=X_2,\n",
    "                         y=y,\n",
    "                         seed=seed,\n",
    "                         verbose=True,\n",
    "                         test_size=test_size,\n",
    "                         save_location='../joblib/',\n",
    "                         filename='2_pipeline_20240821_layer2',\n",
    "                         time_for_task=3600)"
   ]
  },
  {
   "cell_type": "code",
   "execution_count": null,
   "id": "bc137d2f-d07a-4f0f-b6cf-7740598df380",
   "metadata": {
    "id": "1732dd7c",
    "outputId": "dd57d4d1-4676-419f-f700-b2dd99bef5a3"
   },
   "outputs": [
    {
     "data": {
      "text/plain": [
       "random_forest          23\n",
       "mlp                     5\n",
       "liblinear_svc           3\n",
       "k_nearest_neighbors     2\n",
       "extra_trees             2\n",
       "passive_aggressive      1\n",
       "gaussian_nb             1\n",
       "bernoulli_nb            1\n",
       "Name: param_classifier:__choice__, dtype: int64"
      ]
     },
     "execution_count": 71,
     "metadata": {},
     "output_type": "execute_result"
    }
   ],
   "source": [
    "results_2=returnTopModels('../joblib/2_pipeline_20240821_layer2')\n",
    "results_2"
   ]
  },
  {
   "cell_type": "code",
   "execution_count": null,
   "id": "f075698f-3f27-402f-a5ea-f4d5719b41b0",
   "metadata": {
    "id": "90a1395c"
   },
   "outputs": [],
   "source": [
    "pipeline_2=joblib.load('../joblib/2_pipeline_20240821_layer2')\n",
    "splits_2=joblib.load('../joblib/2_pipeline_20240821_layer2_splits')"
   ]
  },
  {
   "cell_type": "code",
   "execution_count": null,
   "id": "868d2e36-1e53-485a-94c5-5eeab826be8e",
   "metadata": {
    "id": "d20e470c",
    "outputId": "ac45b856-b6b2-42e8-bd5c-01242314d254"
   },
   "outputs": [
    {
     "name": "stdout",
     "output_type": "stream",
     "text": [
      "AutoSklearn accuracy:\n",
      "93.77%\n"
     ]
    }
   ],
   "source": [
    "X_2_test=splits_2['X_test']\n",
    "y_2_test=splits_2['y_test']\n",
    "\n",
    "y_2_pred,accuracy_2=evaluateModel(X_2_test,y_2_test,pipeline_2,verbose=True)"
   ]
  },
  {
   "cell_type": "code",
   "execution_count": null,
   "id": "13074c56-5165-4833-8fab-2fc3e9f74839",
   "metadata": {
    "id": "7902197f",
    "outputId": "12054d76-cb6a-4666-fd98-b032d84113c9"
   },
   "outputs": [
    {
     "data": {
      "image/png": "[encoded data removed]",
      "text/plain": [
       "<Figure size 640x480 with 2 Axes>"
      ]
     },
     "metadata": {},
     "output_type": "display_data"
    }
   ],
   "source": [
    "# view confusion matrix\n",
    "# the F1-score doesn't show but that's ok\n",
    "cf_matrix_2=confusion_matrix(y_2_test,y_2_pred)\n",
    "labels=['True Neg','False Pos','False Neg','True Pos']\n",
    "make_confusion_matrix(cf=cf_matrix_2,\n",
    "                      group_names=labels,\n",
    "                      cmap='coolwarm')"
   ]
  },
  {
   "cell_type": "code",
   "execution_count": null,
   "id": "d2fed3fb-dda4-46f3-befd-3acc4d66d532",
   "metadata": {
    "id": "2946eb0e",
    "outputId": "34a2ccd0-7e00-4f1b-e12b-07e1a052addd"
   },
   "outputs": [
    {
     "name": "stdout",
     "output_type": "stream",
     "text": [
      "              precision    recall  f1-score   support\n",
      "\n",
      "          no       0.95      0.98      0.97      7421\n",
      "         yes       0.62      0.35      0.45       579\n",
      "\n",
      "    accuracy                           0.94      8000\n",
      "   macro avg       0.79      0.67      0.71      8000\n",
      "weighted avg       0.93      0.94      0.93      8000\n",
      "\n"
     ]
    }
   ],
   "source": [
    "# view F1-score\n",
    "creport=classification_report(y_test,y_2_pred)\n",
    "print(creport)"
   ]
  },
  {
   "cell_type": "markdown",
   "id": "5412fc74-84c6-4d6a-881a-8998882771ac",
   "metadata": {
    "id": "4988a70f"
   },
   "source": [
    "This is also a great result."
   ]
  },
  {
   "cell_type": "code",
   "execution_count": null,
   "id": "a9337a5e-13b0-41a6-a28a-6efcca46c992",
   "metadata": {},
   "outputs": [],
   "source": []
  }
 ],
 "metadata": {
  "kernelspec": {
   "display_name": "apziva",
   "language": "python",
   "name": "apziva"
  },
  "language_info": {
   "codemirror_mode": {
    "name": "ipython",
    "version": 3
   },
   "file_extension": ".py",
   "mimetype": "text/x-python",
   "name": "python",
   "nbconvert_exporter": "python",
   "pygments_lexer": "ipython3",
   "version": "3.9.20"
  }
 },
 "nbformat": 4,
 "nbformat_minor": 5
}
