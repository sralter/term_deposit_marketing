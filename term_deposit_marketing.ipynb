{
 "cells": [
  {
   "cell_type": "markdown",
   "id": "5227e004-7c3d-4d64-824d-36df80facdbf",
   "metadata": {},
   "source": [
    "# Term Deposit Marketing - An Apziva Project"
   ]
  },
  {
   "cell_type": "markdown",
   "id": "13caaf73-d640-4bae-8ee1-f8b07ff73ed1",
   "metadata": {},
   "source": [
    "By Samuel Alter"
   ]
  },
  {
   "cell_type": "markdown",
   "id": "dcc1066f-6628-43fc-abdb-fee10e55e68a",
   "metadata": {},
   "source": [
    "Apziva: G3SuQYZYrFt9dwF3"
   ]
  },
  {
   "cell_type": "markdown",
   "id": "9623536a-e44e-4fda-8dc5-0e5ed6282c62",
   "metadata": {},
   "source": [
    "## Project Overview"
   ]
  },
  {
   "cell_type": "markdown",
   "id": "f561d828-da7d-49a6-a990-be0ab899e90f",
   "metadata": {},
   "source": [
    "Using phone call data from a European bank, this project will be building models that predict if a customer will subscribe to a term deposit, a type of financial product. This project is a partnership with a startup focused on providing ML solutions for European banks.\n",
    "\n",
    "The dataset consists of the following columns:\n",
    "* `age`\n",
    "  * Numeric\n",
    "  * The age of the customer\n",
    "* `job`\n",
    "  * Categorical\n",
    "  * The job category of the customer\n",
    "* `marital`\n",
    "  * Categorical\n",
    "  * Whether the customer is married\n",
    "* `education`\n",
    "  * Categorical\n",
    "  * The customer's level of education\n",
    "* `default`\n",
    "  * Binary\n",
    "  * If the customer has credit in default or not\n",
    "* `balance`\n",
    "  * Numeric\n",
    "  * Average yearly balance in Euros\n",
    "* `housing`\n",
    "  * Binary\n",
    "  * If the customer has a housing loan or not\n",
    "* `loan`\n",
    "  * Binary\n",
    "  * If the customer has a personal loan\n",
    "* `contact`\n",
    "  * Categorical\n",
    "  * The type of contact communication\n",
    "* `day`\n",
    "  * Numeric\n",
    "  * Last contact day of the month\n",
    "* `month`\n",
    "  * Categorical\n",
    "  * Last contact month of the year\n",
    "* `duration`\n",
    "  * Numeric\n",
    "  * Duration of the last phone call with the customer\n",
    "* `campaign`\n",
    "  * Numeric\n",
    "  * The number of contacts performed during this campaign and for this client, which includes the last contact"
   ]
  },
  {
   "cell_type": "markdown",
   "id": "866a70ee-45dd-402c-b132-593a220dabec",
   "metadata": {},
   "source": [
    "The final column, `y`, is the target of the dataset and shows whether the client subscribed to a term deposit."
   ]
  },
  {
   "cell_type": "markdown",
   "id": "b3b5941d-ac98-4f65-ad63-dd956b02c752",
   "metadata": {},
   "source": [
    "The startup is hoping that I can achieve at least an 81% accuracy using a 5-fold cross validation strategy, taking the average performance score.\n",
    "\n",
    "Bonus goals include:\n",
    "* Determining which customers are most likely to buy the term deposit loan\n",
    "  * Which segments of customers should the client prioritize?\n",
    "* Determine what makes the customer buy the loan\n",
    "  * Which feature should the startup focus on?"
   ]
  },
  {
   "cell_type": "markdown",
   "id": "4f15887c-7c0d-4e8a-a6ac-8b1245917fe1",
   "metadata": {},
   "source": [
    "## Table of Contents"
   ]
  },
  {
   "cell_type": "markdown",
   "id": "d98d80d5-bba0-4c15-872b-a71026f545a4",
   "metadata": {},
   "source": [
    "1. [EDA](#eda)\n",
    " * [Non-visual data analysis](#neda) of the data: check `dtype`, look at broad trends in data\n",
    " * [Visualization](#viz) of the data\n",
    "   * [Fig. 1: Boxplot](#fig1)"
   ]
  },
  {
   "cell_type": "markdown",
   "id": "76590fed-93ce-44de-bc02-ad395a92a8ad",
   "metadata": {},
   "source": [
    "## EDA <a name='eda'></a>"
   ]
  },
  {
   "cell_type": "code",
   "execution_count": 53,
   "id": "97ae026f-cfe2-4eac-8a7b-95bacfafeff6",
   "metadata": {},
   "outputs": [],
   "source": [
    "# necessary imports\n",
    "import numpy as np\n",
    "import pandas as pd\n",
    "import matplotlib.pyplot as plt\n",
    "import seaborn as sns"
   ]
  },
  {
   "cell_type": "markdown",
   "id": "f41ed000-fd7a-4eea-beb2-47dfd641e158",
   "metadata": {},
   "source": [
    "### Non-visual data analysis <a name='neda'></a>"
   ]
  },
  {
   "cell_type": "code",
   "execution_count": 54,
   "id": "a44e2a9a-5663-41f3-a4a6-3a5da75e8a70",
   "metadata": {},
   "outputs": [
    {
     "data": {
      "text/html": [
       "<div>\n",
       "<style scoped>\n",
       "    .dataframe tbody tr th:only-of-type {\n",
       "        vertical-align: middle;\n",
       "    }\n",
       "\n",
       "    .dataframe tbody tr th {\n",
       "        vertical-align: top;\n",
       "    }\n",
       "\n",
       "    .dataframe thead th {\n",
       "        text-align: right;\n",
       "    }\n",
       "</style>\n",
       "<table border=\"1\" class=\"dataframe\">\n",
       "  <thead>\n",
       "    <tr style=\"text-align: right;\">\n",
       "      <th></th>\n",
       "      <th>age</th>\n",
       "      <th>job</th>\n",
       "      <th>marital</th>\n",
       "      <th>education</th>\n",
       "      <th>default</th>\n",
       "      <th>balance</th>\n",
       "      <th>housing</th>\n",
       "      <th>loan</th>\n",
       "      <th>contact</th>\n",
       "      <th>day</th>\n",
       "      <th>month</th>\n",
       "      <th>duration</th>\n",
       "      <th>campaign</th>\n",
       "      <th>y</th>\n",
       "    </tr>\n",
       "  </thead>\n",
       "  <tbody>\n",
       "    <tr>\n",
       "      <th>0</th>\n",
       "      <td>58</td>\n",
       "      <td>management</td>\n",
       "      <td>married</td>\n",
       "      <td>tertiary</td>\n",
       "      <td>no</td>\n",
       "      <td>2143</td>\n",
       "      <td>yes</td>\n",
       "      <td>no</td>\n",
       "      <td>unknown</td>\n",
       "      <td>5</td>\n",
       "      <td>may</td>\n",
       "      <td>261</td>\n",
       "      <td>1</td>\n",
       "      <td>no</td>\n",
       "    </tr>\n",
       "    <tr>\n",
       "      <th>1</th>\n",
       "      <td>44</td>\n",
       "      <td>technician</td>\n",
       "      <td>single</td>\n",
       "      <td>secondary</td>\n",
       "      <td>no</td>\n",
       "      <td>29</td>\n",
       "      <td>yes</td>\n",
       "      <td>no</td>\n",
       "      <td>unknown</td>\n",
       "      <td>5</td>\n",
       "      <td>may</td>\n",
       "      <td>151</td>\n",
       "      <td>1</td>\n",
       "      <td>no</td>\n",
       "    </tr>\n",
       "    <tr>\n",
       "      <th>2</th>\n",
       "      <td>33</td>\n",
       "      <td>entrepreneur</td>\n",
       "      <td>married</td>\n",
       "      <td>secondary</td>\n",
       "      <td>no</td>\n",
       "      <td>2</td>\n",
       "      <td>yes</td>\n",
       "      <td>yes</td>\n",
       "      <td>unknown</td>\n",
       "      <td>5</td>\n",
       "      <td>may</td>\n",
       "      <td>76</td>\n",
       "      <td>1</td>\n",
       "      <td>no</td>\n",
       "    </tr>\n",
       "  </tbody>\n",
       "</table>\n",
       "</div>"
      ],
      "text/plain": [
       "   age           job  marital  education default  balance housing loan  \\\n",
       "0   58    management  married   tertiary      no     2143     yes   no   \n",
       "1   44    technician   single  secondary      no       29     yes   no   \n",
       "2   33  entrepreneur  married  secondary      no        2     yes  yes   \n",
       "\n",
       "   contact  day month  duration  campaign   y  \n",
       "0  unknown    5   may       261         1  no  \n",
       "1  unknown    5   may       151         1  no  \n",
       "2  unknown    5   may        76         1  no  "
      ]
     },
     "execution_count": 54,
     "metadata": {},
     "output_type": "execute_result"
    }
   ],
   "source": [
    "# read in data\n",
    "df=pd.read_csv('../data/2_data.csv')\n",
    "df.head(3)"
   ]
  },
  {
   "cell_type": "code",
   "execution_count": 55,
   "id": "19d504d8-387b-48ad-b38c-cd9643008132",
   "metadata": {},
   "outputs": [
    {
     "name": "stdout",
     "output_type": "stream",
     "text": [
      "There are 40000 rows and 14 columns in the dataset\n"
     ]
    }
   ],
   "source": [
    "print(f\"There are {df.shape[0]} rows and {df.shape[1]} columns in the dataset\")"
   ]
  },
  {
   "cell_type": "code",
   "execution_count": 56,
   "id": "a83dedcb-3dc4-42f4-82b7-6d2daccc6e16",
   "metadata": {},
   "outputs": [
    {
     "name": "stdout",
     "output_type": "stream",
     "text": [
      "<class 'pandas.core.frame.DataFrame'>\n",
      "RangeIndex: 40000 entries, 0 to 39999\n",
      "Data columns (total 14 columns):\n",
      " #   Column     Non-Null Count  Dtype \n",
      "---  ------     --------------  ----- \n",
      " 0   age        40000 non-null  int64 \n",
      " 1   job        40000 non-null  object\n",
      " 2   marital    40000 non-null  object\n",
      " 3   education  40000 non-null  object\n",
      " 4   default    40000 non-null  object\n",
      " 5   balance    40000 non-null  int64 \n",
      " 6   housing    40000 non-null  object\n",
      " 7   loan       40000 non-null  object\n",
      " 8   contact    40000 non-null  object\n",
      " 9   day        40000 non-null  int64 \n",
      " 10  month      40000 non-null  object\n",
      " 11  duration   40000 non-null  int64 \n",
      " 12  campaign   40000 non-null  int64 \n",
      " 13  y          40000 non-null  object\n",
      "dtypes: int64(5), object(9)\n",
      "memory usage: 4.3+ MB\n"
     ]
    }
   ],
   "source": [
    "df.info()"
   ]
  },
  {
   "cell_type": "markdown",
   "id": "1564bfb5-45dd-4033-b764-8f501f328b08",
   "metadata": {},
   "source": [
    "There are no nulls in the dataset, which makes our lives easier."
   ]
  },
  {
   "cell_type": "code",
   "execution_count": 57,
   "id": "a9356447-d016-4849-9e8c-3de5ad279bec",
   "metadata": {},
   "outputs": [
    {
     "data": {
      "text/html": [
       "<div>\n",
       "<style scoped>\n",
       "    .dataframe tbody tr th:only-of-type {\n",
       "        vertical-align: middle;\n",
       "    }\n",
       "\n",
       "    .dataframe tbody tr th {\n",
       "        vertical-align: top;\n",
       "    }\n",
       "\n",
       "    .dataframe thead th {\n",
       "        text-align: right;\n",
       "    }\n",
       "</style>\n",
       "<table border=\"1\" class=\"dataframe\">\n",
       "  <thead>\n",
       "    <tr style=\"text-align: right;\">\n",
       "      <th></th>\n",
       "      <th>age</th>\n",
       "      <th>balance</th>\n",
       "      <th>day</th>\n",
       "      <th>duration</th>\n",
       "      <th>campaign</th>\n",
       "    </tr>\n",
       "  </thead>\n",
       "  <tbody>\n",
       "    <tr>\n",
       "      <th>count</th>\n",
       "      <td>40000.000000</td>\n",
       "      <td>40000.000000</td>\n",
       "      <td>40000.000000</td>\n",
       "      <td>40000.000000</td>\n",
       "      <td>40000.000000</td>\n",
       "    </tr>\n",
       "    <tr>\n",
       "      <th>mean</th>\n",
       "      <td>40.544600</td>\n",
       "      <td>1274.277550</td>\n",
       "      <td>16.017225</td>\n",
       "      <td>254.824300</td>\n",
       "      <td>2.882175</td>\n",
       "    </tr>\n",
       "    <tr>\n",
       "      <th>std</th>\n",
       "      <td>9.641776</td>\n",
       "      <td>2903.769716</td>\n",
       "      <td>8.278127</td>\n",
       "      <td>259.366498</td>\n",
       "      <td>3.239051</td>\n",
       "    </tr>\n",
       "    <tr>\n",
       "      <th>min</th>\n",
       "      <td>19.000000</td>\n",
       "      <td>-8019.000000</td>\n",
       "      <td>1.000000</td>\n",
       "      <td>0.000000</td>\n",
       "      <td>1.000000</td>\n",
       "    </tr>\n",
       "    <tr>\n",
       "      <th>25%</th>\n",
       "      <td>33.000000</td>\n",
       "      <td>54.000000</td>\n",
       "      <td>8.000000</td>\n",
       "      <td>100.000000</td>\n",
       "      <td>1.000000</td>\n",
       "    </tr>\n",
       "    <tr>\n",
       "      <th>50%</th>\n",
       "      <td>39.000000</td>\n",
       "      <td>407.000000</td>\n",
       "      <td>17.000000</td>\n",
       "      <td>175.000000</td>\n",
       "      <td>2.000000</td>\n",
       "    </tr>\n",
       "    <tr>\n",
       "      <th>75%</th>\n",
       "      <td>48.000000</td>\n",
       "      <td>1319.000000</td>\n",
       "      <td>21.000000</td>\n",
       "      <td>313.000000</td>\n",
       "      <td>3.000000</td>\n",
       "    </tr>\n",
       "    <tr>\n",
       "      <th>max</th>\n",
       "      <td>95.000000</td>\n",
       "      <td>102127.000000</td>\n",
       "      <td>31.000000</td>\n",
       "      <td>4918.000000</td>\n",
       "      <td>63.000000</td>\n",
       "    </tr>\n",
       "  </tbody>\n",
       "</table>\n",
       "</div>"
      ],
      "text/plain": [
       "                age        balance           day      duration      campaign\n",
       "count  40000.000000   40000.000000  40000.000000  40000.000000  40000.000000\n",
       "mean      40.544600    1274.277550     16.017225    254.824300      2.882175\n",
       "std        9.641776    2903.769716      8.278127    259.366498      3.239051\n",
       "min       19.000000   -8019.000000      1.000000      0.000000      1.000000\n",
       "25%       33.000000      54.000000      8.000000    100.000000      1.000000\n",
       "50%       39.000000     407.000000     17.000000    175.000000      2.000000\n",
       "75%       48.000000    1319.000000     21.000000    313.000000      3.000000\n",
       "max       95.000000  102127.000000     31.000000   4918.000000     63.000000"
      ]
     },
     "execution_count": 57,
     "metadata": {},
     "output_type": "execute_result"
    }
   ],
   "source": [
    "df.describe()"
   ]
  },
  {
   "cell_type": "markdown",
   "id": "597a3834-46d1-4b26-8066-ab68d3117545",
   "metadata": {},
   "source": [
    "We can glean the following insights from this table:\n",
    "* The mean values for the `age`, `day`, and `campaign` columns are about equal to the 50th percentile\n",
    "  * The distribution of the data may be symmetric\n",
    "* The max value in each column besides `age` and `day` is much larger than the column's 75th percentile\n",
    "  * This suggests there could be outliers\n",
    "  * `age` and `day` are more or less categorical, so it makes sense that the max age is 95 and max day is 31"
   ]
  },
  {
   "cell_type": "code",
   "execution_count": 58,
   "id": "2ad59952-9dcc-47c9-9f1f-d6ec727b0eea",
   "metadata": {},
   "outputs": [
    {
     "data": {
      "text/plain": [
       "{'age': 70,\n",
       " 'job': 12,\n",
       " 'marital': 3,\n",
       " 'education': 4,\n",
       " 'default': 2,\n",
       " 'balance': 6849,\n",
       " 'housing': 2,\n",
       " 'loan': 2,\n",
       " 'contact': 3,\n",
       " 'day': 31,\n",
       " 'month': 11,\n",
       " 'duration': 1535,\n",
       " 'campaign': 48,\n",
       " 'y': 2}"
      ]
     },
     "execution_count": 58,
     "metadata": {},
     "output_type": "execute_result"
    }
   ],
   "source": [
    "# create dictionary of unique values\n",
    "dict_unique={col:df[col].nunique() for col in df.columns}\n",
    "\n",
    "# this is a little unwieldy \n",
    "# but it will give us a sense of \n",
    "# HOW MANY unique values there are\n",
    "dict_unique"
   ]
  },
  {
   "cell_type": "markdown",
   "id": "4acad808-277a-467f-a454-270c8b24b3ae",
   "metadata": {},
   "source": [
    "We can tell which columns are categorical.\n",
    "* 12 kinds of jobs\n",
    "* 4 education levels"
   ]
  },
  {
   "cell_type": "code",
   "execution_count": 59,
   "id": "d086f5f9-4c66-47cc-b330-dde788394461",
   "metadata": {},
   "outputs": [
    {
     "data": {
      "text/plain": [
       "{'age': array([58, 44, 33, 47, 35, 28, 42, 43, 41, 29, 53, 57, 51, 45, 60, 56, 32,\n",
       "        25, 40, 39, 52, 46, 36, 49, 59, 37, 50, 54, 55, 48, 24, 38, 31, 30,\n",
       "        27, 34, 23, 26, 61, 22, 21, 20, 66, 62, 83, 75, 67, 70, 65, 68, 64,\n",
       "        69, 72, 71, 19, 76, 85, 63, 90, 82, 73, 74, 78, 80, 94, 79, 77, 86,\n",
       "        95, 81]),\n",
       " 'job': array(['management', 'technician', 'entrepreneur', 'blue-collar',\n",
       "        'unknown', 'retired', 'admin', 'services', 'self-employed',\n",
       "        'unemployed', 'housemaid', 'student'], dtype=object),\n",
       " 'marital': array(['married', 'single', 'divorced'], dtype=object),\n",
       " 'education': array(['tertiary', 'secondary', 'unknown', 'primary'], dtype=object),\n",
       " 'default': array(['no', 'yes'], dtype=object),\n",
       " 'balance': array([  2143,     29,      2, ...,   7222,   3402, 102127]),\n",
       " 'housing': array(['yes', 'no'], dtype=object),\n",
       " 'loan': array(['no', 'yes'], dtype=object),\n",
       " 'contact': array(['unknown', 'cellular', 'telephone'], dtype=object),\n",
       " 'day': array([ 5,  6,  7,  8,  9, 12, 13, 14, 15, 16, 19, 20, 21, 23, 26, 27, 28,\n",
       "        29, 30,  2,  3,  4, 11, 17, 18, 24, 25,  1, 10, 22, 31]),\n",
       " 'month': array(['may', 'jun', 'jul', 'aug', 'oct', 'nov', 'dec', 'jan', 'feb',\n",
       "        'mar', 'apr'], dtype=object),\n",
       " 'duration': array([ 261,  151,   76, ..., 1880, 1460, 2219]),\n",
       " 'campaign': array([ 1,  2,  3,  5,  4,  6,  7,  8,  9, 10, 11, 12, 13, 19, 14, 24, 16,\n",
       "        32, 18, 22, 15, 17, 25, 21, 43, 51, 63, 41, 26, 28, 55, 50, 38, 23,\n",
       "        20, 29, 31, 37, 30, 46, 27, 58, 33, 35, 34, 36, 39, 44]),\n",
       " 'y': array(['no', 'yes'], dtype=object)}"
      ]
     },
     "execution_count": 59,
     "metadata": {},
     "output_type": "execute_result"
    }
   ],
   "source": [
    "# create dictionary of unique values\n",
    "dict_nunique={col:df[col].unique() for col in df.columns}\n",
    "\n",
    "# this is a little unwieldy \n",
    "# but it will give us a sense of \n",
    "# what the unique values are\n",
    "dict_nunique"
   ]
  },
  {
   "cell_type": "markdown",
   "id": "07c5c4f4-97ea-4763-a7d0-c196783eef0b",
   "metadata": {},
   "source": [
    "Nothing too surprising jumps out at us here, so we'll need to use more powerful methods and do some visualization to understand the dataset."
   ]
  },
  {
   "cell_type": "markdown",
   "id": "d9473f62-b437-4ccd-a13a-6dc1c53cb606",
   "metadata": {},
   "source": [
    "### Visualization <a name='viz'></a>"
   ]
  },
  {
   "cell_type": "code",
   "execution_count": 68,
   "id": "d4ae76f5-93f0-460f-b07c-2f8dc5eed994",
   "metadata": {},
   "outputs": [],
   "source": [
    "X=df[[col for col in df.columns if col != 'y']]\n",
    "y=df['y']"
   ]
  },
  {
   "cell_type": "markdown",
   "id": "6bd34308-3f68-4981-be99-a8b7fd88cbaf",
   "metadata": {},
   "source": [
    "#### Figure 1: Boxplot of the dataset <a name='fig1'></a>"
   ]
  },
  {
   "cell_type": "code",
   "execution_count": 72,
   "id": "286116ae-7723-4700-9f44-85d0a4d207eb",
   "metadata": {},
   "outputs": [
    {
     "data": {
      "text/plain": [
       "['age',\n",
       " 'job',\n",
       " 'marital',\n",
       " 'education',\n",
       " 'default',\n",
       " 'balance',\n",
       " 'housing',\n",
       " 'loan',\n",
       " 'contact',\n",
       " 'day',\n",
       " 'month',\n",
       " 'duration',\n",
       " 'campaign']"
      ]
     },
     "execution_count": 72,
     "metadata": {},
     "output_type": "execute_result"
    }
   ],
   "source": [
    "X_cols=[col for col in df.columns if col != 'y']\n",
    "X_cols"
   ]
  },
  {
   "cell_type": "code",
   "execution_count": 78,
   "id": "e117b187-f55c-445f-8d3b-9b182e4c4a63",
   "metadata": {},
   "outputs": [],
   "source": [
    "numeric_columns=['balance','duration','campaign','y']\n",
    "\n",
    "df_num=df[[col for col in df.columns if col in numeric_columns]]\n",
    "\n",
    "# melt df to long format\n",
    "df_melted = df_num.melt(id_vars='y',\n",
    "                        value_vars=df_num.columns,\n",
    "                        var_name='Variable',\n",
    "                        value_name='Value')"
   ]
  },
  {
   "cell_type": "code",
   "execution_count": 97,
   "id": "d20ac773-b7e2-46ab-867f-d09bd9dc78ce",
   "metadata": {},
   "outputs": [
    {
     "data": {
      "image/png": "[encoded data removed]",
      "text/plain": [
       "<Figure size 840x400 with 3 Axes>"
      ]
     },
     "metadata": {},
     "output_type": "display_data"
    }
   ],
   "source": [
    "# Create a FacetGrid for separate y-axes\n",
    "g = sns.catplot(\n",
    "    x='y', \n",
    "    y='Value', \n",
    "    col='Variable', \n",
    "    data=df_melted, \n",
    "    kind='box',\n",
    "    height=4, \n",
    "    aspect=0.7,\n",
    "    sharey=False\n",
    ")\n",
    "\n",
    "# Customize the plot\n",
    "g.set_titles(\"{col_name}\")\n",
    "g.set_axis_labels(\"y\", \"Value\")\n",
    "g.fig.suptitle('Boxplots of Numerical Variables', y=1.03)\n",
    "\n",
    "# Show the plot\n",
    "plt.show()"
   ]
  },
  {
   "cell_type": "code",
   "execution_count": 98,
   "id": "a8010c92-8733-48c5-be09-2023d9f58fac",
   "metadata": {},
   "outputs": [
    {
     "name": "stderr",
     "output_type": "stream",
     "text": [
      "/Applications/Anaconda/anaconda3/envs/apziva/lib/python3.12/site-packages/seaborn/_oldcore.py:1119: FutureWarning: use_inf_as_na option is deprecated and will be removed in a future version. Convert inf values to NaN before operating instead.\n",
      "  with pd.option_context('mode.use_inf_as_na', True):\n",
      "/Applications/Anaconda/anaconda3/envs/apziva/lib/python3.12/site-packages/seaborn/_oldcore.py:1119: FutureWarning: use_inf_as_na option is deprecated and will be removed in a future version. Convert inf values to NaN before operating instead.\n",
      "  with pd.option_context('mode.use_inf_as_na', True):\n",
      "/Applications/Anaconda/anaconda3/envs/apziva/lib/python3.12/site-packages/seaborn/_oldcore.py:1119: FutureWarning: use_inf_as_na option is deprecated and will be removed in a future version. Convert inf values to NaN before operating instead.\n",
      "  with pd.option_context('mode.use_inf_as_na', True):\n"
     ]
    },
    {
     "data": {
      "image/png": "[encoded data removed]",
      "text/plain": [
       "<Figure size 840x400 with 3 Axes>"
      ]
     },
     "metadata": {},
     "output_type": "display_data"
    }
   ],
   "source": [
    "# Ensure 'y' is treated as a categorical variable for plotting purposes\n",
    "df_melted['y'] = df_melted['y'].astype(str)\n",
    "\n",
    "# Create a FacetGrid for separate y-axes\n",
    "g = sns.FacetGrid(df_melted, col='Variable', sharey=False, height=4, aspect=0.7)\n",
    "\n",
    "# Map the histogram plot to each facet\n",
    "g.map(sns.histplot, 'Value', kde=False, bins=10)\n",
    "\n",
    "# Customize the plot\n",
    "g.set_titles(\"{col_name}\")\n",
    "g.set_axis_labels(\"Value\", \"Frequency\")\n",
    "g.fig.suptitle('Histograms of Variables with Separate Y-Axes', y=1.03)\n",
    "\n",
    "# Show the plot\n",
    "plt.show()"
   ]
  },
  {
   "cell_type": "code",
   "execution_count": 85,
   "id": "f0d4a708-bff3-41b2-b23d-ef5e6c4f1915",
   "metadata": {},
   "outputs": [
    {
     "ename": "ValueError",
     "evalue": "could not convert string to float: 'management'",
     "output_type": "error",
     "traceback": [
      "\u001b[0;31m---------------------------------------------------------------------------\u001b[0m",
      "\u001b[0;31mValueError\u001b[0m                                Traceback (most recent call last)",
      "Cell \u001b[0;32mIn[85], line 2\u001b[0m\n\u001b[1;32m      1\u001b[0m \u001b[38;5;66;03m# compute correlation matrix\u001b[39;00m\n\u001b[0;32m----> 2\u001b[0m corr\u001b[38;5;241m=\u001b[39m\u001b[43mdf\u001b[49m\u001b[38;5;241;43m.\u001b[39;49m\u001b[43mcorr\u001b[49m\u001b[43m(\u001b[49m\u001b[43m)\u001b[49m\n\u001b[1;32m      4\u001b[0m \u001b[38;5;66;03m# generate mask for the upper triangle\u001b[39;00m\n\u001b[1;32m      5\u001b[0m mask\u001b[38;5;241m=\u001b[39mnp\u001b[38;5;241m.\u001b[39mtriu(np\u001b[38;5;241m.\u001b[39mones_like(corr, dtype\u001b[38;5;241m=\u001b[39m\u001b[38;5;28mbool\u001b[39m))\n",
      "File \u001b[0;32m/Applications/Anaconda/anaconda3/envs/apziva/lib/python3.12/site-packages/pandas/core/frame.py:11036\u001b[0m, in \u001b[0;36mDataFrame.corr\u001b[0;34m(self, method, min_periods, numeric_only)\u001b[0m\n\u001b[1;32m  11034\u001b[0m cols \u001b[38;5;241m=\u001b[39m data\u001b[38;5;241m.\u001b[39mcolumns\n\u001b[1;32m  11035\u001b[0m idx \u001b[38;5;241m=\u001b[39m cols\u001b[38;5;241m.\u001b[39mcopy()\n\u001b[0;32m> 11036\u001b[0m mat \u001b[38;5;241m=\u001b[39m \u001b[43mdata\u001b[49m\u001b[38;5;241;43m.\u001b[39;49m\u001b[43mto_numpy\u001b[49m\u001b[43m(\u001b[49m\u001b[43mdtype\u001b[49m\u001b[38;5;241;43m=\u001b[39;49m\u001b[38;5;28;43mfloat\u001b[39;49m\u001b[43m,\u001b[49m\u001b[43m \u001b[49m\u001b[43mna_value\u001b[49m\u001b[38;5;241;43m=\u001b[39;49m\u001b[43mnp\u001b[49m\u001b[38;5;241;43m.\u001b[39;49m\u001b[43mnan\u001b[49m\u001b[43m,\u001b[49m\u001b[43m \u001b[49m\u001b[43mcopy\u001b[49m\u001b[38;5;241;43m=\u001b[39;49m\u001b[38;5;28;43;01mFalse\u001b[39;49;00m\u001b[43m)\u001b[49m\n\u001b[1;32m  11038\u001b[0m \u001b[38;5;28;01mif\u001b[39;00m method \u001b[38;5;241m==\u001b[39m \u001b[38;5;124m\"\u001b[39m\u001b[38;5;124mpearson\u001b[39m\u001b[38;5;124m\"\u001b[39m:\n\u001b[1;32m  11039\u001b[0m     correl \u001b[38;5;241m=\u001b[39m libalgos\u001b[38;5;241m.\u001b[39mnancorr(mat, minp\u001b[38;5;241m=\u001b[39mmin_periods)\n",
      "File \u001b[0;32m/Applications/Anaconda/anaconda3/envs/apziva/lib/python3.12/site-packages/pandas/core/frame.py:1981\u001b[0m, in \u001b[0;36mDataFrame.to_numpy\u001b[0;34m(self, dtype, copy, na_value)\u001b[0m\n\u001b[1;32m   1979\u001b[0m \u001b[38;5;28;01mif\u001b[39;00m dtype \u001b[38;5;129;01mis\u001b[39;00m \u001b[38;5;129;01mnot\u001b[39;00m \u001b[38;5;28;01mNone\u001b[39;00m:\n\u001b[1;32m   1980\u001b[0m     dtype \u001b[38;5;241m=\u001b[39m np\u001b[38;5;241m.\u001b[39mdtype(dtype)\n\u001b[0;32m-> 1981\u001b[0m result \u001b[38;5;241m=\u001b[39m \u001b[38;5;28;43mself\u001b[39;49m\u001b[38;5;241;43m.\u001b[39;49m\u001b[43m_mgr\u001b[49m\u001b[38;5;241;43m.\u001b[39;49m\u001b[43mas_array\u001b[49m\u001b[43m(\u001b[49m\u001b[43mdtype\u001b[49m\u001b[38;5;241;43m=\u001b[39;49m\u001b[43mdtype\u001b[49m\u001b[43m,\u001b[49m\u001b[43m \u001b[49m\u001b[43mcopy\u001b[49m\u001b[38;5;241;43m=\u001b[39;49m\u001b[43mcopy\u001b[49m\u001b[43m,\u001b[49m\u001b[43m \u001b[49m\u001b[43mna_value\u001b[49m\u001b[38;5;241;43m=\u001b[39;49m\u001b[43mna_value\u001b[49m\u001b[43m)\u001b[49m\n\u001b[1;32m   1982\u001b[0m \u001b[38;5;28;01mif\u001b[39;00m result\u001b[38;5;241m.\u001b[39mdtype \u001b[38;5;129;01mis\u001b[39;00m \u001b[38;5;129;01mnot\u001b[39;00m dtype:\n\u001b[1;32m   1983\u001b[0m     result \u001b[38;5;241m=\u001b[39m np\u001b[38;5;241m.\u001b[39marray(result, dtype\u001b[38;5;241m=\u001b[39mdtype, copy\u001b[38;5;241m=\u001b[39m\u001b[38;5;28;01mFalse\u001b[39;00m)\n",
      "File \u001b[0;32m/Applications/Anaconda/anaconda3/envs/apziva/lib/python3.12/site-packages/pandas/core/internals/managers.py:1692\u001b[0m, in \u001b[0;36mBlockManager.as_array\u001b[0;34m(self, dtype, copy, na_value)\u001b[0m\n\u001b[1;32m   1690\u001b[0m         arr\u001b[38;5;241m.\u001b[39mflags\u001b[38;5;241m.\u001b[39mwriteable \u001b[38;5;241m=\u001b[39m \u001b[38;5;28;01mFalse\u001b[39;00m\n\u001b[1;32m   1691\u001b[0m \u001b[38;5;28;01melse\u001b[39;00m:\n\u001b[0;32m-> 1692\u001b[0m     arr \u001b[38;5;241m=\u001b[39m \u001b[38;5;28;43mself\u001b[39;49m\u001b[38;5;241;43m.\u001b[39;49m\u001b[43m_interleave\u001b[49m\u001b[43m(\u001b[49m\u001b[43mdtype\u001b[49m\u001b[38;5;241;43m=\u001b[39;49m\u001b[43mdtype\u001b[49m\u001b[43m,\u001b[49m\u001b[43m \u001b[49m\u001b[43mna_value\u001b[49m\u001b[38;5;241;43m=\u001b[39;49m\u001b[43mna_value\u001b[49m\u001b[43m)\u001b[49m\n\u001b[1;32m   1693\u001b[0m     \u001b[38;5;66;03m# The underlying data was copied within _interleave, so no need\u001b[39;00m\n\u001b[1;32m   1694\u001b[0m     \u001b[38;5;66;03m# to further copy if copy=True or setting na_value\u001b[39;00m\n\u001b[1;32m   1696\u001b[0m \u001b[38;5;28;01mif\u001b[39;00m na_value \u001b[38;5;129;01mis\u001b[39;00m lib\u001b[38;5;241m.\u001b[39mno_default:\n",
      "File \u001b[0;32m/Applications/Anaconda/anaconda3/envs/apziva/lib/python3.12/site-packages/pandas/core/internals/managers.py:1751\u001b[0m, in \u001b[0;36mBlockManager._interleave\u001b[0;34m(self, dtype, na_value)\u001b[0m\n\u001b[1;32m   1749\u001b[0m     \u001b[38;5;28;01melse\u001b[39;00m:\n\u001b[1;32m   1750\u001b[0m         arr \u001b[38;5;241m=\u001b[39m blk\u001b[38;5;241m.\u001b[39mget_values(dtype)\n\u001b[0;32m-> 1751\u001b[0m     \u001b[43mresult\u001b[49m\u001b[43m[\u001b[49m\u001b[43mrl\u001b[49m\u001b[38;5;241;43m.\u001b[39;49m\u001b[43mindexer\u001b[49m\u001b[43m]\u001b[49m \u001b[38;5;241m=\u001b[39m arr\n\u001b[1;32m   1752\u001b[0m     itemmask[rl\u001b[38;5;241m.\u001b[39mindexer] \u001b[38;5;241m=\u001b[39m \u001b[38;5;241m1\u001b[39m\n\u001b[1;32m   1754\u001b[0m \u001b[38;5;28;01mif\u001b[39;00m \u001b[38;5;129;01mnot\u001b[39;00m itemmask\u001b[38;5;241m.\u001b[39mall():\n",
      "\u001b[0;31mValueError\u001b[0m: could not convert string to float: 'management'"
     ]
    }
   ],
   "source": [
    "# compute correlation matrix\n",
    "corr=df.corr()\n",
    "\n",
    "# generate mask for the upper triangle\n",
    "mask=np.triu(np.ones_like(corr, dtype=bool))\n",
    "\n",
    "# set up matplotlib figure\n",
    "f,ax = plt.subplots(figsize=(10, 8))\n",
    "\n",
    "# draw heatmap with the mask and correct aspect ratio\n",
    "sns.heatmap(corr,mask=mask,cmap='coolwarm',vmax=.3,center=0,\n",
    "            square=True,linewidths=.5,annot=True,\n",
    "            fmt='.2f',cbar_kws={\"shrink\":.5})\n",
    "plt.title('Correlation Matrix\\nHigher absolute value indicates stronger correlation')\n",
    "plt.tight_layout()\n",
    "\n",
    "# save fig\n",
    "# plt.savefig('../figs/1_corrmatrix_alt.pdf')\n",
    "# plt.savefig('../figs/1_corrmatrix_alt.png')"
   ]
  },
  {
   "cell_type": "code",
   "execution_count": null,
   "id": "f20060ed-668c-4988-8ca7-073425715e8a",
   "metadata": {},
   "outputs": [],
   "source": []
  }
 ],
 "metadata": {
  "kernelspec": {
   "display_name": "apziva",
   "language": "python",
   "name": "apziva"
  },
  "language_info": {
   "codemirror_mode": {
    "name": "ipython",
    "version": 3
   },
   "file_extension": ".py",
   "mimetype": "text/x-python",
   "name": "python",
   "nbconvert_exporter": "python",
   "pygments_lexer": "ipython3",
   "version": "3.12.3"
  }
 },
 "nbformat": 4,
 "nbformat_minor": 5
}
