{
 "cells": [
  {
   "cell_type": "code",
   "execution_count": null,
   "id": "042039ec-f51d-4306-9b94-adae620d2b2e",
   "metadata": {},
   "outputs": [],
   "source": [
    "plt.subplots(2,1,figsize=(15,4))\n",
    "plt.suptitle('Count of Jobs in Dataset')\n",
    "plt.tight_layout()#(rect=[0, 0, 1, 0.95])\n",
    "plt.subplot(2,1,2)\n",
    "ax1=sns.countplot(data=df_no,x='job',palette='colorblind',dodge=True,order=job_order)\n",
    "plt.text(plt.gca().get_xlim()[1]+(plt.gca().get_xlim()[1])*(-0.15), \n",
    "         plt.gca().get_ylim()[1] - (plt.gca().get_ylim()[1])*(1/5), \n",
    "         'Failed Campaigns', bbox=dict(facecolor='white', alpha=0.5))\n",
    "for p in ax1.patches:\n",
    "    ax1.annotate(format(p.get_height(), '.0f'), \n",
    "                 (p.get_x() + p.get_width() / 2., p.get_height()/2), \n",
    "                 ha = 'center', va = 'center', \n",
    "                 xytext = (0, 9), \n",
    "                 textcoords = 'offset points')\n",
    "plt.subplot(2,1,1)\n",
    "ax2=sns.countplot(data=df_yes,x='job',palette='colorblind',dodge=True,order=job_order)\n",
    "plt.text(plt.gca().get_xlim()[1]+(plt.gca().get_xlim()[1])*(-0.15), \n",
    "         plt.gca().get_ylim()[1] - (plt.gca().get_ylim()[1])*(1/5), \n",
    "         'Successful Campaigns', bbox=dict(facecolor='white', alpha=0.5))\n",
    "for p in ax2.patches:\n",
    "    ax2.annotate(format(p.get_height(), '.0f'), \n",
    "                 (p.get_x() + p.get_width() / 2., p.get_height()/2), \n",
    "                 ha = 'center', va = 'center', \n",
    "                 xytext = (0, 9), \n",
    "                 color='k',\n",
    "                 textcoords = 'offset points')"
   ]
  },
  {
   "cell_type": "code",
   "execution_count": null,
   "id": "a7639aba",
   "metadata": {},
   "outputs": [],
   "source": []
  },
  {
   "cell_type": "code",
   "execution_count": null,
   "id": "55596c14-631f-4e45-bf74-33d19af08966",
   "metadata": {},
   "outputs": [],
   "source": [
    "plt.subplots(2,1,figsize=(15,4))\n",
    "plt.suptitle('Marital Distribution in Dataset')\n",
    "plt.subplot(2,1,1)\n",
    "sns.countplot(data=df_yes,x='marital',palette='colorblind',dodge=True)\n",
    "plt.text(plt.gca().get_xlim()[1]+(plt.gca().get_xlim()[1])*(-0.2), \n",
    "         plt.gca().get_ylim()[1] - (plt.gca().get_ylim()[1])*(1/5), \n",
    "         'Successful Campaigns', bbox=dict(facecolor='white', alpha=0.5))\n",
    "plt.subplot(2,1,2)\n",
    "sns.countplot(data=df_no,x='marital',palette='colorblind',dodge=True)\n",
    "plt.text(plt.gca().get_xlim()[1]+(plt.gca().get_xlim()[1])*(-0.2), \n",
    "         plt.gca().get_ylim()[1] - (plt.gca().get_ylim()[1])*(1/5), \n",
    "         'Failed Campaigns', bbox=dict(facecolor='white', alpha=0.5))"
   ]
  },
  {
   "cell_type": "code",
   "execution_count": null,
   "id": "3e2dffc1-d9ad-4f30-a936-248f88d7be9b",
   "metadata": {},
   "outputs": [],
   "source": [
    "    \n",
    "\n",
    "# job\n",
    "plt.subplot(18,1,1)\n",
    "ax1=sns.countplot(data=df_no,x='job',palette='colorblind',dodge=True,order=job_order)\n",
    "plt.text(plt.gca().get_xlim()[1]+(plt.gca().get_xlim()[1])*(-0.15), \n",
    "         plt.gca().get_ylim()[1] - (plt.gca().get_ylim()[1])*(1/5), \n",
    "         'Failed Campaigns', bbox=dict(facecolor='white', alpha=0.5))\n",
    "for p in ax1.patches:\n",
    "    ax1.annotate(format(p.get_height(), '.0f'), \n",
    "                 (p.get_x() + p.get_width() / 2., p.get_height()/2), \n",
    "                 ha = 'center', va = 'center', \n",
    "                 xytext = (0, 9), \n",
    "                 textcoords = 'offset points')\n",
    "plt.subplot(18,1,2)\n",
    "ax2=sns.countplot(data=df_yes,x='job',palette='colorblind',dodge=True,order=job_order)\n",
    "plt.text(plt.gca().get_xlim()[1]+(plt.gca().get_xlim()[1])*(-0.15), \n",
    "         plt.gca().get_ylim()[1] - (plt.gca().get_ylim()[1])*(1/5), \n",
    "         'Successful Campaigns', bbox=dict(facecolor='white', alpha=0.5))\n",
    "for p in ax2.patches:\n",
    "    ax2.annotate(format(p.get_height(), '.0f'), \n",
    "                 (p.get_x() + p.get_width() / 2., p.get_height()/2), \n",
    "                 ha = 'center', va = 'center', \n",
    "                 xytext = (0, 9), \n",
    "                 color='k',\n",
    "                 textcoords = 'offset points')\n",
    "\n",
    "# marital\n",
    "plt.subplot(18,1,3)\n",
    "ax1=sns.countplot(data=df_no,x='marital',palette='colorblind',dodge=True,order=job_order)\n",
    "plt.text(plt.gca().get_xlim()[1]+(plt.gca().get_xlim()[1])*(-0.15), \n",
    "         plt.gca().get_ylim()[1] - (plt.gca().get_ylim()[1])*(1/5), \n",
    "         'Failed Campaigns', bbox=dict(facecolor='white', alpha=0.5))\n",
    "for p in ax1.patches:\n",
    "    ax1.annotate(format(p.get_height(), '.0f'), \n",
    "                 (p.get_x() + p.get_width() / 2., p.get_height()/2), \n",
    "                 ha = 'center', va = 'center', \n",
    "                 xytext = (0, 9), \n",
    "                 textcoords = 'offset points')\n",
    "plt.subplot(18,1,4)\n",
    "ax2=sns.countplot(data=df_yes,x='marital',palette='colorblind',dodge=True,order=job_order)\n",
    "plt.text(plt.gca().get_xlim()[1]+(plt.gca().get_xlim()[1])*(-0.15), \n",
    "         plt.gca().get_ylim()[1] - (plt.gca().get_ylim()[1])*(1/5), \n",
    "         'Successful Campaigns', bbox=dict(facecolor='white', alpha=0.5))\n",
    "for p in ax2.patches:\n",
    "    ax2.annotate(format(p.get_height(), '.0f'), \n",
    "                 (p.get_x() + p.get_width() / 2., p.get_height()/2), \n",
    "                 ha = 'center', va = 'center', \n",
    "                 xytext = (0, 9), \n",
    "                 color='k',\n",
    "                 textcoords = 'offset points')\n",
    "# education\n",
    "plt.subplot(18,1,5)\n",
    "ax1=sns.countplot(data=df_no,x='education',palette='colorblind',dodge=True,order=job_order)\n",
    "plt.text(plt.gca().get_xlim()[1]+(plt.gca().get_xlim()[1])*(-0.15), \n",
    "         plt.gca().get_ylim()[1] - (plt.gca().get_ylim()[1])*(1/5), \n",
    "         'Failed Campaigns', bbox=dict(facecolor='white', alpha=0.5))\n",
    "for p in ax1.patches:\n",
    "    ax1.annotate(format(p.get_height(), '.0f'), \n",
    "                 (p.get_x() + p.get_width() / 2., p.get_height()/2), \n",
    "                 ha = 'center', va = 'center', \n",
    "                 xytext = (0, 9), \n",
    "                 textcoords = 'offset points')\n",
    "plt.subplot(18,1,6)\n",
    "ax2=sns.countplot(data=df_yes,x='education',palette='colorblind',dodge=True,order=job_order)\n",
    "plt.text(plt.gca().get_xlim()[1]+(plt.gca().get_xlim()[1])*(-0.15), \n",
    "         plt.gca().get_ylim()[1] - (plt.gca().get_ylim()[1])*(1/5), \n",
    "         'Successful Campaigns', bbox=dict(facecolor='white', alpha=0.5))\n",
    "for p in ax2.patches:\n",
    "    ax2.annotate(format(p.get_height(), '.0f'), \n",
    "                 (p.get_x() + p.get_width() / 2., p.get_height()/2), \n",
    "                 ha = 'center', va = 'center', \n",
    "                 xytext = (0, 9), \n",
    "                 color='k',\n",
    "                 textcoords = 'offset points')\n",
    "\n",
    "# default\n",
    "plt.subplot(18,1,7)\n",
    "ax1=sns.countplot(data=df_no,x='default',palette='colorblind',dodge=True,order=job_order)\n",
    "plt.text(plt.gca().get_xlim()[1]+(plt.gca().get_xlim()[1])*(-0.15), \n",
    "         plt.gca().get_ylim()[1] - (plt.gca().get_ylim()[1])*(1/5), \n",
    "         'Failed Campaigns', bbox=dict(facecolor='white', alpha=0.5))\n",
    "for p in ax1.patches:\n",
    "    ax1.annotate(format(p.get_height(), '.0f'), \n",
    "                 (p.get_x() + p.get_width() / 2., p.get_height()/2), \n",
    "                 ha = 'center', va = 'center', \n",
    "                 xytext = (0, 9), \n",
    "                 textcoords = 'offset points')\n",
    "plt.subplot(18,1,8)\n",
    "ax2=sns.countplot(data=df_yes,x='default',palette='colorblind',dodge=True,order=job_order)\n",
    "plt.text(plt.gca().get_xlim()[1]+(plt.gca().get_xlim()[1])*(-0.15), \n",
    "         plt.gca().get_ylim()[1] - (plt.gca().get_ylim()[1])*(1/5), \n",
    "         'Successful Campaigns', bbox=dict(facecolor='white', alpha=0.5))\n",
    "for p in ax2.patches:\n",
    "    ax2.annotate(format(p.get_height(), '.0f'), \n",
    "                 (p.get_x() + p.get_width() / 2., p.get_height()/2), \n",
    "                 ha = 'center', va = 'center', \n",
    "                 xytext = (0, 9), \n",
    "                 color='k',\n",
    "                 textcoords = 'offset points')\n",
    "\n",
    "# housing\n",
    "plt.subplot(18,1,9)\n",
    "ax1=sns.countplot(data=df_no,x='housing',palette='colorblind',dodge=True,order=job_order)\n",
    "plt.text(plt.gca().get_xlim()[1]+(plt.gca().get_xlim()[1])*(-0.15), \n",
    "         plt.gca().get_ylim()[1] - (plt.gca().get_ylim()[1])*(1/5), \n",
    "         'Failed Campaigns', bbox=dict(facecolor='white', alpha=0.5))\n",
    "for p in ax1.patches:\n",
    "    ax1.annotate(format(p.get_height(), '.0f'), \n",
    "                 (p.get_x() + p.get_width() / 2., p.get_height()/2), \n",
    "                 ha = 'center', va = 'center', \n",
    "                 xytext = (0, 9), \n",
    "                 textcoords = 'offset points')\n",
    "plt.subplot(18,1,10)\n",
    "ax2=sns.countplot(data=df_yes,x='housing',palette='colorblind',dodge=True,order=job_order)\n",
    "plt.text(plt.gca().get_xlim()[1]+(plt.gca().get_xlim()[1])*(-0.15), \n",
    "         plt.gca().get_ylim()[1] - (plt.gca().get_ylim()[1])*(1/5), \n",
    "         'Successful Campaigns', bbox=dict(facecolor='white', alpha=0.5))\n",
    "for p in ax2.patches:\n",
    "    ax2.annotate(format(p.get_height(), '.0f'), \n",
    "                 (p.get_x() + p.get_width() / 2., p.get_height()/2), \n",
    "                 ha = 'center', va = 'center', \n",
    "                 xytext = (0, 9), \n",
    "                 color='k',\n",
    "                 textcoords = 'offset points')\n",
    "\n",
    "# loan\n",
    "plt.subplot(18,1,11)\n",
    "ax1=sns.countplot(data=df_no,x='loan',palette='colorblind',dodge=True,order=job_order)\n",
    "plt.text(plt.gca().get_xlim()[1]+(plt.gca().get_xlim()[1])*(-0.15), \n",
    "         plt.gca().get_ylim()[1] - (plt.gca().get_ylim()[1])*(1/5), \n",
    "         'Failed Campaigns', bbox=dict(facecolor='white', alpha=0.5))\n",
    "for p in ax1.patches:\n",
    "    ax1.annotate(format(p.get_height(), '.0f'), \n",
    "                 (p.get_x() + p.get_width() / 2., p.get_height()/2), \n",
    "                 ha = 'center', va = 'center', \n",
    "                 xytext = (0, 9), \n",
    "                 textcoords = 'offset points')\n",
    "plt.subplot(18,1,12)\n",
    "ax2=sns.countplot(data=df_yes,x='loan',palette='colorblind',dodge=True,order=job_order)\n",
    "plt.text(plt.gca().get_xlim()[1]+(plt.gca().get_xlim()[1])*(-0.15), \n",
    "         plt.gca().get_ylim()[1] - (plt.gca().get_ylim()[1])*(1/5), \n",
    "         'Successful Campaigns', bbox=dict(facecolor='white', alpha=0.5))\n",
    "for p in ax2.patches:\n",
    "    ax2.annotate(format(p.get_height(), '.0f'), \n",
    "                 (p.get_x() + p.get_width() / 2., p.get_height()/2), \n",
    "                 ha = 'center', va = 'center', \n",
    "                 xytext = (0, 9), \n",
    "                 color='k',\n",
    "                 textcoords = 'offset points')\n",
    "\n",
    "# contact\n",
    "plt.subplot(18,1,11)\n",
    "ax1=sns.countplot(data=df_no,x='loan',palette='colorblind',dodge=True,order=job_order)\n",
    "plt.text(plt.gca().get_xlim()[1]+(plt.gca().get_xlim()[1])*(-0.15), \n",
    "         plt.gca().get_ylim()[1] - (plt.gca().get_ylim()[1])*(1/5), \n",
    "         'Failed Campaigns', bbox=dict(facecolor='white', alpha=0.5))\n",
    "for p in ax1.patches:\n",
    "    ax1.annotate(format(p.get_height(), '.0f'), \n",
    "                 (p.get_x() + p.get_width() / 2., p.get_height()/2), \n",
    "                 ha = 'center', va = 'center', \n",
    "                 xytext = (0, 9), \n",
    "                 textcoords = 'offset points')\n",
    "plt.subplot(18,1,12)\n",
    "ax2=sns.countplot(data=df_yes,x='loan',palette='colorblind',dodge=True,order=job_order)\n",
    "plt.text(plt.gca().get_xlim()[1]+(plt.gca().get_xlim()[1])*(-0.15), \n",
    "         plt.gca().get_ylim()[1] - (plt.gca().get_ylim()[1])*(1/5), \n",
    "         'Successful Campaigns', bbox=dict(facecolor='white', alpha=0.5))\n",
    "for p in ax2.patches:\n",
    "    ax2.annotate(format(p.get_height(), '.0f'), \n",
    "                 (p.get_x() + p.get_width() / 2., p.get_height()/2), \n",
    "                 ha = 'center', va = 'center', \n",
    "                 xytext = (0, 9), \n",
    "                 color='k',\n",
    "                 textcoords = 'offset points')\n",
    "\n",
    "# day\n",
    "\n",
    "\n",
    "# month"
   ]
  },
  {
   "cell_type": "code",
   "execution_count": null,
   "id": "a3b3048c-0844-45d4-8c43-966e88f7fbcc",
   "metadata": {},
   "outputs": [],
   "source": [
    "plt.subplots(2,1,figsize=(15,4))\n",
    "plt.suptitle('Count of Age in Dataset')\n",
    "plt.subplot(2,1,1)\n",
    "sns.histplot(data=df_yes,x='age',color='orange')\n",
    "plt.text(plt.gca().get_xlim()[1]+(plt.gca().get_xlim()[1])*(-0.15), \n",
    "         plt.gca().get_ylim()[1] - (plt.gca().get_ylim()[1])*(1/5), \n",
    "         'Successful Campaigns', bbox=dict(facecolor='white', alpha=0.5))\n",
    "plt.subplot(2,1,2)\n",
    "sns.histplot(data=df_no,x='age',color='cornflowerblue')\n",
    "plt.text(plt.gca().get_xlim()[1]+(plt.gca().get_xlim()[1])*(-0.15), \n",
    "         plt.gca().get_ylim()[1] - (plt.gca().get_ylim()[1])*(1/5), \n",
    "         'Failed Campaigns', bbox=dict(facecolor='white', alpha=0.5))"
   ]
  },
  {
   "cell_type": "code",
   "execution_count": null,
   "id": "107071d5-f314-4bda-a7cc-9470852738de",
   "metadata": {},
   "outputs": [],
   "source": [
    "# Create a figure\n",
    "fig, ax_left = plt.subplots(figsize=(10, 6))\n",
    "\n",
    "# Plot for 'yes' on the left y-axis\n",
    "sns.histplot(df_yes, x='age', ax=ax_left, color='blue', alpha=0.5, bins=40)\n",
    "ax_left.set_ylabel('Count (yes)')\n",
    "ax_left.set_xlabel('Age')\n",
    "\n",
    "# Create a second y-axis for 'no'\n",
    "ax_right = ax_left.twinx()\n",
    "\n",
    "# Plot for 'no' on the right y-axis\n",
    "sns.histplot(df_no, x='age', ax=ax_right, color='red', alpha=0.5, bins=40)\n",
    "ax_right.set_ylabel('Count (no)')\n",
    "\n",
    "# Add title and legends\n",
    "plt.title('Histogram of Age with Separate Counts for Yes and No')\n",
    "ax_left.legend(['Count (yes)'], loc='upper left')\n",
    "ax_right.legend(['Count (no)'], loc='upper right')\n",
    "\n",
    "plt.show()"
   ]
  },
  {
   "cell_type": "markdown",
   "id": "ba7607da-023d-4570-9f3f-28d013db4fcf",
   "metadata": {},
   "source": [
    "#### Figure 2: Histograms of Numerical Variables"
   ]
  },
  {
   "cell_type": "code",
   "execution_count": 57,
   "id": "1c6c15b8-6cb3-473b-9f40-19ed377ce314",
   "metadata": {},
   "outputs": [
    {
     "name": "stderr",
     "output_type": "stream",
     "text": [
      "/Applications/Anaconda/anaconda3/envs/apziva/lib/python3.12/site-packages/seaborn/_oldcore.py:1119: FutureWarning: use_inf_as_na option is deprecated and will be removed in a future version. Convert inf values to NaN before operating instead.\n",
      "  with pd.option_context('mode.use_inf_as_na', True):\n",
      "/Applications/Anaconda/anaconda3/envs/apziva/lib/python3.12/site-packages/seaborn/_oldcore.py:1075: FutureWarning: When grouping with a length-1 list-like, you will need to pass a length-1 tuple to get_group in a future version of pandas. Pass `(name,)` instead of `name` to silence this warning.\n",
      "  data_subset = grouped_data.get_group(pd_key)\n",
      "/Applications/Anaconda/anaconda3/envs/apziva/lib/python3.12/site-packages/seaborn/_oldcore.py:1075: FutureWarning: When grouping with a length-1 list-like, you will need to pass a length-1 tuple to get_group in a future version of pandas. Pass `(name,)` instead of `name` to silence this warning.\n",
      "  data_subset = grouped_data.get_group(pd_key)\n",
      "/Applications/Anaconda/anaconda3/envs/apziva/lib/python3.12/site-packages/seaborn/_oldcore.py:1075: FutureWarning: When grouping with a length-1 list-like, you will need to pass a length-1 tuple to get_group in a future version of pandas. Pass `(name,)` instead of `name` to silence this warning.\n",
      "  data_subset = grouped_data.get_group(pd_key)\n",
      "/Applications/Anaconda/anaconda3/envs/apziva/lib/python3.12/site-packages/seaborn/_oldcore.py:1119: FutureWarning: use_inf_as_na option is deprecated and will be removed in a future version. Convert inf values to NaN before operating instead.\n",
      "  with pd.option_context('mode.use_inf_as_na', True):\n",
      "/Applications/Anaconda/anaconda3/envs/apziva/lib/python3.12/site-packages/seaborn/_oldcore.py:1075: FutureWarning: When grouping with a length-1 list-like, you will need to pass a length-1 tuple to get_group in a future version of pandas. Pass `(name,)` instead of `name` to silence this warning.\n",
      "  data_subset = grouped_data.get_group(pd_key)\n",
      "/Applications/Anaconda/anaconda3/envs/apziva/lib/python3.12/site-packages/seaborn/_oldcore.py:1075: FutureWarning: When grouping with a length-1 list-like, you will need to pass a length-1 tuple to get_group in a future version of pandas. Pass `(name,)` instead of `name` to silence this warning.\n",
      "  data_subset = grouped_data.get_group(pd_key)\n",
      "/Applications/Anaconda/anaconda3/envs/apziva/lib/python3.12/site-packages/seaborn/_oldcore.py:1075: FutureWarning: When grouping with a length-1 list-like, you will need to pass a length-1 tuple to get_group in a future version of pandas. Pass `(name,)` instead of `name` to silence this warning.\n",
      "  data_subset = grouped_data.get_group(pd_key)\n",
      "/Applications/Anaconda/anaconda3/envs/apziva/lib/python3.12/site-packages/seaborn/_oldcore.py:1119: FutureWarning: use_inf_as_na option is deprecated and will be removed in a future version. Convert inf values to NaN before operating instead.\n",
      "  with pd.option_context('mode.use_inf_as_na', True):\n",
      "/Applications/Anaconda/anaconda3/envs/apziva/lib/python3.12/site-packages/seaborn/_oldcore.py:1075: FutureWarning: When grouping with a length-1 list-like, you will need to pass a length-1 tuple to get_group in a future version of pandas. Pass `(name,)` instead of `name` to silence this warning.\n",
      "  data_subset = grouped_data.get_group(pd_key)\n",
      "/Applications/Anaconda/anaconda3/envs/apziva/lib/python3.12/site-packages/seaborn/_oldcore.py:1075: FutureWarning: When grouping with a length-1 list-like, you will need to pass a length-1 tuple to get_group in a future version of pandas. Pass `(name,)` instead of `name` to silence this warning.\n",
      "  data_subset = grouped_data.get_group(pd_key)\n",
      "/Applications/Anaconda/anaconda3/envs/apziva/lib/python3.12/site-packages/seaborn/_oldcore.py:1075: FutureWarning: When grouping with a length-1 list-like, you will need to pass a length-1 tuple to get_group in a future version of pandas. Pass `(name,)` instead of `name` to silence this warning.\n",
      "  data_subset = grouped_data.get_group(pd_key)\n"
     ]
    },
    {
     "data": {
      "image/png": "[encoded data removed]",
      "text/plain": [
       "<Figure size 1500x600 with 3 Axes>"
      ]
     },
     "metadata": {},
     "output_type": "display_data"
    }
   ],
   "source": [
    "plt.figure(figsize=(15, 6))\n",
    "plt.suptitle('Histograms')\n",
    "plt.subplot(1, 3, 1)\n",
    "sns.histplot(data=df, x='balance',hue='y')\n",
    "plt.title('Balance')\n",
    "plt.subplot(1, 3, 2)\n",
    "sns.histplot(data=df, x='duration',hue='y')\n",
    "plt.title('Duration of Last Phone Call')\n",
    "plt.subplot(1, 3, 3)\n",
    "sns.histplot(data=df, x='campaign',hue='y')\n",
    "plt.title('Contacts Throughout the Campaign')\n",
    "plt.show()"
   ]
  },
  {
   "cell_type": "markdown",
   "id": "efe30421-b367-47a0-95b1-767d39b490cf",
   "metadata": {},
   "source": [
    "#### Figure 3: Distribution of Duration of Last Phone Call Versus Campaign Outcome"
   ]
  },
  {
   "cell_type": "code",
   "execution_count": null,
   "id": "03774015-9001-4747-b6ab-a2cb04b825cc",
   "metadata": {},
   "outputs": [],
   "source": [
    "# Create a figure\n",
    "fig, ax_left = plt.subplots(figsize=(10, 6))\n",
    "\n",
    "# Plot for 'yes' on the left y-axis\n",
    "sns.histplot(df_yes, x='balance', ax=ax_left, color='blue', alpha=0.5,bins=40)\n",
    "ax_left.set_ylabel('Count (yes)')\n",
    "ax_left.set_xlabel('Balance')\n",
    "\n",
    "# Create a second y-axis for 'no'\n",
    "ax_right = ax_left.twinx()\n",
    "\n",
    "# Plot for 'no' on the right y-axis\n",
    "sns.histplot(df_no, x='balance', ax=ax_right, color='red', alpha=0.5,bins=40)\n",
    "ax_right.set_ylabel('Count (no)')\n",
    "\n",
    "# Add title and legends\n",
    "plt.title('Histogram of Balance with Separate Counts for Yes and No')\n",
    "ax_left.legend(['Count (yes)'], loc='upper left')\n",
    "ax_right.legend(['Count (no)'], loc='upper right')\n",
    "\n",
    "plt.show()"
   ]
  },
  {
   "cell_type": "code",
   "execution_count": null,
   "id": "3cc8fa76-d797-4db1-8df3-4fe8feb68129",
   "metadata": {},
   "outputs": [],
   "source": [
    "sns.FacetGrid(data=df, hue='y', height=5).map(sns.histplot, 'duration', kde=True).add_legend()\n",
    "plt.tight_layout()\n",
    "plt.title('Distribution of Duration of Last Phone Call')\n",
    "plt.xlabel('Duration of Last Phone Call')\n",
    "plt.ylabel('Frequency')\n",
    "plt.show()"
   ]
  },
  {
   "cell_type": "code",
   "execution_count": null,
   "id": "363667ad-1e56-487d-8aee-81d201ef9566",
   "metadata": {},
   "outputs": [],
   "source": [
    "plt.figure(figsize=(8,8))\n",
    "sns.histplot(data=df,x='duration',hue='y',kde=True,legend=True,bins=50,stat='count',zorder=2)\n",
    "plt.grid(zorder=1)\n",
    "plt.tight_layout()\n",
    "plt.title('Distribution of Duration of Last Phone Call')\n",
    "plt.xlabel('Duration of Last Phone Call')\n",
    "plt.ylabel('Count')\n",
    "plt.show()"
   ]
  },
  {
   "cell_type": "code",
   "execution_count": null,
   "id": "736bd88b-1818-43ce-8279-8eba7c0a8659",
   "metadata": {},
   "outputs": [],
   "source": []
  },
  {
   "cell_type": "markdown",
   "id": "d4d37325-b24d-4015-85ae-dca7c787d23e",
   "metadata": {},
   "source": [
    "Boxplots"
   ]
  },
  {
   "cell_type": "code",
   "execution_count": 69,
   "id": "a0ab67a3-6de9-45cf-8438-16a0954975f2",
   "metadata": {},
   "outputs": [
    {
     "data": {
      "text/plain": [
       "['age',\n",
       " 'job',\n",
       " 'marital',\n",
       " 'education',\n",
       " 'default',\n",
       " 'balance',\n",
       " 'housing',\n",
       " 'loan',\n",
       " 'contact',\n",
       " 'day',\n",
       " 'month',\n",
       " 'duration',\n",
       " 'campaign']"
      ]
     },
     "execution_count": 69,
     "metadata": {},
     "output_type": "execute_result"
    }
   ],
   "source": [
    "X_cols=[col for col in df.columns if col != 'y']\n",
    "X_cols"
   ]
  },
  {
   "cell_type": "code",
   "execution_count": 70,
   "id": "5d04dd48-0b75-4c29-a09a-a9c061eb5007",
   "metadata": {},
   "outputs": [],
   "source": [
    "# create dataframe for numeric columns\n",
    "\n",
    "numeric_columns=['age','balance','duration','campaign','y']\n",
    "\n",
    "df_num=df[[col for col in df.columns if col in numeric_columns]]\n",
    "\n",
    "# melt df to long format\n",
    "df_melted = df_num.melt(id_vars='y',\n",
    "                        value_vars=df_num.columns,\n",
    "                        var_name='Variable',\n",
    "                        value_name='Value')"
   ]
  },
  {
   "cell_type": "code",
   "execution_count": 71,
   "id": "d5f035b5-fe5c-4782-bad8-b93aa8d98f23",
   "metadata": {},
   "outputs": [
    {
     "data": {
      "text/plain": [
       "(160000, 3)"
      ]
     },
     "execution_count": 71,
     "metadata": {},
     "output_type": "execute_result"
    }
   ],
   "source": [
    "df_melted.shape"
   ]
  },
  {
   "cell_type": "code",
   "execution_count": 72,
   "id": "3bdbd344-31de-4f21-9c55-9e2336c82b21",
   "metadata": {},
   "outputs": [
    {
     "data": {
      "image/png": "[encoded data removed]",
      "text/plain": [
       "<Figure size 2240x800 with 4 Axes>"
      ]
     },
     "metadata": {},
     "output_type": "display_data"
    }
   ],
   "source": [
    "# Create a FacetGrid for separate y-axes\n",
    "g = sns.catplot(\n",
    "    x='y', \n",
    "    y='Value', \n",
    "    col='Variable', \n",
    "    data=df_melted, \n",
    "    kind='box',\n",
    "    height=8, \n",
    "    aspect=0.7,\n",
    "    sharey=False\n",
    ")\n",
    "\n",
    "# Customize the plot\n",
    "g.set_titles(\"{col_name}\")\n",
    "g.set_axis_labels(\"y\", \"Value\")\n",
    "g.fig.suptitle('Boxplots of Numerical Variables', y=1.03)\n",
    "\n",
    "# Show the plot\n",
    "plt.show()"
   ]
  },
  {
   "cell_type": "code",
   "execution_count": 73,
   "id": "6687d8f7-754b-4fab-b3e7-8d52bf6b7ff7",
   "metadata": {},
   "outputs": [
    {
     "name": "stderr",
     "output_type": "stream",
     "text": [
      "/Applications/Anaconda/anaconda3/envs/apziva/lib/python3.12/site-packages/seaborn/_oldcore.py:1119: FutureWarning: use_inf_as_na option is deprecated and will be removed in a future version. Convert inf values to NaN before operating instead.\n",
      "  with pd.option_context('mode.use_inf_as_na', True):\n",
      "/Applications/Anaconda/anaconda3/envs/apziva/lib/python3.12/site-packages/seaborn/_oldcore.py:1119: FutureWarning: use_inf_as_na option is deprecated and will be removed in a future version. Convert inf values to NaN before operating instead.\n",
      "  with pd.option_context('mode.use_inf_as_na', True):\n",
      "/Applications/Anaconda/anaconda3/envs/apziva/lib/python3.12/site-packages/seaborn/_oldcore.py:1119: FutureWarning: use_inf_as_na option is deprecated and will be removed in a future version. Convert inf values to NaN before operating instead.\n",
      "  with pd.option_context('mode.use_inf_as_na', True):\n",
      "/Applications/Anaconda/anaconda3/envs/apziva/lib/python3.12/site-packages/seaborn/_oldcore.py:1119: FutureWarning: use_inf_as_na option is deprecated and will be removed in a future version. Convert inf values to NaN before operating instead.\n",
      "  with pd.option_context('mode.use_inf_as_na', True):\n",
      "/Applications/Anaconda/anaconda3/envs/apziva/lib/python3.12/site-packages/seaborn/_oldcore.py:1119: FutureWarning: use_inf_as_na option is deprecated and will be removed in a future version. Convert inf values to NaN before operating instead.\n",
      "  with pd.option_context('mode.use_inf_as_na', True):\n",
      "/Applications/Anaconda/anaconda3/envs/apziva/lib/python3.12/site-packages/seaborn/_oldcore.py:1119: FutureWarning: use_inf_as_na option is deprecated and will be removed in a future version. Convert inf values to NaN before operating instead.\n",
      "  with pd.option_context('mode.use_inf_as_na', True):\n",
      "/Applications/Anaconda/anaconda3/envs/apziva/lib/python3.12/site-packages/seaborn/_oldcore.py:1119: FutureWarning: use_inf_as_na option is deprecated and will be removed in a future version. Convert inf values to NaN before operating instead.\n",
      "  with pd.option_context('mode.use_inf_as_na', True):\n",
      "/Applications/Anaconda/anaconda3/envs/apziva/lib/python3.12/site-packages/seaborn/_oldcore.py:1119: FutureWarning: use_inf_as_na option is deprecated and will be removed in a future version. Convert inf values to NaN before operating instead.\n",
      "  with pd.option_context('mode.use_inf_as_na', True):\n"
     ]
    },
    {
     "data": {
      "image/png": "[encoded data removed]",
      "text/plain": [
       "<Figure size 1120x400 with 4 Axes>"
      ]
     },
     "metadata": {},
     "output_type": "display_data"
    }
   ],
   "source": [
    "# Ensure 'y' is treated as a categorical variable for plotting purposes\n",
    "df_melted['y'] = df_melted['y'].astype(str)\n",
    "\n",
    "# Create a FacetGrid for separate y-axes\n",
    "g = sns.FacetGrid(df_melted, col='Variable', hue='y', sharey=False, sharex=False, height=4, aspect=0.7)\n",
    "\n",
    "# Map the histogram plot to each facet\n",
    "g.map(sns.histplot, 'Value', kde=False, bins='auto')\n",
    "\n",
    "# Customize the plot\n",
    "g.set_titles(\"{col_name}\")\n",
    "g.set_axis_labels(\"Value\", \"Frequency\")\n",
    "g.fig.suptitle('Histograms of Numerical Variables', y=1.03)\n",
    "\n",
    "# Show the plot\n",
    "plt.show()"
   ]
  },
  {
   "cell_type": "markdown",
   "id": "f28bd1c0-3d26-4abd-a0f9-26858bd0c359",
   "metadata": {},
   "source": [
    "#### Figure 4: CDFs"
   ]
  },
  {
   "cell_type": "code",
   "execution_count": 402,
   "id": "01e6b524-07c8-438a-8f10-9bff7563719f",
   "metadata": {},
   "outputs": [
    {
     "data": {
      "image/png": "[encoded data removed]",
      "text/plain": [
       "<Figure size 640x480 with 1 Axes>"
      ]
     },
     "metadata": {},
     "output_type": "display_data"
    }
   ],
   "source": [
    "counts, bin_edges = np.histogram(df[df['y'] == 'yes']['duration'], density=True)\n",
    "pdf = counts / sum(counts)\n",
    "cdf = np.cumsum(pdf)\n",
    "plt.plot(bin_edges[1:], cdf, label='CDF Outcome = Yes')\n",
    "\n",
    "counts, bin_edges = np.histogram(df[df['y'] == 'no']['duration'], density=True)\n",
    "pdf = counts / sum(counts)\n",
    "cdf = np.cumsum(pdf)\n",
    "plt.plot(bin_edges[1:], cdf, label='CDF Outcome = No')\n",
    "\n",
    "plt.legend()\n",
    "plt.xlabel(\"Duration of last phone call\")\n",
    "plt.ylabel(\"CDF\")\n",
    "plt.title('Cumulative Distribution Function for \\nPositive Campaign Outcomes vs. Duration')\n",
    "plt.grid()\n",
    "plt.show()"
   ]
  },
  {
   "cell_type": "code",
   "execution_count": 403,
   "id": "be7684e8-241d-44d3-a79e-55c8225096af",
   "metadata": {},
   "outputs": [
    {
     "data": {
      "image/png": "[encoded data removed]",
      "text/plain": [
       "<Figure size 640x480 with 1 Axes>"
      ]
     },
     "metadata": {},
     "output_type": "display_data"
    }
   ],
   "source": [
    "counts, bin_edges = np.histogram(df[df['y'] == 'yes']['balance'], density=True)\n",
    "pdf = counts / sum(counts)\n",
    "cdf = np.cumsum(pdf)\n",
    "plt.plot(bin_edges[1:], cdf, label='CDF Outcome = Yes')\n",
    "\n",
    "counts, bin_edges = np.histogram(df[df['y'] == 'no']['balance'], density=True)\n",
    "pdf = counts / sum(counts)\n",
    "cdf = np.cumsum(pdf)\n",
    "plt.plot(bin_edges[1:], cdf, label='CDF Outcome = No')\n",
    "\n",
    "plt.legend()\n",
    "plt.xlabel(\"Duration of last phone call\")\n",
    "plt.ylabel(\"CDF\")\n",
    "plt.title('Cumulative Distribution Function for \\nPositive Campaign Outcomes vs. Average Yearly Balance')\n",
    "plt.grid()\n",
    "plt.show()"
   ]
  },
  {
   "cell_type": "code",
   "execution_count": 411,
   "id": "9f2aee61-e891-45ac-a026-7946bad2583d",
   "metadata": {},
   "outputs": [
    {
     "name": "stderr",
     "output_type": "stream",
     "text": [
      "/Applications/Anaconda/anaconda3/envs/apziva/lib/python3.12/site-packages/seaborn/_oldcore.py:1119: FutureWarning: use_inf_as_na option is deprecated and will be removed in a future version. Convert inf values to NaN before operating instead.\n",
      "  with pd.option_context('mode.use_inf_as_na', True):\n",
      "/Applications/Anaconda/anaconda3/envs/apziva/lib/python3.12/site-packages/seaborn/_oldcore.py:1075: FutureWarning: When grouping with a length-1 list-like, you will need to pass a length-1 tuple to get_group in a future version of pandas. Pass `(name,)` instead of `name` to silence this warning.\n",
      "  data_subset = grouped_data.get_group(pd_key)\n",
      "/Applications/Anaconda/anaconda3/envs/apziva/lib/python3.12/site-packages/seaborn/_oldcore.py:1075: FutureWarning: When grouping with a length-1 list-like, you will need to pass a length-1 tuple to get_group in a future version of pandas. Pass `(name,)` instead of `name` to silence this warning.\n",
      "  data_subset = grouped_data.get_group(pd_key)\n",
      "/Applications/Anaconda/anaconda3/envs/apziva/lib/python3.12/site-packages/seaborn/_oldcore.py:1075: FutureWarning: When grouping with a length-1 list-like, you will need to pass a length-1 tuple to get_group in a future version of pandas. Pass `(name,)` instead of `name` to silence this warning.\n",
      "  data_subset = grouped_data.get_group(pd_key)\n",
      "/Applications/Anaconda/anaconda3/envs/apziva/lib/python3.12/site-packages/seaborn/_oldcore.py:1119: FutureWarning: use_inf_as_na option is deprecated and will be removed in a future version. Convert inf values to NaN before operating instead.\n",
      "  with pd.option_context('mode.use_inf_as_na', True):\n",
      "/Applications/Anaconda/anaconda3/envs/apziva/lib/python3.12/site-packages/seaborn/_oldcore.py:1075: FutureWarning: When grouping with a length-1 list-like, you will need to pass a length-1 tuple to get_group in a future version of pandas. Pass `(name,)` instead of `name` to silence this warning.\n",
      "  data_subset = grouped_data.get_group(pd_key)\n",
      "/Applications/Anaconda/anaconda3/envs/apziva/lib/python3.12/site-packages/seaborn/_oldcore.py:1075: FutureWarning: When grouping with a length-1 list-like, you will need to pass a length-1 tuple to get_group in a future version of pandas. Pass `(name,)` instead of `name` to silence this warning.\n",
      "  data_subset = grouped_data.get_group(pd_key)\n",
      "/Applications/Anaconda/anaconda3/envs/apziva/lib/python3.12/site-packages/seaborn/_oldcore.py:1075: FutureWarning: When grouping with a length-1 list-like, you will need to pass a length-1 tuple to get_group in a future version of pandas. Pass `(name,)` instead of `name` to silence this warning.\n",
      "  data_subset = grouped_data.get_group(pd_key)\n"
     ]
    },
    {
     "data": {
      "text/plain": [
       "<seaborn.axisgrid.JointGrid at 0x31bd30aa0>"
      ]
     },
     "execution_count": 411,
     "metadata": {},
     "output_type": "execute_result"
    },
    {
     "data": {
      "image/png": "[encoded data removed]",
      "text/plain": [
       "<Figure size 600x600 with 3 Axes>"
      ]
     },
     "metadata": {},
     "output_type": "display_data"
    }
   ],
   "source": [
    "sns.jointplot(data=df,x='balance',y='age',hue='y')"
   ]
  },
  {
   "cell_type": "code",
   "execution_count": 413,
   "id": "d50bf5ce-0149-4b77-844f-3ec01882db83",
   "metadata": {},
   "outputs": [
    {
     "name": "stderr",
     "output_type": "stream",
     "text": [
      "/Applications/Anaconda/anaconda3/envs/apziva/lib/python3.12/site-packages/seaborn/_oldcore.py:1119: FutureWarning: use_inf_as_na option is deprecated and will be removed in a future version. Convert inf values to NaN before operating instead.\n",
      "  with pd.option_context('mode.use_inf_as_na', True):\n",
      "/Applications/Anaconda/anaconda3/envs/apziva/lib/python3.12/site-packages/seaborn/_oldcore.py:1075: FutureWarning: When grouping with a length-1 list-like, you will need to pass a length-1 tuple to get_group in a future version of pandas. Pass `(name,)` instead of `name` to silence this warning.\n",
      "  data_subset = grouped_data.get_group(pd_key)\n",
      "/Applications/Anaconda/anaconda3/envs/apziva/lib/python3.12/site-packages/seaborn/_oldcore.py:1075: FutureWarning: When grouping with a length-1 list-like, you will need to pass a length-1 tuple to get_group in a future version of pandas. Pass `(name,)` instead of `name` to silence this warning.\n",
      "  data_subset = grouped_data.get_group(pd_key)\n",
      "/Applications/Anaconda/anaconda3/envs/apziva/lib/python3.12/site-packages/seaborn/_oldcore.py:1075: FutureWarning: When grouping with a length-1 list-like, you will need to pass a length-1 tuple to get_group in a future version of pandas. Pass `(name,)` instead of `name` to silence this warning.\n",
      "  data_subset = grouped_data.get_group(pd_key)\n",
      "/Applications/Anaconda/anaconda3/envs/apziva/lib/python3.12/site-packages/seaborn/_oldcore.py:1119: FutureWarning: use_inf_as_na option is deprecated and will be removed in a future version. Convert inf values to NaN before operating instead.\n",
      "  with pd.option_context('mode.use_inf_as_na', True):\n",
      "/Applications/Anaconda/anaconda3/envs/apziva/lib/python3.12/site-packages/seaborn/_oldcore.py:1075: FutureWarning: When grouping with a length-1 list-like, you will need to pass a length-1 tuple to get_group in a future version of pandas. Pass `(name,)` instead of `name` to silence this warning.\n",
      "  data_subset = grouped_data.get_group(pd_key)\n",
      "/Applications/Anaconda/anaconda3/envs/apziva/lib/python3.12/site-packages/seaborn/_oldcore.py:1075: FutureWarning: When grouping with a length-1 list-like, you will need to pass a length-1 tuple to get_group in a future version of pandas. Pass `(name,)` instead of `name` to silence this warning.\n",
      "  data_subset = grouped_data.get_group(pd_key)\n",
      "/Applications/Anaconda/anaconda3/envs/apziva/lib/python3.12/site-packages/seaborn/_oldcore.py:1075: FutureWarning: When grouping with a length-1 list-like, you will need to pass a length-1 tuple to get_group in a future version of pandas. Pass `(name,)` instead of `name` to silence this warning.\n",
      "  data_subset = grouped_data.get_group(pd_key)\n"
     ]
    },
    {
     "data": {
      "text/plain": [
       "<seaborn.axisgrid.JointGrid at 0x302a59640>"
      ]
     },
     "execution_count": 413,
     "metadata": {},
     "output_type": "execute_result"
    },
    {
     "data": {
      "image/png": "[encoded data removed]",
      "text/plain": [
       "<Figure size 600x600 with 3 Axes>"
      ]
     },
     "metadata": {},
     "output_type": "display_data"
    }
   ],
   "source": [
    "sns.jointplot(data=df,x='balance',y='duration',hue='y')"
   ]
  },
  {
   "cell_type": "code",
   "execution_count": 418,
   "id": "e8357ead-014b-42ef-a9d6-82ba630fa4d9",
   "metadata": {},
   "outputs": [
    {
     "name": "stderr",
     "output_type": "stream",
     "text": [
      "/Applications/Anaconda/anaconda3/envs/apziva/lib/python3.12/site-packages/seaborn/_oldcore.py:1119: FutureWarning: use_inf_as_na option is deprecated and will be removed in a future version. Convert inf values to NaN before operating instead.\n",
      "  with pd.option_context('mode.use_inf_as_na', True):\n",
      "/Applications/Anaconda/anaconda3/envs/apziva/lib/python3.12/site-packages/seaborn/_oldcore.py:1119: FutureWarning: use_inf_as_na option is deprecated and will be removed in a future version. Convert inf values to NaN before operating instead.\n",
      "  with pd.option_context('mode.use_inf_as_na', True):\n",
      "/Applications/Anaconda/anaconda3/envs/apziva/lib/python3.12/site-packages/seaborn/_oldcore.py:1075: FutureWarning: When grouping with a length-1 list-like, you will need to pass a length-1 tuple to get_group in a future version of pandas. Pass `(name,)` instead of `name` to silence this warning.\n",
      "  data_subset = grouped_data.get_group(pd_key)\n",
      "/Applications/Anaconda/anaconda3/envs/apziva/lib/python3.12/site-packages/seaborn/_oldcore.py:1075: FutureWarning: When grouping with a length-1 list-like, you will need to pass a length-1 tuple to get_group in a future version of pandas. Pass `(name,)` instead of `name` to silence this warning.\n",
      "  data_subset = grouped_data.get_group(pd_key)\n",
      "/Applications/Anaconda/anaconda3/envs/apziva/lib/python3.12/site-packages/seaborn/_oldcore.py:1075: FutureWarning: When grouping with a length-1 list-like, you will need to pass a length-1 tuple to get_group in a future version of pandas. Pass `(name,)` instead of `name` to silence this warning.\n",
      "  data_subset = grouped_data.get_group(pd_key)\n",
      "/Applications/Anaconda/anaconda3/envs/apziva/lib/python3.12/site-packages/seaborn/_oldcore.py:1075: FutureWarning: When grouping with a length-1 list-like, you will need to pass a length-1 tuple to get_group in a future version of pandas. Pass `(name,)` instead of `name` to silence this warning.\n",
      "  data_subset = grouped_data.get_group(pd_key)\n",
      "/Applications/Anaconda/anaconda3/envs/apziva/lib/python3.12/site-packages/seaborn/_oldcore.py:1119: FutureWarning: use_inf_as_na option is deprecated and will be removed in a future version. Convert inf values to NaN before operating instead.\n",
      "  with pd.option_context('mode.use_inf_as_na', True):\n",
      "/Applications/Anaconda/anaconda3/envs/apziva/lib/python3.12/site-packages/seaborn/_oldcore.py:1075: FutureWarning: When grouping with a length-1 list-like, you will need to pass a length-1 tuple to get_group in a future version of pandas. Pass `(name,)` instead of `name` to silence this warning.\n",
      "  data_subset = grouped_data.get_group(pd_key)\n",
      "/Applications/Anaconda/anaconda3/envs/apziva/lib/python3.12/site-packages/seaborn/_oldcore.py:1075: FutureWarning: When grouping with a length-1 list-like, you will need to pass a length-1 tuple to get_group in a future version of pandas. Pass `(name,)` instead of `name` to silence this warning.\n",
      "  data_subset = grouped_data.get_group(pd_key)\n",
      "/Applications/Anaconda/anaconda3/envs/apziva/lib/python3.12/site-packages/seaborn/_oldcore.py:1075: FutureWarning: When grouping with a length-1 list-like, you will need to pass a length-1 tuple to get_group in a future version of pandas. Pass `(name,)` instead of `name` to silence this warning.\n",
      "  data_subset = grouped_data.get_group(pd_key)\n",
      "/Applications/Anaconda/anaconda3/envs/apziva/lib/python3.12/site-packages/seaborn/_oldcore.py:1119: FutureWarning: use_inf_as_na option is deprecated and will be removed in a future version. Convert inf values to NaN before operating instead.\n",
      "  with pd.option_context('mode.use_inf_as_na', True):\n",
      "/Applications/Anaconda/anaconda3/envs/apziva/lib/python3.12/site-packages/seaborn/_oldcore.py:1075: FutureWarning: When grouping with a length-1 list-like, you will need to pass a length-1 tuple to get_group in a future version of pandas. Pass `(name,)` instead of `name` to silence this warning.\n",
      "  data_subset = grouped_data.get_group(pd_key)\n",
      "/Applications/Anaconda/anaconda3/envs/apziva/lib/python3.12/site-packages/seaborn/_oldcore.py:1075: FutureWarning: When grouping with a length-1 list-like, you will need to pass a length-1 tuple to get_group in a future version of pandas. Pass `(name,)` instead of `name` to silence this warning.\n",
      "  data_subset = grouped_data.get_group(pd_key)\n",
      "/Applications/Anaconda/anaconda3/envs/apziva/lib/python3.12/site-packages/seaborn/_oldcore.py:1075: FutureWarning: When grouping with a length-1 list-like, you will need to pass a length-1 tuple to get_group in a future version of pandas. Pass `(name,)` instead of `name` to silence this warning.\n",
      "  data_subset = grouped_data.get_group(pd_key)\n"
     ]
    },
    {
     "data": {
      "text/plain": [
       "<seaborn.axisgrid.JointGrid at 0x302846c30>"
      ]
     },
     "execution_count": 418,
     "metadata": {},
     "output_type": "execute_result"
    },
    {
     "data": {
      "image/png": "[encoded data removed]",
      "text/plain": [
       "<Figure size 600x600 with 3 Axes>"
      ]
     },
     "metadata": {},
     "output_type": "display_data"
    }
   ],
   "source": [
    "sns.jointplot(data=df,x='balance',y='campaign',hue='y',marginal_ticks=True,kind='kde',fill=True)"
   ]
  },
  {
   "cell_type": "code",
   "execution_count": null,
   "id": "4251170f",
   "metadata": {},
   "outputs": [],
   "source": []
  },
  {
   "cell_type": "markdown",
   "id": "13c88538",
   "metadata": {},
   "source": [
    "## Modeling"
   ]
  },
  {
   "cell_type": "code",
   "execution_count": null,
   "id": "a7bc0fcd",
   "metadata": {},
   "outputs": [],
   "source": [
    "def objective(params):\n",
    "    # Create a pipeline with the preprocessor and the classifier\n",
    "    model = Pipeline(steps=[\n",
    "        ('preprocessor', preprocessor),\n",
    "        ('classifier', GradientBoostingClassifier(**params))\n",
    "    ])\n",
    "\n",
    "    # Perform cross-validation\n",
    "    scores = cross_val_score(model, X_train, y_train, cv=3, scoring='accuracy')\n",
    "    # Return the negative mean of the scores as we want to minimize the objective\n",
    "    return {'loss': -scores.mean(), 'status': STATUS_OK}\n",
    "\n",
    "# Define the hyperparameter space\n",
    "space = {\n",
    "    'learning_rate': hp.uniform('learning_rate', 0.01, 0.2),\n",
    "    'n_estimators': hp.choice('n_estimators', range(50, 300)),\n",
    "    'max_depth': hp.choice('max_depth', range(3, 15)),\n",
    "    'min_samples_split': hp.choice('min_samples_split', range(2, 10)),\n",
    "    'min_samples_leaf': hp.choice('min_samples_leaf', range(1, 10)),\n",
    "    'subsample': hp.uniform('subsample', 0.5, 1.0)\n",
    "}\n",
    "\n",
    "# Run the optimization\n",
    "trials = Trials()\n",
    "best = fmin(fn=objective,\n",
    "            space=space,\n",
    "            algo=tpe.suggest,\n",
    "            max_evals=100,\n",
    "            trials=trials)"
   ]
  },
  {
   "cell_type": "code",
   "execution_count": null,
   "id": "ff4d32b1",
   "metadata": {},
   "outputs": [],
   "source": [
    "# first, separate categorical from continuous features\n",
    "categorical_features = X.select_dtypes(include=['object', 'category']).columns.tolist()\n",
    "continuous_features = X.select_dtypes(include=['int64', 'float64']).columns.tolist()\n",
    "print('features separated')\n",
    "\n",
    "# create pipeline\n",
    "preprocessor = ColumnTransformer(\n",
    "    transformers=[\n",
    "        ('num', StandardScaler(), continuous_features),\n",
    "        ('cat', OneHotEncoder(), categorical_features)\n",
    "    ])\n",
    "print('preprocessor created')"
   ]
  },
  {
   "cell_type": "code",
   "execution_count": null,
   "id": "ae0599ff",
   "metadata": {},
   "outputs": [],
   "source": [
    "# from chatgpt\n",
    "\n",
    "import pandas as pd\n",
    "import numpy as np\n",
    "from sklearn.model_selection import train_test_split\n",
    "from sklearn.preprocessing import OneHotEncoder, StandardScaler\n",
    "from sklearn.compose import ColumnTransformer\n",
    "from sklearn.pipeline import Pipeline\n",
    "from sklearn.metrics import accuracy_score\n",
    "import autosklearn.classification\n",
    "import optuna\n",
    "\n",
    "# Create a synthetic dataset\n",
    "data = {\n",
    "    'age': [25, 32, 47, 51, 62, 20, 27, 40, 34, 55],\n",
    "    'salary': [50000, 60000, 120000, 85000, 95000, 40000, 45000, 80000, 75000, 90000],\n",
    "    'gender': ['male', 'female', 'female', 'male', 'male', 'female', 'female', 'male', 'male', 'female'],\n",
    "    'bought_insurance': [0, 1, 1, 0, 1, 0, 0, 1, 1, 1]\n",
    "}\n",
    "\n",
    "# Convert to DataFrame\n",
    "df = pd.DataFrame(data)\n",
    "\n",
    "# Split into features and target\n",
    "X = df.drop('bought_insurance', axis=1)\n",
    "y = df['bought_insurance']\n",
    "\n",
    "# Identify categorical and continuous columns\n",
    "categorical_cols = ['gender']\n",
    "continuous_cols = ['age', 'salary']\n",
    "\n",
    "# Preprocessing for numerical and categorical data\n",
    "preprocessor = ColumnTransformer(\n",
    "    transformers=[\n",
    "        ('num', StandardScaler(), continuous_cols),\n",
    "        ('cat', OneHotEncoder(), categorical_cols)\n",
    "    ])\n",
    "\n",
    "# Split the dataset into training and test sets\n",
    "X_train, X_test, y_train, y_test = train_test_split(X, y, test_size=0.2, random_state=42,stratify=y)\n",
    "\n",
    "# Define Auto-sklearn classifier and pipeline\n",
    "automl = autosklearn.classification.AutoSklearnClassifier(time_left_for_this_task=60, per_run_time_limit=30)\n",
    "pipeline = Pipeline(steps=[('preprocessor', preprocessor), ('classifier', automl)])\n",
    "\n",
    "# Train the pipeline\n",
    "pipeline.fit(X_train, y_train)\n",
    "\n",
    "# Evaluate the model\n",
    "y_pred = pipeline.predict(X_test)\n",
    "accuracy = accuracy_score(y_test, y_pred)\n",
    "print(f\"Auto-sklearn accuracy: {accuracy:.2f}\")\n",
    "\n",
    "# Define Optuna objective function for hyperparameter tuning\n",
    "def objective(trial):\n",
    "    params = {\n",
    "        'ensemble_size': trial.suggest_int('ensemble_size', 10, 50),\n",
    "        'initial_configurations_via_metalearning': trial.suggest_int('initial_configurations_via_metalearning', 0, 25)\n",
    "    }\n",
    "    \n",
    "    automl = autosklearn.classification.AutoSklearnClassifier(\n",
    "        time_left_for_this_task=60, per_run_time_limit=30, \n",
    "        ensemble_size=params['ensemble_size'], \n",
    "        initial_configurations_via_metalearning=params['initial_configurations_via_metalearning']\n",
    "    )\n",
    "    \n",
    "    pipeline = Pipeline(steps=[('preprocessor', preprocessor), ('classifier', automl)])\n",
    "    pipeline.fit(X_train, y_train)\n",
    "    y_pred = pipeline.predict(X_test)\n",
    "    accuracy = accuracy_score(y_test, y_pred)\n",
    "    \n",
    "    return accuracy\n",
    "\n",
    "# Create Optuna study and optimize\n",
    "study = optuna.create_study(direction='maximize')\n",
    "study.optimize(objective, n_trials=10)\n",
    "\n",
    "# Print the best hyperparameters\n",
    "print(f\"Best hyperparameters: {study.best_params}\")\n",
    "\n",
    "# Use the best hyperparameters found by Optuna to fit and evaluate the final model\n",
    "best_params = study.best_params\n",
    "automl = autosklearn.classification.AutoSklearnClassifier(\n",
    "    time_left_for_this_task=60, per_run_time_limit=30, \n",
    "    ensemble_size=best_params['ensemble_size'], \n",
    "    initial_configurations_via_metalearning=best_params['initial_configurations_via_metalearning']\n",
    ")\n",
    "\n",
    "pipeline = Pipeline(steps=[('preprocessor', preprocessor), ('classifier', automl)])\n",
    "pipeline.fit(X_train, y_train)\n",
    "\n",
    "# Evaluate the final model\n",
    "y_pred = pipeline.predict(X_test)\n",
    "final_accuracy = accuracy_score(y_test, y_pred)\n",
    "print(f\"Final accuracy: {final_accuracy:.2f}\")"
   ]
  },
  {
   "cell_type": "code",
   "execution_count": null,
   "id": "702b3625",
   "metadata": {},
   "outputs": [],
   "source": [
    "best_params = {\n",
    "    'learning_rate': best['learning_rate'],\n",
    "    'n_estimators': range(50, 300)[best['n_estimators']],\n",
    "    'max_depth': range(3, 15)[best['max_depth']],\n",
    "    'min_samples_split': range(2, 10)[best['min_samples_split']],\n",
    "    'min_samples_leaf': range(1, 10)[best['min_samples_leaf']],\n",
    "    'subsample': best['subsample']\n",
    "}\n",
    "\n",
    "# Create a pipeline with the preprocessor and the classifier\n",
    "model = Pipeline(steps=[\n",
    "    ('preprocessor', preprocessor),\n",
    "    ('classifier', GradientBoostingClassifier(**best_params))\n",
    "])\n",
    "print('model created')\n",
    "\n",
    "# Train the model\n",
    "model.fit(X_train, y_train)\n",
    "print('model trained')\n",
    "\n",
    "# Make predictions and evaluate the model\n",
    "y_pred = model.predict(X_test)\n",
    "accuracy = accuracy_score(y_test, y_pred)\n",
    "print(f'Accuracy: {accuracy*100:.2f}%')"
   ]
  },
  {
   "cell_type": "code",
   "execution_count": null,
   "id": "3b92964c",
   "metadata": {},
   "outputs": [],
   "source": []
  },
  {
   "cell_type": "code",
   "execution_count": null,
   "id": "0a5567d2",
   "metadata": {},
   "outputs": [],
   "source": []
  },
  {
   "cell_type": "markdown",
   "id": "827441e0",
   "metadata": {},
   "source": [
    "## automl function "
   ]
  },
  {
   "cell_type": "code",
   "execution_count": null,
   "id": "f659e886",
   "metadata": {},
   "outputs": [],
   "source": [
    "def detectFeatures(X,verbose=True):\n",
    "    '''\n",
    "    Sub-function to detect categorical and continuous features\n",
    "    '''\n",
    "    \n",
    "    # detect categorical and continuous features\n",
    "    categorical_features = X.select_dtypes(\n",
    "        include=['object', 'category']).columns.tolist()\n",
    "    continuous_features = X.select_dtypes(\n",
    "        include=['int64', 'float64']).columns.tolist()\n",
    "    \n",
    "    if verbose:\n",
    "        print('Categorical and continuous features detected')\n",
    "        \n",
    "    return categorical_features,continuous_features"
   ]
  },
  {
   "cell_type": "code",
   "execution_count": null,
   "id": "c04ccf0d",
   "metadata": {},
   "outputs": [],
   "source": [
    "def preProcessor(categorical_features,continuous_features,verbose=True):\n",
    "    '''\n",
    "    Sub-function to create a ColumnTransformer-based preprocessor\n",
    "    '''\n",
    "    \n",
    "    # Define the preprocessor\n",
    "    preprocessor=ColumnTransformer(\n",
    "        transformers=[\n",
    "            ('cat', OneHotEncoder(), categorical_features),\n",
    "            ('num', StandardScaler(), continuous_features)\n",
    "        ])\n",
    "    \n",
    "    if verbose:\n",
    "        print('Preprocessor created')\n",
    "        print('categorical_features:',categorical_features)\n",
    "        print('continuous_features:',continuous_features)\n",
    "        \n",
    "    return preprocessor  "
   ]
  },
  {
   "cell_type": "code",
   "execution_count": null,
   "id": "1ffcd029",
   "metadata": {},
   "outputs": [],
   "source": [
    "def preProcessor(categorical_features,continuous_features,verbose=True):\n",
    "    '''\n",
    "    Sub-function to create a ColumnTransformer-based preprocessor\n",
    "    '''\n",
    "    \n",
    "    # Define the preprocessor\n",
    "    preprocessor=ColumnTransformer(\n",
    "        transformers=[\n",
    "            ('cat', OneHotEncoder(), categorical_features),\n",
    "            ('num', StandardScaler(), continuous_features)\n",
    "        ])\n",
    "    \n",
    "    if verbose:\n",
    "        print('Preprocessor created')\n",
    "        print('categorical_features:',categorical_features)\n",
    "        print('continuous_features:',continuous_features)\n",
    "        \n",
    "    return preprocessor  "
   ]
  },
  {
   "cell_type": "code",
   "execution_count": null,
   "id": "055c6caa",
   "metadata": {},
   "outputs": [],
   "source": [
    "def trainTestSplit(X,y,seed=seed,test_size=test_size,stratify=y,verbose=True):\n",
    "    '''\n",
    "    Sub-function to run a bespoke train_test_split scikit-learn process\n",
    "    '''\n",
    "    \n",
    "    X_train, X_test, y_train, y_test = train_test_split\\\n",
    "    (X, y, test_size=test_size, random_state=seed,stratify=y)\n",
    "    \n",
    "    if verbose:\n",
    "        print('Training and testing splits created')\n",
    "        \n",
    "    splits_dict={\n",
    "        'X_train':X_train,\n",
    "        'X_test':X_test,\n",
    "        'y_train':y_train,\n",
    "        'y_test':y_test\n",
    "    }\n",
    "    \n",
    "    return splits_dict"
   ]
  },
  {
   "cell_type": "code",
   "execution_count": null,
   "id": "f5b4d7d3",
   "metadata": {},
   "outputs": [],
   "source": [
    "def defineAutomlPipeline(preprocessor,seed,time_for_task,ensemble_size,verbose=True):\n",
    "    '''\n",
    "    \n",
    "    '''\n",
    "    \n",
    "    # Define Auto-sklearn classifier and pipeline\n",
    "    automl = AutoSklearnClassifier(\n",
    "        time_left_for_this_task=time_for_task,\n",
    "        seed=seed,\n",
    "        ensemble_kwargs={'ensemble_size': ensemble_size},\n",
    "        memory_limit=1024\n",
    "    )\n",
    "    pipeline = Pipeline(\n",
    "        steps=[\n",
    "            ('preprocessor', preprocessor), \n",
    "            ('classifier', automl)\n",
    "        ]\n",
    "    )\n",
    "    \n",
    "    if verbose:\n",
    "        print('AutoSklearnClassifier and pipeline created')\n",
    "    \n",
    "    return automl,pipeline"
   ]
  },
  {
   "cell_type": "code",
   "execution_count": null,
   "id": "b44f9cc8",
   "metadata": {},
   "outputs": [],
   "source": [
    "def showEval(pipeline,X_test,y_test,verbose=True):\n",
    "    '''\n",
    "    Sub-function to run predictoins and show accuracy\n",
    "    '''\n",
    "    \n",
    "    # evaluate the model\n",
    "    y_pred = pipeline.predict(X_test)\n",
    "    accuracy = accuracy_score(y_test, y_pred)\n",
    "    \n",
    "    if verbose:\n",
    "        print(f\"AutoSklearn accuracy:\\n{accuracy*100:.2f}%\")\n",
    "    \n",
    "    return y_pred,accuracy"
   ]
  },
  {
   "cell_type": "code",
   "execution_count": 1,
   "id": "10f1f9cb",
   "metadata": {},
   "outputs": [],
   "source": [
    "def run_autosklearn_pipeline(X,y,seed,test_size,save_location,filename,verbose=True,time_for_task=3600):\n",
    "\n",
    "    # detect categorical and continuous features\n",
    "    categorical_features = X.select_dtypes(\n",
    "        include=['object', 'category']).columns.tolist()\n",
    "    continuous_features = X.select_dtypes(\n",
    "        include=['int64', 'float64']).columns.tolist()\n",
    "\n",
    "    if verbose:\n",
    "        print('Categorical and continuous features detected')\n",
    "\n",
    "    # Define the preprocessor\n",
    "    preprocessor=ColumnTransformer(\n",
    "        transformers=[\n",
    "            ('cat', OneHotEncoder(), categorical_features),\n",
    "            ('num', StandardScaler(), continuous_features)\n",
    "        ])\n",
    "\n",
    "    if verbose:\n",
    "        print('Preprocessor created')\n",
    "        print('categorical_features:',categorical_features)\n",
    "        print('continuous_features:',continuous_features)\n",
    "\n",
    "    # create train/test splits\n",
    "    X_train, X_test, y_train, y_test = train_test_split\\\n",
    "    (X, y, test_size=test_size, random_state=seed,stratify=y)\n",
    "\n",
    "    if verbose:\n",
    "        print('Training and testing splits created')\n",
    "\n",
    "    # Define Auto-sklearn classifier and pipeline\n",
    "    automl = AutoSklearnClassifier(\n",
    "        time_left_for_this_task=time_for_task,\n",
    "        seed=seed\n",
    "    )\n",
    "    pipeline = Pipeline(\n",
    "        steps=[\n",
    "            ('preprocessor', preprocessor), \n",
    "            ('classifier', automl)\n",
    "        ]\n",
    "    )\n",
    "\n",
    "    if verbose:\n",
    "        print('AutoSklearnClassifier and pipeline created')\n",
    "\n",
    "    # start training\n",
    "    if verbose:\n",
    "        print(f\"\\nTraining the pipeline... (This may take up to {time_for_task//60} minutes)\\n\")\n",
    "\n",
    "    pipeline.fit(X_train, y_train)\n",
    "\n",
    "    # training complete\n",
    "    if verbose:\n",
    "        print(\"\\nTraining complete.\")\n",
    "\n",
    "    # evaluate the model\n",
    "    y_pred = pipeline_1.predict(X_test)\n",
    "    accuracy = accuracy_score(y_test, y_pred)\n",
    "\n",
    "    if verbose:\n",
    "        print(f\"AutoSklearn accuracy:\\n{accuracy*100:.2f}%\")\n",
    "\n",
    "    # save pipeline\n",
    "    joblib.dump(pipeline,f'{save_location+filename}')\n",
    "\n",
    "    return pipeline"
   ]
  },
  {
   "cell_type": "code",
   "execution_count": null,
   "id": "ad3e540b",
   "metadata": {},
   "outputs": [],
   "source": [
    "def run_autosklearn_pipeline(X,y,seed,test_size,save_location,filename,verbose=True,time_for_task=3600):\n",
    "\n",
    "    # detect categorical and continuous features\n",
    "    categorical_features = X.select_dtypes(\n",
    "        include=['object', 'category']).columns.tolist()\n",
    "    continuous_features = X.select_dtypes(\n",
    "        include=['int64', 'float64']).columns.tolist()\n",
    "\n",
    "    if verbose:\n",
    "        print('Categorical and continuous features detected')\n",
    "\n",
    "    # Define the preprocessor\n",
    "    preprocessor=ColumnTransformer(\n",
    "        transformers=[\n",
    "            ('cat', OneHotEncoder(), categorical_features),\n",
    "            ('num', StandardScaler(), continuous_features)\n",
    "        ])\n",
    "\n",
    "    if verbose:\n",
    "        print('Preprocessor created')\n",
    "        print('categorical_features:',categorical_features)\n",
    "        print('continuous_features:',continuous_features)\n",
    "\n",
    "    # create train/test splits\n",
    "    X_train, X_test, y_train, y_test = train_test_split\\\n",
    "    (X, y, test_size=test_size, random_state=seed,stratify=y)\n",
    "\n",
    "    if verbose:\n",
    "        print('Training and testing splits created')\n",
    "\n",
    "    splits={\n",
    "        'X_train':X_train,\n",
    "        'X_test':X_test,\n",
    "        'y_train':y_train,\n",
    "        'y_test':y_test\n",
    "    }    \n",
    "    \n",
    "    # Define Auto-sklearn classifier and pipeline\n",
    "    automl = AutoSklearnClassifier(\n",
    "        time_left_for_this_task=time_for_task,\n",
    "        seed=seed\n",
    "    )\n",
    "    pipeline = Pipeline(\n",
    "        steps=[\n",
    "            ('preprocessor', preprocessor), \n",
    "            ('classifier', automl)\n",
    "        ]\n",
    "    )\n",
    "\n",
    "    if verbose:\n",
    "        print('AutoSklearnClassifier and pipeline created')\n",
    "\n",
    "    # start training\n",
    "    if verbose:\n",
    "        print(f\"\\nTraining the pipeline... (This may take up to {time_for_task//60} minutes)\\n\")\n",
    "\n",
    "    pipeline.fit(X_train, y_train)\n",
    "\n",
    "    # training complete\n",
    "    if verbose:\n",
    "        print(\"\\nTraining complete.\")\n",
    "\n",
    "    # evaluate the model\n",
    "    y_pred = pipeline_1.predict(X_test)\n",
    "    accuracy = accuracy_score(y_test, y_pred)\n",
    "\n",
    "    if verbose:\n",
    "        print(f\"AutoSklearn accuracy:\\n{accuracy*100:.2f}%\")\n",
    "\n",
    "    # save pipeline\n",
    "    joblib.dump(pipeline,f'{save_location+filename}')\n",
    "    \n",
    "    # save splits\n",
    "    joblib.dump(splits,f'{save_location+filename}_splits')\n",
    "\n",
    "    return splits,pipeline"
   ]
  },
  {
   "cell_type": "code",
   "execution_count": null,
   "id": "210b1531",
   "metadata": {},
   "outputs": [],
   "source": [
    "def detectCatCont(X):\n",
    "\n",
    "    # detect categorical and continuous features\n",
    "    categorical_features = X.select_dtypes(\n",
    "        include=['object', 'category']).columns.tolist()\n",
    "    continuous_features = X.select_dtypes(\n",
    "        include=['int64', 'float64']).columns.tolist()\n",
    "\n",
    "    if verbose:\n",
    "        print('Categorical and continuous features detected')"
   ]
  },
  {
   "cell_type": "code",
   "execution_count": null,
   "id": "6c229298",
   "metadata": {},
   "outputs": [],
   "source": []
  },
  {
   "cell_type": "code",
   "execution_count": null,
   "id": "3e19b381",
   "metadata": {},
   "outputs": [],
   "source": [
    "verbose=True"
   ]
  },
  {
   "cell_type": "code",
   "execution_count": null,
   "id": "4a2193ea",
   "metadata": {},
   "outputs": [],
   "source": [
    "# detect categorical and continuous features\n",
    "categorical_features = X_dem.select_dtypes(\n",
    "    include=['object', 'category']).columns.tolist()\n",
    "continuous_features = X_dem.select_dtypes(\n",
    "    include=['int64', 'float64']).columns.tolist()\n",
    "    \n",
    "if verbose:\n",
    "    print('Categorical and continuous features detected')"
   ]
  },
  {
   "cell_type": "code",
   "execution_count": null,
   "id": "4df89cf7",
   "metadata": {},
   "outputs": [],
   "source": [
    "# Define the preprocessor\n",
    "preprocessor=ColumnTransformer(\n",
    "    transformers=[\n",
    "        ('cat', OneHotEncoder(), categorical_features),\n",
    "        ('num', StandardScaler(), continuous_features)\n",
    "    ])\n",
    "\n",
    "if verbose:\n",
    "    print('Preprocessor created')\n",
    "    print('categorical_features:',categorical_features)\n",
    "    print('continuous_features:',continuous_features)"
   ]
  },
  {
   "cell_type": "code",
   "execution_count": null,
   "id": "d0ade1f3",
   "metadata": {},
   "outputs": [],
   "source": [
    "# create train/test splits\n",
    "X_train_1, X_test_1, y_train_1, y_test_1 = train_test_split\\\n",
    "(X_dem, y, test_size=test_size, random_state=seed,stratify=y)\n",
    "\n",
    "if verbose:\n",
    "    print('Training and testing splits created')"
   ]
  },
  {
   "cell_type": "code",
   "execution_count": null,
   "id": "00ca62c6",
   "metadata": {},
   "outputs": [],
   "source": [
    "time_for_task=3600 # seconds\n",
    "\n",
    "# Define Auto-sklearn classifier and pipeline\n",
    "automl = AutoSklearnClassifier(\n",
    "    time_left_for_this_task=time_for_task,\n",
    "    seed=seed\n",
    ")\n",
    "pipeline_1 = Pipeline(\n",
    "    steps=[\n",
    "        ('preprocessor', preprocessor), \n",
    "        ('classifier', automl)\n",
    "    ]\n",
    ")\n",
    "\n",
    "if verbose:\n",
    "    print('AutoSklearnClassifier and pipeline created')"
   ]
  },
  {
   "cell_type": "code",
   "execution_count": null,
   "id": "c4c62a6d",
   "metadata": {},
   "outputs": [],
   "source": [
    "# start training\n",
    "if verbose:\n",
    "    print(f\"\\nTraining the pipeline... (This may take up to {time_for_task//60} minutes)\\n\")\n",
    "\n",
    "pipeline_1.fit(X_train_1, y_train_1)\n",
    "\n",
    "# training complete\n",
    "if verbose:\n",
    "    print(\"\\nTraining complete.\")"
   ]
  },
  {
   "cell_type": "code",
   "execution_count": null,
   "id": "41351133",
   "metadata": {},
   "outputs": [],
   "source": [
    "# evaluate the model\n",
    "y_pred_1 = pipeline_1.predict(X_test_1)\n",
    "accuracy = accuracy_score(y_test_1, y_pred_1)\n",
    "\n",
    "if verbose:\n",
    "    print(f\"AutoSklearn accuracy:\\n{accuracy*100:.2f}%\")"
   ]
  },
  {
   "cell_type": "code",
   "execution_count": null,
   "id": "6823f027",
   "metadata": {},
   "outputs": [],
   "source": [
    "import joblib\n",
    "\n",
    "# save pipeline\n",
    "joblib.dump(pipeline_1,'../joblib/2_pipeline_layer1')"
   ]
  },
  {
   "cell_type": "code",
   "execution_count": null,
   "id": "b41256b8",
   "metadata": {},
   "outputs": [],
   "source": []
  },
  {
   "cell_type": "code",
   "execution_count": 2,
   "id": "7406bf7a",
   "metadata": {},
   "outputs": [],
   "source": [
    "#### Data Preparation"
   ]
  },
  {
   "cell_type": "code",
   "execution_count": 3,
   "id": "64beba38",
   "metadata": {},
   "outputs": [],
   "source": [
    "##### Process categorical and continuous columns"
   ]
  },
  {
   "cell_type": "code",
   "execution_count": 4,
   "id": "00d70fc1",
   "metadata": {},
   "outputs": [
    {
     "ename": "NameError",
     "evalue": "name 'df' is not defined",
     "output_type": "error",
     "traceback": [
      "\u001b[0;31m---------------------------------------------------------------------------\u001b[0m",
      "\u001b[0;31mNameError\u001b[0m                                 Traceback (most recent call last)",
      "Cell \u001b[0;32mIn [4], line 1\u001b[0m\n\u001b[0;32m----> 1\u001b[0m \u001b[43mdf\u001b[49m\u001b[38;5;241m.\u001b[39mhead(\u001b[38;5;241m3\u001b[39m)\n",
      "\u001b[0;31mNameError\u001b[0m: name 'df' is not defined"
     ]
    }
   ],
   "source": [
    "df.head(3)"
   ]
  },
  {
   "cell_type": "code",
   "execution_count": null,
   "id": "d43e61fc",
   "metadata": {},
   "outputs": [],
   "source": [
    "# make copy to preserve our progress\n",
    "df_modeling=copy.deepcopy(df)"
   ]
  },
  {
   "cell_type": "code",
   "execution_count": 5,
   "id": "cbdabb50",
   "metadata": {},
   "outputs": [
    {
     "ename": "SyntaxError",
     "evalue": "invalid syntax (2976693097.py, line 1)",
     "output_type": "error",
     "traceback": [
      "\u001b[0;36m  Cell \u001b[0;32mIn [5], line 1\u001b[0;36m\u001b[0m\n\u001b[0;31m    First, let's convert some categorical columns to binary. This will help me keep track of my progress, as I'll be able to clearly see which columns still need to be processed. Some may need to be discretized, like `job` and `education`.\u001b[0m\n\u001b[0m              ^\u001b[0m\n\u001b[0;31mSyntaxError\u001b[0m\u001b[0;31m:\u001b[0m invalid syntax\n"
     ]
    }
   ],
   "source": [
    "First, let's convert some categorical columns to binary. This will help me keep track of my progress, as I'll be able to clearly see which columns still need to be processed. Some may need to be discretized, like `job` and `education`."
   ]
  },
  {
   "cell_type": "code",
   "execution_count": null,
   "id": "e06f1d7c",
   "metadata": {},
   "outputs": [],
   "source": []
  },
  {
   "cell_type": "code",
   "execution_count": 6,
   "id": "8a4cfcf9",
   "metadata": {},
   "outputs": [
    {
     "ename": "NameError",
     "evalue": "name 'df_modeling' is not defined",
     "output_type": "error",
     "traceback": [
      "\u001b[0;31m---------------------------------------------------------------------------\u001b[0m",
      "\u001b[0;31mNameError\u001b[0m                                 Traceback (most recent call last)",
      "Cell \u001b[0;32mIn [6], line 1\u001b[0m\n\u001b[0;32m----> 1\u001b[0m \u001b[43mdf_modeling\u001b[49m[\u001b[38;5;124m'\u001b[39m\u001b[38;5;124mloan\u001b[39m\u001b[38;5;124m'\u001b[39m]\u001b[38;5;241m.\u001b[39mvalue_counts()\n",
      "\u001b[0;31mNameError\u001b[0m: name 'df_modeling' is not defined"
     ]
    }
   ],
   "source": [
    "df_modeling['loan'].value_counts()"
   ]
  },
  {
   "cell_type": "code",
   "execution_count": 7,
   "id": "28c2885a",
   "metadata": {},
   "outputs": [
    {
     "ename": "SyntaxError",
     "evalue": "invalid syntax (347794004.py, line 4)",
     "output_type": "error",
     "traceback": [
      "\u001b[0;36m  Cell \u001b[0;32mIn [7], line 4\u001b[0;36m\u001b[0m\n\u001b[0;31m    df_modeling['loan']=df_modeling['loan'].map({'yes': 1, 'no': 0})df_modeling.head(3)\u001b[0m\n\u001b[0m                                                                    ^\u001b[0m\n\u001b[0;31mSyntaxError\u001b[0m\u001b[0;31m:\u001b[0m invalid syntax\n"
     ]
    }
   ],
   "source": [
    "df_modeling['y']=df_modeling['y'].map({'yes': 1, 'no': 0})\n",
    "df_modeling['default']=df_modeling['default'].map({'yes': 1, 'no': 0})\n",
    "df_modeling['housing']=df_modeling['housing'].map({'yes': 1, 'no': 0})\n",
    "df_modeling['loan']=df_modeling['loan'].map({'yes': 1, 'no': 0})df_modeling.head(3)"
   ]
  },
  {
   "cell_type": "code",
   "execution_count": 8,
   "id": "87748a19",
   "metadata": {},
   "outputs": [
    {
     "ename": "SyntaxError",
     "evalue": "invalid syntax (2969171827.py, line 1)",
     "output_type": "error",
     "traceback": [
      "\u001b[0;36m  Cell \u001b[0;32mIn [8], line 1\u001b[0;36m\u001b[0m\n\u001b[0;31m    Those are all the binary features. We still have to get the continuous variables separated and have to discretize, or \"OneHotEncode\" the rest of the categorical columns.\u001b[0m\n\u001b[0m          ^\u001b[0m\n\u001b[0;31mSyntaxError\u001b[0m\u001b[0;31m:\u001b[0m invalid syntax\n"
     ]
    }
   ],
   "source": [
    "Those are all the binary features. We still have to get the continuous variables separated and have to discretize, or \"OneHotEncode\" the rest of the categorical columns."
   ]
  },
  {
   "cell_type": "code",
   "execution_count": 9,
   "id": "5a8fa428",
   "metadata": {},
   "outputs": [
    {
     "ename": "NameError",
     "evalue": "name 'df_modeling' is not defined",
     "output_type": "error",
     "traceback": [
      "\u001b[0;31m---------------------------------------------------------------------------\u001b[0m",
      "\u001b[0;31mNameError\u001b[0m                                 Traceback (most recent call last)",
      "Cell \u001b[0;32mIn [9], line 3\u001b[0m\n\u001b[1;32m      1\u001b[0m \u001b[38;5;66;03m# define the categorical columns\u001b[39;00m\n\u001b[1;32m      2\u001b[0m cat_cols\u001b[38;5;241m=\u001b[39m[\u001b[38;5;124m'\u001b[39m\u001b[38;5;124mjob\u001b[39m\u001b[38;5;124m'\u001b[39m,\u001b[38;5;124m'\u001b[39m\u001b[38;5;124mmarital\u001b[39m\u001b[38;5;124m'\u001b[39m,\u001b[38;5;124m'\u001b[39m\u001b[38;5;124meducation\u001b[39m\u001b[38;5;124m'\u001b[39m,\u001b[38;5;124m'\u001b[39m\u001b[38;5;124mdefault\u001b[39m\u001b[38;5;124m'\u001b[39m,\u001b[38;5;124m'\u001b[39m\u001b[38;5;124mhousing\u001b[39m\u001b[38;5;124m'\u001b[39m,\u001b[38;5;124m'\u001b[39m\u001b[38;5;124mloan\u001b[39m\u001b[38;5;124m'\u001b[39m,\u001b[38;5;124m'\u001b[39m\u001b[38;5;124mcontact\u001b[39m\u001b[38;5;124m'\u001b[39m,\u001b[38;5;124m'\u001b[39m\u001b[38;5;124mmonth\u001b[39m\u001b[38;5;124m'\u001b[39m]\n\u001b[0;32m----> 3\u001b[0m df_cat\u001b[38;5;241m=\u001b[39m\u001b[43mdf_modeling\u001b[49m[cat_cols]\n",
      "\u001b[0;31mNameError\u001b[0m: name 'df_modeling' is not defined"
     ]
    }
   ],
   "source": [
    "# define the categorical columns\n",
    "cat_cols=['job','marital','education','default','housing','loan','contact','month']\n",
    "df_cat=df_modeling[cat_cols]"
   ]
  },
  {
   "cell_type": "code",
   "execution_count": 10,
   "id": "8f70fc20",
   "metadata": {},
   "outputs": [
    {
     "ename": "NameError",
     "evalue": "name 'df_cat' is not defined",
     "output_type": "error",
     "traceback": [
      "\u001b[0;31m---------------------------------------------------------------------------\u001b[0m",
      "\u001b[0;31mNameError\u001b[0m                                 Traceback (most recent call last)",
      "Cell \u001b[0;32mIn [10], line 1\u001b[0m\n\u001b[0;32m----> 1\u001b[0m \u001b[43mdf_cat\u001b[49m\u001b[38;5;241m.\u001b[39mhead(\u001b[38;5;241m3\u001b[39m)\n",
      "\u001b[0;31mNameError\u001b[0m: name 'df_cat' is not defined"
     ]
    }
   ],
   "source": [
    "df_cat.head(3)"
   ]
  },
  {
   "cell_type": "code",
   "execution_count": 11,
   "id": "cfabe6b1",
   "metadata": {},
   "outputs": [
    {
     "ename": "NameError",
     "evalue": "name 'df_cat' is not defined",
     "output_type": "error",
     "traceback": [
      "\u001b[0;31m---------------------------------------------------------------------------\u001b[0m",
      "\u001b[0;31mNameError\u001b[0m                                 Traceback (most recent call last)",
      "Cell \u001b[0;32mIn [11], line 4\u001b[0m\n\u001b[1;32m      1\u001b[0m \u001b[38;5;66;03m# make dataframe of continuous variables\u001b[39;00m\n\u001b[1;32m      2\u001b[0m \n\u001b[1;32m      3\u001b[0m \u001b[38;5;66;03m# set of categorical columns\u001b[39;00m\n\u001b[0;32m----> 4\u001b[0m df_cat_set \u001b[38;5;241m=\u001b[39m \u001b[38;5;28mset\u001b[39m(\u001b[43mdf_cat\u001b[49m\u001b[38;5;241m.\u001b[39mcolumns)\n\u001b[1;32m      5\u001b[0m \u001b[38;5;66;03m# set of all columns\u001b[39;00m\n\u001b[1;32m      6\u001b[0m df_modeling_set \u001b[38;5;241m=\u001b[39m \u001b[38;5;28mset\u001b[39m(df_modeling\u001b[38;5;241m.\u001b[39mcolumns)\n",
      "\u001b[0;31mNameError\u001b[0m: name 'df_cat' is not defined"
     ]
    }
   ],
   "source": [
    "# make dataframe of continuous variables\n",
    "\n",
    "# set of categorical columns\n",
    "df_cat_set = set(df_cat.columns)\n",
    "# set of all columns\n",
    "df_modeling_set = set(df_modeling.columns)\n",
    "\n",
    "# Find columns that are in df_modeling but not in df_cat\n",
    "difference = df_modeling_set - df_cat_set\n",
    "\n",
    "# Convert the set to list and name it the continuous\n",
    "cont_cols = list(difference)\n",
    "cont_cols.remove('y')\n",
    "\n",
    "# print(\"Columns in DataFrame but not in the list:\\n\",cont_cols)\n",
    "\n",
    "df_cont=df_modeling[cont_cols]\n",
    "df_cont.head(3)"
   ]
  },
  {
   "cell_type": "code",
   "execution_count": 12,
   "id": "7cb491d3",
   "metadata": {},
   "outputs": [
    {
     "ename": "NameError",
     "evalue": "name 'df_cat' is not defined",
     "output_type": "error",
     "traceback": [
      "\u001b[0;31m---------------------------------------------------------------------------\u001b[0m",
      "\u001b[0;31mNameError\u001b[0m                                 Traceback (most recent call last)",
      "Cell \u001b[0;32mIn [12], line 2\u001b[0m\n\u001b[1;32m      1\u001b[0m \u001b[38;5;66;03m# convert the categorical columns to the 'category' type\u001b[39;00m\n\u001b[0;32m----> 2\u001b[0m \u001b[38;5;28;01mfor\u001b[39;00m col \u001b[38;5;129;01min\u001b[39;00m \u001b[43mdf_cat\u001b[49m\u001b[38;5;241m.\u001b[39mcolumns:\n\u001b[1;32m      3\u001b[0m     df_cat\u001b[38;5;241m.\u001b[39mloc[:,col] \u001b[38;5;241m=\u001b[39m df_cat[col]\u001b[38;5;241m.\u001b[39mastype(\u001b[38;5;124m'\u001b[39m\u001b[38;5;124mcategory\u001b[39m\u001b[38;5;124m'\u001b[39m)\n",
      "\u001b[0;31mNameError\u001b[0m: name 'df_cat' is not defined"
     ]
    }
   ],
   "source": [
    "# convert the categorical columns to the 'category' type\n",
    "for col in df_cat.columns:\n",
    "    df_cat.loc[:,col] = df_cat[col].astype('category')"
   ]
  },
  {
   "cell_type": "code",
   "execution_count": 13,
   "id": "60725e19",
   "metadata": {},
   "outputs": [
    {
     "ename": "NameError",
     "evalue": "name 'df_cat' is not defined",
     "output_type": "error",
     "traceback": [
      "\u001b[0;31m---------------------------------------------------------------------------\u001b[0m",
      "\u001b[0;31mNameError\u001b[0m                                 Traceback (most recent call last)",
      "Cell \u001b[0;32mIn [13], line 1\u001b[0m\n\u001b[0;32m----> 1\u001b[0m \u001b[43mdf_cat\u001b[49m\u001b[38;5;241m.\u001b[39mhead(\u001b[38;5;241m3\u001b[39m)\n",
      "\u001b[0;31mNameError\u001b[0m: name 'df_cat' is not defined"
     ]
    }
   ],
   "source": [
    "df_cat.head(3)"
   ]
  },
  {
   "cell_type": "code",
   "execution_count": 14,
   "id": "b2d0aede",
   "metadata": {},
   "outputs": [
    {
     "ename": "NameError",
     "evalue": "name 'df_cat' is not defined",
     "output_type": "error",
     "traceback": [
      "\u001b[0;31m---------------------------------------------------------------------------\u001b[0m",
      "\u001b[0;31mNameError\u001b[0m                                 Traceback (most recent call last)",
      "Cell \u001b[0;32mIn [14], line 3\u001b[0m\n\u001b[1;32m      1\u001b[0m \u001b[38;5;66;03m# discretize the categorical columns\u001b[39;00m\n\u001b[1;32m      2\u001b[0m already_encoded\u001b[38;5;241m=\u001b[39m[\u001b[38;5;124m'\u001b[39m\u001b[38;5;124mdefault\u001b[39m\u001b[38;5;124m'\u001b[39m,\u001b[38;5;124m'\u001b[39m\u001b[38;5;124mhousing\u001b[39m\u001b[38;5;124m'\u001b[39m,\u001b[38;5;124m'\u001b[39m\u001b[38;5;124mloan\u001b[39m\u001b[38;5;124m'\u001b[39m,\u001b[38;5;124m'\u001b[39m\u001b[38;5;124mday\u001b[39m\u001b[38;5;124m'\u001b[39m]\n\u001b[0;32m----> 3\u001b[0m columns_to_encode \u001b[38;5;241m=\u001b[39m [col \u001b[38;5;28;01mfor\u001b[39;00m col \u001b[38;5;129;01min\u001b[39;00m \u001b[43mdf_cat\u001b[49m\u001b[38;5;241m.\u001b[39mcolumns \u001b[38;5;28;01mif\u001b[39;00m col \u001b[38;5;129;01mnot\u001b[39;00m \u001b[38;5;129;01min\u001b[39;00m already_encoded]\n\u001b[1;32m      4\u001b[0m prefixes\u001b[38;5;241m=\u001b[39mcolumns_to_encode\n\u001b[1;32m      6\u001b[0m \u001b[38;5;66;03m# apply get_dummies\u001b[39;00m\n",
      "\u001b[0;31mNameError\u001b[0m: name 'df_cat' is not defined"
     ]
    }
   ],
   "source": [
    "# discretize the categorical columns\n",
    "already_encoded=['default','housing','loan','day']\n",
    "columns_to_encode = [col for col in df_cat.columns if col not in already_encoded]\n",
    "prefixes=columns_to_encode\n",
    "\n",
    "# apply get_dummies\n",
    "df_cat=pd.get_dummies(data=df_cat[columns_to_encode],prefix=prefixes,drop_first=True,dtype='int')\n",
    "\n",
    "# confirm\n",
    "df_cat.info()"
   ]
  },
  {
   "cell_type": "code",
   "execution_count": 15,
   "id": "8c27d635",
   "metadata": {},
   "outputs": [
    {
     "ename": "NameError",
     "evalue": "name 'pd' is not defined",
     "output_type": "error",
     "traceback": [
      "\u001b[0;31m---------------------------------------------------------------------------\u001b[0m",
      "\u001b[0;31mNameError\u001b[0m                                 Traceback (most recent call last)",
      "Cell \u001b[0;32mIn [15], line 2\u001b[0m\n\u001b[1;32m      1\u001b[0m \u001b[38;5;66;03m# add the continuous and categorical columns together\u001b[39;00m\n\u001b[0;32m----> 2\u001b[0m df_x\u001b[38;5;241m=\u001b[39m\u001b[43mpd\u001b[49m\u001b[38;5;241m.\u001b[39mconcat([df_cat,df_cont],axis\u001b[38;5;241m=\u001b[39m\u001b[38;5;241m1\u001b[39m)\n\u001b[1;32m      3\u001b[0m df_x\u001b[38;5;241m.\u001b[39minfo()\n",
      "\u001b[0;31mNameError\u001b[0m: name 'pd' is not defined"
     ]
    }
   ],
   "source": [
    "# add the continuous and categorical columns together\n",
    "df_x=pd.concat([df_cat,df_cont],axis=1)\n",
    "df_x.info()"
   ]
  },
  {
   "cell_type": "code",
   "execution_count": 16,
   "id": "29604dda",
   "metadata": {},
   "outputs": [],
   "source": [
    "##### Define X and y"
   ]
  },
  {
   "cell_type": "code",
   "execution_count": 17,
   "id": "fad7e063",
   "metadata": {},
   "outputs": [
    {
     "ename": "NameError",
     "evalue": "name 'df_x' is not defined",
     "output_type": "error",
     "traceback": [
      "\u001b[0;31m---------------------------------------------------------------------------\u001b[0m",
      "\u001b[0;31mNameError\u001b[0m                                 Traceback (most recent call last)",
      "Cell \u001b[0;32mIn [17], line 1\u001b[0m\n\u001b[0;32m----> 1\u001b[0m X\u001b[38;5;241m=\u001b[39m\u001b[43mdf_x\u001b[49m\n\u001b[1;32m      2\u001b[0m y\u001b[38;5;241m=\u001b[39mdf_modeling[[col \u001b[38;5;28;01mfor\u001b[39;00m col \u001b[38;5;129;01min\u001b[39;00m df_modeling\u001b[38;5;241m.\u001b[39mcolumns \u001b[38;5;28;01mif\u001b[39;00m col \u001b[38;5;241m==\u001b[39m \u001b[38;5;124m'\u001b[39m\u001b[38;5;124my\u001b[39m\u001b[38;5;124m'\u001b[39m]]\n",
      "\u001b[0;31mNameError\u001b[0m: name 'df_x' is not defined"
     ]
    }
   ],
   "source": [
    "X=df_x\n",
    "y=df_modeling[[col for col in df_modeling.columns if col == 'y']]"
   ]
  },
  {
   "cell_type": "code",
   "execution_count": 18,
   "id": "608102dc",
   "metadata": {},
   "outputs": [],
   "source": [
    "##### `train_test_split`"
   ]
  },
  {
   "cell_type": "code",
   "execution_count": 19,
   "id": "a4745a51",
   "metadata": {},
   "outputs": [
    {
     "ename": "NameError",
     "evalue": "name 'train_test_split' is not defined",
     "output_type": "error",
     "traceback": [
      "\u001b[0;31m---------------------------------------------------------------------------\u001b[0m",
      "\u001b[0;31mNameError\u001b[0m                                 Traceback (most recent call last)",
      "Cell \u001b[0;32mIn [19], line 5\u001b[0m\n\u001b[1;32m      1\u001b[0m \u001b[38;5;66;03m# train/test split\u001b[39;00m\n\u001b[1;32m      2\u001b[0m X_train, \\\n\u001b[1;32m      3\u001b[0m X_test, \\\n\u001b[1;32m      4\u001b[0m y_train, \\\n\u001b[0;32m----> 5\u001b[0m y_test \u001b[38;5;241m=\u001b[39m \u001b[43mtrain_test_split\u001b[49m(X,\n\u001b[1;32m      6\u001b[0m                           y,\n\u001b[1;32m      7\u001b[0m                           test_size\u001b[38;5;241m=\u001b[39mtest_size,\n\u001b[1;32m      8\u001b[0m                           stratify\u001b[38;5;241m=\u001b[39my,\n\u001b[1;32m      9\u001b[0m                           random_state\u001b[38;5;241m=\u001b[39mseed)\n",
      "\u001b[0;31mNameError\u001b[0m: name 'train_test_split' is not defined"
     ]
    }
   ],
   "source": [
    "# train/test split\n",
    "X_train, \\\n",
    "X_test, \\\n",
    "y_train, \\\n",
    "y_test = train_test_split(X,\n",
    "                          y,\n",
    "                          test_size=test_size,\n",
    "                          stratify=y,\n",
    "                          random_state=seed)"
   ]
  },
  {
   "cell_type": "code",
   "execution_count": 20,
   "id": "083a35df",
   "metadata": {},
   "outputs": [
    {
     "ename": "SyntaxError",
     "evalue": "invalid syntax (1626757199.py, line 1)",
     "output_type": "error",
     "traceback": [
      "\u001b[0;36m  Cell \u001b[0;32mIn [20], line 1\u001b[0;36m\u001b[0m\n\u001b[0;31m    Now we have the dataset ready to go.\u001b[0m\n\u001b[0m        ^\u001b[0m\n\u001b[0;31mSyntaxError\u001b[0m\u001b[0;31m:\u001b[0m invalid syntax\n"
     ]
    }
   ],
   "source": [
    "Now we have the dataset ready to go."
   ]
  },
  {
   "cell_type": "code",
   "execution_count": 21,
   "id": "0e5ea047",
   "metadata": {},
   "outputs": [
    {
     "ename": "NameError",
     "evalue": "name 'X' is not defined",
     "output_type": "error",
     "traceback": [
      "\u001b[0;31m---------------------------------------------------------------------------\u001b[0m",
      "\u001b[0;31mNameError\u001b[0m                                 Traceback (most recent call last)",
      "Cell \u001b[0;32mIn [21], line 1\u001b[0m\n\u001b[0;32m----> 1\u001b[0m \u001b[43mX\u001b[49m\u001b[38;5;241m.\u001b[39minfo()\n",
      "\u001b[0;31mNameError\u001b[0m: name 'X' is not defined"
     ]
    }
   ],
   "source": [
    "X.info()"
   ]
  },
  {
   "cell_type": "code",
   "execution_count": 22,
   "id": "284c64c8",
   "metadata": {},
   "outputs": [],
   "source": [
    "# preprocess the data"
   ]
  },
  {
   "cell_type": "code",
   "execution_count": 23,
   "id": "67c9b059",
   "metadata": {},
   "outputs": [
    {
     "ename": "NameError",
     "evalue": "name 'df' is not defined",
     "output_type": "error",
     "traceback": [
      "\u001b[0;31m---------------------------------------------------------------------------\u001b[0m",
      "\u001b[0;31mNameError\u001b[0m                                 Traceback (most recent call last)",
      "Cell \u001b[0;32mIn [23], line 1\u001b[0m\n\u001b[0;32m----> 1\u001b[0m \u001b[43mdf\u001b[49m\u001b[38;5;241m.\u001b[39minfo()\n",
      "\u001b[0;31mNameError\u001b[0m: name 'df' is not defined"
     ]
    }
   ],
   "source": [
    "df.info()"
   ]
  },
  {
   "cell_type": "code",
   "execution_count": 24,
   "id": "5eac8670",
   "metadata": {},
   "outputs": [
    {
     "ename": "NameError",
     "evalue": "name 'df' is not defined",
     "output_type": "error",
     "traceback": [
      "\u001b[0;31m---------------------------------------------------------------------------\u001b[0m",
      "\u001b[0;31mNameError\u001b[0m                                 Traceback (most recent call last)",
      "Cell \u001b[0;32mIn [24], line 1\u001b[0m\n\u001b[0;32m----> 1\u001b[0m \u001b[43mdf\u001b[49m\u001b[38;5;241m.\u001b[39mhead(\u001b[38;5;241m1\u001b[39m)\n",
      "\u001b[0;31mNameError\u001b[0m: name 'df' is not defined"
     ]
    }
   ],
   "source": [
    "df.head(1)"
   ]
  },
  {
   "cell_type": "code",
   "execution_count": 25,
   "id": "ccec841a",
   "metadata": {},
   "outputs": [
    {
     "ename": "NameError",
     "evalue": "name 'pd' is not defined",
     "output_type": "error",
     "traceback": [
      "\u001b[0;31m---------------------------------------------------------------------------\u001b[0m",
      "\u001b[0;31mNameError\u001b[0m                                 Traceback (most recent call last)",
      "Cell \u001b[0;32mIn [25], line 20\u001b[0m\n\u001b[1;32m     14\u001b[0m continuous_cols\u001b[38;5;241m=\u001b[39m[\u001b[38;5;124m'\u001b[39m\u001b[38;5;124mage\u001b[39m\u001b[38;5;124m'\u001b[39m,\n\u001b[1;32m     15\u001b[0m                  \u001b[38;5;124m'\u001b[39m\u001b[38;5;124mbalance\u001b[39m\u001b[38;5;124m'\u001b[39m,\n\u001b[1;32m     16\u001b[0m                  \u001b[38;5;124m'\u001b[39m\u001b[38;5;124mduration\u001b[39m\u001b[38;5;124m'\u001b[39m,\n\u001b[1;32m     17\u001b[0m                  \u001b[38;5;124m'\u001b[39m\u001b[38;5;124mcampaign\u001b[39m\u001b[38;5;124m'\u001b[39m]\n\u001b[1;32m     19\u001b[0m \u001b[38;5;28;01mfor\u001b[39;00m col \u001b[38;5;129;01min\u001b[39;00m categorical_cols:\n\u001b[0;32m---> 20\u001b[0m     df[col]\u001b[38;5;241m=\u001b[39m\u001b[43mpd\u001b[49m\u001b[38;5;241m.\u001b[39mCategorical(df[col])\n\u001b[1;32m     22\u001b[0m \u001b[38;5;28;01mfor\u001b[39;00m col \u001b[38;5;129;01min\u001b[39;00m continuous_cols:\n\u001b[1;32m     23\u001b[0m     df[col]\u001b[38;5;241m=\u001b[39mdf[col]\u001b[38;5;241m.\u001b[39mastype(\u001b[38;5;124m'\u001b[39m\u001b[38;5;124mint64\u001b[39m\u001b[38;5;124m'\u001b[39m)\n",
      "\u001b[0;31mNameError\u001b[0m: name 'pd' is not defined"
     ]
    }
   ],
   "source": [
    "# define categorical columns as such\n",
    "\n",
    "categorical_cols=['job',\n",
    "                  'marital',\n",
    "                  'education',\n",
    "                  'default',\n",
    "                  'housing',\n",
    "                  'loan',\n",
    "                  'contact',\n",
    "                  'day',\n",
    "                  'month',\n",
    "                  'y']\n",
    "\n",
    "continuous_cols=['age',\n",
    "                 'balance',\n",
    "                 'duration',\n",
    "                 'campaign']\n",
    "\n",
    "for col in categorical_cols:\n",
    "    df[col]=pd.Categorical(df[col])\n",
    "    \n",
    "for col in continuous_cols:\n",
    "    df[col]=df[col].astype('int64')\n",
    "\n",
    "df.info()"
   ]
  },
  {
   "cell_type": "code",
   "execution_count": 26,
   "id": "68319cd0",
   "metadata": {},
   "outputs": [
    {
     "ename": "NameError",
     "evalue": "name 'df' is not defined",
     "output_type": "error",
     "traceback": [
      "\u001b[0;31m---------------------------------------------------------------------------\u001b[0m",
      "\u001b[0;31mNameError\u001b[0m                                 Traceback (most recent call last)",
      "Cell \u001b[0;32mIn [26], line 1\u001b[0m\n\u001b[0;32m----> 1\u001b[0m X\u001b[38;5;241m=\u001b[39m\u001b[43mdf\u001b[49m[[col \u001b[38;5;28;01mfor\u001b[39;00m col \u001b[38;5;129;01min\u001b[39;00m df\u001b[38;5;241m.\u001b[39mcolumns \u001b[38;5;28;01mif\u001b[39;00m col \u001b[38;5;241m!=\u001b[39m \u001b[38;5;124m'\u001b[39m\u001b[38;5;124my\u001b[39m\u001b[38;5;124m'\u001b[39m]]\n\u001b[1;32m      2\u001b[0m y\u001b[38;5;241m=\u001b[39mdf[[\u001b[38;5;124m'\u001b[39m\u001b[38;5;124my\u001b[39m\u001b[38;5;124m'\u001b[39m]]\n",
      "\u001b[0;31mNameError\u001b[0m: name 'df' is not defined"
     ]
    }
   ],
   "source": [
    "X=df[[col for col in df.columns if col != 'y']]\n",
    "y=df[['y']]"
   ]
  },
  {
   "cell_type": "code",
   "execution_count": 27,
   "id": "bc880290",
   "metadata": {},
   "outputs": [
    {
     "ename": "NameError",
     "evalue": "name 'X' is not defined",
     "output_type": "error",
     "traceback": [
      "\u001b[0;31m---------------------------------------------------------------------------\u001b[0m",
      "\u001b[0;31mNameError\u001b[0m                                 Traceback (most recent call last)",
      "Cell \u001b[0;32mIn [27], line 2\u001b[0m\n\u001b[1;32m      1\u001b[0m \u001b[38;5;66;03m# first, separate categorical from continuous features\u001b[39;00m\n\u001b[0;32m----> 2\u001b[0m categorical_features \u001b[38;5;241m=\u001b[39m \u001b[43mX\u001b[49m\u001b[38;5;241m.\u001b[39mselect_dtypes(include\u001b[38;5;241m=\u001b[39m[\u001b[38;5;124m'\u001b[39m\u001b[38;5;124mobject\u001b[39m\u001b[38;5;124m'\u001b[39m, \u001b[38;5;124m'\u001b[39m\u001b[38;5;124mcategory\u001b[39m\u001b[38;5;124m'\u001b[39m])\u001b[38;5;241m.\u001b[39mcolumns\u001b[38;5;241m.\u001b[39mtolist()\n\u001b[1;32m      3\u001b[0m continuous_features \u001b[38;5;241m=\u001b[39m X\u001b[38;5;241m.\u001b[39mselect_dtypes(include\u001b[38;5;241m=\u001b[39m[\u001b[38;5;124m'\u001b[39m\u001b[38;5;124mint64\u001b[39m\u001b[38;5;124m'\u001b[39m, \u001b[38;5;124m'\u001b[39m\u001b[38;5;124mfloat64\u001b[39m\u001b[38;5;124m'\u001b[39m])\u001b[38;5;241m.\u001b[39mcolumns\u001b[38;5;241m.\u001b[39mtolist()\n\u001b[1;32m      4\u001b[0m \u001b[38;5;28mprint\u001b[39m(\u001b[38;5;124m'\u001b[39m\u001b[38;5;124mfeatures separated\u001b[39m\u001b[38;5;124m'\u001b[39m)\n",
      "\u001b[0;31mNameError\u001b[0m: name 'X' is not defined"
     ]
    }
   ],
   "source": [
    "# first, separate categorical from continuous features\n",
    "categorical_features = X.select_dtypes(include=['object', 'category']).columns.tolist()\n",
    "continuous_features = X.select_dtypes(include=['int64', 'float64']).columns.tolist()\n",
    "print('features separated')"
   ]
  },
  {
   "cell_type": "code",
   "execution_count": 28,
   "id": "b05d3f32",
   "metadata": {},
   "outputs": [
    {
     "ename": "SyntaxError",
     "evalue": "EOL while scanning string literal (2006289140.py, line 1)",
     "output_type": "error",
     "traceback": [
      "\u001b[0;36m  Cell \u001b[0;32mIn [28], line 1\u001b[0;36m\u001b[0m\n\u001b[0;31m    We'll be making a pipeline that includes a preprocessor to handle features that need to be scaled:\u001b[0m\n\u001b[0m                                                                                                      ^\u001b[0m\n\u001b[0;31mSyntaxError\u001b[0m\u001b[0;31m:\u001b[0m EOL while scanning string literal\n"
     ]
    }
   ],
   "source": [
    "We'll be making a pipeline that includes a preprocessor to handle features that need to be scaled:"
   ]
  },
  {
   "cell_type": "code",
   "execution_count": 29,
   "id": "73e2aef4",
   "metadata": {},
   "outputs": [
    {
     "ename": "NameError",
     "evalue": "name 'ColumnTransformer' is not defined",
     "output_type": "error",
     "traceback": [
      "\u001b[0;31m---------------------------------------------------------------------------\u001b[0m",
      "\u001b[0;31mNameError\u001b[0m                                 Traceback (most recent call last)",
      "Cell \u001b[0;32mIn [29], line 2\u001b[0m\n\u001b[1;32m      1\u001b[0m \u001b[38;5;66;03m# create preprocessor to be used in next step\u001b[39;00m\n\u001b[0;32m----> 2\u001b[0m preprocessor \u001b[38;5;241m=\u001b[39m \u001b[43mColumnTransformer\u001b[49m(\n\u001b[1;32m      3\u001b[0m     transformers\u001b[38;5;241m=\u001b[39m[\n\u001b[1;32m      4\u001b[0m         (\u001b[38;5;124m'\u001b[39m\u001b[38;5;124mnum\u001b[39m\u001b[38;5;124m'\u001b[39m, StandardScaler(), continuous_features),\n\u001b[1;32m      5\u001b[0m         (\u001b[38;5;124m'\u001b[39m\u001b[38;5;124mcat\u001b[39m\u001b[38;5;124m'\u001b[39m, OneHotEncoder(), categorical_features)\n\u001b[1;32m      6\u001b[0m     ])\n\u001b[1;32m      7\u001b[0m \u001b[38;5;28mprint\u001b[39m(\u001b[38;5;124m'\u001b[39m\u001b[38;5;124mpreprocessor created\u001b[39m\u001b[38;5;124m'\u001b[39m)\n",
      "\u001b[0;31mNameError\u001b[0m: name 'ColumnTransformer' is not defined"
     ]
    }
   ],
   "source": [
    "# create preprocessor to be used in next step\n",
    "preprocessor = ColumnTransformer(\n",
    "    transformers=[\n",
    "        ('num', StandardScaler(), continuous_features),\n",
    "        ('cat', OneHotEncoder(), categorical_features)\n",
    "    ])\n",
    "print('preprocessor created')"
   ]
  },
  {
   "cell_type": "code",
   "execution_count": 30,
   "id": "6aba8515",
   "metadata": {},
   "outputs": [
    {
     "ename": "NameError",
     "evalue": "name 'categorical_features' is not defined",
     "output_type": "error",
     "traceback": [
      "\u001b[0;31m---------------------------------------------------------------------------\u001b[0m",
      "\u001b[0;31mNameError\u001b[0m                                 Traceback (most recent call last)",
      "Cell \u001b[0;32mIn [30], line 1\u001b[0m\n\u001b[0;32m----> 1\u001b[0m \u001b[43mcategorical_features\u001b[49m\n",
      "\u001b[0;31mNameError\u001b[0m: name 'categorical_features' is not defined"
     ]
    }
   ],
   "source": [
    "categorical_features"
   ]
  },
  {
   "cell_type": "code",
   "execution_count": 31,
   "id": "d4bdccbb",
   "metadata": {},
   "outputs": [
    {
     "ename": "NameError",
     "evalue": "name 'continuous_features' is not defined",
     "output_type": "error",
     "traceback": [
      "\u001b[0;31m---------------------------------------------------------------------------\u001b[0m",
      "\u001b[0;31mNameError\u001b[0m                                 Traceback (most recent call last)",
      "Cell \u001b[0;32mIn [31], line 1\u001b[0m\n\u001b[0;32m----> 1\u001b[0m \u001b[43mcontinuous_features\u001b[49m\n",
      "\u001b[0;31mNameError\u001b[0m: name 'continuous_features' is not defined"
     ]
    }
   ],
   "source": [
    "continuous_features"
   ]
  },
  {
   "cell_type": "code",
   "execution_count": 32,
   "id": "b0358355",
   "metadata": {},
   "outputs": [
    {
     "data": {
      "text/plain": [
       "['age', 'balance', 'duration', 'campaign']"
      ]
     },
     "execution_count": 32,
     "metadata": {},
     "output_type": "execute_result"
    }
   ],
   "source": [
    "continuous_cols"
   ]
  },
  {
   "cell_type": "code",
   "execution_count": null,
   "id": "d38e0f72",
   "metadata": {},
   "outputs": [],
   "source": []
  },
  {
   "cell_type": "code",
   "execution_count": null,
   "id": "b3f1b5f0",
   "metadata": {},
   "outputs": [],
   "source": [
    "splits,pipeline=\\\n",
    "run_autosklearn_pipeline(X=X_dem,\n",
    "                         y=y,\n",
    "                         seed=seed,\n",
    "                         test_size=test_size,\n",
    "                         save_location='../joblib/',\n",
    "                         filename='2_pipeline_layer1',\n",
    "                         time_for_task=60)"
   ]
  },
  {
   "cell_type": "code",
   "execution_count": null,
   "id": "223450d6",
   "metadata": {},
   "outputs": [],
   "source": []
  },
  {
   "cell_type": "code",
   "execution_count": null,
   "id": "03776678",
   "metadata": {},
   "outputs": [],
   "source": [
    "params_df=pd.json_normalize(aml_results['params'])\n",
    "aml_results_exp=pd.concat([aml_results.drop('params',axis=1),params_df],axis=1)\n",
    "aml_results_exp"
   ]
  },
  {
   "cell_type": "code",
   "execution_count": null,
   "id": "75c17183",
   "metadata": {},
   "outputs": [],
   "source": [
    "# top ten mean_test_scores\n",
    "aml_results_exp[aml_results_exp['status']=='Success'].sort_values(by='mean_test_score',ascending=False).head(10)"
   ]
  },
  {
   "cell_type": "code",
   "execution_count": null,
   "id": "c8cdef2c",
   "metadata": {},
   "outputs": [],
   "source": [
    "# which algorithms did AutoSklearn use?\n",
    "aml_results_exp['param_classifier:__choice__'].value_counts()"
   ]
  },
  {
   "cell_type": "code",
   "execution_count": null,
   "id": "2f802970",
   "metadata": {},
   "outputs": [],
   "source": [
    "# def run_automl_pipeline(X, \n",
    "#                         y, \n",
    "#                         dict_name='results', \n",
    "#                         verbose=False, \n",
    "#                         show_eval=True, \n",
    "#                         time_for_task=3600, \n",
    "#                         ensemble_size=50):\n",
    "#     '''\n",
    "#     Function to help me automate the automl pipeline\n",
    "#     so that I don't have to rewrite this code three times.\n",
    "    \n",
    "#     Inputs:\n",
    "#     X - the features dataset\n",
    "#     y - the target dataset\n",
    "#     seed - the random seed\n",
    "#     test_size - the test_size fraction\n",
    "#     time_for_task - refer to autosklearn\n",
    "#     ensemble_size - refer to autosklearn\n",
    "#     dict_name - give a name to the dictionary\n",
    "    \n",
    "#     Outputs:\n",
    "#     A dictionary with the following:\n",
    "#       pipeline\n",
    "#       accuracy\n",
    "#       aml_results\n",
    "#       aml_results_focus\n",
    "#       alg_counts\n",
    "#       X_train\n",
    "#       X_test\n",
    "#       X_train\n",
    "#       y_test\n",
    "#       categorical_features\n",
    "#       continuous_features\n",
    "    \n",
    "#     Dependencies as import code:\n",
    "#     from autosklearn.classification import AutoSklearnClassifier\n",
    "#     from sklearn.pipeline import Pipeline\n",
    "#     from sklearn.compose import ColumnTransformer\n",
    "#     from sklearn.preprocessing import StandardScaler, OneHotEncoder\n",
    "#     from sklearn.model_selection import train_test_split\n",
    "#     from sklearn.metrics import accuracy_score\n",
    "#     import pandas as pd\n",
    "#     '''"
   ]
  },
  {
   "cell_type": "code",
   "execution_count": null,
   "id": "2283f66f",
   "metadata": {},
   "outputs": [],
   "source": []
  },
  {
   "cell_type": "markdown",
   "id": "6dc00185-e5a7-42e5-b273-53b08b78e388",
   "metadata": {},
   "source": [
    "### PyCaret"
   ]
  },
  {
   "cell_type": "markdown",
   "id": "369a5510-4d80-49d7-b876-baf1ef1bcbf2",
   "metadata": {
    "id": "a0a8c84e"
   },
   "source": [
    "We will be using PyCaret again for this section to help us explore which algorithms are most suited to this dataset."
   ]
  },
  {
   "cell_type": "code",
   "execution_count": null,
   "id": "906b7d75-b2b4-4d77-8bf0-9a1383fdc7e3",
   "metadata": {
    "colab": {
     "base_uri": "https://localhost:8080/",
     "height": 179
    },
    "id": "9992d763",
    "outputId": "4824e95c-2137-44f3-d9ff-c8d8a4e8052d"
   },
   "outputs": [
    {
     "name": "stdout",
     "output_type": "stream",
     "text": [
      "Mounted at /content/drive\n"
     ]
    },
    {
     "data": {
      "application/vnd.google.colaboratory.intrinsic+json": {
       "summary": "{\n  \"name\": \"df\",\n  \"rows\": 40000,\n  \"fields\": [\n    {\n      \"column\": \"age\",\n      \"properties\": {\n        \"dtype\": \"number\",\n        \"std\": 9,\n        \"min\": 19,\n        \"max\": 95,\n        \"num_unique_values\": 70,\n        \"samples\": [\n          36,\n          58,\n          68\n        ],\n        \"semantic_type\": \"\",\n        \"description\": \"\"\n      }\n    },\n    {\n      \"column\": \"job\",\n      \"properties\": {\n        \"dtype\": \"category\",\n        \"num_unique_values\": 12,\n        \"samples\": [\n          \"housemaid\",\n          \"unemployed\",\n          \"management\"\n        ],\n        \"semantic_type\": \"\",\n        \"description\": \"\"\n      }\n    },\n    {\n      \"column\": \"marital\",\n      \"properties\": {\n        \"dtype\": \"category\",\n        \"num_unique_values\": 3,\n        \"samples\": [\n          \"married\",\n          \"single\",\n          \"divorced\"\n        ],\n        \"semantic_type\": \"\",\n        \"description\": \"\"\n      }\n    },\n    {\n      \"column\": \"education\",\n      \"properties\": {\n        \"dtype\": \"category\",\n        \"num_unique_values\": 4,\n        \"samples\": [\n          \"secondary\",\n          \"primary\",\n          \"tertiary\"\n        ],\n        \"semantic_type\": \"\",\n        \"description\": \"\"\n      }\n    },\n    {\n      \"column\": \"default\",\n      \"properties\": {\n        \"dtype\": \"category\",\n        \"num_unique_values\": 2,\n        \"samples\": [\n          \"yes\",\n          \"no\"\n        ],\n        \"semantic_type\": \"\",\n        \"description\": \"\"\n      }\n    },\n    {\n      \"column\": \"balance\",\n      \"properties\": {\n        \"dtype\": \"number\",\n        \"std\": 2903,\n        \"min\": -8019,\n        \"max\": 102127,\n        \"num_unique_values\": 6849,\n        \"samples\": [\n          13711,\n          5745\n        ],\n        \"semantic_type\": \"\",\n        \"description\": \"\"\n      }\n    },\n    {\n      \"column\": \"housing\",\n      \"properties\": {\n        \"dtype\": \"category\",\n        \"num_unique_values\": 2,\n        \"samples\": [\n          \"no\",\n          \"yes\"\n        ],\n        \"semantic_type\": \"\",\n        \"description\": \"\"\n      }\n    },\n    {\n      \"column\": \"loan\",\n      \"properties\": {\n        \"dtype\": \"category\",\n        \"num_unique_values\": 2,\n        \"samples\": [\n          \"yes\",\n          \"no\"\n        ],\n        \"semantic_type\": \"\",\n        \"description\": \"\"\n      }\n    },\n    {\n      \"column\": \"contact\",\n      \"properties\": {\n        \"dtype\": \"category\",\n        \"num_unique_values\": 3,\n        \"samples\": [\n          \"unknown\",\n          \"cellular\"\n        ],\n        \"semantic_type\": \"\",\n        \"description\": \"\"\n      }\n    },\n    {\n      \"column\": \"day\",\n      \"properties\": {\n        \"dtype\": \"number\",\n        \"std\": 8,\n        \"min\": 1,\n        \"max\": 31,\n        \"num_unique_values\": 31,\n        \"samples\": [\n          1,\n          27\n        ],\n        \"semantic_type\": \"\",\n        \"description\": \"\"\n      }\n    },\n    {\n      \"column\": \"month\",\n      \"properties\": {\n        \"dtype\": \"category\",\n        \"num_unique_values\": 11,\n        \"samples\": [\n          \"nov\",\n          \"may\"\n        ],\n        \"semantic_type\": \"\",\n        \"description\": \"\"\n      }\n    },\n    {\n      \"column\": \"duration\",\n      \"properties\": {\n        \"dtype\": \"number\",\n        \"std\": 259,\n        \"min\": 0,\n        \"max\": 4918,\n        \"num_unique_values\": 1535,\n        \"samples\": [\n          856,\n          1467\n        ],\n        \"semantic_type\": \"\",\n        \"description\": \"\"\n      }\n    },\n    {\n      \"column\": \"campaign\",\n      \"properties\": {\n        \"dtype\": \"number\",\n        \"std\": 3,\n        \"min\": 1,\n        \"max\": 63,\n        \"num_unique_values\": 48,\n        \"samples\": [\n          41,\n          27\n        ],\n        \"semantic_type\": \"\",\n        \"description\": \"\"\n      }\n    },\n    {\n      \"column\": \"y\",\n      \"properties\": {\n        \"dtype\": \"category\",\n        \"num_unique_values\": 2,\n        \"samples\": [\n          \"yes\",\n          \"no\"\n        ],\n        \"semantic_type\": \"\",\n        \"description\": \"\"\n      }\n    }\n  ]\n}",
       "type": "dataframe",
       "variable_name": "df"
      },
      "text/html": [
       "\n",
       "  <div id=\"df-04a66e9c-704a-43b1-a0a9-42af26104e4a\" class=\"colab-df-container\">\n",
       "    <div>\n",
       "<style scoped>\n",
       "    .dataframe tbody tr th:only-of-type {\n",
       "        vertical-align: middle;\n",
       "    }\n",
       "\n",
       "    .dataframe tbody tr th {\n",
       "        vertical-align: top;\n",
       "    }\n",
       "\n",
       "    .dataframe thead th {\n",
       "        text-align: right;\n",
       "    }\n",
       "</style>\n",
       "<table border=\"1\" class=\"dataframe\">\n",
       "  <thead>\n",
       "    <tr style=\"text-align: right;\">\n",
       "      <th></th>\n",
       "      <th>age</th>\n",
       "      <th>job</th>\n",
       "      <th>marital</th>\n",
       "      <th>education</th>\n",
       "      <th>default</th>\n",
       "      <th>balance</th>\n",
       "      <th>housing</th>\n",
       "      <th>loan</th>\n",
       "      <th>contact</th>\n",
       "      <th>day</th>\n",
       "      <th>month</th>\n",
       "      <th>duration</th>\n",
       "      <th>campaign</th>\n",
       "      <th>y</th>\n",
       "    </tr>\n",
       "  </thead>\n",
       "  <tbody>\n",
       "    <tr>\n",
       "      <th>0</th>\n",
       "      <td>58</td>\n",
       "      <td>management</td>\n",
       "      <td>married</td>\n",
       "      <td>tertiary</td>\n",
       "      <td>no</td>\n",
       "      <td>2143</td>\n",
       "      <td>yes</td>\n",
       "      <td>no</td>\n",
       "      <td>unknown</td>\n",
       "      <td>5</td>\n",
       "      <td>may</td>\n",
       "      <td>261</td>\n",
       "      <td>1</td>\n",
       "      <td>no</td>\n",
       "    </tr>\n",
       "    <tr>\n",
       "      <th>1</th>\n",
       "      <td>44</td>\n",
       "      <td>technician</td>\n",
       "      <td>single</td>\n",
       "      <td>secondary</td>\n",
       "      <td>no</td>\n",
       "      <td>29</td>\n",
       "      <td>yes</td>\n",
       "      <td>no</td>\n",
       "      <td>unknown</td>\n",
       "      <td>5</td>\n",
       "      <td>may</td>\n",
       "      <td>151</td>\n",
       "      <td>1</td>\n",
       "      <td>no</td>\n",
       "    </tr>\n",
       "    <tr>\n",
       "      <th>2</th>\n",
       "      <td>33</td>\n",
       "      <td>entrepreneur</td>\n",
       "      <td>married</td>\n",
       "      <td>secondary</td>\n",
       "      <td>no</td>\n",
       "      <td>2</td>\n",
       "      <td>yes</td>\n",
       "      <td>yes</td>\n",
       "      <td>unknown</td>\n",
       "      <td>5</td>\n",
       "      <td>may</td>\n",
       "      <td>76</td>\n",
       "      <td>1</td>\n",
       "      <td>no</td>\n",
       "    </tr>\n",
       "  </tbody>\n",
       "</table>\n",
       "</div>\n",
       "    <div class=\"colab-df-buttons\">\n",
       "\n",
       "  <div class=\"colab-df-container\">\n",
       "    <button class=\"colab-df-convert\" onclick=\"convertToInteractive('df-04a66e9c-704a-43b1-a0a9-42af26104e4a')\"\n",
       "            title=\"Convert this dataframe to an interactive table.\"\n",
       "            style=\"display:none;\">\n",
       "\n",
       "  <svg xmlns=\"http://www.w3.org/2000/svg\" height=\"24px\" viewBox=\"0 -960 960 960\">\n",
       "    <path d=\"M120-120v-720h720v720H120Zm60-500h600v-160H180v160Zm220 220h160v-160H400v160Zm0 220h160v-160H400v160ZM180-400h160v-160H180v160Zm440 0h160v-160H620v160ZM180-180h160v-160H180v160Zm440 0h160v-160H620v160Z\"/>\n",
       "  </svg>\n",
       "    </button>\n",
       "\n",
       "  <style>\n",
       "    .colab-df-container {\n",
       "      display:flex;\n",
       "      gap: 12px;\n",
       "    }\n",
       "\n",
       "    .colab-df-convert {\n",
       "      background-color: #E8F0FE;\n",
       "      border: none;\n",
       "      border-radius: 50%;\n",
       "      cursor: pointer;\n",
       "      display: none;\n",
       "      fill: #1967D2;\n",
       "      height: 32px;\n",
       "      padding: 0 0 0 0;\n",
       "      width: 32px;\n",
       "    }\n",
       "\n",
       "    .colab-df-convert:hover {\n",
       "      background-color: #E2EBFA;\n",
       "      box-shadow: 0px 1px 2px rgba(60, 64, 67, 0.3), 0px 1px 3px 1px rgba(60, 64, 67, 0.15);\n",
       "      fill: #174EA6;\n",
       "    }\n",
       "\n",
       "    .colab-df-buttons div {\n",
       "      margin-bottom: 4px;\n",
       "    }\n",
       "\n",
       "    [theme=dark] .colab-df-convert {\n",
       "      background-color: #3B4455;\n",
       "      fill: #D2E3FC;\n",
       "    }\n",
       "\n",
       "    [theme=dark] .colab-df-convert:hover {\n",
       "      background-color: #434B5C;\n",
       "      box-shadow: 0px 1px 3px 1px rgba(0, 0, 0, 0.15);\n",
       "      filter: drop-shadow(0px 1px 2px rgba(0, 0, 0, 0.3));\n",
       "      fill: #FFFFFF;\n",
       "    }\n",
       "  </style>\n",
       "\n",
       "    <script>\n",
       "      const buttonEl =\n",
       "        document.querySelector('#df-04a66e9c-704a-43b1-a0a9-42af26104e4a button.colab-df-convert');\n",
       "      buttonEl.style.display =\n",
       "        google.colab.kernel.accessAllowed ? 'block' : 'none';\n",
       "\n",
       "      async function convertToInteractive(key) {\n",
       "        const element = document.querySelector('#df-04a66e9c-704a-43b1-a0a9-42af26104e4a');\n",
       "        const dataTable =\n",
       "          await google.colab.kernel.invokeFunction('convertToInteractive',\n",
       "                                                    [key], {});\n",
       "        if (!dataTable) return;\n",
       "\n",
       "        const docLinkHtml = 'Like what you see? Visit the ' +\n",
       "          '<a target=\"_blank\" href=https://colab.research.google.com/notebooks/data_table.ipynb>data table notebook</a>'\n",
       "          + ' to learn more about interactive tables.';\n",
       "        element.innerHTML = '';\n",
       "        dataTable['output_type'] = 'display_data';\n",
       "        await google.colab.output.renderOutput(dataTable, element);\n",
       "        const docLink = document.createElement('div');\n",
       "        docLink.innerHTML = docLinkHtml;\n",
       "        element.appendChild(docLink);\n",
       "      }\n",
       "    </script>\n",
       "  </div>\n",
       "\n",
       "\n",
       "<div id=\"df-13ecb003-ea72-456a-8fc1-11cb9478317d\">\n",
       "  <button class=\"colab-df-quickchart\" onclick=\"quickchart('df-13ecb003-ea72-456a-8fc1-11cb9478317d')\"\n",
       "            title=\"Suggest charts\"\n",
       "            style=\"display:none;\">\n",
       "\n",
       "<svg xmlns=\"http://www.w3.org/2000/svg\" height=\"24px\"viewBox=\"0 0 24 24\"\n",
       "     width=\"24px\">\n",
       "    <g>\n",
       "        <path d=\"M19 3H5c-1.1 0-2 .9-2 2v14c0 1.1.9 2 2 2h14c1.1 0 2-.9 2-2V5c0-1.1-.9-2-2-2zM9 17H7v-7h2v7zm4 0h-2V7h2v10zm4 0h-2v-4h2v4z\"/>\n",
       "    </g>\n",
       "</svg>\n",
       "  </button>\n",
       "\n",
       "<style>\n",
       "  .colab-df-quickchart {\n",
       "      --bg-color: #E8F0FE;\n",
       "      --fill-color: #1967D2;\n",
       "      --hover-bg-color: #E2EBFA;\n",
       "      --hover-fill-color: #174EA6;\n",
       "      --disabled-fill-color: #AAA;\n",
       "      --disabled-bg-color: #DDD;\n",
       "  }\n",
       "\n",
       "  [theme=dark] .colab-df-quickchart {\n",
       "      --bg-color: #3B4455;\n",
       "      --fill-color: #D2E3FC;\n",
       "      --hover-bg-color: #434B5C;\n",
       "      --hover-fill-color: #FFFFFF;\n",
       "      --disabled-bg-color: #3B4455;\n",
       "      --disabled-fill-color: #666;\n",
       "  }\n",
       "\n",
       "  .colab-df-quickchart {\n",
       "    background-color: var(--bg-color);\n",
       "    border: none;\n",
       "    border-radius: 50%;\n",
       "    cursor: pointer;\n",
       "    display: none;\n",
       "    fill: var(--fill-color);\n",
       "    height: 32px;\n",
       "    padding: 0;\n",
       "    width: 32px;\n",
       "  }\n",
       "\n",
       "  .colab-df-quickchart:hover {\n",
       "    background-color: var(--hover-bg-color);\n",
       "    box-shadow: 0 1px 2px rgba(60, 64, 67, 0.3), 0 1px 3px 1px rgba(60, 64, 67, 0.15);\n",
       "    fill: var(--button-hover-fill-color);\n",
       "  }\n",
       "\n",
       "  .colab-df-quickchart-complete:disabled,\n",
       "  .colab-df-quickchart-complete:disabled:hover {\n",
       "    background-color: var(--disabled-bg-color);\n",
       "    fill: var(--disabled-fill-color);\n",
       "    box-shadow: none;\n",
       "  }\n",
       "\n",
       "  .colab-df-spinner {\n",
       "    border: 2px solid var(--fill-color);\n",
       "    border-color: transparent;\n",
       "    border-bottom-color: var(--fill-color);\n",
       "    animation:\n",
       "      spin 1s steps(1) infinite;\n",
       "  }\n",
       "\n",
       "  @keyframes spin {\n",
       "    0% {\n",
       "      border-color: transparent;\n",
       "      border-bottom-color: var(--fill-color);\n",
       "      border-left-color: var(--fill-color);\n",
       "    }\n",
       "    20% {\n",
       "      border-color: transparent;\n",
       "      border-left-color: var(--fill-color);\n",
       "      border-top-color: var(--fill-color);\n",
       "    }\n",
       "    30% {\n",
       "      border-color: transparent;\n",
       "      border-left-color: var(--fill-color);\n",
       "      border-top-color: var(--fill-color);\n",
       "      border-right-color: var(--fill-color);\n",
       "    }\n",
       "    40% {\n",
       "      border-color: transparent;\n",
       "      border-right-color: var(--fill-color);\n",
       "      border-top-color: var(--fill-color);\n",
       "    }\n",
       "    60% {\n",
       "      border-color: transparent;\n",
       "      border-right-color: var(--fill-color);\n",
       "    }\n",
       "    80% {\n",
       "      border-color: transparent;\n",
       "      border-right-color: var(--fill-color);\n",
       "      border-bottom-color: var(--fill-color);\n",
       "    }\n",
       "    90% {\n",
       "      border-color: transparent;\n",
       "      border-bottom-color: var(--fill-color);\n",
       "    }\n",
       "  }\n",
       "</style>\n",
       "\n",
       "  <script>\n",
       "    async function quickchart(key) {\n",
       "      const quickchartButtonEl =\n",
       "        document.querySelector('#' + key + ' button');\n",
       "      quickchartButtonEl.disabled = true;  // To prevent multiple clicks.\n",
       "      quickchartButtonEl.classList.add('colab-df-spinner');\n",
       "      try {\n",
       "        const charts = await google.colab.kernel.invokeFunction(\n",
       "            'suggestCharts', [key], {});\n",
       "      } catch (error) {\n",
       "        console.error('Error during call to suggestCharts:', error);\n",
       "      }\n",
       "      quickchartButtonEl.classList.remove('colab-df-spinner');\n",
       "      quickchartButtonEl.classList.add('colab-df-quickchart-complete');\n",
       "    }\n",
       "    (() => {\n",
       "      let quickchartButtonEl =\n",
       "        document.querySelector('#df-13ecb003-ea72-456a-8fc1-11cb9478317d button');\n",
       "      quickchartButtonEl.style.display =\n",
       "        google.colab.kernel.accessAllowed ? 'block' : 'none';\n",
       "    })();\n",
       "  </script>\n",
       "</div>\n",
       "\n",
       "    </div>\n",
       "  </div>\n"
      ],
      "text/plain": [
       "   age           job  marital  education default  balance housing loan  \\\n",
       "0   58    management  married   tertiary      no     2143     yes   no   \n",
       "1   44    technician   single  secondary      no       29     yes   no   \n",
       "2   33  entrepreneur  married  secondary      no        2     yes  yes   \n",
       "\n",
       "   contact  day month  duration  campaign   y  \n",
       "0  unknown    5   may       261         1  no  \n",
       "1  unknown    5   may       151         1  no  \n",
       "2  unknown    5   may        76         1  no  "
      ]
     },
     "execution_count": 4,
     "metadata": {},
     "output_type": "execute_result"
    }
   ],
   "source": [
    "from google.colab import drive\n",
    "\n",
    "drive.mount('/content/drive')\n",
    "df=pd.read_csv('/content/drive/MyDrive/2_data.csv')\n",
    "df.head(3)"
   ]
  },
  {
   "cell_type": "code",
   "execution_count": null,
   "id": "a5791554-d6c4-49eb-b093-5a06b565a2e9",
   "metadata": {
    "colab": {
     "base_uri": "https://localhost:8080/",
     "height": 545
    },
    "id": "TKZKv_i3U-rM",
    "outputId": "c7657fd3-71ac-4681-e6a6-3d0a0e1e3a20"
   },
   "outputs": [
    {
     "data": {
      "text/html": [
       "<style type=\"text/css\">\n",
       "#T_fa287_row5_col1 {\n",
       "  background-color: lightgreen;\n",
       "}\n",
       "</style>\n",
       "<table id=\"T_fa287\" class=\"dataframe\">\n",
       "  <thead>\n",
       "    <tr>\n",
       "      <th class=\"blank level0\" >&nbsp;</th>\n",
       "      <th id=\"T_fa287_level0_col0\" class=\"col_heading level0 col0\" >Description</th>\n",
       "      <th id=\"T_fa287_level0_col1\" class=\"col_heading level0 col1\" >Value</th>\n",
       "    </tr>\n",
       "  </thead>\n",
       "  <tbody>\n",
       "    <tr>\n",
       "      <th id=\"T_fa287_level0_row0\" class=\"row_heading level0 row0\" >0</th>\n",
       "      <td id=\"T_fa287_row0_col0\" class=\"data row0 col0\" >Session id</td>\n",
       "      <td id=\"T_fa287_row0_col1\" class=\"data row0 col1\" >6532</td>\n",
       "    </tr>\n",
       "    <tr>\n",
       "      <th id=\"T_fa287_level0_row1\" class=\"row_heading level0 row1\" >1</th>\n",
       "      <td id=\"T_fa287_row1_col0\" class=\"data row1 col0\" >Original data shape</td>\n",
       "      <td id=\"T_fa287_row1_col1\" class=\"data row1 col1\" >(40000, 14)</td>\n",
       "    </tr>\n",
       "    <tr>\n",
       "      <th id=\"T_fa287_level0_row2\" class=\"row_heading level0 row2\" >2</th>\n",
       "      <td id=\"T_fa287_row2_col0\" class=\"data row2 col0\" >Transformed data shape</td>\n",
       "      <td id=\"T_fa287_row2_col1\" class=\"data row2 col1\" >(40000, 42)</td>\n",
       "    </tr>\n",
       "    <tr>\n",
       "      <th id=\"T_fa287_level0_row3\" class=\"row_heading level0 row3\" >3</th>\n",
       "      <td id=\"T_fa287_row3_col0\" class=\"data row3 col0\" >Numeric features</td>\n",
       "      <td id=\"T_fa287_row3_col1\" class=\"data row3 col1\" >5</td>\n",
       "    </tr>\n",
       "    <tr>\n",
       "      <th id=\"T_fa287_level0_row4\" class=\"row_heading level0 row4\" >4</th>\n",
       "      <td id=\"T_fa287_row4_col0\" class=\"data row4 col0\" >Categorical features</td>\n",
       "      <td id=\"T_fa287_row4_col1\" class=\"data row4 col1\" >9</td>\n",
       "    </tr>\n",
       "    <tr>\n",
       "      <th id=\"T_fa287_level0_row5\" class=\"row_heading level0 row5\" >5</th>\n",
       "      <td id=\"T_fa287_row5_col0\" class=\"data row5 col0\" >Preprocess</td>\n",
       "      <td id=\"T_fa287_row5_col1\" class=\"data row5 col1\" >True</td>\n",
       "    </tr>\n",
       "    <tr>\n",
       "      <th id=\"T_fa287_level0_row6\" class=\"row_heading level0 row6\" >6</th>\n",
       "      <td id=\"T_fa287_row6_col0\" class=\"data row6 col0\" >Imputation type</td>\n",
       "      <td id=\"T_fa287_row6_col1\" class=\"data row6 col1\" >simple</td>\n",
       "    </tr>\n",
       "    <tr>\n",
       "      <th id=\"T_fa287_level0_row7\" class=\"row_heading level0 row7\" >7</th>\n",
       "      <td id=\"T_fa287_row7_col0\" class=\"data row7 col0\" >Numeric imputation</td>\n",
       "      <td id=\"T_fa287_row7_col1\" class=\"data row7 col1\" >mean</td>\n",
       "    </tr>\n",
       "    <tr>\n",
       "      <th id=\"T_fa287_level0_row8\" class=\"row_heading level0 row8\" >8</th>\n",
       "      <td id=\"T_fa287_row8_col0\" class=\"data row8 col0\" >Categorical imputation</td>\n",
       "      <td id=\"T_fa287_row8_col1\" class=\"data row8 col1\" >mode</td>\n",
       "    </tr>\n",
       "    <tr>\n",
       "      <th id=\"T_fa287_level0_row9\" class=\"row_heading level0 row9\" >9</th>\n",
       "      <td id=\"T_fa287_row9_col0\" class=\"data row9 col0\" >Maximum one-hot encoding</td>\n",
       "      <td id=\"T_fa287_row9_col1\" class=\"data row9 col1\" >-1</td>\n",
       "    </tr>\n",
       "    <tr>\n",
       "      <th id=\"T_fa287_level0_row10\" class=\"row_heading level0 row10\" >10</th>\n",
       "      <td id=\"T_fa287_row10_col0\" class=\"data row10 col0\" >Encoding method</td>\n",
       "      <td id=\"T_fa287_row10_col1\" class=\"data row10 col1\" >None</td>\n",
       "    </tr>\n",
       "    <tr>\n",
       "      <th id=\"T_fa287_level0_row11\" class=\"row_heading level0 row11\" >11</th>\n",
       "      <td id=\"T_fa287_row11_col0\" class=\"data row11 col0\" >CPU Jobs</td>\n",
       "      <td id=\"T_fa287_row11_col1\" class=\"data row11 col1\" >-1</td>\n",
       "    </tr>\n",
       "    <tr>\n",
       "      <th id=\"T_fa287_level0_row12\" class=\"row_heading level0 row12\" >12</th>\n",
       "      <td id=\"T_fa287_row12_col0\" class=\"data row12 col0\" >Use GPU</td>\n",
       "      <td id=\"T_fa287_row12_col1\" class=\"data row12 col1\" >False</td>\n",
       "    </tr>\n",
       "    <tr>\n",
       "      <th id=\"T_fa287_level0_row13\" class=\"row_heading level0 row13\" >13</th>\n",
       "      <td id=\"T_fa287_row13_col0\" class=\"data row13 col0\" >Log Experiment</td>\n",
       "      <td id=\"T_fa287_row13_col1\" class=\"data row13 col1\" >False</td>\n",
       "    </tr>\n",
       "    <tr>\n",
       "      <th id=\"T_fa287_level0_row14\" class=\"row_heading level0 row14\" >14</th>\n",
       "      <td id=\"T_fa287_row14_col0\" class=\"data row14 col0\" >Experiment Name</td>\n",
       "      <td id=\"T_fa287_row14_col1\" class=\"data row14 col1\" >cluster-default-name</td>\n",
       "    </tr>\n",
       "    <tr>\n",
       "      <th id=\"T_fa287_level0_row15\" class=\"row_heading level0 row15\" >15</th>\n",
       "      <td id=\"T_fa287_row15_col0\" class=\"data row15 col0\" >USI</td>\n",
       "      <td id=\"T_fa287_row15_col1\" class=\"data row15 col1\" >44d9</td>\n",
       "    </tr>\n",
       "  </tbody>\n",
       "</table>\n"
      ],
      "text/plain": [
       "<pandas.io.formats.style.Styler at 0x781e08228cd0>"
      ]
     },
     "metadata": {},
     "output_type": "display_data"
    }
   ],
   "source": [
    "from pycaret.clustering import *\n",
    "\n",
    "# Initialize the clustering setup\n",
    "clustering_setup = setup(data=df, session_id=seed)\n",
    "\n",
    "# Compare models and get the best one\n",
    "# best_model = compare_models()"
   ]
  },
  {
   "cell_type": "code",
   "execution_count": null,
   "id": "14ca352d-e563-4ffd-86fa-f72ff7956c29",
   "metadata": {
    "colab": {
     "base_uri": "https://localhost:8080/",
     "height": 326
    },
    "id": "ZPw6kb1zVWgE",
    "outputId": "3ae7d539-0bda-4f29-f934-833d58443afb"
   },
   "outputs": [
    {
     "ename": "ValueError",
     "evalue": "_CURRENT_EXPERIMENT global variable is not set. Please run setup() first.",
     "output_type": "error",
     "traceback": [
      "\u001b[0;31m---------------------------------------------------------------------------\u001b[0m",
      "\u001b[0;31mValueError\u001b[0m                                Traceback (most recent call last)",
      "\u001b[0;32m<ipython-input-14-9ff5ccfe3077>\u001b[0m in \u001b[0;36m<cell line: 1>\u001b[0;34m()\u001b[0m\n\u001b[0;32m----> 1\u001b[0;31m \u001b[0mcompare_models\u001b[0m\u001b[0;34m(\u001b[0m\u001b[0;34m)\u001b[0m\u001b[0;34m\u001b[0m\u001b[0;34m\u001b[0m\u001b[0m\n\u001b[0m",
      "\u001b[0;32m/usr/local/lib/python3.10/dist-packages/pycaret/utils/generic.py\u001b[0m in \u001b[0;36mwrapper\u001b[0;34m(*args, **kwargs)\u001b[0m\n\u001b[1;32m    961\u001b[0m             \u001b[0;32mfor\u001b[0m \u001b[0mname\u001b[0m\u001b[0;34m,\u001b[0m \u001b[0mmessage\u001b[0m \u001b[0;32min\u001b[0m \u001b[0mglobal_names\u001b[0m\u001b[0;34m.\u001b[0m\u001b[0mitems\u001b[0m\u001b[0;34m(\u001b[0m\u001b[0;34m)\u001b[0m\u001b[0;34m:\u001b[0m\u001b[0;34m\u001b[0m\u001b[0;34m\u001b[0m\u001b[0m\n\u001b[1;32m    962\u001b[0m                 \u001b[0;32mif\u001b[0m \u001b[0mglobals_d\u001b[0m\u001b[0;34m[\u001b[0m\u001b[0mname\u001b[0m\u001b[0;34m]\u001b[0m \u001b[0;32mis\u001b[0m \u001b[0;32mNone\u001b[0m\u001b[0;34m:\u001b[0m\u001b[0;34m\u001b[0m\u001b[0;34m\u001b[0m\u001b[0m\n\u001b[0;32m--> 963\u001b[0;31m                     \u001b[0;32mraise\u001b[0m \u001b[0mValueError\u001b[0m\u001b[0;34m(\u001b[0m\u001b[0mmessage\u001b[0m\u001b[0;34m)\u001b[0m\u001b[0;34m\u001b[0m\u001b[0;34m\u001b[0m\u001b[0m\n\u001b[0m\u001b[1;32m    964\u001b[0m             \u001b[0;32mreturn\u001b[0m \u001b[0mfunc\u001b[0m\u001b[0;34m(\u001b[0m\u001b[0;34m*\u001b[0m\u001b[0margs\u001b[0m\u001b[0;34m,\u001b[0m \u001b[0;34m**\u001b[0m\u001b[0mkwargs\u001b[0m\u001b[0;34m)\u001b[0m\u001b[0;34m\u001b[0m\u001b[0;34m\u001b[0m\u001b[0m\n\u001b[1;32m    965\u001b[0m \u001b[0;34m\u001b[0m\u001b[0m\n",
      "\u001b[0;31mValueError\u001b[0m: _CURRENT_EXPERIMENT global variable is not set. Please run setup() first."
     ]
    }
   ],
   "source": [
    "compare_models()"
   ]
  },
  {
   "cell_type": "code",
   "execution_count": null,
   "id": "fdddf7a7-57d8-43df-a98c-5b9a8daaf6b2",
   "metadata": {
    "colab": {
     "base_uri": "https://localhost:8080/",
     "height": 545
    },
    "id": "be4d38b1",
    "outputId": "a79c1405-3842-480f-e80d-529bbb20153a"
   },
   "outputs": [
    {
     "data": {
      "text/html": [
       "<style type=\"text/css\">\n",
       "#T_fc785_row5_col1 {\n",
       "  background-color: lightgreen;\n",
       "}\n",
       "</style>\n",
       "<table id=\"T_fc785\" class=\"dataframe\">\n",
       "  <thead>\n",
       "    <tr>\n",
       "      <th class=\"blank level0\" >&nbsp;</th>\n",
       "      <th id=\"T_fc785_level0_col0\" class=\"col_heading level0 col0\" >Description</th>\n",
       "      <th id=\"T_fc785_level0_col1\" class=\"col_heading level0 col1\" >Value</th>\n",
       "    </tr>\n",
       "  </thead>\n",
       "  <tbody>\n",
       "    <tr>\n",
       "      <th id=\"T_fc785_level0_row0\" class=\"row_heading level0 row0\" >0</th>\n",
       "      <td id=\"T_fc785_row0_col0\" class=\"data row0 col0\" >Session id</td>\n",
       "      <td id=\"T_fc785_row0_col1\" class=\"data row0 col1\" >6532</td>\n",
       "    </tr>\n",
       "    <tr>\n",
       "      <th id=\"T_fc785_level0_row1\" class=\"row_heading level0 row1\" >1</th>\n",
       "      <td id=\"T_fc785_row1_col0\" class=\"data row1 col0\" >Original data shape</td>\n",
       "      <td id=\"T_fc785_row1_col1\" class=\"data row1 col1\" >(40000, 14)</td>\n",
       "    </tr>\n",
       "    <tr>\n",
       "      <th id=\"T_fc785_level0_row2\" class=\"row_heading level0 row2\" >2</th>\n",
       "      <td id=\"T_fc785_row2_col0\" class=\"data row2 col0\" >Transformed data shape</td>\n",
       "      <td id=\"T_fc785_row2_col1\" class=\"data row2 col1\" >(40000, 42)</td>\n",
       "    </tr>\n",
       "    <tr>\n",
       "      <th id=\"T_fc785_level0_row3\" class=\"row_heading level0 row3\" >3</th>\n",
       "      <td id=\"T_fc785_row3_col0\" class=\"data row3 col0\" >Numeric features</td>\n",
       "      <td id=\"T_fc785_row3_col1\" class=\"data row3 col1\" >5</td>\n",
       "    </tr>\n",
       "    <tr>\n",
       "      <th id=\"T_fc785_level0_row4\" class=\"row_heading level0 row4\" >4</th>\n",
       "      <td id=\"T_fc785_row4_col0\" class=\"data row4 col0\" >Categorical features</td>\n",
       "      <td id=\"T_fc785_row4_col1\" class=\"data row4 col1\" >9</td>\n",
       "    </tr>\n",
       "    <tr>\n",
       "      <th id=\"T_fc785_level0_row5\" class=\"row_heading level0 row5\" >5</th>\n",
       "      <td id=\"T_fc785_row5_col0\" class=\"data row5 col0\" >Preprocess</td>\n",
       "      <td id=\"T_fc785_row5_col1\" class=\"data row5 col1\" >True</td>\n",
       "    </tr>\n",
       "    <tr>\n",
       "      <th id=\"T_fc785_level0_row6\" class=\"row_heading level0 row6\" >6</th>\n",
       "      <td id=\"T_fc785_row6_col0\" class=\"data row6 col0\" >Imputation type</td>\n",
       "      <td id=\"T_fc785_row6_col1\" class=\"data row6 col1\" >simple</td>\n",
       "    </tr>\n",
       "    <tr>\n",
       "      <th id=\"T_fc785_level0_row7\" class=\"row_heading level0 row7\" >7</th>\n",
       "      <td id=\"T_fc785_row7_col0\" class=\"data row7 col0\" >Numeric imputation</td>\n",
       "      <td id=\"T_fc785_row7_col1\" class=\"data row7 col1\" >mean</td>\n",
       "    </tr>\n",
       "    <tr>\n",
       "      <th id=\"T_fc785_level0_row8\" class=\"row_heading level0 row8\" >8</th>\n",
       "      <td id=\"T_fc785_row8_col0\" class=\"data row8 col0\" >Categorical imputation</td>\n",
       "      <td id=\"T_fc785_row8_col1\" class=\"data row8 col1\" >mode</td>\n",
       "    </tr>\n",
       "    <tr>\n",
       "      <th id=\"T_fc785_level0_row9\" class=\"row_heading level0 row9\" >9</th>\n",
       "      <td id=\"T_fc785_row9_col0\" class=\"data row9 col0\" >Maximum one-hot encoding</td>\n",
       "      <td id=\"T_fc785_row9_col1\" class=\"data row9 col1\" >-1</td>\n",
       "    </tr>\n",
       "    <tr>\n",
       "      <th id=\"T_fc785_level0_row10\" class=\"row_heading level0 row10\" >10</th>\n",
       "      <td id=\"T_fc785_row10_col0\" class=\"data row10 col0\" >Encoding method</td>\n",
       "      <td id=\"T_fc785_row10_col1\" class=\"data row10 col1\" >None</td>\n",
       "    </tr>\n",
       "    <tr>\n",
       "      <th id=\"T_fc785_level0_row11\" class=\"row_heading level0 row11\" >11</th>\n",
       "      <td id=\"T_fc785_row11_col0\" class=\"data row11 col0\" >CPU Jobs</td>\n",
       "      <td id=\"T_fc785_row11_col1\" class=\"data row11 col1\" >-1</td>\n",
       "    </tr>\n",
       "    <tr>\n",
       "      <th id=\"T_fc785_level0_row12\" class=\"row_heading level0 row12\" >12</th>\n",
       "      <td id=\"T_fc785_row12_col0\" class=\"data row12 col0\" >Use GPU</td>\n",
       "      <td id=\"T_fc785_row12_col1\" class=\"data row12 col1\" >False</td>\n",
       "    </tr>\n",
       "    <tr>\n",
       "      <th id=\"T_fc785_level0_row13\" class=\"row_heading level0 row13\" >13</th>\n",
       "      <td id=\"T_fc785_row13_col0\" class=\"data row13 col0\" >Log Experiment</td>\n",
       "      <td id=\"T_fc785_row13_col1\" class=\"data row13 col1\" >False</td>\n",
       "    </tr>\n",
       "    <tr>\n",
       "      <th id=\"T_fc785_level0_row14\" class=\"row_heading level0 row14\" >14</th>\n",
       "      <td id=\"T_fc785_row14_col0\" class=\"data row14 col0\" >Experiment Name</td>\n",
       "      <td id=\"T_fc785_row14_col1\" class=\"data row14 col1\" >cluster-default-name</td>\n",
       "    </tr>\n",
       "    <tr>\n",
       "      <th id=\"T_fc785_level0_row15\" class=\"row_heading level0 row15\" >15</th>\n",
       "      <td id=\"T_fc785_row15_col0\" class=\"data row15 col0\" >USI</td>\n",
       "      <td id=\"T_fc785_row15_col1\" class=\"data row15 col1\" >34a7</td>\n",
       "    </tr>\n",
       "  </tbody>\n",
       "</table>\n"
      ],
      "text/plain": [
       "<pandas.io.formats.style.Styler at 0x781e2acca8c0>"
      ]
     },
     "metadata": {},
     "output_type": "display_data"
    }
   ],
   "source": [
    "from pycaret.clustering import *\n",
    "\n",
    "seed=6532\n",
    "\n",
    "s=setup(data=df,session_id=seed)"
   ]
  },
  {
   "cell_type": "code",
   "execution_count": null,
   "id": "974a29e7-a7d0-42ba-bce0-845b8390ddee",
   "metadata": {
    "id": "9fa66598"
   },
   "outputs": [],
   "source": [
    "# import ClusteringExperiment and init the class\n",
    "from pycaret.clustering import ClusteringExperiment\n",
    "exp = ClusteringExperiment()"
   ]
  },
  {
   "cell_type": "code",
   "execution_count": null,
   "id": "82a8e85c-fdbe-4264-945c-eedcef472698",
   "metadata": {
    "colab": {
     "base_uri": "https://localhost:8080/",
     "height": 120
    },
    "id": "p0MOIBJRoRiw",
    "outputId": "1a32ff82-9f9d-4d98-8760-59f31f7f440e"
   },
   "outputs": [
    {
     "data": {
      "text/html": [
       "<div style=\"max-width:800px; border: 1px solid var(--colab-border-color);\"><style>\n",
       "      pre.function-repr-contents {\n",
       "        overflow-x: auto;\n",
       "        padding: 8px 12px;\n",
       "        max-height: 500px;\n",
       "      }\n",
       "\n",
       "      pre.function-repr-contents.function-repr-contents-collapsed {\n",
       "        cursor: pointer;\n",
       "        max-height: 100px;\n",
       "      }\n",
       "    </style>\n",
       "    <pre style=\"white-space: initial; background:\n",
       "         var(--colab-secondary-surface-color); padding: 8px 12px;\n",
       "         border-bottom: 1px solid var(--colab-border-color);\"><b>pycaret.clustering.oop.ClusteringExperiment</b><br/>def __init__() -&gt; None</pre><pre class=\"function-repr-contents function-repr-contents-collapsed\" style=\"\"><a class=\"filepath\" style=\"display:none\" href=\"#\">/usr/local/lib/python3.10/dist-packages/pycaret/clustering/oop.py</a>Class for all standard transformation steps.</pre>\n",
       "      <script>\n",
       "      if (google.colab.kernel.accessAllowed && google.colab.files && google.colab.files.view) {\n",
       "        for (const element of document.querySelectorAll('.filepath')) {\n",
       "          element.style.display = 'block'\n",
       "          element.onclick = (event) => {\n",
       "            event.preventDefault();\n",
       "            event.stopPropagation();\n",
       "            google.colab.files.view(element.textContent, 21);\n",
       "          };\n",
       "        }\n",
       "      }\n",
       "      for (const element of document.querySelectorAll('.function-repr-contents')) {\n",
       "        element.onclick = (event) => {\n",
       "          event.preventDefault();\n",
       "          event.stopPropagation();\n",
       "          element.classList.toggle('function-repr-contents-collapsed');\n",
       "        };\n",
       "      }\n",
       "      </script>\n",
       "      </div>"
      ],
      "text/plain": [
       "pycaret.clustering.oop.ClusteringExperiment"
      ]
     },
     "execution_count": 7,
     "metadata": {},
     "output_type": "execute_result"
    }
   ],
   "source": [
    "type(exp)"
   ]
  },
  {
   "cell_type": "code",
   "execution_count": null,
   "id": "15059fe0-f229-47a4-a5f2-537a1328c26e",
   "metadata": {
    "colab": {
     "base_uri": "https://localhost:8080/",
     "height": 97,
     "referenced_widgets": [
      "f74d15a456b748c5a809d3030c509f1a",
      "c5f23a69ea04402f8c2e45347153781a",
      "7e46ecc691a94ffaba38365ed610f487",
      "72098053955340578f38b92c3cd80b66",
      "c0b2e09d0c794bcaaf0de56fb197cf61",
      "0300b5a9188b4e28b5bb175b070f1fec",
      "d6a6a90dc44e497a81e5dcba283d0e0c",
      "e222e564f3354051a929e7fcfec79b00",
      "2244a0f3b7aa4446b9efa4e1b3fec74d",
      "3aa0ae2a32e64660b50a3a582656a4b8",
      "c9bafb80aee8452abb79eaabc4539b77"
     ]
    },
    "id": "_W0PxufKoZc4",
    "outputId": "e5fa684a-3287-4acf-e591-602fa97c04bf"
   },
   "outputs": [
    {
     "data": {
      "text/html": [],
      "text/plain": [
       "<IPython.core.display.HTML object>"
      ]
     },
     "metadata": {},
     "output_type": "display_data"
    },
    {
     "data": {
      "text/html": [
       "<style type=\"text/css\">\n",
       "</style>\n",
       "<table id=\"T_4b90e\" class=\"dataframe\">\n",
       "  <thead>\n",
       "    <tr>\n",
       "      <th class=\"blank level0\" >&nbsp;</th>\n",
       "      <th id=\"T_4b90e_level0_col0\" class=\"col_heading level0 col0\" >Silhouette</th>\n",
       "      <th id=\"T_4b90e_level0_col1\" class=\"col_heading level0 col1\" >Calinski-Harabasz</th>\n",
       "      <th id=\"T_4b90e_level0_col2\" class=\"col_heading level0 col2\" >Davies-Bouldin</th>\n",
       "      <th id=\"T_4b90e_level0_col3\" class=\"col_heading level0 col3\" >Homogeneity</th>\n",
       "      <th id=\"T_4b90e_level0_col4\" class=\"col_heading level0 col4\" >Rand Index</th>\n",
       "      <th id=\"T_4b90e_level0_col5\" class=\"col_heading level0 col5\" >Completeness</th>\n",
       "    </tr>\n",
       "  </thead>\n",
       "  <tbody>\n",
       "    <tr>\n",
       "      <th id=\"T_4b90e_level0_row0\" class=\"row_heading level0 row0\" >0</th>\n",
       "      <td id=\"T_4b90e_row0_col0\" class=\"data row0 col0\" >0.7115</td>\n",
       "      <td id=\"T_4b90e_row0_col1\" class=\"data row0 col1\" >61798.2716</td>\n",
       "      <td id=\"T_4b90e_row0_col2\" class=\"data row0 col2\" >0.5553</td>\n",
       "      <td id=\"T_4b90e_row0_col3\" class=\"data row0 col3\" >0</td>\n",
       "      <td id=\"T_4b90e_row0_col4\" class=\"data row0 col4\" >0</td>\n",
       "      <td id=\"T_4b90e_row0_col5\" class=\"data row0 col5\" >0</td>\n",
       "    </tr>\n",
       "  </tbody>\n",
       "</table>\n"
      ],
      "text/plain": [
       "<pandas.io.formats.style.Styler at 0x781e1517fcd0>"
      ]
     },
     "metadata": {},
     "output_type": "display_data"
    },
    {
     "data": {
      "application/vnd.jupyter.widget-view+json": {
       "model_id": "f74d15a456b748c5a809d3030c509f1a",
       "version_major": 2,
       "version_minor": 0
      },
      "text/plain": [
       "Processing:   0%|          | 0/3 [00:00<?, ?it/s]"
      ]
     },
     "metadata": {
      "application/vnd.jupyter.widget-view+json": {
       "colab": {
        "custom_widget_manager": {
         "url": "https://ssl.gstatic.com/colaboratory-static/widgets/colab-cdn-widget-manager/2b70e893a8ba7c0f/manager.min.js"
        }
       }
      }
     },
     "output_type": "display_data"
    },
    {
     "data": {
      "text/html": [],
      "text/plain": [
       "<IPython.core.display.HTML object>"
      ]
     },
     "metadata": {},
     "output_type": "display_data"
    }
   ],
   "source": [
    "# train kmeans model\n",
    "kmeans=create_model('kmeans')"
   ]
  },
  {
   "cell_type": "code",
   "execution_count": null,
   "id": "16fe1a03-3bb2-43f5-96c0-0704bd5599bd",
   "metadata": {
    "colab": {
     "base_uri": "https://localhost:8080/",
     "height": 345
    },
    "id": "8c3CcvNxomph",
    "outputId": "b3b933a7-da93-420c-e96d-c0dfcd77e61c"
   },
   "outputs": [
    {
     "data": {
      "application/vnd.google.colaboratory.intrinsic+json": {
       "summary": "{\n  \"name\": \"models()\",\n  \"rows\": 8,\n  \"fields\": [\n    {\n      \"column\": \"ID\",\n      \"properties\": {\n        \"dtype\": \"string\",\n        \"num_unique_values\": 8,\n        \"samples\": [\n          \"ap\",\n          \"dbscan\",\n          \"kmeans\"\n        ],\n        \"semantic_type\": \"\",\n        \"description\": \"\"\n      }\n    },\n    {\n      \"column\": \"Name\",\n      \"properties\": {\n        \"dtype\": \"string\",\n        \"num_unique_values\": 8,\n        \"samples\": [\n          \"Affinity Propagation\",\n          \"Density-Based Spatial Clustering\",\n          \"K-Means Clustering\"\n        ],\n        \"semantic_type\": \"\",\n        \"description\": \"\"\n      }\n    },\n    {\n      \"column\": \"Reference\",\n      \"properties\": {\n        \"dtype\": \"string\",\n        \"num_unique_values\": 8,\n        \"samples\": [\n          \"sklearn.cluster._affinity_propagation.AffinityPropagation\",\n          \"sklearn.cluster._dbscan.DBSCAN\",\n          \"sklearn.cluster._kmeans.KMeans\"\n        ],\n        \"semantic_type\": \"\",\n        \"description\": \"\"\n      }\n    }\n  ]\n}",
       "type": "dataframe"
      },
      "text/html": [
       "\n",
       "  <div id=\"df-f3827dad-3c93-4c7c-939e-ef6c9e7c75da\" class=\"colab-df-container\">\n",
       "    <div>\n",
       "<style scoped>\n",
       "    .dataframe tbody tr th:only-of-type {\n",
       "        vertical-align: middle;\n",
       "    }\n",
       "\n",
       "    .dataframe tbody tr th {\n",
       "        vertical-align: top;\n",
       "    }\n",
       "\n",
       "    .dataframe thead th {\n",
       "        text-align: right;\n",
       "    }\n",
       "</style>\n",
       "<table border=\"1\" class=\"dataframe\">\n",
       "  <thead>\n",
       "    <tr style=\"text-align: right;\">\n",
       "      <th></th>\n",
       "      <th>Name</th>\n",
       "      <th>Reference</th>\n",
       "    </tr>\n",
       "    <tr>\n",
       "      <th>ID</th>\n",
       "      <th></th>\n",
       "      <th></th>\n",
       "    </tr>\n",
       "  </thead>\n",
       "  <tbody>\n",
       "    <tr>\n",
       "      <th>kmeans</th>\n",
       "      <td>K-Means Clustering</td>\n",
       "      <td>sklearn.cluster._kmeans.KMeans</td>\n",
       "    </tr>\n",
       "    <tr>\n",
       "      <th>ap</th>\n",
       "      <td>Affinity Propagation</td>\n",
       "      <td>sklearn.cluster._affinity_propagation.Affinity...</td>\n",
       "    </tr>\n",
       "    <tr>\n",
       "      <th>meanshift</th>\n",
       "      <td>Mean Shift Clustering</td>\n",
       "      <td>sklearn.cluster._mean_shift.MeanShift</td>\n",
       "    </tr>\n",
       "    <tr>\n",
       "      <th>sc</th>\n",
       "      <td>Spectral Clustering</td>\n",
       "      <td>sklearn.cluster._spectral.SpectralClustering</td>\n",
       "    </tr>\n",
       "    <tr>\n",
       "      <th>hclust</th>\n",
       "      <td>Agglomerative Clustering</td>\n",
       "      <td>sklearn.cluster._agglomerative.AgglomerativeCl...</td>\n",
       "    </tr>\n",
       "    <tr>\n",
       "      <th>dbscan</th>\n",
       "      <td>Density-Based Spatial Clustering</td>\n",
       "      <td>sklearn.cluster._dbscan.DBSCAN</td>\n",
       "    </tr>\n",
       "    <tr>\n",
       "      <th>optics</th>\n",
       "      <td>OPTICS Clustering</td>\n",
       "      <td>sklearn.cluster._optics.OPTICS</td>\n",
       "    </tr>\n",
       "    <tr>\n",
       "      <th>birch</th>\n",
       "      <td>Birch Clustering</td>\n",
       "      <td>sklearn.cluster._birch.Birch</td>\n",
       "    </tr>\n",
       "  </tbody>\n",
       "</table>\n",
       "</div>\n",
       "    <div class=\"colab-df-buttons\">\n",
       "\n",
       "  <div class=\"colab-df-container\">\n",
       "    <button class=\"colab-df-convert\" onclick=\"convertToInteractive('df-f3827dad-3c93-4c7c-939e-ef6c9e7c75da')\"\n",
       "            title=\"Convert this dataframe to an interactive table.\"\n",
       "            style=\"display:none;\">\n",
       "\n",
       "  <svg xmlns=\"http://www.w3.org/2000/svg\" height=\"24px\" viewBox=\"0 -960 960 960\">\n",
       "    <path d=\"M120-120v-720h720v720H120Zm60-500h600v-160H180v160Zm220 220h160v-160H400v160Zm0 220h160v-160H400v160ZM180-400h160v-160H180v160Zm440 0h160v-160H620v160ZM180-180h160v-160H180v160Zm440 0h160v-160H620v160Z\"/>\n",
       "  </svg>\n",
       "    </button>\n",
       "\n",
       "  <style>\n",
       "    .colab-df-container {\n",
       "      display:flex;\n",
       "      gap: 12px;\n",
       "    }\n",
       "\n",
       "    .colab-df-convert {\n",
       "      background-color: #E8F0FE;\n",
       "      border: none;\n",
       "      border-radius: 50%;\n",
       "      cursor: pointer;\n",
       "      display: none;\n",
       "      fill: #1967D2;\n",
       "      height: 32px;\n",
       "      padding: 0 0 0 0;\n",
       "      width: 32px;\n",
       "    }\n",
       "\n",
       "    .colab-df-convert:hover {\n",
       "      background-color: #E2EBFA;\n",
       "      box-shadow: 0px 1px 2px rgba(60, 64, 67, 0.3), 0px 1px 3px 1px rgba(60, 64, 67, 0.15);\n",
       "      fill: #174EA6;\n",
       "    }\n",
       "\n",
       "    .colab-df-buttons div {\n",
       "      margin-bottom: 4px;\n",
       "    }\n",
       "\n",
       "    [theme=dark] .colab-df-convert {\n",
       "      background-color: #3B4455;\n",
       "      fill: #D2E3FC;\n",
       "    }\n",
       "\n",
       "    [theme=dark] .colab-df-convert:hover {\n",
       "      background-color: #434B5C;\n",
       "      box-shadow: 0px 1px 3px 1px rgba(0, 0, 0, 0.15);\n",
       "      filter: drop-shadow(0px 1px 2px rgba(0, 0, 0, 0.3));\n",
       "      fill: #FFFFFF;\n",
       "    }\n",
       "  </style>\n",
       "\n",
       "    <script>\n",
       "      const buttonEl =\n",
       "        document.querySelector('#df-f3827dad-3c93-4c7c-939e-ef6c9e7c75da button.colab-df-convert');\n",
       "      buttonEl.style.display =\n",
       "        google.colab.kernel.accessAllowed ? 'block' : 'none';\n",
       "\n",
       "      async function convertToInteractive(key) {\n",
       "        const element = document.querySelector('#df-f3827dad-3c93-4c7c-939e-ef6c9e7c75da');\n",
       "        const dataTable =\n",
       "          await google.colab.kernel.invokeFunction('convertToInteractive',\n",
       "                                                    [key], {});\n",
       "        if (!dataTable) return;\n",
       "\n",
       "        const docLinkHtml = 'Like what you see? Visit the ' +\n",
       "          '<a target=\"_blank\" href=https://colab.research.google.com/notebooks/data_table.ipynb>data table notebook</a>'\n",
       "          + ' to learn more about interactive tables.';\n",
       "        element.innerHTML = '';\n",
       "        dataTable['output_type'] = 'display_data';\n",
       "        await google.colab.output.renderOutput(dataTable, element);\n",
       "        const docLink = document.createElement('div');\n",
       "        docLink.innerHTML = docLinkHtml;\n",
       "        element.appendChild(docLink);\n",
       "      }\n",
       "    </script>\n",
       "  </div>\n",
       "\n",
       "\n",
       "<div id=\"df-90041836-059d-4d32-8395-2d7b6b7eaef8\">\n",
       "  <button class=\"colab-df-quickchart\" onclick=\"quickchart('df-90041836-059d-4d32-8395-2d7b6b7eaef8')\"\n",
       "            title=\"Suggest charts\"\n",
       "            style=\"display:none;\">\n",
       "\n",
       "<svg xmlns=\"http://www.w3.org/2000/svg\" height=\"24px\"viewBox=\"0 0 24 24\"\n",
       "     width=\"24px\">\n",
       "    <g>\n",
       "        <path d=\"M19 3H5c-1.1 0-2 .9-2 2v14c0 1.1.9 2 2 2h14c1.1 0 2-.9 2-2V5c0-1.1-.9-2-2-2zM9 17H7v-7h2v7zm4 0h-2V7h2v10zm4 0h-2v-4h2v4z\"/>\n",
       "    </g>\n",
       "</svg>\n",
       "  </button>\n",
       "\n",
       "<style>\n",
       "  .colab-df-quickchart {\n",
       "      --bg-color: #E8F0FE;\n",
       "      --fill-color: #1967D2;\n",
       "      --hover-bg-color: #E2EBFA;\n",
       "      --hover-fill-color: #174EA6;\n",
       "      --disabled-fill-color: #AAA;\n",
       "      --disabled-bg-color: #DDD;\n",
       "  }\n",
       "\n",
       "  [theme=dark] .colab-df-quickchart {\n",
       "      --bg-color: #3B4455;\n",
       "      --fill-color: #D2E3FC;\n",
       "      --hover-bg-color: #434B5C;\n",
       "      --hover-fill-color: #FFFFFF;\n",
       "      --disabled-bg-color: #3B4455;\n",
       "      --disabled-fill-color: #666;\n",
       "  }\n",
       "\n",
       "  .colab-df-quickchart {\n",
       "    background-color: var(--bg-color);\n",
       "    border: none;\n",
       "    border-radius: 50%;\n",
       "    cursor: pointer;\n",
       "    display: none;\n",
       "    fill: var(--fill-color);\n",
       "    height: 32px;\n",
       "    padding: 0;\n",
       "    width: 32px;\n",
       "  }\n",
       "\n",
       "  .colab-df-quickchart:hover {\n",
       "    background-color: var(--hover-bg-color);\n",
       "    box-shadow: 0 1px 2px rgba(60, 64, 67, 0.3), 0 1px 3px 1px rgba(60, 64, 67, 0.15);\n",
       "    fill: var(--button-hover-fill-color);\n",
       "  }\n",
       "\n",
       "  .colab-df-quickchart-complete:disabled,\n",
       "  .colab-df-quickchart-complete:disabled:hover {\n",
       "    background-color: var(--disabled-bg-color);\n",
       "    fill: var(--disabled-fill-color);\n",
       "    box-shadow: none;\n",
       "  }\n",
       "\n",
       "  .colab-df-spinner {\n",
       "    border: 2px solid var(--fill-color);\n",
       "    border-color: transparent;\n",
       "    border-bottom-color: var(--fill-color);\n",
       "    animation:\n",
       "      spin 1s steps(1) infinite;\n",
       "  }\n",
       "\n",
       "  @keyframes spin {\n",
       "    0% {\n",
       "      border-color: transparent;\n",
       "      border-bottom-color: var(--fill-color);\n",
       "      border-left-color: var(--fill-color);\n",
       "    }\n",
       "    20% {\n",
       "      border-color: transparent;\n",
       "      border-left-color: var(--fill-color);\n",
       "      border-top-color: var(--fill-color);\n",
       "    }\n",
       "    30% {\n",
       "      border-color: transparent;\n",
       "      border-left-color: var(--fill-color);\n",
       "      border-top-color: var(--fill-color);\n",
       "      border-right-color: var(--fill-color);\n",
       "    }\n",
       "    40% {\n",
       "      border-color: transparent;\n",
       "      border-right-color: var(--fill-color);\n",
       "      border-top-color: var(--fill-color);\n",
       "    }\n",
       "    60% {\n",
       "      border-color: transparent;\n",
       "      border-right-color: var(--fill-color);\n",
       "    }\n",
       "    80% {\n",
       "      border-color: transparent;\n",
       "      border-right-color: var(--fill-color);\n",
       "      border-bottom-color: var(--fill-color);\n",
       "    }\n",
       "    90% {\n",
       "      border-color: transparent;\n",
       "      border-bottom-color: var(--fill-color);\n",
       "    }\n",
       "  }\n",
       "</style>\n",
       "\n",
       "  <script>\n",
       "    async function quickchart(key) {\n",
       "      const quickchartButtonEl =\n",
       "        document.querySelector('#' + key + ' button');\n",
       "      quickchartButtonEl.disabled = true;  // To prevent multiple clicks.\n",
       "      quickchartButtonEl.classList.add('colab-df-spinner');\n",
       "      try {\n",
       "        const charts = await google.colab.kernel.invokeFunction(\n",
       "            'suggestCharts', [key], {});\n",
       "      } catch (error) {\n",
       "        console.error('Error during call to suggestCharts:', error);\n",
       "      }\n",
       "      quickchartButtonEl.classList.remove('colab-df-spinner');\n",
       "      quickchartButtonEl.classList.add('colab-df-quickchart-complete');\n",
       "    }\n",
       "    (() => {\n",
       "      let quickchartButtonEl =\n",
       "        document.querySelector('#df-90041836-059d-4d32-8395-2d7b6b7eaef8 button');\n",
       "      quickchartButtonEl.style.display =\n",
       "        google.colab.kernel.accessAllowed ? 'block' : 'none';\n",
       "    })();\n",
       "  </script>\n",
       "</div>\n",
       "\n",
       "    </div>\n",
       "  </div>\n"
      ],
      "text/plain": [
       "                                       Name  \\\n",
       "ID                                            \n",
       "kmeans                   K-Means Clustering   \n",
       "ap                     Affinity Propagation   \n",
       "meanshift             Mean Shift Clustering   \n",
       "sc                      Spectral Clustering   \n",
       "hclust             Agglomerative Clustering   \n",
       "dbscan     Density-Based Spatial Clustering   \n",
       "optics                    OPTICS Clustering   \n",
       "birch                      Birch Clustering   \n",
       "\n",
       "                                                   Reference  \n",
       "ID                                                            \n",
       "kmeans                        sklearn.cluster._kmeans.KMeans  \n",
       "ap         sklearn.cluster._affinity_propagation.Affinity...  \n",
       "meanshift              sklearn.cluster._mean_shift.MeanShift  \n",
       "sc              sklearn.cluster._spectral.SpectralClustering  \n",
       "hclust     sklearn.cluster._agglomerative.AgglomerativeCl...  \n",
       "dbscan                        sklearn.cluster._dbscan.DBSCAN  \n",
       "optics                        sklearn.cluster._optics.OPTICS  \n",
       "birch                           sklearn.cluster._birch.Birch  "
      ]
     },
     "execution_count": 9,
     "metadata": {},
     "output_type": "execute_result"
    }
   ],
   "source": [
    "models()"
   ]
  },
  {
   "cell_type": "code",
   "execution_count": null,
   "id": "23837725-2cb0-4479-a5ee-c65bab1f7881",
   "metadata": {
    "colab": {
     "base_uri": "https://localhost:8080/",
     "height": 326
    },
    "id": "CU1dSINzopW6",
    "outputId": "911d89b1-a66e-4929-e8f2-7775ab93195a"
   },
   "outputs": [
    {
     "ename": "ValueError",
     "evalue": "_CURRENT_EXPERIMENT global variable is not set. Please run setup() first.",
     "output_type": "error",
     "traceback": [
      "\u001b[0;31m---------------------------------------------------------------------------\u001b[0m",
      "\u001b[0;31mValueError\u001b[0m                                Traceback (most recent call last)",
      "\u001b[0;32m<ipython-input-10-2075e2169e59>\u001b[0m in \u001b[0;36m<cell line: 1>\u001b[0;34m()\u001b[0m\n\u001b[0;32m----> 1\u001b[0;31m \u001b[0mbest_model\u001b[0m\u001b[0;34m=\u001b[0m\u001b[0mcompare_models\u001b[0m\u001b[0;34m(\u001b[0m\u001b[0;34m)\u001b[0m\u001b[0;34m\u001b[0m\u001b[0;34m\u001b[0m\u001b[0m\n\u001b[0m",
      "\u001b[0;32m/usr/local/lib/python3.10/dist-packages/pycaret/utils/generic.py\u001b[0m in \u001b[0;36mwrapper\u001b[0;34m(*args, **kwargs)\u001b[0m\n\u001b[1;32m    961\u001b[0m             \u001b[0;32mfor\u001b[0m \u001b[0mname\u001b[0m\u001b[0;34m,\u001b[0m \u001b[0mmessage\u001b[0m \u001b[0;32min\u001b[0m \u001b[0mglobal_names\u001b[0m\u001b[0;34m.\u001b[0m\u001b[0mitems\u001b[0m\u001b[0;34m(\u001b[0m\u001b[0;34m)\u001b[0m\u001b[0;34m:\u001b[0m\u001b[0;34m\u001b[0m\u001b[0;34m\u001b[0m\u001b[0m\n\u001b[1;32m    962\u001b[0m                 \u001b[0;32mif\u001b[0m \u001b[0mglobals_d\u001b[0m\u001b[0;34m[\u001b[0m\u001b[0mname\u001b[0m\u001b[0;34m]\u001b[0m \u001b[0;32mis\u001b[0m \u001b[0;32mNone\u001b[0m\u001b[0;34m:\u001b[0m\u001b[0;34m\u001b[0m\u001b[0;34m\u001b[0m\u001b[0m\n\u001b[0;32m--> 963\u001b[0;31m                     \u001b[0;32mraise\u001b[0m \u001b[0mValueError\u001b[0m\u001b[0;34m(\u001b[0m\u001b[0mmessage\u001b[0m\u001b[0;34m)\u001b[0m\u001b[0;34m\u001b[0m\u001b[0;34m\u001b[0m\u001b[0m\n\u001b[0m\u001b[1;32m    964\u001b[0m             \u001b[0;32mreturn\u001b[0m \u001b[0mfunc\u001b[0m\u001b[0;34m(\u001b[0m\u001b[0;34m*\u001b[0m\u001b[0margs\u001b[0m\u001b[0;34m,\u001b[0m \u001b[0;34m**\u001b[0m\u001b[0mkwargs\u001b[0m\u001b[0;34m)\u001b[0m\u001b[0;34m\u001b[0m\u001b[0;34m\u001b[0m\u001b[0m\n\u001b[1;32m    965\u001b[0m \u001b[0;34m\u001b[0m\u001b[0m\n",
      "\u001b[0;31mValueError\u001b[0m: _CURRENT_EXPERIMENT global variable is not set. Please run setup() first."
     ]
    }
   ],
   "source": [
    "best_model=compare_models()"
   ]
  },
  {
   "cell_type": "code",
   "execution_count": null,
   "id": "5e61718d-11de-46ff-abe4-756b0aeda4c3",
   "metadata": {
    "colab": {
     "base_uri": "https://localhost:8080/",
     "height": 326
    },
    "id": "975ff37d",
    "outputId": "f45e74ab-94cb-4801-adf2-2bfee9e56f44"
   },
   "outputs": [
    {
     "ename": "ValueError",
     "evalue": "_CURRENT_EXPERIMENT global variable is not set. Please run setup() first.",
     "output_type": "error",
     "traceback": [
      "\u001b[0;31m---------------------------------------------------------------------------\u001b[0m",
      "\u001b[0;31mValueError\u001b[0m                                Traceback (most recent call last)",
      "\u001b[0;32m<ipython-input-11-9ff5ccfe3077>\u001b[0m in \u001b[0;36m<cell line: 1>\u001b[0;34m()\u001b[0m\n\u001b[0;32m----> 1\u001b[0;31m \u001b[0mcompare_models\u001b[0m\u001b[0;34m(\u001b[0m\u001b[0;34m)\u001b[0m\u001b[0;34m\u001b[0m\u001b[0;34m\u001b[0m\u001b[0m\n\u001b[0m",
      "\u001b[0;32m/usr/local/lib/python3.10/dist-packages/pycaret/utils/generic.py\u001b[0m in \u001b[0;36mwrapper\u001b[0;34m(*args, **kwargs)\u001b[0m\n\u001b[1;32m    961\u001b[0m             \u001b[0;32mfor\u001b[0m \u001b[0mname\u001b[0m\u001b[0;34m,\u001b[0m \u001b[0mmessage\u001b[0m \u001b[0;32min\u001b[0m \u001b[0mglobal_names\u001b[0m\u001b[0;34m.\u001b[0m\u001b[0mitems\u001b[0m\u001b[0;34m(\u001b[0m\u001b[0;34m)\u001b[0m\u001b[0;34m:\u001b[0m\u001b[0;34m\u001b[0m\u001b[0;34m\u001b[0m\u001b[0m\n\u001b[1;32m    962\u001b[0m                 \u001b[0;32mif\u001b[0m \u001b[0mglobals_d\u001b[0m\u001b[0;34m[\u001b[0m\u001b[0mname\u001b[0m\u001b[0;34m]\u001b[0m \u001b[0;32mis\u001b[0m \u001b[0;32mNone\u001b[0m\u001b[0;34m:\u001b[0m\u001b[0;34m\u001b[0m\u001b[0;34m\u001b[0m\u001b[0m\n\u001b[0;32m--> 963\u001b[0;31m                     \u001b[0;32mraise\u001b[0m \u001b[0mValueError\u001b[0m\u001b[0;34m(\u001b[0m\u001b[0mmessage\u001b[0m\u001b[0;34m)\u001b[0m\u001b[0;34m\u001b[0m\u001b[0;34m\u001b[0m\u001b[0m\n\u001b[0m\u001b[1;32m    964\u001b[0m             \u001b[0;32mreturn\u001b[0m \u001b[0mfunc\u001b[0m\u001b[0;34m(\u001b[0m\u001b[0;34m*\u001b[0m\u001b[0margs\u001b[0m\u001b[0;34m,\u001b[0m \u001b[0;34m**\u001b[0m\u001b[0mkwargs\u001b[0m\u001b[0;34m)\u001b[0m\u001b[0;34m\u001b[0m\u001b[0;34m\u001b[0m\u001b[0m\n\u001b[1;32m    965\u001b[0m \u001b[0;34m\u001b[0m\u001b[0m\n",
      "\u001b[0;31mValueError\u001b[0m: _CURRENT_EXPERIMENT global variable is not set. Please run setup() first."
     ]
    }
   ],
   "source": [
    "compare_models()"
   ]
  },
  {
   "cell_type": "code",
   "execution_count": null,
   "id": "61facae5-a7f8-4e20-bc2f-d09ec604dca0",
   "metadata": {
    "id": "c824277c"
   },
   "outputs": [],
   "source": []
  },
  {
   "cell_type": "code",
   "execution_count": null,
   "id": "71c8c6a7",
   "metadata": {},
   "outputs": [],
   "source": [
    "best_model_X1=objective_rfc(study.best_trial)\n",
    "best_model_X1.evaluate(X_test,y_test)[1]"
   ]
  },
  {
   "cell_type": "markdown",
   "id": "0c75fe32-ebdc-4893-82be-c8f82d49db4d",
   "metadata": {},
   "source": [
    "Now that we have the algorithm, let's work on exploring the hyperparameter space to improve the models further. (Although the models are reaching accuracies of comfortably above 90%, let's see how far we can push this!)"
   ]
  },
  {
   "cell_type": "markdown",
   "id": "5d1a858e-446d-436e-a26e-88c9a111e002",
   "metadata": {},
   "source": [
    "In our first run with `Optuna`, we will use the following ML algorithms by running all algorithms, each in a separate, single objective function.\n",
    "\n",
    "* `random_forest`\n",
    "* `mlp`\n",
    "* `libsvm_svc`\n",
    "* `decision_tree`\n",
    "\n",
    "Once we land on a promising algorithm, we will focus on that algorithm to fine-tune its hyperaparameters."
   ]
  },
  {
   "cell_type": "code",
   "execution_count": null,
   "id": "69d86211",
   "metadata": {},
   "outputs": [],
   "source": [
    "clf_list=['rfc','mlp','lsv','dtc']"
   ]
  },
  {
   "cell_type": "code",
   "execution_count": null,
   "id": "2403b8d2",
   "metadata": {},
   "outputs": [],
   "source": [
    "def objective_rfc(trial):\n",
    "    classifier_name=trial.suggest_categorical('classifier',clf_list)\n",
    "\n",
    "    if classifier_name==clf_list[0]:\n",
    "        params=[]\n",
    "        n_estimators=trial.suggest_int('n_estimators',10,1000)\n",
    "        criterion=trial.suggest_categorical('criterion',['gini','entropy','log_loss'])\n",
    "        max_depth=trial.suggest_int('max_depth',1,5)\n",
    "        max_features=trial.suggest_categorical('max_features',['sqrt', 'log2', None])\n",
    "        bootstrap=trial.suggest_categorical('bootstrap',[True,False])\n",
    "        n_jobs=-1\n",
    "        random_state=seed\n",
    "        class_weight=trial.suggest_categorical('class_weight',['balanced','balanced_subsample'])\n",
    "        params.append(n_estimators,criterion,max_depth,max_features,bootstrap,n_jobs,random_state,class_weight)\n",
    "        classifier=RandomForestClassifier(**params)\n",
    "\n",
    "def objective_mlp(trial):\n",
    "    if classifier_name==clf_list[1]:\n",
    "        params=[]\n",
    "        hidden_layer_sizes=trial.suggest_int('hidden_layer_sizes',100,1000)\n",
    "        activation=trial.suggest_categorical('activation',['identity', 'logistic', 'tanh', 'relu'])\n",
    "        solver=trial.suggest_categorical('solver',['lbfgs','sgd','adam'])\n"
   ]
  },
  {
   "cell_type": "code",
   "execution_count": null,
   "id": "1e55d4eb",
   "metadata": {},
   "outputs": [],
   "source": [
    "aml_results=pd.DataFrame(data=aml_results_exp.iloc[0,:])\n",
    "aml_results"
   ]
  },
  {
   "cell_type": "markdown",
   "id": "c6220584-3cf9-4f90-a005-58bb89d00a72",
   "metadata": {},
   "source": [
    "Then, using the parameters `hyperopt` found, we'll train the model and test its accuracy:"
   ]
  },
  {
   "cell_type": "code",
   "execution_count": null,
   "id": "de77fa2e",
   "metadata": {},
   "outputs": [],
   "source": [
    "\n",
    "\n",
    "# Define Optuna objective function for hyperparameter tuning\n",
    "def objective(trial):\n",
    "    params = {\n",
    "        'ensemble_size': trial.suggest_int('ensemble_size', 10, 50),\n",
    "        'initial_configurations_via_metalearning': trial.suggest_int('initial_configurations_via_metalearning', 0, 25)\n",
    "    }\n",
    "\n",
    "    automl = autosklearn.classification.AutoSklearnClassifier(\n",
    "        time_left_for_this_task=60, per_run_time_limit=30,\n",
    "        ensemble_size=params['ensemble_size'],\n",
    "        initial_configurations_via_metalearning=params['initial_configurations_via_metalearning']\n",
    "    )\n",
    "\n",
    "    pipeline = Pipeline(steps=[('preprocessor', preprocessor), ('classifier', automl)])\n",
    "    pipeline.fit(X_train, y_train)\n",
    "    y_pred = pipeline.predict(X_test)\n",
    "    accuracy = accuracy_score(y_test, y_pred)\n",
    "\n",
    "    return accuracy\n",
    "\n",
    "# Create Optuna study and optimize\n",
    "study = optuna.create_study(direction='maximize')\n",
    "study.optimize(objective, n_trials=10)\n",
    "\n",
    "# Print the best hyperparameters\n",
    "print(f\"Best hyperparameters: {study.best_params}\")\n",
    "\n",
    "# Use the best hyperparameters found by Optuna to fit and evaluate the final model\n",
    "best_params = study.best_params\n",
    "automl = autosklearn.classification.AutoSklearnClassifier(\n",
    "    time_left_for_this_task=60, per_run_time_limit=30,\n",
    "    ensemble_size=best_params['ensemble_size'],\n",
    "    initial_configurations_via_metalearning=best_params['initial_configurations_via_metalearning']\n",
    ")\n",
    "\n",
    "pipeline = Pipeline(steps=[('preprocessor', preprocessor), ('classifier', automl)])\n",
    "pipeline.fit(X_train, y_train)\n",
    "\n",
    "# Evaluate the final model\n",
    "y_pred = pipeline.predict(X_test)\n",
    "final_accuracy = accuracy_score(y_test, y_pred)\n",
    "print(f\"Final accuracy: {final_accuracy:.2f}\")"
   ]
  },
  {
   "cell_type": "code",
   "execution_count": null,
   "id": "2403718d",
   "metadata": {},
   "outputs": [],
   "source": [
    "start_time = time.time()\n",
    "\n",
    "def objective(trial):\n",
    "    # Suggest hyperparameters for SVC\n",
    "    print('kernel_choice:', kernel_choice)\n",
    "    \n",
    "    # Handling 'poly' and 'precomputed' kernels\n",
    "    if kernel_choice == 'poly':\n",
    "        print('kernel_choice is poly')\n",
    "        kernel = 'poly'\n",
    "        degree = trial.suggest_int('degree', 1, 10)\n",
    "        coef0 = trial.suggest_float('coef0', -10, 10)\n",
    "    elif kernel_choice == 'precomputed':\n",
    "        print('kernel_choice is precomputed; computing kernel')\n",
    "        X_kernel = compute_kernel(X_train, random.choice(['linear', 'poly', 'rbf', 'sigmoid']))\n",
    "        print('computed kernel')\n",
    "        kernel = 'precomputed'\n",
    "        degree = 3\n",
    "        coef0 = 0\n",
    "    else:\n",
    "        print('kernel_choice is not poly or precomputed')\n",
    "        kernel = kernel_choice\n",
    "        coef0 = trial.suggest_float('coef0', -10, 10)\n",
    "        degree = 3  # Default for non-'poly' kernels\n",
    "\n",
    "    # Gamma choice\n",
    "    gamma_choice = trial.suggest_categorical('gamma_choice', ['scale', 'auto', 'variable'])\n",
    "    print('gamma_choice:', gamma_choice)\n",
    "        \n",
    "    if gamma_choice == 'variable':\n",
    "        gamma = trial.suggest_float('gamma_value', 0.001, 10)\n",
    "        print(f'gamma is: {gamma}')\n",
    "    else:\n",
    "        gamma = gamma_choice\n",
    "        print('gamma_choice is NOT variable. Gamma is:', gamma)\n",
    "    \n",
    "    # Decision function shape and break ties\n",
    "    decision_function_shape = trial.suggest_categorical('decision_function_shape', ['ovo', 'ovr'])\n",
    "    print(f'decision_function_shape: {decision_function_shape}')\n",
    "\n",
    "    # Break ties only when decision_function_shape is 'ovr'\n",
    "    break_ties = (decision_function_shape == 'ovr')\n",
    "    \n",
    "    # C parameter\n",
    "    C = trial.suggest_float('C', 1E-4, 1E4, log=True)\n",
    "    print(f'C: {C}')\n",
    "    \n",
    "    # Base SVC classifier definition\n",
    "    base_svc = SVC(        \n",
    "        C=C,\n",
    "        kernel=kernel,\n",
    "        degree=degree,\n",
    "        gamma=gamma,\n",
    "        coef0=coef0,\n",
    "        probability=True,\n",
    "        cache_size=200,\n",
    "        class_weight='balanced',#trial.suggest_categorical('class_weight', ['balanced', class_weights]),\n",
    "        decision_function_shape=decision_function_shape,\n",
    "        break_ties=break_ties,\n",
    "        random_state=seed  # Ensuring reproducibility\n",
    "    )\n",
    "\n",
    "    n_estimators=trial.suggest_int('n_estimators',10,1000)\n",
    "    \n",
    "    # BaggingClassifier with SVC as the base estimator\n",
    "    bagging_clf = BaggingClassifier(\n",
    "        estimator=base_svc,\n",
    "        max_samples=1.0 / n_estimators,\n",
    "        n_estimators=n_estimators,\n",
    "        bootstrap=False,  # Using sub-sampling without replacement\n",
    "        n_jobs=-1,  # Utilize all cores\n",
    "        random_state=seed  # Ensuring reproducibility\n",
    "    )\n",
    "\n",
    "    # OneVsRestClassifier to handle multi-class classification\n",
    "    clf = OneVsRestClassifier(bagging_clf)\n",
    "\n",
    "    # Define StratifiedKFold cross-validation with consistent random state\n",
    "    cv = StratifiedKFold(n_splits=3, shuffle=True, random_state=seed)\n",
    "    print(f'cv: {cv}')\n",
    "   \n",
    "    # Cross-validation to evaluate the model\n",
    "    X_data = X_kernel if kernel == 'precomputed' else X_train\n",
    "    scores = cross_validate(\n",
    "        clf, \n",
    "        X_data, \n",
    "        y_train, \n",
    "        cv=cv, \n",
    "        n_jobs=-1, \n",
    "        scoring=scoring,\n",
    "        verbose=0\n",
    "    )\n",
    "    \n",
    "    print(f'scores: {scores}')\n",
    "    return scores['test_accuracy'].mean()\n",
    "\n",
    "# Optuna study for hyperparameter tuning\n",
    "svc_study = optuna.create_study(direction='maximize')\n",
    "svc_study.optimize(objective, n_trials=n_trials)\n",
    "\n",
    "# Storing results and timings\n",
    "results['svc'] = svc_study.best_params\n",
    "end_time = time.time()\n",
    "elapsed_time = end_time - start_time\n",
    "\n",
    "times['svc'] = {\n",
    "    'start_time_svc': start_time,\n",
    "    'end_time_svc': end_time,\n",
    "    'elapsed_time_svc': elapsed_time\n",
    "}\n",
    "\n",
    "print(f\"Optuna tuning completed in {elapsed_time:.2f} seconds\")"
   ]
  },
  {
   "cell_type": "code",
   "execution_count": null,
   "id": "c82822bc",
   "metadata": {},
   "outputs": [],
   "source": []
  },
  {
   "cell_type": "code",
   "execution_count": null,
   "id": "202a918a",
   "metadata": {},
   "outputs": [],
   "source": []
  },
  {
   "cell_type": "code",
   "execution_count": null,
   "id": "73a03e90",
   "metadata": {},
   "outputs": [],
   "source": []
  },
  {
   "cell_type": "code",
   "execution_count": null,
   "id": "b86a86e5",
   "metadata": {},
   "outputs": [],
   "source": []
  },
  {
   "cell_type": "code",
   "execution_count": null,
   "id": "9e6aebb7",
   "metadata": {},
   "outputs": [],
   "source": []
  },
  {
   "cell_type": "code",
   "execution_count": null,
   "id": "5333da97",
   "metadata": {},
   "outputs": [],
   "source": []
  },
  {
   "cell_type": "code",
   "execution_count": null,
   "id": "60b713f7",
   "metadata": {},
   "outputs": [],
   "source": []
  },
  {
   "cell_type": "code",
   "execution_count": null,
   "id": "845bdeb9",
   "metadata": {},
   "outputs": [],
   "source": []
  },
  {
   "cell_type": "code",
   "execution_count": null,
   "id": "7efa35bf",
   "metadata": {},
   "outputs": [],
   "source": []
  },
  {
   "cell_type": "code",
   "execution_count": null,
   "id": "39d5dda1",
   "metadata": {},
   "outputs": [],
   "source": []
  },
  {
   "cell_type": "code",
   "execution_count": null,
   "id": "f5173251",
   "metadata": {},
   "outputs": [],
   "source": []
  },
  {
   "cell_type": "code",
   "execution_count": null,
   "id": "1d2bdc8c",
   "metadata": {},
   "outputs": [],
   "source": []
  }
 ],
 "metadata": {
  "kernelspec": {
   "display_name": "Python 3 (ipykernel)",
   "language": "python",
   "name": "python3"
  },
  "language_info": {
   "codemirror_mode": {
    "name": "ipython",
    "version": 3
   },
   "file_extension": ".py",
   "mimetype": "text/x-python",
   "name": "python",
   "nbconvert_exporter": "python",
   "pygments_lexer": "ipython3",
   "version": "3.9.20"
  }
 },
 "nbformat": 4,
 "nbformat_minor": 5
}
